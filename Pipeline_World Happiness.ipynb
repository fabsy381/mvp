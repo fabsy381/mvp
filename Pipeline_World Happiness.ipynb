{
 "cells": [
  {
   "cell_type": "markdown",
   "metadata": {
    "application/vnd.databricks.v1+cell": {
     "cellMetadata": {},
     "inputWidgets": {},
     "nuid": "511c3008-ad08-4bb3-a148-6c61d188b5aa",
     "showTitle": false,
     "tableResultSettingsMap": {},
     "title": ""
    }
   },
   "source": [
    "## 🎯 Escopo - Pipeline de Dados da Felicidade Mundial\n",
    "\n",
    "O presente projeto tem como objetivo desenvolver um pipeline de dados completo, utilizando as camadas **Bronze**, **Silver** e **Gold**, com base no conjunto de dados do **World Happiness Report** entre os anos de **2015 a 2023**.\n",
    "\n",
    "O foco principal é organizar, tratar, modelar e analisar as informações relativas à **felicidade mundial**, visando compreender os fatores que influenciam esse índice e possibilitar **análises exploratórias** para gerar **insights relevantes**.\n",
    "\n",
    "---\n",
    "\n",
    "### 🛠️ Problema a Ser Resolvido\n",
    "\n",
    "Compreender os fatores que impactam o índice de felicidade dos países ao longo do tempo e responder perguntas-chave de negócio a partir de dados públicos.\n",
    "\n",
    "Embora existam relatórios anuais sobre felicidade global, eles são geralmente analisados de forma estática, sem um processo sistematizado de ingestão, tratamento e exploração dinâmica. Este projeto propõe a construção de um pipeline analítico que permita:\n",
    "\n",
    "- Avaliar a evolução da felicidade global de forma estruturada\n",
    "- Identificar padrões entre países mais e menos felizes\n",
    "- Relacionar indicadores socioeconômicos com níveis de felicidade\n",
    "\n",
    "---\n",
    "\n",
    "### 🔍 Perguntas de Negócio\n",
    "\n",
    "A partir da modelagem dimensional e da camada Gold do pipeline, este projeto busca responder às seguintes perguntas:\n",
    "\n",
    "1. Qual a evolução da felicidade média no mundo por ano?\n",
    "2. Comparativo de felicidade média por continente em 2023?\n",
    "3. Top 10 países mais felizes em 2023?\n",
    "4. Fatores mais presentes entre os países mais felizes?\n",
    "5. Top 10 países menos felizes em 2023\n",
    "6. Quais fatores estão mais presentes entre os países menos felizes?\n",
    "7. Quais são os 5 países menos felizes em cada ano?\n",
    "8. Existe relação entre PIB per capita e felicidade?\n",
    "9. Como a expectativa de vida afeta a felicidade?\n",
    "10. Quais países se destacam por generosidade ou suporte social?\n",
    "11. Correlação entre felicidade e GDP em 2023\n",
    "12. Variação da felicidade no Brasil por ano?\n",
    "13. Quais fatores estão mais presentes na felicidade do Brasil?\n",
    "14. Comparativo: Brasil vs América Latina e Caribe\n",
    "\n",
    "---\n"
   ]
  },
  {
   "cell_type": "markdown",
   "metadata": {
    "application/vnd.databricks.v1+cell": {
     "cellMetadata": {},
     "inputWidgets": {},
     "nuid": "0a67490b-b9ee-458c-8b5c-a9b62c2826e0",
     "showTitle": false,
     "tableResultSettingsMap": {},
     "title": ""
    }
   },
   "source": [
    "## 📥 Coleta do Conjunto de Dados e Persistência na Nuvem\n",
    "\n",
    "### Fonte dos Dados\n",
    "\n",
    "O conjunto de dados utilizado neste projeto foi obtido na plataforma Kaggle, no seguinte repositório público:\n",
    "\n",
    "🔗 [World Happiness Report 2015–2023 – Kaggle Dataset](https://www.kaggle.com/datasets/fqayyum73/world-happiness-report-2015-2023)\n",
    "\n",
    "A base de dados está organizada em dois arquivos principais:\n",
    "\n",
    "1. **`WHRFinal.csv`**: Contém dados de felicidade de diversos países entre os anos de 2015 a 2023, incluindo indicadores como:\n",
    "   - PIB per capita (`gdp`)\n",
    "   - Suporte social (`social_support`)\n",
    "   - Expectativa de vida (`life_expectancy`)\n",
    "   - Liberdade (`freedom`)\n",
    "   - Generosidade (`generosity`)\n",
    "   - Percepção de corrupção (`corruption`)\n",
    "   - Índice e ranking de felicidade\n",
    "\n",
    "2. **`WHRContinent.csv`**: Arquivo auxiliar com a correspondência entre regiões e continentes, utilizado para enriquecer a análise geográfica.\n",
    "\n",
    "---\n",
    "\n",
    "### Plataforma de Armazenamento e Processamento\n",
    "\n",
    "A plataforma utilizada foi o **Databricks Community Edition**, que fornece um ambiente gratuito baseado na nuvem para análise de dados com Spark, Python e SQL.\n",
    "\n",
    "Etapas realizadas:\n",
    "\n",
    "1. **Upload dos arquivos CSV** diretamente no repositório `/FileStore/tables/` do ambiente Databricks.\n",
    "2. **Leitura dos dados** com `PySpark`, incluindo configuração do separador (`;`), detecção de tipos e remoção de caracteres inválidos.\n",
    "3. **Persistência** dos dados em diferentes camadas do pipeline:\n",
    "   - 🔶 **Bronze**: Dados brutos, conforme extraídos.\n",
    "   - ⚙️ **Silver**: Dados tratados, limpos e tipados.\n",
    "   - ✨ **Gold**: Modelagem dimensional para análise (tabelas fato e dimensão).\n",
    "4. **Armazenamento final** no **Databricks File System (DBFS)** em formato Delta Lake, permitindo reutilização e performance em consultas SQL.\n",
    "\n",
    "---"
   ]
  },
  {
   "cell_type": "markdown",
   "metadata": {
    "application/vnd.databricks.v1+cell": {
     "cellMetadata": {},
     "inputWidgets": {},
     "nuid": "9ceb159b-c68c-471d-bd32-8031d850428c",
     "showTitle": false,
     "tableResultSettingsMap": {},
     "title": ""
    }
   },
   "source": [
    "## Importação de Bibliotecas\n",
    "- **Pandas** e **NumPy**: manipulação de dados e arrays \n",
    "- **PySpark**: para processamento distribuído (já vem embutido no Databricks)\n",
    "- **Funções do PySpark**: para transformações\n",
    "- **Matplotlib** e **Seaborn**:criar visualizações mais detalhadas (opcional)\n"
   ]
  },
  {
   "cell_type": "code",
   "execution_count": 0,
   "metadata": {
    "application/vnd.databricks.v1+cell": {
     "cellMetadata": {
      "byteLimit": 2048000,
      "rowLimit": 10000
     },
     "inputWidgets": {},
     "nuid": "640ff9d4-9066-4d94-9313-2adcfa1ad981",
     "showTitle": true,
     "tableResultSettingsMap": {},
     "title": "Importação bibliotecas"
    }
   },
   "outputs": [],
   "source": [
    "# Bibliotecas\n",
    "import pandas as pd\n",
    "import numpy as np\n",
    "\n",
    "from pyspark.sql import SparkSession\n",
    "from pyspark.sql.functions import col, when, isnan, count, lit, avg\n",
    "\n",
    "\n",
    "import matplotlib.pyplot as plt\n",
    "import seaborn as sns\n"
   ]
  },
  {
   "cell_type": "markdown",
   "metadata": {
    "application/vnd.databricks.v1+cell": {
     "cellMetadata": {},
     "inputWidgets": {},
     "nuid": "9c6e81d3-341d-42c3-a470-042e86e0cc79",
     "showTitle": false,
     "tableResultSettingsMap": {},
     "title": ""
    }
   },
   "source": [
    "# Etapa 1 —  Camada Bronze: Ingestão de Dados\n",
    "\n",
    "## Objetivo: \n",
    "Carregar os datasets CSV da Felicidade Mundial e mapeamento de continentes para a camada Bronze do Data Lake.\n",
    "\n",
    "## Arquivos\n",
    "- **WHRFinal.csv**: Dados de felicidade mundial (2015–2023)\n",
    "- **WHRContinent.csv**: De-para de região vs. continente\n",
    "\n",
    "## Ações\n",
    "- Leitura dos arquivos CSV com PySpark\n",
    "- Inferência de schema e inclusão de headers\n",
    "- Salvamento no formato Delta\n",
    "- Registro como tabelas no metastore Databricks\n"
   ]
  },
  {
   "cell_type": "code",
   "execution_count": 0,
   "metadata": {
    "application/vnd.databricks.v1+cell": {
     "cellMetadata": {
      "byteLimit": 2048000,
      "rowLimit": 10000
     },
     "inputWidgets": {},
     "nuid": "99d6c1b4-294c-4f27-84d0-e1ae5d50fcbc",
     "showTitle": true,
     "tableResultSettingsMap": {},
     "title": "Leitura datasets"
    }
   },
   "outputs": [
    {
     "output_type": "display_data",
     "data": {
      "text/html": [
       "<style scoped>\n",
       "  .table-result-container {\n",
       "    max-height: 300px;\n",
       "    overflow: auto;\n",
       "  }\n",
       "  table, th, td {\n",
       "    border: 1px solid black;\n",
       "    border-collapse: collapse;\n",
       "  }\n",
       "  th, td {\n",
       "    padding: 5px;\n",
       "  }\n",
       "  th {\n",
       "    text-align: left;\n",
       "  }\n",
       "</style><div class='table-result-container'><table class='table-result'><thead style='background-color: white'><tr><th>Country;Year;Region;Happiness Rank;Happiness Score;GDP;Social Support;Life Expectancy;Freedom;Generosity;Corruption</th></tr></thead><tbody><tr><td>Afghanistan;2023;Southern Asia;137;1</td></tr><tr><td>Afghanistan;2017;Southern Asia;141;3</td></tr><tr><td>Afghanistan;2018;Southern Asia;145;3</td></tr><tr><td>Afghanistan;2022;Southern Asia;146;2</td></tr><tr><td>Afghanistan;2021;Southern Asia;149;2</td></tr><tr><td>Afghanistan;2020;Southern Asia;153;2</td></tr><tr><td>Afghanistan;2015;Southern Asia;153;3</td></tr><tr><td>Afghanistan;2016;Southern Asia;154;3</td></tr><tr><td>Afghanistan;2019;Southern Asia;154;3</td></tr><tr><td>Albania;2023;Central and Eastern Europe;83;5</td></tr><tr><td>Albania;2022;Central and Eastern Europe;90;5</td></tr><tr><td>Albania;2021;Central and Eastern Europe;93;5</td></tr><tr><td>Albania;2015;Central and Eastern Europe;95;4</td></tr><tr><td>Albania;2020;Central and Eastern Europe;105;4</td></tr><tr><td>Albania;2019;Central and Eastern Europe;107;4</td></tr><tr><td>Albania;2016;Central and Eastern Europe;109;4</td></tr><tr><td>Albania;2017;Central and Eastern Europe;109;4</td></tr><tr><td>Albania;2018;Central and Eastern Europe;112;4</td></tr><tr><td>Algeria;2016;Middle East and Northern Africa;38;6</td></tr><tr><td>Algeria;2017;Middle East and Northern Africa;53;5</td></tr><tr><td>Algeria;2015;Middle East and Northern Africa;68;5</td></tr><tr><td>Algeria;2023;Middle East and Northern Africa;81;5</td></tr><tr><td>Algeria;2018;Middle East and Northern Africa;84;5</td></tr><tr><td>Algeria;2019;Middle East and Northern Africa;88;5</td></tr><tr><td>Algeria;2022;Middle East and Northern Africa;96;5</td></tr><tr><td>Algeria;2020;Middle East and Northern Africa;100;5</td></tr><tr><td>Algeria;2021;Middle East and Northern Africa;109;4</td></tr><tr><td>Angola;2015;Sub-Saharan Africa;137;4</td></tr><tr><td>Angola;2017;Sub-Saharan Africa;140;3</td></tr><tr><td>Angola;2016;Sub-Saharan Africa;141;3</td></tr><tr><td>Angola;2018;Sub-Saharan Africa;142;3</td></tr><tr><td>Argentina;2017;Latin America and Caribbean;24;6</td></tr><tr><td>Argentina;2016;Latin America and Caribbean;26;6</td></tr><tr><td>Argentina;2018;Latin America and Caribbean;29;6</td></tr><tr><td>Argentina;2015;Latin America and Caribbean;30;6</td></tr><tr><td>Argentina;2019;Latin America and Caribbean;47;6</td></tr><tr><td>Argentina;2023;Latin America and Caribbean;52;6</td></tr><tr><td>Argentina;2020;Latin America and Caribbean;55;5</td></tr><tr><td>Argentina;2021;Latin America and Caribbean;57;5</td></tr><tr><td>Argentina;2022;Latin America and Caribbean;57;5</td></tr><tr><td>Armenia;2023;Central and Eastern Europe;79;5</td></tr><tr><td>Armenia;2022;Central and Eastern Europe;82;5</td></tr><tr><td>Armenia;2021;Central and Eastern Europe;86;5</td></tr><tr><td>Armenia;2019;Central and Eastern Europe;116;4</td></tr><tr><td>Armenia;2020;Central and Eastern Europe;116;4</td></tr><tr><td>Armenia;2016;Central and Eastern Europe;121;4</td></tr><tr><td>Armenia;2017;Central and Eastern Europe;121;4</td></tr><tr><td>Armenia;2015;Central and Eastern Europe;127;4</td></tr><tr><td>Armenia;2018;Central and Eastern Europe;129;4</td></tr><tr><td>Australia;2016;Australia and New Zealand;9;7</td></tr><tr><td>Australia;2017;Australia and New Zealand;10;7</td></tr><tr><td>Australia;2018;Australia and New Zealand;10;7</td></tr><tr><td>Australia;2015;Australia and New Zealand;10;7</td></tr><tr><td>Australia;2019;Australia and New Zealand;11;7</td></tr><tr><td>Australia;2021;Australia and New Zealand;11;7</td></tr><tr><td>Australia;2020;Australia and New Zealand;12;7</td></tr><tr><td>Australia;2022;Australia and New Zealand;12;7</td></tr><tr><td>Australia;2023;Australia and New Zealand;12;7</td></tr><tr><td>Austria;2020;Western Europe;9;7</td></tr><tr><td>Austria;2019;Western Europe;10;7</td></tr><tr><td>Austria;2021;Western Europe;10;7</td></tr><tr><td>Austria;2022;Western Europe;11;7</td></tr><tr><td>Austria;2023;Western Europe;11;7</td></tr><tr><td>Austria;2016;Western Europe;12;7</td></tr><tr><td>Austria;2018;Western Europe;12;7</td></tr><tr><td>Austria;2017;Western Europe;13;7</td></tr><tr><td>Austria;2015;Western Europe;13;7</td></tr><tr><td>Azerbaijan;2015;Central and Eastern Europe;80;5</td></tr><tr><td>Azerbaijan;2016;Central and Eastern Europe;81;5</td></tr><tr><td>Azerbaijan;2017;Central and Eastern Europe;85;5</td></tr><tr><td>Azerbaijan;2018;Central and Eastern Europe;87;5</td></tr><tr><td>Azerbaijan;2020;Central and Eastern Europe;89;5</td></tr><tr><td>Azerbaijan;2019;Central and Eastern Europe;90;5</td></tr><tr><td>Azerbaijan;2021;Central and Eastern Europe;90;5</td></tr><tr><td>Azerbaijan;2022;Central and Eastern Europe;92;5</td></tr><tr><td>Bahrain;2022;Middle East and Northern Africa;21;6</td></tr><tr><td>Bahrain;2021;Middle East and Northern Africa;22;6</td></tr><tr><td>Bahrain;2019;Middle East and Northern Africa;37;6</td></tr><tr><td>Bahrain;2020;Middle East and Northern Africa;40;6</td></tr><tr><td>Bahrain;2017;Middle East and Northern Africa;41;6</td></tr><tr><td>Bahrain;2016;Middle East and Northern Africa;42;6</td></tr><tr><td>Bahrain;2023;Middle East and Northern Africa;42;6</td></tr><tr><td>Bahrain;2018;Middle East and Northern Africa;43;6</td></tr><tr><td>Bahrain;2015;Middle East and Northern Africa;49;5</td></tr><tr><td>Bangladesh;2022;Southern Asia;94;5</td></tr><tr><td>Bangladesh;2021;Southern Asia;101;5</td></tr><tr><td>Bangladesh;2020;Southern Asia;107;4</td></tr><tr><td>Bangladesh;2015;Southern Asia;109;4</td></tr><tr><td>Bangladesh;2016;Southern Asia;110;4</td></tr><tr><td>Bangladesh;2017;Southern Asia;110;4</td></tr><tr><td>Bangladesh;2018;Southern Asia;115;4</td></tr><tr><td>Bangladesh;2023;Southern Asia;118;4</td></tr><tr><td>Bangladesh;2019;Southern Asia;125;4</td></tr><tr><td>Belarus;2015;Central and Eastern Europe;59;5</td></tr><tr><td>Belarus;2016;Central and Eastern Europe;61;5</td></tr><tr><td>Belarus;2022;Central and Eastern Europe;65;5</td></tr><tr><td>Belarus;2017;Central and Eastern Europe;67;5</td></tr><tr><td>Belarus;2018;Central and Eastern Europe;73;5</td></tr><tr><td>Belarus;2020;Central and Eastern Europe;75;5</td></tr><tr><td>Belarus;2021;Central and Eastern Europe;75;5</td></tr><tr><td>Belarus;2019;Central and Eastern Europe;81;5</td></tr><tr><td>Belgium;2018;Western Europe;16;6</td></tr><tr><td>Belgium;2017;Western Europe;17;6</td></tr><tr><td>Belgium;2023;Western Europe;17;6</td></tr><tr><td>Belgium;2016;Western Europe;18;6</td></tr><tr><td>Belgium;2019;Western Europe;18;6</td></tr><tr><td>Belgium;2022;Western Europe;19;6</td></tr><tr><td>Belgium;2015;Western Europe;19;6</td></tr><tr><td>Belgium;2020;Western Europe;20;6</td></tr><tr><td>Belgium;2021;Western Europe;20;6</td></tr><tr><td>Belize;2018;Latin America and Caribbean;49;5</td></tr><tr><td>Belize;2017;Latin America and Caribbean;50;5</td></tr><tr><td>Belize;2016;Latin America and Caribbean;52;5</td></tr><tr><td>Benin;2020;Sub-Saharan Africa;86;5</td></tr><tr><td>Benin;2021;Sub-Saharan Africa;99;5</td></tr><tr><td>Benin;2019;Sub-Saharan Africa;102;4</td></tr><tr><td>Benin;2022;Sub-Saharan Africa;115;4</td></tr><tr><td>Benin;2023;Sub-Saharan Africa;116;4</td></tr><tr><td>Benin;2018;Sub-Saharan Africa;136;4</td></tr><tr><td>Benin;2017;Sub-Saharan Africa;143;3</td></tr><tr><td>Benin;2016;Sub-Saharan Africa;153;3</td></tr><tr><td>Benin;2015;Sub-Saharan Africa;155;3</td></tr><tr><td>Bhutan;2015;Southern Asia;79;5</td></tr><tr><td>Bhutan;2016;Southern Asia;84;5</td></tr><tr><td>Bhutan;2019;Southern Asia;95;5</td></tr><tr><td>Bhutan;2017;Southern Asia;97;5</td></tr><tr><td>Bhutan;2018;Southern Asia;97;5</td></tr><tr><td>Bolivia;2015;Latin America and Caribbean;51;5</td></tr><tr><td>Bolivia;2017;Latin America and Caribbean;58;5</td></tr><tr><td>Bolivia;2016;Latin America and Caribbean;59;5</td></tr><tr><td>Bolivia;2019;Latin America and Caribbean;61;5</td></tr><tr><td>Bolivia;2018;Latin America and Caribbean;62;5</td></tr><tr><td>Bolivia;2020;Latin America and Caribbean;65;5</td></tr><tr><td>Bolivia;2021;Latin America and Caribbean;69;5</td></tr><tr><td>Bolivia;2023;Latin America and Caribbean;69;5</td></tr><tr><td>Bolivia;2022;Latin America and Caribbean;71;5</td></tr><tr><td>Bosnia and Herzegovina;2021;Central and Eastern Europe;64;5</td></tr><tr><td>Bosnia and Herzegovina;2022;Central and Eastern Europe;67;5</td></tr><tr><td>Bosnia and Herzegovina;2020;Central and Eastern Europe;69;5</td></tr><tr><td>Bosnia and Herzegovina;2023;Central and Eastern Europe;71;5</td></tr><tr><td>Bosnia and Herzegovina;2019;Central and Eastern Europe;78;5</td></tr><tr><td>Bosnia and Herzegovina;2016;Central and Eastern Europe;87;5</td></tr><tr><td>Bosnia and Herzegovina;2017;Central and Eastern Europe;90;5</td></tr><tr><td>Bosnia and Herzegovina;2018;Central and Eastern Europe;93;5</td></tr><tr><td>Bosnia and Herzegovina;2015;Central and Eastern Europe;96;4</td></tr><tr><td>Botswana;2015;Sub-Saharan Africa;128;4</td></tr><tr><td>Botswana;2023;Sub-Saharan Africa;132;3</td></tr><tr><td>Botswana;2016;Sub-Saharan Africa;137;3</td></tr><tr><td>Botswana;2017;Sub-Saharan Africa;142;3</td></tr><tr><td>Botswana;2022;Sub-Saharan Africa;142;3</td></tr><tr><td>Botswana;2018;Sub-Saharan Africa;146;3</td></tr><tr><td>Botswana;2021;Sub-Saharan Africa;146;3</td></tr><tr><td>Botswana;2020;Sub-Saharan Africa;147;3</td></tr><tr><td>Botswana;2019;Sub-Saharan Africa;148;3</td></tr><tr><td>Brazil;2015;Latin America and Caribbean;16;6</td></tr><tr><td>Brazil;2016;Latin America and Caribbean;17;6</td></tr><tr><td>Brazil;2017;Latin America and Caribbean;22;6</td></tr><tr><td>Brazil;2018;Latin America and Caribbean;28;6</td></tr><tr><td>Brazil;2019;Latin America and Caribbean;32;6</td></tr><tr><td>Brazil;2020;Latin America and Caribbean;32;6</td></tr><tr><td>Brazil;2021;Latin America and Caribbean;35;6</td></tr><tr><td>Brazil;2022;Latin America and Caribbean;38;6</td></tr><tr><td>Brazil;2023;Latin America and Caribbean;49;6</td></tr><tr><td>Bulgaria;2023;Central and Eastern Europe;77;5</td></tr><tr><td>Bulgaria;2022;Central and Eastern Europe;85;5</td></tr><tr><td>Bulgaria;2021;Central and Eastern Europe;88;5</td></tr><tr><td>Bulgaria;2020;Central and Eastern Europe;96;5</td></tr><tr><td>Bulgaria;2019;Central and Eastern Europe;97;5</td></tr><tr><td>Bulgaria;2018;Central and Eastern Europe;100;4</td></tr><tr><td>Bulgaria;2017;Central and Eastern Europe;105;4</td></tr><tr><td>Bulgaria;2016;Central and Eastern Europe;129;4</td></tr><tr><td>Bulgaria;2015;Central and Eastern Europe;134;4</td></tr><tr><td>Burkina Faso;2023;Sub-Saharan Africa;104;4</td></tr><tr><td>Burkina Faso;2020;Sub-Saharan Africa;112;4</td></tr><tr><td>Burkina Faso;2021;Sub-Saharan Africa;113;4</td></tr><tr><td>Burkina Faso;2022;Sub-Saharan Africa;113;4</td></tr><tr><td>Burkina Faso;2019;Sub-Saharan Africa;115;4</td></tr><tr><td>Burkina Faso;2018;Sub-Saharan Africa;121;4</td></tr><tr><td>Burkina Faso;2017;Sub-Saharan Africa;134;4</td></tr><tr><td>Burkina Faso;2016;Sub-Saharan Africa;145;3</td></tr><tr><td>Burkina Faso;2015;Sub-Saharan Africa;152;3</td></tr><tr><td>Burundi;2020;Sub-Saharan Africa;140;3</td></tr><tr><td>Burundi;2021;Sub-Saharan Africa;140;3</td></tr><tr><td>Burundi;2019;Sub-Saharan Africa;145;3</td></tr><tr><td>Burundi;2017;Sub-Saharan Africa;154;2</td></tr><tr><td>Burundi;2018;Sub-Saharan Africa;156;2</td></tr><tr><td>Burundi;2016;Sub-Saharan Africa;157;2</td></tr><tr><td>Burundi;2015;Sub-Saharan Africa;157;2</td></tr><tr><td>Cambodia;2020;Southeastern Asia;106;4</td></tr><tr><td>Cambodia;2019;Southeastern Asia;109;4</td></tr><tr><td>Cambodia;2021;Southeastern Asia;114;4</td></tr><tr><td>Cambodia;2022;Southeastern Asia;114;4</td></tr><tr><td>Cambodia;2023;Southeastern Asia;115;4</td></tr><tr><td>Cambodia;2018;Southeastern Asia;120;4</td></tr><tr><td>Cambodia;2017;Southeastern Asia;129;4</td></tr><tr><td>Cambodia;2016;Southeastern Asia;140;3</td></tr><tr><td>Cambodia;2015;Southeastern Asia;145;3</td></tr><tr><td>Cameroon;2021;Sub-Saharan Africa;91;5</td></tr><tr><td>Cameroon;2019;Sub-Saharan Africa;96;5</td></tr><tr><td>Cameroon;2023;Sub-Saharan Africa;96;4</td></tr><tr><td>Cameroon;2020;Sub-Saharan Africa;98;5</td></tr><tr><td>Cameroon;2018;Sub-Saharan Africa;99;4</td></tr><tr><td>Cameroon;2022;Sub-Saharan Africa;102;5</td></tr><tr><td>Cameroon;2017;Sub-Saharan Africa;107;4</td></tr><tr><td>Cameroon;2016;Sub-Saharan Africa;114;4</td></tr><tr><td>Cameroon;2015;Sub-Saharan Africa;133;4</td></tr><tr><td>Canada;2015;North America;5;7</td></tr><tr><td>Canada;2016;North America;6;7</td></tr><tr><td>Canada;2017;North America;7;7</td></tr><tr><td>Canada;2018;North America;7;7</td></tr><tr><td>Canada;2019;North America;9;7</td></tr><tr><td>Canada;2020;North America;11;7</td></tr><tr><td>Canada;2023;North America;13;6</td></tr><tr><td>Canada;2021;North America;14;7</td></tr><tr><td>Canada;2022;North America;15;7</td></tr><tr><td>Central African Republic;2015;Sub-Saharan Africa;148;3</td></tr><tr><td>Central African Republic;2020;Sub-Saharan Africa;149;3</td></tr><tr><td>Central African Republic;2017;Sub-Saharan Africa;155;2</td></tr><tr><td>Central African Republic;2018;Sub-Saharan Africa;155;3</td></tr><tr><td>Central African Republic;2019;Sub-Saharan Africa;155;3</td></tr><tr><td>Chad;2023;Sub-Saharan Africa;114;4</td></tr><tr><td>Chad;2020;Sub-Saharan Africa;127;4</td></tr><tr><td>Chad;2021;Sub-Saharan Africa;128;4</td></tr><tr><td>Chad;2022;Sub-Saharan Africa;130;4</td></tr><tr><td>Chad;2018;Sub-Saharan Africa;131;4</td></tr><tr><td>Chad;2019;Sub-Saharan Africa;132;4</td></tr><tr><td>Chad;2017;Sub-Saharan Africa;137;3</td></tr><tr><td>Chad;2016;Sub-Saharan Africa;144;3</td></tr><tr><td>Chad;2015;Sub-Saharan Africa;149;3</td></tr><tr><td>Chile;2017;Latin America and Caribbean;20;6</td></tr><tr><td>Chile;2016;Latin America and Caribbean;24;6</td></tr><tr><td>Chile;2018;Latin America and Caribbean;25;6</td></tr><tr><td>Chile;2019;Latin America and Caribbean;26;6</td></tr><tr><td>Chile;2015;Latin America and Caribbean;27;6</td></tr><tr><td>Chile;2023;Latin America and Caribbean;35;6</td></tr><tr><td>Chile;2020;Latin America and Caribbean;39;6</td></tr><tr><td>Chile;2021;Latin America and Caribbean;43;6</td></tr><tr><td>Chile;2022;Latin America and Caribbean;44;6</td></tr><tr><td>China;2023;Eastern Asia;64;5</td></tr><tr><td>China;2022;Eastern Asia;72;5</td></tr><tr><td>China;2017;Eastern Asia;79;5</td></tr><tr><td>China;2016;Eastern Asia;83;5</td></tr><tr><td>China;2021;Eastern Asia;84;5</td></tr><tr><td>China;2015;Eastern Asia;84;5</td></tr><tr><td>China;2018;Eastern Asia;86;5</td></tr><tr><td>China;2019;Eastern Asia;93;5</td></tr><tr><td>China;2020;Eastern Asia;94;5</td></tr><tr><td>Colombia;2016;Latin America and Caribbean;31;6</td></tr><tr><td>Colombia;2015;Latin America and Caribbean;33;6</td></tr><tr><td>Colombia;2017;Latin America and Caribbean;36;6</td></tr><tr><td>Colombia;2018;Latin America and Caribbean;37;6</td></tr><tr><td>Colombia;2019;Latin America and Caribbean;43;6</td></tr><tr><td>Colombia;2020;Latin America and Caribbean;44;6</td></tr><tr><td>Colombia;2021;Latin America and Caribbean;52;6</td></tr><tr><td>Colombia;2022;Latin America and Caribbean;66;5</td></tr><tr><td>Colombia;2023;Latin America and Caribbean;72;5</td></tr><tr><td>Comoros;2022;Sub-Saharan Africa;116;4</td></tr><tr><td>Comoros;2023;Sub-Saharan Africa;130;3</td></tr><tr><td>Comoros;2021;Sub-Saharan Africa;131;4</td></tr><tr><td>Comoros;2020;Sub-Saharan Africa;134;4</td></tr><tr><td>Comoros;2016;Sub-Saharan Africa;138;3</td></tr><tr><td>Comoros;2015;Sub-Saharan Africa;140;3</td></tr><tr><td>Comoros;2019;Sub-Saharan Africa;142;3</td></tr><tr><td>Congo (Brazzaville);2021;Sub-Saharan Africa;83;5</td></tr><tr><td>Congo (Brazzaville);2023;Sub-Saharan Africa;86;5</td></tr><tr><td>Congo (Brazzaville);2020;Sub-Saharan Africa;88;5</td></tr><tr><td>Congo (Brazzaville);2022;Sub-Saharan Africa;99;5</td></tr><tr><td>Congo (Brazzaville);2019;Sub-Saharan Africa;103;4</td></tr><tr><td>Congo (Brazzaville);2018;Sub-Saharan Africa;114;4</td></tr><tr><td>Congo (Brazzaville);2017;Sub-Saharan Africa;124;4</td></tr><tr><td>Congo (Brazzaville);2016;Sub-Saharan Africa;127;4</td></tr><tr><td>Congo (Brazzaville);2015;Sub-Saharan Africa;139;3</td></tr><tr><td>Congo (Kinshasa);2015;Sub-Saharan Africa;120;4</td></tr><tr><td>Congo (Kinshasa);2016;Sub-Saharan Africa;125;4</td></tr><tr><td>Congo (Kinshasa);2017;Sub-Saharan Africa;126;4</td></tr><tr><td>Congo (Kinshasa);2019;Sub-Saharan Africa;127;4</td></tr><tr><td>Congo (Kinshasa);2020;Sub-Saharan Africa;131;4</td></tr><tr><td>Congo (Kinshasa);2018;Sub-Saharan Africa;132;4</td></tr><tr><td>Congo (Kinshasa);2023;Sub-Saharan Africa;133;3</td></tr><tr><td>Costa Rica;2015;Latin America and Caribbean;12;7</td></tr><tr><td>Costa Rica;2017;Latin America and Caribbean;12;7</td></tr><tr><td>Costa Rica;2019;Latin America and Caribbean;12;7</td></tr><tr><td>Costa Rica;2018;Latin America and Caribbean;13;7</td></tr><tr><td>Costa Rica;2016;Latin America and Caribbean;14;7</td></tr><tr><td>Costa Rica;2020;Latin America and Caribbean;15;7</td></tr><tr><td>Costa Rica;2021;Latin America and Caribbean;16;7</td></tr><tr><td>Costa Rica;2022;Latin America and Caribbean;23;6</td></tr><tr><td>Costa Rica;2023;Latin America and Caribbean;23;6</td></tr><tr><td>Croatia;2022;Central and Eastern Europe;47;6</td></tr><tr><td>Croatia;2023;Central and Eastern Europe;48;6</td></tr><tr><td>Croatia;2021;Central and Eastern Europe;60;5</td></tr><tr><td>Croatia;2015;Central and Eastern Europe;62;5</td></tr><tr><td>Croatia;2016;Central and Eastern Europe;74;5</td></tr><tr><td>Croatia;2019;Central and Eastern Europe;75;5</td></tr><tr><td>Croatia;2017;Central and Eastern Europe;77;5</td></tr><tr><td>Croatia;2020;Central and Eastern Europe;79;5</td></tr><tr><td>Croatia;2018;Central and Eastern Europe;82;5</td></tr><tr><td>Cyprus;2021;Western Europe;39;6</td></tr><tr><td>Cyprus;2022;Western Europe;41;6</td></tr><tr><td>Cyprus;2020;Western Europe;45;6</td></tr><tr><td>Cyprus;2023;Western Europe;46;6</td></tr><tr><td>Cyprus;2019;Western Europe;49;6</td></tr><tr><td>Cyprus;2018;Western Europe;61;5</td></tr><tr><td>Cyprus;2017;Western Europe;65;5</td></tr><tr><td>Cyprus;2015;Western Europe;67;5</td></tr><tr><td>Cyprus;2016;Western Europe;69;5</td></tr><tr><td>Czech Republic;2021;Central and Eastern Europe;18;6</td></tr><tr><td>Czech Republic;2022;Central and Eastern Europe;18;6</td></tr><tr><td>Czech Republic;2023;Central and Eastern Europe;18;6</td></tr><tr><td>Czech Republic;2020;Central and Eastern Europe;19;6</td></tr><tr><td>Czech Republic;2019;Central and Eastern Europe;20;6</td></tr><tr><td>Czech Republic;2018;Central and Eastern Europe;21;6</td></tr><tr><td>Czech Republic;2017;Central and Eastern Europe;23;6</td></tr><tr><td>Czech Republic;2016;Central and Eastern Europe;27;6</td></tr><tr><td>Czech Republic;2015;Central and Eastern Europe;31;6</td></tr><tr><td>Denmark;2016;Western Europe;1;7</td></tr><tr><td>Denmark;2017;Western Europe;2;7</td></tr><tr><td>Denmark;2019;Western Europe;2;7</td></tr><tr><td>Denmark;2020;Western Europe;2;7</td></tr><tr><td>Denmark;2021;Western Europe;2;7</td></tr><tr><td>Denmark;2022;Western Europe;2;7</td></tr><tr><td>Denmark;2023;Western Europe;2;7</td></tr><tr><td>Denmark;2015;Western Europe;3;7</td></tr><tr><td>Denmark;2018;Western Europe;3;7</td></tr><tr><td>Djibouti;2015;Sub-Saharan Africa;126;4</td></tr><tr><td>Dominican Republic;2020;Latin America and Caribbean;68;5</td></tr><tr><td>Dominican Republic;2022;Latin America and Caribbean;69;5</td></tr><tr><td>Dominican Republic;2021;Latin America and Caribbean;73;5</td></tr><tr><td>Dominican Republic;2023;Latin America and Caribbean;73;5</td></tr><tr><td>Dominican Republic;2019;Latin America and Caribbean;77;5</td></tr><tr><td>Dominican Republic;2018;Latin America and Caribbean;83;5</td></tr><tr><td>Dominican Republic;2017;Latin America and Caribbean;86;5</td></tr><tr><td>Dominican Republic;2016;Latin America and Caribbean;89;5</td></tr><tr><td>Dominican Republic;2015;Latin America and Caribbean;98;4</td></tr><tr><td>Ecuador;2017;Latin America and Caribbean;44;6</td></tr><tr><td>Ecuador;2018;Latin America and Caribbean;48;5</td></tr><tr><td>Ecuador;2015;Latin America and Caribbean;48;5</td></tr><tr><td>Ecuador;2019;Latin America and Caribbean;50;6</td></tr><tr><td>Ecuador;2016;Latin America and Caribbean;51;5</td></tr><tr><td>Ecuador;2020;Latin America and Caribbean;58;5</td></tr><tr><td>Ecuador;2021;Latin America and Caribbean;66;5</td></tr><tr><td>Ecuador;2023;Latin America and Caribbean;74;5</td></tr><tr><td>Ecuador;2022;Latin America and Caribbean;76;5</td></tr><tr><td>Egypt;2017;Middle East and Northern Africa;104;4</td></tr><tr><td>Egypt;2016;Middle East and Northern Africa;120;4</td></tr><tr><td>Egypt;2023;Middle East and Northern Africa;121;4</td></tr><tr><td>Egypt;2018;Middle East and Northern Africa;122;4</td></tr><tr><td>Egypt;2022;Middle East and Northern Africa;129;4</td></tr><tr><td>Egypt;2021;Middle East and Northern Africa;132;4</td></tr><tr><td>Egypt;2015;Middle East and Northern Africa;135;4</td></tr><tr><td>Egypt;2019;Middle East and Northern Africa;137;4</td></tr><tr><td>Egypt;2020;Middle East and Northern Africa;138;4</td></tr><tr><td>El Salvador;2020;Latin America and Caribbean;34;6</td></tr><tr><td>El Salvador;2019;Latin America and Caribbean;35;6</td></tr><tr><td>El Salvador;2018;Latin America and Caribbean;40;6</td></tr><tr><td>El Salvador;2015;Latin America and Caribbean;42;6</td></tr><tr><td>El Salvador;2017;Latin America and Caribbean;45;6</td></tr><tr><td>El Salvador;2016;Latin America and Caribbean;46;6</td></tr><tr><td>El Salvador;2021;Latin America and Caribbean;49;6</td></tr><tr><td>El Salvador;2022;Latin America and Caribbean;49;6</td></tr><tr><td>El Salvador;2023;Latin America and Caribbean;50;6</td></tr><tr><td>Estonia;2023;Central and Eastern Europe;31;6</td></tr><tr><td>Estonia;2022;Central and Eastern Europe;36;6</td></tr><tr><td>Estonia;2021;Central and Eastern Europe;40;6</td></tr><tr><td>Estonia;2020;Central and Eastern Europe;51;6</td></tr><tr><td>Estonia;2019;Central and Eastern Europe;55;5</td></tr><tr><td>Estonia;2018;Central and Eastern Europe;63;5</td></tr><tr><td>Estonia;2017;Central and Eastern Europe;66;5</td></tr><tr><td>Estonia;2016;Central and Eastern Europe;72;5</td></tr><tr><td>Estonia;2015;Central and Eastern Europe;73;5</td></tr><tr><td>Eswatini;2022;Sub-Saharan Africa;125;4</td></tr><tr><td>Ethiopia;2016;Sub-Saharan Africa;115;4</td></tr><tr><td>Ethiopia;2017;Sub-Saharan Africa;119;4</td></tr><tr><td>Ethiopia;2015;Sub-Saharan Africa;122;4</td></tr><tr><td>Ethiopia;2023;Sub-Saharan Africa;124;4</td></tr><tr><td>Ethiopia;2018;Sub-Saharan Africa;127;4</td></tr><tr><td>Ethiopia;2022;Sub-Saharan Africa;131;4</td></tr><tr><td>Ethiopia;2021;Sub-Saharan Africa;133;4</td></tr><tr><td>Ethiopia;2019;Sub-Saharan Africa;134;4</td></tr><tr><td>Ethiopia;2020;Sub-Saharan Africa;136;4</td></tr><tr><td>Finland;2018;Western Europe;1;7</td></tr><tr><td>Finland;2019;Western Europe;1;7</td></tr><tr><td>Finland;2020;Western Europe;1;7</td></tr><tr><td>Finland;2021;Western Europe;1;7</td></tr><tr><td>Finland;2022;Western Europe;1;7</td></tr><tr><td>Finland;2023;Western Europe;1;7</td></tr><tr><td>Finland;2016;Western Europe;5;7</td></tr><tr><td>Finland;2017;Western Europe;5;7</td></tr><tr><td>Finland;2015;Western Europe;6;7</td></tr><tr><td>France;2022;Western Europe;20;6</td></tr><tr><td>France;2021;Western Europe;21;6</td></tr><tr><td>France;2023;Western Europe;21;6</td></tr><tr><td>France;2018;Western Europe;23;6</td></tr><tr><td>France;2020;Western Europe;23;6</td></tr><tr><td>France;2019;Western Europe;24;6</td></tr><tr><td>France;2015;Western Europe;29;6</td></tr><tr><td>France;2017;Western Europe;31;6</td></tr><tr><td>France;2016;Western Europe;32;6</td></tr><tr><td>Gabon;2023;Sub-Saharan Africa;94;5</td></tr><tr><td>Gabon;2018;Sub-Saharan Africa;103;4</td></tr><tr><td>Gabon;2019;Sub-Saharan Africa;104;4</td></tr><tr><td>Gabon;2022;Sub-Saharan Africa;106;4</td></tr><tr><td>Gabon;2020;Sub-Saharan Africa;108;4</td></tr><tr><td>Gabon;2021;Sub-Saharan Africa;112;4</td></tr><tr><td>Gabon;2017;Sub-Saharan Africa;118;4</td></tr><tr><td>Gabon;2016;Sub-Saharan Africa;134;4</td></tr><tr><td>Gabon;2015;Sub-Saharan Africa;143;3</td></tr><tr><td>Gambia;2022;Sub-Saharan Africa;93;5</td></tr><tr><td>Gambia;2021;Sub-Saharan Africa;98;5</td></tr><tr><td>Gambia;2020;Sub-Saharan Africa;113;4</td></tr><tr><td>Gambia;2023;Sub-Saharan Africa;119;4</td></tr><tr><td>Gambia;2019;Sub-Saharan Africa;120;4</td></tr><tr><td>Georgia;2023;Central and Eastern Europe;90;5</td></tr><tr><td>Georgia;2022;Central and Eastern Europe;105;4</td></tr><tr><td>Georgia;2021;Central and Eastern Europe;108;4</td></tr><tr><td>Georgia;2020;Central and Eastern Europe;117;4</td></tr><tr><td>Georgia;2019;Central and Eastern Europe;119;4</td></tr><tr><td>Georgia;2017;Central and Eastern Europe;125;4</td></tr><tr><td>Georgia;2016;Central and Eastern Europe;126;4</td></tr><tr><td>Georgia;2018;Central and Eastern Europe;128;4</td></tr><tr><td>Georgia;2015;Central and Eastern Europe;130;4</td></tr><tr><td>Germany;2021;Western Europe;13;7</td></tr><tr><td>Germany;2022;Western Europe;14;7</td></tr><tr><td>Germany;2018;Western Europe;15;6</td></tr><tr><td>Germany;2016;Western Europe;16;6</td></tr><tr><td>Germany;2017;Western Europe;16;6</td></tr><tr><td>Germany;2023;Western Europe;16;6</td></tr><tr><td>Germany;2019;Western Europe;17;6</td></tr><tr><td>Germany;2020;Western Europe;17;7</td></tr><tr><td>Germany;2015;Western Europe;26;6</td></tr><tr><td>Ghana;2020;Sub-Saharan Africa;91;5</td></tr><tr><td>Ghana;2021;Sub-Saharan Africa;95;5</td></tr><tr><td>Ghana;2019;Sub-Saharan Africa;98;4</td></tr><tr><td>Ghana;2023;Sub-Saharan Africa;107;4</td></tr><tr><td>Ghana;2018;Sub-Saharan Africa;108;4</td></tr><tr><td>Ghana;2022;Sub-Saharan Africa;111;4</td></tr><tr><td>Ghana;2015;Sub-Saharan Africa;114;4</td></tr><tr><td>Ghana;2016;Sub-Saharan Africa;124;4</td></tr><tr><td>Ghana;2017;Sub-Saharan Africa;131;4</td></tr><tr><td>Greece;2022;Western Europe;58;5</td></tr><tr><td>Greece;2023;Western Europe;58;5</td></tr><tr><td>Greece;2021;Western Europe;68;5</td></tr><tr><td>Greece;2020;Western Europe;77;5</td></tr><tr><td>Greece;2018;Western Europe;79;5</td></tr><tr><td>Greece;2019;Western Europe;82;5</td></tr><tr><td>Greece;2017;Western Europe;87;5</td></tr><tr><td>Greece;2016;Western Europe;99;5</td></tr><tr><td>Greece;2015;Western Europe;102;4</td></tr><tr><td>Guatemala;2019;Latin America and Caribbean;27;6</td></tr><tr><td>Guatemala;2017;Latin America and Caribbean;29;6</td></tr><tr><td>Guatemala;2020;Latin America and Caribbean;29;6</td></tr><tr><td>Guatemala;2018;Latin America and Caribbean;30;6</td></tr><tr><td>Guatemala;2021;Latin America and Caribbean;30;6</td></tr><tr><td>Guatemala;2016;Latin America and Caribbean;39;6</td></tr><tr><td>Guatemala;2022;Latin America and Caribbean;39;6</td></tr><tr><td>Guatemala;2015;Latin America and Caribbean;43;6</td></tr><tr><td>Guatemala;2023;Latin America and Caribbean;43;6</td></tr><tr><td>Guinea;2023;Sub-Saharan Africa;91;5</td></tr><tr><td>Guinea;2020;Sub-Saharan Africa;102;4</td></tr><tr><td>Guinea;2021;Sub-Saharan Africa;102;4</td></tr><tr><td>Guinea;2022;Sub-Saharan Africa;109;4</td></tr><tr><td>Guinea;2019;Sub-Saharan Africa;118;4</td></tr><tr><td>Guinea;2018;Sub-Saharan Africa;140;3</td></tr><tr><td>Guinea;2017;Sub-Saharan Africa;149;3</td></tr><tr><td>Guinea;2015;Sub-Saharan Africa;150;3</td></tr><tr><td>Guinea;2016;Sub-Saharan Africa;151;3</td></tr><tr><td>Haiti;2015;Latin America and Caribbean;119;4</td></tr><tr><td>Haiti;2016;Latin America and Caribbean;136;4</td></tr><tr><td>Haiti;2020;Latin America and Caribbean;142;3</td></tr><tr><td>Haiti;2021;Latin America and Caribbean;143;3</td></tr><tr><td>Haiti;2017;Latin America and Caribbean;145;3</td></tr><tr><td>Haiti;2019;Latin America and Caribbean;147;3</td></tr><tr><td>Haiti;2018;Latin America and Caribbean;148;3</td></tr><tr><td>Honduras;2023;Latin America and Caribbean;53;6</td></tr><tr><td>Honduras;2022;Latin America and Caribbean;55;6</td></tr><tr><td>Honduras;2020;Latin America and Caribbean;56;5</td></tr><tr><td>Honduras;2019;Latin America and Caribbean;59;5</td></tr><tr><td>Honduras;2021;Latin America and Caribbean;59;5</td></tr><tr><td>Honduras;2018;Latin America and Caribbean;72;5</td></tr><tr><td>Honduras;2017;Latin America and Caribbean;91;5</td></tr><tr><td>Honduras;2016;Latin America and Caribbean;104;4</td></tr><tr><td>Honduras;2015;Latin America and Caribbean;105;4</td></tr><tr><td>Hong Kong;2017;Eastern Asia;71;5</td></tr><tr><td>Hong Kong;2015;Eastern Asia;72;5</td></tr><tr><td>Hong Kong;2016;Eastern Asia;75;5</td></tr><tr><td>Hong Kong;2018;Eastern Asia;76;5</td></tr><tr><td>Hong Kong;2019;Eastern Asia;76;5</td></tr><tr><td>Hong Kong;2021;Eastern Asia;77;5</td></tr><tr><td>Hong Kong;2020;Eastern Asia;78;5</td></tr><tr><td>Hong Kong;2022;Eastern Asia;81;5</td></tr><tr><td>Hong Kong;2023;Eastern Asia;82;5</td></tr><tr><td>Hungary;2022;Central and Eastern Europe;51;6</td></tr><tr><td>Hungary;2023;Central and Eastern Europe;51;6</td></tr><tr><td>Hungary;2020;Central and Eastern Europe;53;6</td></tr><tr><td>Hungary;2021;Central and Eastern Europe;53;5</td></tr><tr><td>Hungary;2019;Central and Eastern Europe;62;5</td></tr><tr><td>Hungary;2018;Central and Eastern Europe;69;5</td></tr><tr><td>Hungary;2017;Central and Eastern Europe;75;5</td></tr><tr><td>Hungary;2016;Central and Eastern Europe;91;5</td></tr><tr><td>Hungary;2015;Central and Eastern Europe;104;4</td></tr><tr><td>Iceland;2015;Western Europe;2;7</td></tr><tr><td>Iceland;2016;Western Europe;3;7</td></tr><tr><td>Iceland;2017;Western Europe;3;7</td></tr><tr><td>Iceland;2022;Western Europe;3;7</td></tr><tr><td>Iceland;2023;Western Europe;3;7</td></tr><tr><td>Iceland;2018;Western Europe;4;7</td></tr><tr><td>Iceland;2019;Western Europe;4;7</td></tr><tr><td>Iceland;2020;Western Europe;4;7</td></tr><tr><td>Iceland;2021;Western Europe;4;7</td></tr><tr><td>India;2015;Southern Asia;117;4</td></tr><tr><td>India;2016;Southern Asia;118;4</td></tr><tr><td>India;2017;Southern Asia;122;4</td></tr><tr><td>India;2023;Southern Asia;126;4</td></tr><tr><td>India;2018;Southern Asia;133;4</td></tr><tr><td>India;2022;Southern Asia;136;3</td></tr><tr><td>India;2021;Southern Asia;139;3</td></tr><tr><td>India;2019;Southern Asia;140;4</td></tr><tr><td>India;2020;Southern Asia;144;3</td></tr><tr><td>Indonesia;2015;Southeastern Asia;74;5</td></tr><tr><td>Indonesia;2016;Southeastern Asia;79;5</td></tr><tr><td>Indonesia;2017;Southeastern Asia;81;5</td></tr><tr><td>Indonesia;2021;Southeastern Asia;82;5</td></tr><tr><td>Indonesia;2020;Southeastern Asia;84;5</td></tr><tr><td>Indonesia;2023;Southeastern Asia;84;5</td></tr><tr><td>Indonesia;2022;Southeastern Asia;87;5</td></tr><tr><td>Indonesia;2019;Southeastern Asia;92;5</td></tr><tr><td>Indonesia;2018;Southeastern Asia;96;5</td></tr><tr><td>Iran;2023;Middle East and Northern Africa;101;4</td></tr><tr><td>Iran;2016;Middle East and Northern Africa;105;4</td></tr><tr><td>Iran;2018;Middle East and Northern Africa;106;4</td></tr><tr><td>Iran;2017;Middle East and Northern Africa;108;4</td></tr><tr><td>Iran;2022;Middle East and Northern Africa;110;4</td></tr><tr><td>Iran;2015;Middle East and Northern Africa;110;4</td></tr><tr><td>Iran;2019;Middle East and Northern Africa;117;4</td></tr><tr><td>Iran;2020;Middle East and Northern Africa;118;4</td></tr><tr><td>Iran;2021;Middle East and Northern Africa;118;4</td></tr><tr><td>Iraq;2023;Middle East and Northern Africa;98;4</td></tr><tr><td>Iraq;2022;Middle East and Northern Africa;107;4</td></tr><tr><td>Iraq;2020;Middle East and Northern Africa;110;4</td></tr><tr><td>Iraq;2021;Middle East and Northern Africa;111;4</td></tr><tr><td>Iraq;2016;Middle East and Northern Africa;112;4</td></tr><tr><td>Iraq;2015;Middle East and Northern Africa;112;4</td></tr><tr><td>Iraq;2017;Middle East and Northern Africa;117;4</td></tr><tr><td>Iraq;2018;Middle East and Northern Africa;117;4</td></tr><tr><td>Iraq;2019;Middle East and Northern Africa;126;4</td></tr><tr><td>Ireland;2022;Western Europe;13;7</td></tr><tr><td>Ireland;2018;Western Europe;14;6</td></tr><tr><td>Ireland;2023;Western Europe;14;6</td></tr><tr><td>Ireland;2017;Western Europe;15;6</td></tr><tr><td>Ireland;2021;Western Europe;15;7</td></tr><tr><td>Ireland;2019;Western Europe;16;7</td></tr><tr><td>Ireland;2020;Western Europe;16;7</td></tr><tr><td>Ireland;2015;Western Europe;18;6</td></tr><tr><td>Ireland;2016;Western Europe;19;6</td></tr><tr><td>Israel;2023;Middle East and Northern Africa;4;7</td></tr><tr><td>Israel;2022;Middle East and Northern Africa;9;7</td></tr><tr><td>Israel;2015;Middle East and Northern Africa;11;7</td></tr><tr><td>Israel;2016;Middle East and Northern Africa;11;7</td></tr><tr><td>Israel;2017;Middle East and Northern Africa;11;7</td></tr><tr><td>Israel;2021;Middle East and Northern Africa;12;7</td></tr><tr><td>Israel;2019;Middle East and Northern Africa;13;7</td></tr><tr><td>Israel;2020;Middle East and Northern Africa;14;7</td></tr><tr><td>Israel;2018;Middle East and Northern Africa;19;6</td></tr><tr><td>Italy;2021;Western Europe;28;6</td></tr><tr><td>Italy;2020;Western Europe;30;6</td></tr><tr><td>Italy;2022;Western Europe;31;6</td></tr><tr><td>Italy;2023;Western Europe;33;6</td></tr><tr><td>Italy;2019;Western Europe;36;6</td></tr><tr><td>Italy;2018;Western Europe;47;6</td></tr><tr><td>Italy;2017;Western Europe;48;5</td></tr><tr><td>Italy;2015;Western Europe;50;5</td></tr><tr><td>Italy;2016;Western Europe;50;5</td></tr><tr><td>Ivory Coast;2020;Sub-Saharan Africa;85;5</td></tr><tr><td>Ivory Coast;2021;Sub-Saharan Africa;85;5</td></tr><tr><td>Ivory Coast;2022;Sub-Saharan Africa;88;5</td></tr><tr><td>Ivory Coast;2023;Sub-Saharan Africa;93;5</td></tr><tr><td>Ivory Coast;2019;Sub-Saharan Africa;99;4</td></tr><tr><td>Ivory Coast;2018;Sub-Saharan Africa;107;4</td></tr><tr><td>Ivory Coast;2017;Sub-Saharan Africa;128;4</td></tr><tr><td>Ivory Coast;2016;Sub-Saharan Africa;139;3</td></tr><tr><td>Ivory Coast;2015;Sub-Saharan Africa;151;3</td></tr><tr><td>Jamaica;2021;Latin America and Caribbean;37;6</td></tr><tr><td>Jamaica;2018;Latin America and Caribbean;56;5</td></tr><tr><td>Jamaica;2019;Latin America and Caribbean;56;5</td></tr><tr><td>Jamaica;2020;Latin America and Caribbean;60;5</td></tr><tr><td>Jamaica;2022;Latin America and Caribbean;63;5</td></tr><tr><td>Jamaica;2015;Latin America and Caribbean;65;5</td></tr><tr><td>Jamaica;2023;Latin America and Caribbean;68;5</td></tr><tr><td>Jamaica;2016;Latin America and Caribbean;73;5</td></tr><tr><td>Jamaica;2017;Latin America and Caribbean;76;5</td></tr><tr><td>Japan;2015;Eastern Asia;46;5</td></tr><tr><td>Japan;2023;Eastern Asia;47;6</td></tr><tr><td>Japan;2017;Eastern Asia;51;5</td></tr><tr><td>Japan;2016;Eastern Asia;53;5</td></tr><tr><td>Japan;2018;Eastern Asia;54;5</td></tr><tr><td>Japan;2022;Eastern Asia;54;6</td></tr><tr><td>Japan;2021;Eastern Asia;56;5</td></tr><tr><td>Japan;2019;Eastern Asia;58;5</td></tr><tr><td>Japan;2020;Eastern Asia;62;5</td></tr><tr><td>Jordan;2017;Middle East and Northern Africa;74;5</td></tr><tr><td>Jordan;2016;Middle East and Northern Africa;80;5</td></tr><tr><td>Jordan;2015;Middle East and Northern Africa;82;5</td></tr><tr><td>Jordan;2018;Middle East and Northern Africa;90;5</td></tr><tr><td>Jordan;2019;Middle East and Northern Africa;101;4</td></tr><tr><td>Jordan;2020;Middle East and Northern Africa;119;4</td></tr><tr><td>Jordan;2023;Middle East and Northern Africa;123;4</td></tr><tr><td>Jordan;2021;Middle East and Northern Africa;127;4</td></tr><tr><td>Jordan;2022;Middle East and Northern Africa;134;4</td></tr><tr><td>Kazakhstan;2022;Central and Eastern Europe;40;6</td></tr><tr><td>Kazakhstan;2023;Central and Eastern Europe;44;6</td></tr><tr><td>Kazakhstan;2021;Central and Eastern Europe;45;6</td></tr><tr><td>Kazakhstan;2020;Central and Eastern Europe;50;6</td></tr><tr><td>Kazakhstan;2015;Central and Eastern Europe;54;5</td></tr><tr><td>Kazakhstan;2016;Central and Eastern Europe;54;5</td></tr><tr><td>Kazakhstan;2017;Central and Eastern Europe;60;5</td></tr><tr><td>Kazakhstan;2018;Central and Eastern Europe;60;5</td></tr><tr><td>Kazakhstan;2019;Central and Eastern Europe;60;5</td></tr><tr><td>Kenya;2023;Sub-Saharan Africa;111;4</td></tr><tr><td>Kenya;2017;Sub-Saharan Africa;112;4</td></tr><tr><td>Kenya;2022;Sub-Saharan Africa;119;4</td></tr><tr><td>Kenya;2019;Sub-Saharan Africa;121;4</td></tr><tr><td>Kenya;2020;Sub-Saharan Africa;121;4</td></tr><tr><td>Kenya;2021;Sub-Saharan Africa;121;4</td></tr><tr><td>Kenya;2016;Sub-Saharan Africa;122;4</td></tr><tr><td>Kenya;2018;Sub-Saharan Africa;124;4</td></tr><tr><td>Kenya;2015;Sub-Saharan Africa;125;4</td></tr><tr><td>Kosovo;2022;Central and Eastern Europe;32;6</td></tr><tr><td>Kosovo;2021;Central and Eastern Europe;33;6</td></tr><tr><td>Kosovo;2023;Central and Eastern Europe;34;6</td></tr><tr><td>Kosovo;2020;Central and Eastern Europe;35;6</td></tr><tr><td>Kosovo;2019;Central and Eastern Europe;46;6</td></tr><tr><td>Kosovo;2018;Central and Eastern Europe;66;5</td></tr><tr><td>Kosovo;2015;Central and Eastern Europe;69;5</td></tr><tr><td>Kosovo;2016;Central and Eastern Europe;77;5</td></tr><tr><td>Kosovo;2017;Central and Eastern Europe;78;5</td></tr><tr><td>Kuwait;2015;Middle East and Northern Africa;39;6</td></tr><tr><td>Kuwait;2017;Middle East and Northern Africa;39;6</td></tr><tr><td>Kuwait;2016;Middle East and Northern Africa;41;6</td></tr><tr><td>Kuwait;2018;Middle East and Northern Africa;45;6</td></tr><tr><td>Kuwait;2021;Middle East and Northern Africa;47;6</td></tr><tr><td>Kuwait;2020;Middle East and Northern Africa;48;6</td></tr><tr><td>Kuwait;2022;Middle East and Northern Africa;50;6</td></tr><tr><td>Kuwait;2019;Middle East and Northern Africa;51;6</td></tr><tr><td>Kyrgyzstan;2023;Central and Eastern Europe;62;5</td></tr><tr><td>Kyrgyzstan;2022;Central and Eastern Europe;64;5</td></tr><tr><td>Kyrgyzstan;2021;Central and Eastern Europe;67;5</td></tr><tr><td>Kyrgyzstan;2020;Central and Eastern Europe;74;5</td></tr><tr><td>Kyrgyzstan;2015;Central and Eastern Europe;77;5</td></tr><tr><td>Kyrgyzstan;2016;Central and Eastern Europe;85;5</td></tr><tr><td>Kyrgyzstan;2019;Central and Eastern Europe;86;5</td></tr><tr><td>Kyrgyzstan;2018;Central and Eastern Europe;92;5</td></tr><tr><td>Kyrgyzstan;2017;Central and Eastern Europe;98;5</td></tr><tr><td>Laos;2023;Southeastern Asia;89;5</td></tr><tr><td>Laos;2022;Southeastern Asia;95;5</td></tr><tr><td>Laos;2015;Southeastern Asia;99;4</td></tr><tr><td>Laos;2021;Southeastern Asia;100;5</td></tr><tr><td>Laos;2016;Southeastern Asia;102;4</td></tr><tr><td>Laos;2020;Southeastern Asia;104;4</td></tr><tr><td>Laos;2019;Southeastern Asia;105;4</td></tr><tr><td>Laos;2018;Southeastern Asia;110;4</td></tr><tr><td>Latvia;2023;Central and Eastern Europe;41;6</td></tr><tr><td>Latvia;2022;Central and Eastern Europe;42;6</td></tr><tr><td>Latvia;2021;Central and Eastern Europe;51;6</td></tr><tr><td>Latvia;2018;Central and Eastern Europe;53;5</td></tr><tr><td>Latvia;2019;Central and Eastern Europe;53;5</td></tr><tr><td>Latvia;2017;Central and Eastern Europe;54;5</td></tr><tr><td>Latvia;2020;Central and Eastern Europe;57;5</td></tr><tr><td>Latvia;2016;Central and Eastern Europe;68;5</td></tr><tr><td>Latvia;2015;Central and Eastern Europe;89;5</td></tr><tr><td>Lebanon;2018;Middle East and Northern Africa;80;5</td></tr><tr><td>Lebanon;2017;Middle East and Northern Africa;88;5</td></tr><tr><td>Lebanon;2019;Middle East and Northern Africa;91;5</td></tr><tr><td>Lebanon;2016;Middle East and Northern Africa;93;5</td></tr><tr><td>Lebanon;2015;Middle East and Northern Africa;103;4</td></tr><tr><td>Lebanon;2020;Middle East and Northern Africa;111;4</td></tr><tr><td>Lebanon;2021;Middle East and Northern Africa;123;4</td></tr><tr><td>Lebanon;2023;Middle East and Northern Africa;136;2</td></tr><tr><td>Lebanon;2022;Middle East and Northern Africa;145;2</td></tr><tr><td>Lesotho;2015;Sub-Saharan Africa;97;4</td></tr><tr><td>Lesotho;2017;Sub-Saharan Africa;139;3</td></tr><tr><td>Lesotho;2018;Sub-Saharan Africa;141;3</td></tr><tr><td>Lesotho;2022;Sub-Saharan Africa;141;3</td></tr><tr><td>Lesotho;2020;Sub-Saharan Africa;143;3</td></tr><tr><td>Lesotho;2019;Sub-Saharan Africa;144;3</td></tr><tr><td>Lesotho;2021;Sub-Saharan Africa;145;3</td></tr><tr><td>Liberia;2022;Sub-Saharan Africa;97;5</td></tr><tr><td>Liberia;2015;Sub-Saharan Africa;116;4</td></tr><tr><td>Liberia;2021;Sub-Saharan Africa;120;4</td></tr><tr><td>Liberia;2020;Sub-Saharan Africa;124;4</td></tr><tr><td>Liberia;2023;Sub-Saharan Africa;125;4</td></tr><tr><td>Liberia;2019;Sub-Saharan Africa;141;3</td></tr><tr><td>Liberia;2017;Sub-Saharan Africa;148;3</td></tr><tr><td>Liberia;2018;Sub-Saharan Africa;149;3</td></tr><tr><td>Liberia;2016;Sub-Saharan Africa;150;3</td></tr><tr><td>Libya;2015;Middle East and Northern Africa;63;5</td></tr><tr><td>Libya;2016;Middle East and Northern Africa;67;5</td></tr><tr><td>Libya;2017;Middle East and Northern Africa;68;5</td></tr><tr><td>Libya;2018;Middle East and Northern Africa;70;5</td></tr><tr><td>Libya;2019;Middle East and Northern Africa;72;5</td></tr><tr><td>Libya;2020;Middle East and Northern Africa;80;5</td></tr><tr><td>Libya;2021;Middle East and Northern Africa;80;5</td></tr><tr><td>Libya;2022;Middle East and Northern Africa;86;5</td></tr><tr><td>Lithuania;2023;Central and Eastern Europe;20;6</td></tr><tr><td>Lithuania;2022;Central and Eastern Europe;34;6</td></tr><tr><td>Lithuania;2021;Central and Eastern Europe;38;6</td></tr><tr><td>Lithuania;2020;Central and Eastern Europe;41;6</td></tr><tr><td>Lithuania;2019;Central and Eastern Europe;42;6</td></tr><tr><td>Lithuania;2018;Central and Eastern Europe;50;5</td></tr><tr><td>Lithuania;2017;Central and Eastern Europe;52;5</td></tr><tr><td>Lithuania;2015;Central and Eastern Europe;56;5</td></tr><tr><td>Lithuania;2016;Central and Eastern Europe;60;5</td></tr><tr><td>Luxembourg;2022;Western Europe;6;7</td></tr><tr><td>Luxembourg;2021;Western Europe;8;7</td></tr><tr><td>Luxembourg;2023;Western Europe;9;7</td></tr><tr><td>Luxembourg;2020;Western Europe;10;7</td></tr><tr><td>Luxembourg;2019;Western Europe;14;7</td></tr><tr><td>Luxembourg;2015;Western Europe;17;6</td></tr><tr><td>Luxembourg;2018;Western Europe;17;6</td></tr><tr><td>Luxembourg;2017;Western Europe;18;6</td></tr><tr><td>Luxembourg;2016;Western Europe;20;6</td></tr><tr><td>Macedonia;2019;Central and Eastern Europe;84;5</td></tr><tr><td>Macedonia;2023;Central and Eastern Europe;87;5</td></tr><tr><td>Macedonia;2018;Central and Eastern Europe;89;5</td></tr><tr><td>Macedonia;2022;Central and Eastern Europe;89;5</td></tr><tr><td>Macedonia;2020;Central and Eastern Europe;90;5</td></tr><tr><td>Macedonia;2017;Central and Eastern Europe;92;5</td></tr><tr><td>Macedonia;2015;Central and Eastern Europe;93;5</td></tr><tr><td>Macedonia;2021;Central and Eastern Europe;94;5</td></tr><tr><td>Macedonia;2016;Central and Eastern Europe;95;5</td></tr><tr><td>Madagascar;2023;Sub-Saharan Africa;127;4</td></tr><tr><td>Madagascar;2022;Sub-Saharan Africa;128;4</td></tr><tr><td>Madagascar;2021;Sub-Saharan Africa;135;4</td></tr><tr><td>Madagascar;2020;Sub-Saharan Africa;137;4</td></tr><tr><td>Madagascar;2018;Sub-Saharan Africa;143;3</td></tr><tr><td>Madagascar;2019;Sub-Saharan Africa;143;3</td></tr><tr><td>Madagascar;2017;Sub-Saharan Africa;144;3</td></tr><tr><td>Madagascar;2015;Sub-Saharan Africa;147;3</td></tr><tr><td>Madagascar;2016;Sub-Saharan Africa;148;3</td></tr><tr><td>Malawi;2023;Sub-Saharan Africa;131;3</td></tr><tr><td>Malawi;2015;Sub-Saharan Africa;131;4</td></tr><tr><td>Malawi;2016;Sub-Saharan Africa;132;4</td></tr><tr><td>Malawi;2017;Sub-Saharan Africa;136;3</td></tr><tr><td>Malawi;2022;Sub-Saharan Africa;138;3</td></tr><tr><td>Malawi;2021;Sub-Saharan Africa;144;3</td></tr><tr><td>Malawi;2020;Sub-Saharan Africa;145;3</td></tr><tr><td>Malawi;2018;Sub-Saharan Africa;147;3</td></tr><tr><td>Malawi;2019;Sub-Saharan Africa;150;3</td></tr><tr><td>Malaysia;2018;Southeastern Asia;35;6</td></tr><tr><td>Malaysia;2017;Southeastern Asia;42;6</td></tr><tr><td>Malaysia;2016;Southeastern Asia;47;6</td></tr><tr><td>Malaysia;2023;Southeastern Asia;55;6</td></tr><tr><td>Malaysia;2015;Southeastern Asia;61;5</td></tr><tr><td>Malaysia;2022;Southeastern Asia;70;5</td></tr><tr><td>Malaysia;2019;Southeastern Asia;80;5</td></tr><tr><td>Malaysia;2021;Southeastern Asia;81;5</td></tr><tr><td>Malaysia;2020;Southeastern Asia;82;5</td></tr><tr><td>Maldives;2020;Eastern Asia;87;5</td></tr><tr><td>Maldives;2021;Southern Asia;89;5</td></tr><tr><td>Mali;2020;Sub-Saharan Africa;114;4</td></tr><tr><td>Mali;2021;Sub-Saharan Africa;117;4</td></tr><tr><td>Mali;2018;Sub-Saharan Africa;118;4</td></tr><tr><td>Mali;2023;Sub-Saharan Africa;120;4</td></tr><tr><td>Mali;2022;Sub-Saharan Africa;123;4</td></tr><tr><td>Mali;2017;Sub-Saharan Africa;127;4</td></tr><tr><td>Mali;2019;Sub-Saharan Africa;128;4</td></tr><tr><td>Mali;2016;Sub-Saharan Africa;135;4</td></tr><tr><td>Mali;2015;Sub-Saharan Africa;138;3</td></tr><tr><td>Malta;2018;Western Europe;22;6</td></tr><tr><td>Malta;2019;Western Europe;22;6</td></tr><tr><td>Malta;2020;Western Europe;22;6</td></tr><tr><td>Malta;2021;Western Europe;23;6</td></tr><tr><td>Malta;2017;Western Europe;27;6</td></tr><tr><td>Malta;2016;Western Europe;30;6</td></tr><tr><td>Malta;2022;Western Europe;33;6</td></tr><tr><td>Malta;2015;Western Europe;37;6</td></tr><tr><td>Malta;2023;Western Europe;37;6</td></tr><tr><td>Mauritania;2023;Sub-Saharan Africa;103;4</td></tr><tr><td>Mauritania;2019;Sub-Saharan Africa;122;4</td></tr><tr><td>Mauritania;2017;Sub-Saharan Africa;123;4</td></tr><tr><td>Mauritania;2015;Sub-Saharan Africa;124;4</td></tr><tr><td>Mauritania;2018;Sub-Saharan Africa;126;4</td></tr><tr><td>Mauritania;2020;Sub-Saharan Africa;129;4</td></tr><tr><td>Mauritania;2016;Sub-Saharan Africa;130;4</td></tr><tr><td>Mauritania;2022;Sub-Saharan Africa;133;4</td></tr><tr><td>Mauritania;2021;Sub-Saharan Africa;134;4</td></tr><tr><td>Mauritius;2020;Sub-Saharan Africa;49;6</td></tr><tr><td>Mauritius;2021;Sub-Saharan Africa;50;6</td></tr><tr><td>Mauritius;2022;Sub-Saharan Africa;52;6</td></tr><tr><td>Mauritius;2018;Sub-Saharan Africa;55;5</td></tr><tr><td>Mauritius;2019;Sub-Saharan Africa;57;5</td></tr><tr><td>Mauritius;2023;Sub-Saharan Africa;59;5</td></tr><tr><td>Mauritius;2017;Sub-Saharan Africa;64;5</td></tr><tr><td>Mauritius;2016;Sub-Saharan Africa;66;5</td></tr><tr><td>Mauritius;2015;Sub-Saharan Africa;71;5</td></tr><tr><td>Mexico;2015;Latin America and Caribbean;14;7</td></tr><tr><td>Mexico;2016;Latin America and Caribbean;21;6</td></tr><tr><td>Mexico;2019;Latin America and Caribbean;23;6</td></tr><tr><td>Mexico;2018;Latin America and Caribbean;24;6</td></tr><tr><td>Mexico;2020;Latin America and Caribbean;24;6</td></tr><tr><td>Mexico;2017;Latin America and Caribbean;25;6</td></tr><tr><td>Mexico;2021;Latin America and Caribbean;36;6</td></tr><tr><td>Mexico;2023;Latin America and Caribbean;36;6</td></tr><tr><td>Mexico;2022;Latin America and Caribbean;46;6</td></tr><tr><td>Moldova;2015;Central and Eastern Europe;52;5</td></tr><tr><td>Moldova;2016;Central and Eastern Europe;55;5</td></tr><tr><td>Moldova;2017;Central and Eastern Europe;56;5</td></tr><tr><td>Moldova;2022;Central and Eastern Europe;62;5</td></tr><tr><td>Moldova;2023;Central and Eastern Europe;63;5</td></tr><tr><td>Moldova;2021;Central and Eastern Europe;65;5</td></tr><tr><td>Moldova;2018;Central and Eastern Europe;67;5</td></tr><tr><td>Moldova;2020;Central and Eastern Europe;70;5</td></tr><tr><td>Moldova;2019;Central and Eastern Europe;71;5</td></tr><tr><td>Mongolia;2023;Eastern Asia;61;5</td></tr><tr><td>Mongolia;2022;Eastern Asia;68;5</td></tr><tr><td>Mongolia;2021;Eastern Asia;70;5</td></tr><tr><td>Mongolia;2020;Eastern Asia;81;5</td></tr><tr><td>Mongolia;2019;Eastern Asia;83;5</td></tr><tr><td>Mongolia;2018;Eastern Asia;94;5</td></tr><tr><td>Mongolia;2017;Eastern Asia;100;4</td></tr><tr><td>Mongolia;2015;Eastern Asia;100;4</td></tr><tr><td>Mongolia;2016;Eastern Asia;101;4</td></tr><tr><td>Montenegro;2023;Central and Eastern Europe;67;5</td></tr><tr><td>Montenegro;2020;Central and Eastern Europe;72;5</td></tr><tr><td>Montenegro;2021;Central and Eastern Europe;72;5</td></tr><tr><td>Montenegro;2019;Central and Eastern Europe;73;5</td></tr><tr><td>Montenegro;2022;Central and Eastern Europe;75;5</td></tr><tr><td>Montenegro;2018;Central and Eastern Europe;81;5</td></tr><tr><td>Montenegro;2015;Central and Eastern Europe;82;5</td></tr><tr><td>Montenegro;2017;Central and Eastern Europe;83;5</td></tr><tr><td>Montenegro;2016;Central and Eastern Europe;88;5</td></tr><tr><td>Morocco;2017;Middle East and Northern Africa;84;5</td></tr><tr><td>Morocco;2018;Middle East and Northern Africa;85;5</td></tr><tr><td>Morocco;2019;Middle East and Northern Africa;89;5</td></tr><tr><td>Morocco;2016;Middle East and Northern Africa;90;5</td></tr><tr><td>Morocco;2015;Middle East and Northern Africa;92;5</td></tr><tr><td>Morocco;2020;Middle East and Northern Africa;97;5</td></tr><tr><td>Morocco;2022;Middle East and Northern Africa;100;5</td></tr><tr><td>Morocco;2023;Middle East and Northern Africa;100;4</td></tr><tr><td>Morocco;2021;Middle East and Northern Africa;106;4</td></tr><tr><td>Mozambique;2015;Sub-Saharan Africa;94;4</td></tr><tr><td>Mozambique;2023;Sub-Saharan Africa;97;4</td></tr><tr><td>Mozambique;2022;Sub-Saharan Africa;101;5</td></tr><tr><td>Mozambique;2017;Sub-Saharan Africa;113;4</td></tr><tr><td>Mozambique;2021;Sub-Saharan Africa;115;4</td></tr><tr><td>Mozambique;2020;Sub-Saharan Africa;120;4</td></tr><tr><td>Mozambique;2018;Sub-Saharan Africa;123;4</td></tr><tr><td>Mozambique;2019;Sub-Saharan Africa;123;4</td></tr><tr><td>Myanmar;2017;Southeastern Asia;114;4</td></tr><tr><td>Myanmar;2023;Southeastern Asia;117;4</td></tr><tr><td>Myanmar;2016;Southeastern Asia;119;4</td></tr><tr><td>Myanmar;2021;Southeastern Asia;126;4</td></tr><tr><td>Myanmar;2022;Southeastern Asia;126;4</td></tr><tr><td>Myanmar;2015;Southeastern Asia;129;4</td></tr><tr><td>Myanmar;2018;Southeastern Asia;130;4</td></tr><tr><td>Myanmar;2019;Southeastern Asia;131;4</td></tr><tr><td>Myanmar;2020;Southeastern Asia;133;4</td></tr><tr><td>Namibia;2023;Sub-Saharan Africa;105;4</td></tr><tr><td>Namibia;2017;Sub-Saharan Africa;111;4</td></tr><tr><td>Namibia;2016;Sub-Saharan Africa;113;4</td></tr><tr><td>Namibia;2019;Sub-Saharan Africa;113;4</td></tr><tr><td>Namibia;2018;Sub-Saharan Africa;119;4</td></tr><tr><td>Namibia;2020;Sub-Saharan Africa;122;4</td></tr><tr><td>Namibia;2021;Sub-Saharan Africa;124;4</td></tr><tr><td>Namibia;2022;Sub-Saharan Africa;124;4</td></tr><tr><td>Nepal;2023;Southern Asia;78;5</td></tr><tr><td>Nepal;2022;Southern Asia;84;5</td></tr><tr><td>Nepal;2021;Southern Asia;87;5</td></tr><tr><td>Nepal;2020;Southern Asia;92;5</td></tr><tr><td>Nepal;2017;Southern Asia;99;4</td></tr><tr><td>Nepal;2019;Southern Asia;100;4</td></tr><tr><td>Nepal;2018;Southern Asia;101;4</td></tr><tr><td>Nepal;2016;Southern Asia;107;4</td></tr><tr><td>Nepal;2015;Southern Asia;121;4</td></tr><tr><td>Netherlands;2019;Western Europe;5;7</td></tr><tr><td>Netherlands;2021;Western Europe;5;7</td></tr><tr><td>Netherlands;2022;Western Europe;5;7</td></tr><tr><td>Netherlands;2023;Western Europe;5;7</td></tr><tr><td>Netherlands;2017;Western Europe;6;7</td></tr><tr><td>Netherlands;2018;Western Europe;6;7</td></tr><tr><td>Netherlands;2020;Western Europe;6;7</td></tr><tr><td>Netherlands;2015;Western Europe;7;7</td></tr><tr><td>Netherlands;2016;Western Europe;7;7</td></tr><tr><td>New Zealand;2016;Australia and New Zealand;8;7</td></tr><tr><td>New Zealand;2017;Australia and New Zealand;8;7</td></tr><tr><td>New Zealand;2018;Australia and New Zealand;8;7</td></tr><tr><td>New Zealand;2019;Australia and New Zealand;8;7</td></tr><tr><td>New Zealand;2020;Australia and New Zealand;8;7</td></tr><tr><td>New Zealand;2015;Australia and New Zealand;9;7</td></tr><tr><td>New Zealand;2021;Australia and New Zealand;9;7</td></tr><tr><td>New Zealand;2022;Australia and New Zealand;10;7</td></tr><tr><td>New Zealand;2023;Australia and New Zealand;10;7</td></tr><tr><td>Nicaragua;2023;Latin America and Caribbean;40;6</td></tr><tr><td>Nicaragua;2018;Latin America and Caribbean;41;6</td></tr><tr><td>Nicaragua;2017;Latin America and Caribbean;43;6</td></tr><tr><td>Nicaragua;2019;Latin America and Caribbean;45;6</td></tr><tr><td>Nicaragua;2022;Latin America and Caribbean;45;6</td></tr><tr><td>Nicaragua;2020;Latin America and Caribbean;46;6</td></tr><tr><td>Nicaragua;2016;Latin America and Caribbean;48;5</td></tr><tr><td>Nicaragua;2021;Latin America and Caribbean;55;5</td></tr><tr><td>Nicaragua;2015;Latin America and Caribbean;57;5</td></tr><tr><td>Niger;2021;Sub-Saharan Africa;96;5</td></tr><tr><td>Niger;2020;Sub-Saharan Africa;103;4</td></tr><tr><td>Niger;2022;Sub-Saharan Africa;104;5</td></tr><tr><td>Niger;2023;Sub-Saharan Africa;109;4</td></tr><tr><td>Niger;2019;Sub-Saharan Africa;114;4</td></tr><tr><td>Niger;2018;Sub-Saharan Africa;134;4</td></tr><tr><td>Niger;2017;Sub-Saharan Africa;135;4</td></tr><tr><td>Niger;2016;Sub-Saharan Africa;142;3</td></tr><tr><td>Niger;2015;Sub-Saharan Africa;144;3</td></tr><tr><td>Nigeria;2015;Sub-Saharan Africa;78;5</td></tr><tr><td>Nigeria;2019;Sub-Saharan Africa;85;5</td></tr><tr><td>Nigeria;2018;Sub-Saharan Africa;91;5</td></tr><tr><td>Nigeria;2017;Sub-Saharan Africa;95;5</td></tr><tr><td>Nigeria;2023;Sub-Saharan Africa;95;4</td></tr><tr><td>Nigeria;2016;Sub-Saharan Africa;103;4</td></tr><tr><td>Nigeria;2020;Sub-Saharan Africa;115;4</td></tr><tr><td>Nigeria;2021;Sub-Saharan Africa;116;4</td></tr><tr><td>Nigeria;2022;Sub-Saharan Africa;118;4</td></tr><tr><td>North Cyprus;2017;Western Europe;61;5</td></tr><tr><td>North Cyprus;2016;Western Europe;62;5</td></tr><tr><td>North Cyprus;2015;Western Europe;66;5</td></tr><tr><td>North Cyprus;2021;Western Europe;74;5</td></tr><tr><td>North Cyprus;2020;Western Europe;76;5</td></tr><tr><td>Norway;2017;Western Europe;1;7</td></tr><tr><td>Norway;2018;Western Europe;2;7</td></tr><tr><td>Norway;2019;Western Europe;3;7</td></tr><tr><td>Norway;2015;Western Europe;4;7</td></tr><tr><td>Norway;2016;Western Europe;4;7</td></tr><tr><td>Norway;2020;Western Europe;5;7</td></tr><tr><td>Norway;2021;Western Europe;6;7</td></tr><tr><td>Norway;2023;Western Europe;7;7</td></tr><tr><td>Norway;2022;Western Europe;8;7</td></tr><tr><td>Oman;2015;Middle East and Northern Africa;22;6</td></tr><tr><td>Pakistan;2020;Southern Asia;66;5</td></tr><tr><td>Pakistan;2019;Southern Asia;67;5</td></tr><tr><td>Pakistan;2018;Southern Asia;75;5</td></tr><tr><td>Pakistan;2017;Southern Asia;80;5</td></tr><tr><td>Pakistan;2015;Southern Asia;81;5</td></tr><tr><td>Pakistan;2016;Southern Asia;92;5</td></tr><tr><td>Pakistan;2021;Southern Asia;105;4</td></tr><tr><td>Pakistan;2023;Southern Asia;108;4</td></tr><tr><td>Pakistan;2022;Southern Asia;121;4</td></tr><tr><td>Palestinian Territories;2023;Middle East and Northern Africa;99;4</td></tr><tr><td>Palestinian Territories;2017;Middle East and Northern Africa;103;4</td></tr><tr><td>Palestinian Territories;2018;Middle East and Northern Africa;104;4</td></tr><tr><td>Palestinian Territories;2015;Middle East and Northern Africa;108;4</td></tr><tr><td>Palestinian Territories;2016;Middle East and Northern Africa;108;4</td></tr><tr><td>Palestinian Territories;2019;Middle East and Northern Africa;110;4</td></tr><tr><td>Palestinian Territories;2022;Middle East and Northern Africa;122;4</td></tr><tr><td>Palestinian Territories;2020;Middle East and Northern Africa;125;4</td></tr><tr><td>Palestinian Territories;2021;Middle East and Northern Africa;125;4</td></tr><tr><td>Panama;2015;Latin America and Caribbean;25;6</td></tr><tr><td>Panama;2016;Latin America and Caribbean;25;6</td></tr><tr><td>Panama;2018;Latin America and Caribbean;27;6</td></tr><tr><td>Panama;2017;Latin America and Caribbean;30;6</td></tr><tr><td>Panama;2019;Latin America and Caribbean;31;6</td></tr><tr><td>Panama;2020;Latin America and Caribbean;36;6</td></tr><tr><td>Panama;2022;Latin America and Caribbean;37;6</td></tr><tr><td>Panama;2023;Latin America and Caribbean;38;6</td></tr><tr><td>Panama;2021;Latin America and Caribbean;41;6</td></tr><tr><td>Paraguay;2015;Latin America and Caribbean;53;5</td></tr><tr><td>Paraguay;2019;Latin America and Caribbean;63;5</td></tr><tr><td>Paraguay;2018;Latin America and Caribbean;64;5</td></tr><tr><td>Paraguay;2023;Latin America and Caribbean;66;5</td></tr><tr><td>Paraguay;2020;Latin America and Caribbean;67;5</td></tr><tr><td>Paraguay;2016;Latin America and Caribbean;70;5</td></tr><tr><td>Paraguay;2017;Latin America and Caribbean;70;5</td></tr><tr><td>Paraguay;2021;Latin America and Caribbean;71;5</td></tr><tr><td>Paraguay;2022;Latin America and Caribbean;73;5</td></tr><tr><td>Peru;2015;Latin America and Caribbean;58;5</td></tr><tr><td>Peru;2017;Latin America and Caribbean;63;5</td></tr><tr><td>Peru;2020;Latin America and Caribbean;63;5</td></tr><tr><td>Peru;2021;Latin America and Caribbean;63;5</td></tr><tr><td>Peru;2016;Latin America and Caribbean;64;5</td></tr><tr><td>Peru;2018;Latin America and Caribbean;65;5</td></tr><tr><td>Peru;2019;Latin America and Caribbean;65;5</td></tr><tr><td>Peru;2022;Latin America and Caribbean;74;5</td></tr><tr><td>Peru;2023;Latin America and Caribbean;75;5</td></tr><tr><td>Philippines;2020;Southeastern Asia;52;6</td></tr><tr><td>Philippines;2022;Southeastern Asia;60;5</td></tr><tr><td>Philippines;2021;Southeastern Asia;61;5</td></tr><tr><td>Philippines;2019;Southeastern Asia;69;5</td></tr><tr><td>Philippines;2018;Southeastern Asia;71;5</td></tr><tr><td>Philippines;2017;Southeastern Asia;72;5</td></tr><tr><td>Philippines;2023;Southeastern Asia;76;5</td></tr><tr><td>Philippines;2016;Southeastern Asia;82;5</td></tr><tr><td>Philippines;2015;Southeastern Asia;90;5</td></tr><tr><td>Poland;2023;Central and Eastern Europe;39;6</td></tr><tr><td>Poland;2019;Central and Eastern Europe;40;6</td></tr><tr><td>Poland;2018;Central and Eastern Europe;42;6</td></tr><tr><td>Poland;2020;Central and Eastern Europe;43;6</td></tr><tr><td>Poland;2021;Central and Eastern Europe;44;6</td></tr><tr><td>Poland;2017;Central and Eastern Europe;46;5</td></tr><tr><td>Poland;2022;Central and Eastern Europe;48;6</td></tr><tr><td>Poland;2016;Central and Eastern Europe;57;5</td></tr><tr><td>Poland;2015;Central and Eastern Europe;60;5</td></tr><tr><td>Portugal;2022;Western Europe;56;6</td></tr><tr><td>Portugal;2023;Western Europe;56;5</td></tr><tr><td>Portugal;2021;Western Europe;58;5</td></tr><tr><td>Portugal;2020;Western Europe;59;5</td></tr><tr><td>Portugal;2019;Western Europe;66;5</td></tr><tr><td>Portugal;2018;Western Europe;77;5</td></tr><tr><td>Portugal;2015;Western Europe;88;5</td></tr><tr><td>Portugal;2017;Western Europe;89;5</td></tr><tr><td>Portugal;2016;Western Europe;94;5</td></tr><tr><td>Puerto Rico;2016;Latin America and Caribbean;15;7</td></tr><tr><td>Qatar;2015;Middle East and Northern Africa;28;6</td></tr><tr><td>Qatar;2019;Middle East and Northern Africa;29;6</td></tr><tr><td>Qatar;2018;Middle East and Northern Africa;32;6</td></tr><tr><td>Qatar;2017;Middle East and Northern Africa;35;6</td></tr><tr><td>Qatar;2016;Middle East and Northern Africa;36;6</td></tr><tr><td>Romania;2023;Central and Eastern Europe;24;6</td></tr><tr><td>Romania;2022;Central and Eastern Europe;28;6</td></tr><tr><td>Romania;2021;Central and Eastern Europe;46;6</td></tr><tr><td>Romania;2020;Central and Eastern Europe;47;6</td></tr><tr><td>Romania;2019;Central and Eastern Europe;48;6</td></tr><tr><td>Romania;2018;Central and Eastern Europe;52;5</td></tr><tr><td>Romania;2017;Central and Eastern Europe;57;5</td></tr><tr><td>Romania;2016;Central and Eastern Europe;71;5</td></tr><tr><td>Romania;2015;Central and Eastern Europe;86;5</td></tr><tr><td>Russia;2017;Central and Eastern Europe;49;5</td></tr><tr><td>Russia;2016;Central and Eastern Europe;56;5</td></tr><tr><td>Russia;2018;Central and Eastern Europe;59;5</td></tr><tr><td>Russia;2015;Central and Eastern Europe;64;5</td></tr><tr><td>Russia;2019;Central and Eastern Europe;68;5</td></tr><tr><td>Russia;2023;Central and Eastern Europe;70;5</td></tr><tr><td>Russia;2020;Central and Eastern Europe;73;5</td></tr><tr><td>Russia;2021;Central and Eastern Europe;76;5</td></tr><tr><td>Russia;2022;Central and Eastern Europe;80;5</td></tr><tr><td>Rwanda;2022;Sub-Saharan Africa;143;3</td></tr><tr><td>Rwanda;2021;Sub-Saharan Africa;147;3</td></tr><tr><td>Rwanda;2020;Sub-Saharan Africa;150;3</td></tr><tr><td>Rwanda;2017;Sub-Saharan Africa;151;3</td></tr><tr><td>Rwanda;2018;Sub-Saharan Africa;151;3</td></tr><tr><td>Rwanda;2016;Sub-Saharan Africa;152;3</td></tr><tr><td>Rwanda;2019;Sub-Saharan Africa;152;3</td></tr><tr><td>Rwanda;2015;Sub-Saharan Africa;154;3</td></tr><tr><td>Saudi Arabia;2022;Middle East and Northern Africa;25;6</td></tr><tr><td>Saudi Arabia;2021;Middle East and Northern Africa;26;6</td></tr><tr><td>Saudi Arabia;2020;Middle East and Northern Africa;27;6</td></tr><tr><td>Saudi Arabia;2019;Middle East and Northern Africa;28;6</td></tr><tr><td>Saudi Arabia;2023;Middle East and Northern Africa;30;6</td></tr><tr><td>Saudi Arabia;2018;Middle East and Northern Africa;33;6</td></tr><tr><td>Saudi Arabia;2016;Middle East and Northern Africa;34;6</td></tr><tr><td>Saudi Arabia;2015;Middle East and Northern Africa;35;6</td></tr><tr><td>Saudi Arabia;2017;Middle East and Northern Africa;37;6</td></tr><tr><td>Senegal;2021;Sub-Saharan Africa;92;5</td></tr><tr><td>Senegal;2020;Sub-Saharan Africa;101;4</td></tr><tr><td>Senegal;2023;Sub-Saharan Africa;102;4</td></tr><tr><td>Senegal;2022;Sub-Saharan Africa;103;5</td></tr><tr><td>Senegal;2018;Sub-Saharan Africa;109;4</td></tr><tr><td>Senegal;2019;Sub-Saharan Africa;111;4</td></tr><tr><td>Senegal;2017;Sub-Saharan Africa;115;4</td></tr><tr><td>Senegal;2016;Sub-Saharan Africa;128;4</td></tr><tr><td>Senegal;2015;Sub-Saharan Africa;142;3</td></tr><tr><td>Serbia;2022;Central and Eastern Europe;43;6</td></tr><tr><td>Serbia;2023;Central and Eastern Europe;45;6</td></tr><tr><td>Serbia;2021;Central and Eastern Europe;48;6</td></tr><tr><td>Serbia;2020;Central and Eastern Europe;64;5</td></tr><tr><td>Serbia;2019;Central and Eastern Europe;70;5</td></tr><tr><td>Serbia;2017;Central and Eastern Europe;73;5</td></tr><tr><td>Serbia;2018;Central and Eastern Europe;78;5</td></tr><tr><td>Serbia;2016;Central and Eastern Europe;86;5</td></tr><tr><td>Serbia;2015;Central and Eastern Europe;87;5</td></tr><tr><td>Sierra Leone;2017;Sub-Saharan Africa;106;4</td></tr><tr><td>Sierra Leone;2016;Sub-Saharan Africa;111;4</td></tr><tr><td>Sierra Leone;2018;Sub-Saharan Africa;113;4</td></tr><tr><td>Sierra Leone;2015;Sub-Saharan Africa;123;4</td></tr><tr><td>Sierra Leone;2019;Sub-Saharan Africa;129;4</td></tr><tr><td>Sierra Leone;2023;Sub-Saharan Africa;135;3</td></tr><tr><td>Sierra Leone;2021;Sub-Saharan Africa;138;3</td></tr><tr><td>Sierra Leone;2020;Sub-Saharan Africa;139;3</td></tr><tr><td>Sierra Leone;2022;Sub-Saharan Africa;140;3</td></tr><tr><td>Singapore;2016;Southeastern Asia;22;6</td></tr><tr><td>Singapore;2015;Southeastern Asia;24;6</td></tr><tr><td>Singapore;2023;Southeastern Asia;25;6</td></tr><tr><td>Singapore;2017;Southeastern Asia;26;6</td></tr><tr><td>Singapore;2022;Southeastern Asia;27;6</td></tr><tr><td>Singapore;2020;Southeastern Asia;31;6</td></tr><tr><td>Singapore;2021;Southeastern Asia;32;6</td></tr><tr><td>Singapore;2018;Southeastern Asia;34;6</td></tr><tr><td>Singapore;2019;Southeastern Asia;34;6</td></tr><tr><td>Slovakia;2023;Central and Eastern Europe;29;6</td></tr><tr><td>Slovakia;2021;Central and Eastern Europe;34;6</td></tr><tr><td>Slovakia;2022;Central and Eastern Europe;35;6</td></tr><tr><td>Slovakia;2020;Central and Eastern Europe;37;6</td></tr><tr><td>Slovakia;2019;Central and Eastern Europe;38;6</td></tr><tr><td>Slovakia;2018;Central and Eastern Europe;39;6</td></tr><tr><td>Slovakia;2017;Central and Eastern Europe;40;6</td></tr><tr><td>Slovakia;2015;Central and Eastern Europe;45;5</td></tr><tr><td>Slovakia;2016;Central and Eastern Europe;45;6</td></tr><tr><td>Slovenia;2022;Central and Eastern Europe;22;6</td></tr><tr><td>Slovenia;2023;Central and Eastern Europe;22;6</td></tr><tr><td>Slovenia;2021;Central and Eastern Europe;29;6</td></tr><tr><td>Slovenia;2020;Central and Eastern Europe;33;6</td></tr><tr><td>Slovenia;2019;Central and Eastern Europe;44;6</td></tr><tr><td>Slovenia;2018;Central and Eastern Europe;51;5</td></tr><tr><td>Slovenia;2015;Central and Eastern Europe;55;5</td></tr><tr><td>Slovenia;2017;Central and Eastern Europe;62;5</td></tr><tr><td>Slovenia;2016;Central and Eastern Europe;63;5</td></tr><tr><td>Somalia;2016;Sub-Saharan Africa;76;5</td></tr><tr><td>Somaliland region;2015;Sub-Saharan Africa;91;5</td></tr><tr><td>Somaliland region;2017;Sub-Saharan Africa;93;5</td></tr><tr><td>Somaliland Region;2016;Sub-Saharan Africa;97;5</td></tr><tr><td>Somaliland region;2018;Sub-Saharan Africa;98;4</td></tr><tr><td>Somaliland region;2019;Sub-Saharan Africa;112;4</td></tr><tr><td>South Africa;2023;Sub-Saharan Africa;85;5</td></tr><tr><td>South Africa;2022;Sub-Saharan Africa;91;5</td></tr><tr><td>South Africa;2017;Sub-Saharan Africa;101;4</td></tr><tr><td>South Africa;2021;Sub-Saharan Africa;103;4</td></tr><tr><td>South Africa;2018;Sub-Saharan Africa;105;4</td></tr><tr><td>South Africa;2019;Sub-Saharan Africa;106;4</td></tr><tr><td>South Africa;2020;Sub-Saharan Africa;109;4</td></tr><tr><td>South Africa;2015;Sub-Saharan Africa;113;4</td></tr><tr><td>South Africa;2016;Sub-Saharan Africa;116;4</td></tr><tr><td>South Korea;2015;Eastern Asia;47;5</td></tr><tr><td>South Korea;2019;Eastern Asia;54;5</td></tr><tr><td>South Korea;2017;Eastern Asia;55;5</td></tr><tr><td>South Korea;2016;Eastern Asia;57;5</td></tr><tr><td>South Korea;2018;Eastern Asia;57;5</td></tr><tr><td>South Korea;2023;Eastern Asia;57;5</td></tr><tr><td>South Korea;2022;Eastern Asia;59;5</td></tr><tr><td>South Korea;2020;Eastern Asia;61;5</td></tr><tr><td>South Korea;2021;Eastern Asia;62;5</td></tr><tr><td>South Sudan;2016;Sub-Saharan Africa;143;3</td></tr><tr><td>South Sudan;2017;Sub-Saharan Africa;147;3</td></tr><tr><td>Spain;2021;Western Europe;27;6</td></tr><tr><td>Spain;2020;Western Europe;28;6</td></tr><tr><td>Spain;2022;Western Europe;29;6</td></tr><tr><td>Spain;2019;Western Europe;30;6</td></tr><tr><td>Spain;2023;Western Europe;32;6</td></tr><tr><td>Spain;2017;Western Europe;34;6</td></tr><tr><td>Spain;2015;Western Europe;36;6</td></tr><tr><td>Spain;2018;Western Europe;36;6</td></tr><tr><td>Spain;2016;Western Europe;37;6</td></tr><tr><td>Sri Lanka;2023;Southern Asia;112;4</td></tr><tr><td>Sri Lanka;2018;Southern Asia;116;4</td></tr><tr><td>Sri Lanka;2016;Southern Asia;117;4</td></tr><tr><td>Sri Lanka;2017;Southern Asia;120;4</td></tr><tr><td>Sri Lanka;2022;Southern Asia;127;4</td></tr><tr><td>Sri Lanka;2021;Southern Asia;129;4</td></tr><tr><td>Sri Lanka;2019;Southern Asia;130;4</td></tr><tr><td>Sri Lanka;2020;Southern Asia;130;4</td></tr><tr><td>Sri Lanka;2015;Southern Asia;132;4</td></tr><tr><td>Sudan;2015;Sub-Saharan Africa;118;4</td></tr><tr><td>Sudan;2017;Sub-Saharan Africa;130;4</td></tr><tr><td>Sudan;2016;Sub-Saharan Africa;133;4</td></tr><tr><td>Sudan;2020;Sub-Saharan Africa;152;2</td></tr><tr><td>Sudan;2018;Sub-Saharan Africa;154;3</td></tr><tr><td>Sudan;2019;Sub-Saharan Africa;156;2</td></tr><tr><td>Suriname;2015;Latin America and Caribbean;40;6</td></tr><tr><td>Suriname;2016;Latin America and Caribbean;40;6</td></tr><tr><td>Swaziland;2015;Sub-Saharan Africa;101;4</td></tr><tr><td>Swaziland;2021;Sub-Saharan Africa;130;4</td></tr><tr><td>Swaziland;2020;Sub-Saharan Africa;132;4</td></tr><tr><td>Swaziland;2019;Sub-Saharan Africa;135;4</td></tr><tr><td>Sweden;2023;Western Europe;6;7</td></tr><tr><td>Sweden;2019;Western Europe;7;7</td></tr><tr><td>Sweden;2020;Western Europe;7;7</td></tr><tr><td>Sweden;2021;Western Europe;7;7</td></tr><tr><td>Sweden;2022;Western Europe;7;7</td></tr><tr><td>Sweden;2015;Western Europe;8;7</td></tr><tr><td>Sweden;2017;Western Europe;9;7</td></tr><tr><td>Sweden;2018;Western Europe;9;7</td></tr><tr><td>Sweden;2016;Western Europe;10;7</td></tr><tr><td>Switzerland;2015;Western Europe;1;7</td></tr><tr><td>Switzerland;2016;Western Europe;2;7</td></tr><tr><td>Switzerland;2020;Western Europe;3;7</td></tr><tr><td>Switzerland;2021;Western Europe;3;7</td></tr><tr><td>Switzerland;2017;Western Europe;4;7</td></tr><tr><td>Switzerland;2022;Western Europe;4;7</td></tr><tr><td>Switzerland;2018;Western Europe;5;7</td></tr><tr><td>Switzerland;2019;Western Europe;6;7</td></tr><tr><td>Switzerland;2023;Western Europe;8;7</td></tr><tr><td>Syria;2019;Middle East and Northern Africa;149;3</td></tr><tr><td>Syria;2018;Middle East and Northern Africa;150;3</td></tr><tr><td>Syria;2017;Middle East and Northern Africa;152;3</td></tr><tr><td>Syria;2016;Middle East and Northern Africa;156;3</td></tr><tr><td>Syria;2015;Middle East and Northern Africa;156;3</td></tr><tr><td>Taiwan;2021;Eastern Asia;24;6</td></tr><tr><td>Taiwan;2019;Eastern Asia;25;6</td></tr><tr><td>Taiwan;2020;Eastern Asia;25;6</td></tr><tr><td>Taiwan;2018;Eastern Asia;26;6</td></tr><tr><td>Taiwan;2022;Eastern Asia;26;6</td></tr><tr><td>Taiwan;2023;Eastern Asia;27;6</td></tr><tr><td>Taiwan;2017;Eastern Asia;33;6</td></tr><tr><td>Taiwan;2016;Eastern Asia;34;6</td></tr><tr><td>Taiwan;2015;Eastern Asia;38;6</td></tr><tr><td>Tajikistan;2020;Central and Eastern Europe;71;5</td></tr><tr><td>Tajikistan;2019;Central and Eastern Europe;74;5</td></tr><tr><td>Tajikistan;2021;Central and Eastern Europe;78;5</td></tr><tr><td>Tajikistan;2023;Central and Eastern Europe;80;5</td></tr><tr><td>Tajikistan;2022;Central and Eastern Europe;83;5</td></tr><tr><td>Tajikistan;2018;Central and Eastern Europe;88;5</td></tr><tr><td>Tajikistan;2017;Central and Eastern Europe;96;5</td></tr><tr><td>Tajikistan;2016;Central and Eastern Europe;100;4</td></tr><tr><td>Tajikistan;2015;Central and Eastern Europe;106;4</td></tr><tr><td>Tanzania;2023;Sub-Saharan Africa;129;3</td></tr><tr><td>Tanzania;2022;Sub-Saharan Africa;139;3</td></tr><tr><td>Tanzania;2021;Sub-Saharan Africa;142;3</td></tr><tr><td>Tanzania;2015;Sub-Saharan Africa;146;3</td></tr><tr><td>Tanzania;2020;Sub-Saharan Africa;148;3</td></tr><tr><td>Tanzania;2016;Sub-Saharan Africa;149;3</td></tr><tr><td>Tanzania;2017;Sub-Saharan Africa;153;3</td></tr><tr><td>Tanzania;2018;Sub-Saharan Africa;153;3</td></tr><tr><td>Tanzania;2019;Sub-Saharan Africa;153;3</td></tr><tr><td>Thailand;2017;Southeastern Asia;32;6</td></tr><tr><td>Thailand;2016;Southeastern Asia;33;6</td></tr><tr><td>Thailand;2015;Southeastern Asia;34;6</td></tr><tr><td>Thailand;2018;Southeastern Asia;46;6</td></tr><tr><td>Thailand;2019;Southeastern Asia;52;6</td></tr><tr><td>Thailand;2020;Southeastern Asia;54;5</td></tr><tr><td>Thailand;2021;Southeastern Asia;54;5</td></tr><tr><td>Thailand;2023;Southeastern Asia;60;5</td></tr><tr><td>Thailand;2022;Southeastern Asia;61;5</td></tr><tr><td>Togo;2023;Sub-Saharan Africa;122;4</td></tr><tr><td>Togo;2020;Sub-Saharan Africa;135;4</td></tr><tr><td>Togo;2022;Sub-Saharan Africa;135;4</td></tr><tr><td>Togo;2021;Sub-Saharan Africa;136;4</td></tr><tr><td>Togo;2018;Sub-Saharan Africa;139;3</td></tr><tr><td>Togo;2019;Sub-Saharan Africa;139;4</td></tr><tr><td>Togo;2017;Sub-Saharan Africa;150;3</td></tr><tr><td>Togo;2016;Sub-Saharan Africa;155;3</td></tr><tr><td>Togo;2015;Sub-Saharan Africa;158;2</td></tr><tr><td>Trinidad and Tobago;2017;Latin America and Caribbean;38;6</td></tr><tr><td>Trinidad and Tobago;2018;Latin America and Caribbean;38;6</td></tr><tr><td>Trinidad and Tobago;2019;Latin America and Caribbean;39;6</td></tr><tr><td>Trinidad and Tobago;2015;Latin America and Caribbean;41;6</td></tr><tr><td>Trinidad and Tobago;2020;Latin America and Caribbean;42;6</td></tr><tr><td>Trinidad and Tobago;2016;Latin America and Caribbean;43;6</td></tr><tr><td>Tunisia;2016;Middle East and Northern Africa;98;5</td></tr><tr><td>Tunisia;2017;Middle East and Northern Africa;102;4</td></tr><tr><td>Tunisia;2015;Middle East and Northern Africa;107;4</td></tr><tr><td>Tunisia;2023;Middle East and Northern Africa;110;4</td></tr><tr><td>Tunisia;2018;Middle East and Northern Africa;111;4</td></tr><tr><td>Tunisia;2022;Middle East and Northern Africa;120;4</td></tr><tr><td>Tunisia;2021;Middle East and Northern Africa;122;4</td></tr><tr><td>Tunisia;2019;Middle East and Northern Africa;124;4</td></tr><tr><td>Tunisia;2020;Middle East and Northern Africa;128;4</td></tr><tr><td>Turkey;2017;Middle East and Northern Africa;69;5</td></tr><tr><td>Turkey;2018;Middle East and Northern Africa;74;5</td></tr><tr><td>Turkey;2015;Middle East and Northern Africa;76;5</td></tr><tr><td>Turkey;2016;Middle East and Northern Africa;78;5</td></tr><tr><td>Turkey;2019;Middle East and Northern Africa;79;5</td></tr><tr><td>Turkey;2020;Middle East and Northern Africa;93;5</td></tr><tr><td>Turkey;2021;Middle East and Northern Africa;104;4</td></tr><tr><td>Turkey;2023;Middle East and Northern Africa;106;4</td></tr><tr><td>Turkey;2022;Middle East and Northern Africa;112;4</td></tr><tr><td>Turkmenistan;2017;Central and Eastern Europe;59;5</td></tr><tr><td>Turkmenistan;2016;Central and Eastern Europe;65;5</td></tr><tr><td>Turkmenistan;2018;Central and Eastern Europe;68;5</td></tr><tr><td>Turkmenistan;2015;Central and Eastern Europe;70;5</td></tr><tr><td>Turkmenistan;2022;Central and Eastern Europe;78;5</td></tr><tr><td>Turkmenistan;2019;Central and Eastern Europe;87;5</td></tr><tr><td>Turkmenistan;2020;Central and Eastern Europe;95;5</td></tr><tr><td>Turkmenistan;2021;Central and Eastern Europe;97;5</td></tr><tr><td>Uganda;2023;Sub-Saharan Africa;113;4</td></tr><tr><td>Uganda;2022;Sub-Saharan Africa;117;4</td></tr><tr><td>Uganda;2021;Sub-Saharan Africa;119;4</td></tr><tr><td>Uganda;2020;Sub-Saharan Africa;126;4</td></tr><tr><td>Uganda;2017;Sub-Saharan Africa;133;4</td></tr><tr><td>Uganda;2018;Sub-Saharan Africa;135;4</td></tr><tr><td>Uganda;2019;Sub-Saharan Africa;136;4</td></tr><tr><td>Uganda;2015;Sub-Saharan Africa;141;3</td></tr><tr><td>Uganda;2016;Sub-Saharan Africa;145;3</td></tr><tr><td>Ukraine;2023;Central and Eastern Europe;92;5</td></tr><tr><td>Ukraine;2022;Central and Eastern Europe;98;5</td></tr><tr><td>Ukraine;2021;Central and Eastern Europe;110;4</td></tr><tr><td>Ukraine;2015;Central and Eastern Europe;111;4</td></tr><tr><td>Ukraine;2016;Central and Eastern Europe;123;4</td></tr><tr><td>Ukraine;2020;Central and Eastern Europe;123;4</td></tr><tr><td>Ukraine;2017;Central and Eastern Europe;132;4</td></tr><tr><td>Ukraine;2019;Central and Eastern Europe;133;4</td></tr><tr><td>Ukraine;2018;Central and Eastern Europe;138;4</td></tr><tr><td>United Arab Emirates;2015;Middle East and Northern Africa;20;6</td></tr><tr><td>United Arab Emirates;2017;Middle East and Northern Africa;21;6</td></tr><tr><td>United Arab Emirates;2019;Middle East and Northern Africa;21;6</td></tr><tr><td>United Arab Emirates;2020;Middle East and Northern Africa;21;6</td></tr><tr><td>United Arab Emirates;2022;Middle East and Northern Africa;24;6</td></tr><tr><td>United Arab Emirates;2021;Middle East and Northern Africa;25;6</td></tr><tr><td>United Arab Emirates;2023;Middle East and Northern Africa;26;6</td></tr><tr><td>United Arab Emirates;2016;Middle East and Northern Africa;28;6</td></tr><tr><td>United Kingdom;2018;Western Europe;11;7</td></tr><tr><td>United Kingdom;2020;Western Europe;13;7</td></tr><tr><td>United Kingdom;2019;Western Europe;15;7</td></tr><tr><td>United Kingdom;2021;Western Europe;17;7</td></tr><tr><td>United Kingdom;2022;Western Europe;17;6</td></tr><tr><td>United Kingdom;2017;Western Europe;19;6</td></tr><tr><td>United Kingdom;2023;Western Europe;19;6</td></tr><tr><td>United Kingdom;2015;Western Europe;21;6</td></tr><tr><td>United Kingdom;2016;Western Europe;23;6</td></tr><tr><td>United States;2016;North America;13;7</td></tr><tr><td>United States;2017;North America;14;6</td></tr><tr><td>United States;2015;North America;15;7</td></tr><tr><td>United States;2023;North America;15;6</td></tr><tr><td>United States;2022;North America;16;6</td></tr><tr><td>United States;2018;North America;18;6</td></tr><tr><td>United States;2020;North America;18;6</td></tr><tr><td>United States;2019;North America;19;6</td></tr><tr><td>United States;2021;North America;19;6</td></tr><tr><td>Uruguay;2020;Latin America and Caribbean;26;6</td></tr><tr><td>Uruguay;2017;Latin America and Caribbean;28;6</td></tr><tr><td>Uruguay;2023;Latin America and Caribbean;28;6</td></tr><tr><td>Uruguay;2016;Latin America and Caribbean;29;6</td></tr><tr><td>Uruguay;2022;Latin America and Caribbean;30;6</td></tr><tr><td>Uruguay;2018;Latin America and Caribbean;31;6</td></tr><tr><td>Uruguay;2021;Latin America and Caribbean;31;6</td></tr><tr><td>Uruguay;2015;Latin America and Caribbean;32;6</td></tr><tr><td>Uruguay;2019;Latin America and Caribbean;33;6</td></tr><tr><td>Uzbekistan;2020;Central and Eastern Europe;38;6</td></tr><tr><td>Uzbekistan;2019;Central and Eastern Europe;41;6</td></tr><tr><td>Uzbekistan;2021;Central and Eastern Europe;42;6</td></tr><tr><td>Uzbekistan;2015;Central and Eastern Europe;44;6</td></tr><tr><td>Uzbekistan;2018;Central and Eastern Europe;44;6</td></tr><tr><td>Uzbekistan;2017;Central and Eastern Europe;47;5</td></tr><tr><td>Uzbekistan;2016;Central and Eastern Europe;49;5</td></tr><tr><td>Uzbekistan;2022;Central and Eastern Europe;53;6</td></tr><tr><td>Uzbekistan;2023;Central and Eastern Europe;54;6</td></tr><tr><td>Venezuela;2015;Latin America and Caribbean;23;6</td></tr><tr><td>Venezuela;2016;Latin America and Caribbean;44;6</td></tr><tr><td>Venezuela;2017;Latin America and Caribbean;82;5</td></tr><tr><td>Venezuela;2023;Latin America and Caribbean;88;5</td></tr><tr><td>Venezuela;2020;Latin America and Caribbean;99;5</td></tr><tr><td>Venezuela;2018;Latin America and Caribbean;102;4</td></tr><tr><td>Venezuela;2021;Latin America and Caribbean;107;4</td></tr><tr><td>Venezuela;2019;Latin America and Caribbean;108;4</td></tr><tr><td>Venezuela;2022;Latin America and Caribbean;108;4</td></tr><tr><td>Vietnam;2023;Southeastern Asia;65;5</td></tr><tr><td>Vietnam;2015;Southeastern Asia;75;5</td></tr><tr><td>Vietnam;2022;Southeastern Asia;77;5</td></tr><tr><td>Vietnam;2021;Southeastern Asia;79;5</td></tr><tr><td>Vietnam;2020;Southeastern Asia;83;5</td></tr><tr><td>Vietnam;2017;Southeastern Asia;94;5</td></tr><tr><td>Vietnam;2019;Southeastern Asia;94;5</td></tr><tr><td>Vietnam;2018;Southeastern Asia;95;5</td></tr><tr><td>Vietnam;2016;Southeastern Asia;96;5</td></tr><tr><td>Yemen;2022;Middle East and Northern Africa;132;4</td></tr><tr><td>Yemen;2015;Middle East and Northern Africa;136;4</td></tr><tr><td>Yemen;2021;Middle East and Northern Africa;141;3</td></tr><tr><td>Yemen;2017;Middle East and Northern Africa;146;3</td></tr><tr><td>Yemen;2020;Middle East and Northern Africa;146;3</td></tr><tr><td>Yemen;2016;Middle East and Northern Africa;147;3</td></tr><tr><td>Yemen;2019;Middle East and Northern Africa;151;3</td></tr><tr><td>Yemen;2018;Middle East and Northern Africa;152;3</td></tr><tr><td>Zambia;2015;Sub-Saharan Africa;85;5</td></tr><tr><td>Zambia;2016;Sub-Saharan Africa;106;4</td></tr><tr><td>Zambia;2017;Sub-Saharan Africa;116;4</td></tr><tr><td>Zambia;2018;Sub-Saharan Africa;125;4</td></tr><tr><td>Zambia;2023;Sub-Saharan Africa;128;3</td></tr><tr><td>Zambia;2021;Sub-Saharan Africa;137;4</td></tr><tr><td>Zambia;2022;Sub-Saharan Africa;137;3</td></tr><tr><td>Zambia;2019;Sub-Saharan Africa;138;4</td></tr><tr><td>Zambia;2020;Sub-Saharan Africa;141;3</td></tr><tr><td>Zimbabwe;2015;Sub-Saharan Africa;115;4</td></tr><tr><td>Zimbabwe;2016;Sub-Saharan Africa;131;4</td></tr><tr><td>Zimbabwe;2023;Sub-Saharan Africa;134;3</td></tr><tr><td>Zimbabwe;2017;Sub-Saharan Africa;138;3</td></tr><tr><td>Zimbabwe;2018;Sub-Saharan Africa;144;3</td></tr><tr><td>Zimbabwe;2022;Sub-Saharan Africa;144;2</td></tr><tr><td>Zimbabwe;2019;Sub-Saharan Africa;146;3</td></tr><tr><td>Zimbabwe;2021;Sub-Saharan Africa;148;3</td></tr><tr><td>Zimbabwe;2020;Sub-Saharan Africa;151;3</td></tr></tbody></table></div>"
      ]
     },
     "metadata": {
      "application/vnd.databricks.v1+output": {
       "addedWidgets": {},
       "aggData": [],
       "aggError": "",
       "aggOverflow": false,
       "aggSchema": [],
       "aggSeriesLimitReached": false,
       "aggType": "",
       "arguments": {},
       "columnCustomDisplayInfos": {},
       "data": [
        [
         "Afghanistan;2023;Southern Asia;137;1"
        ],
        [
         "Afghanistan;2017;Southern Asia;141;3"
        ],
        [
         "Afghanistan;2018;Southern Asia;145;3"
        ],
        [
         "Afghanistan;2022;Southern Asia;146;2"
        ],
        [
         "Afghanistan;2021;Southern Asia;149;2"
        ],
        [
         "Afghanistan;2020;Southern Asia;153;2"
        ],
        [
         "Afghanistan;2015;Southern Asia;153;3"
        ],
        [
         "Afghanistan;2016;Southern Asia;154;3"
        ],
        [
         "Afghanistan;2019;Southern Asia;154;3"
        ],
        [
         "Albania;2023;Central and Eastern Europe;83;5"
        ],
        [
         "Albania;2022;Central and Eastern Europe;90;5"
        ],
        [
         "Albania;2021;Central and Eastern Europe;93;5"
        ],
        [
         "Albania;2015;Central and Eastern Europe;95;4"
        ],
        [
         "Albania;2020;Central and Eastern Europe;105;4"
        ],
        [
         "Albania;2019;Central and Eastern Europe;107;4"
        ],
        [
         "Albania;2016;Central and Eastern Europe;109;4"
        ],
        [
         "Albania;2017;Central and Eastern Europe;109;4"
        ],
        [
         "Albania;2018;Central and Eastern Europe;112;4"
        ],
        [
         "Algeria;2016;Middle East and Northern Africa;38;6"
        ],
        [
         "Algeria;2017;Middle East and Northern Africa;53;5"
        ],
        [
         "Algeria;2015;Middle East and Northern Africa;68;5"
        ],
        [
         "Algeria;2023;Middle East and Northern Africa;81;5"
        ],
        [
         "Algeria;2018;Middle East and Northern Africa;84;5"
        ],
        [
         "Algeria;2019;Middle East and Northern Africa;88;5"
        ],
        [
         "Algeria;2022;Middle East and Northern Africa;96;5"
        ],
        [
         "Algeria;2020;Middle East and Northern Africa;100;5"
        ],
        [
         "Algeria;2021;Middle East and Northern Africa;109;4"
        ],
        [
         "Angola;2015;Sub-Saharan Africa;137;4"
        ],
        [
         "Angola;2017;Sub-Saharan Africa;140;3"
        ],
        [
         "Angola;2016;Sub-Saharan Africa;141;3"
        ],
        [
         "Angola;2018;Sub-Saharan Africa;142;3"
        ],
        [
         "Argentina;2017;Latin America and Caribbean;24;6"
        ],
        [
         "Argentina;2016;Latin America and Caribbean;26;6"
        ],
        [
         "Argentina;2018;Latin America and Caribbean;29;6"
        ],
        [
         "Argentina;2015;Latin America and Caribbean;30;6"
        ],
        [
         "Argentina;2019;Latin America and Caribbean;47;6"
        ],
        [
         "Argentina;2023;Latin America and Caribbean;52;6"
        ],
        [
         "Argentina;2020;Latin America and Caribbean;55;5"
        ],
        [
         "Argentina;2021;Latin America and Caribbean;57;5"
        ],
        [
         "Argentina;2022;Latin America and Caribbean;57;5"
        ],
        [
         "Armenia;2023;Central and Eastern Europe;79;5"
        ],
        [
         "Armenia;2022;Central and Eastern Europe;82;5"
        ],
        [
         "Armenia;2021;Central and Eastern Europe;86;5"
        ],
        [
         "Armenia;2019;Central and Eastern Europe;116;4"
        ],
        [
         "Armenia;2020;Central and Eastern Europe;116;4"
        ],
        [
         "Armenia;2016;Central and Eastern Europe;121;4"
        ],
        [
         "Armenia;2017;Central and Eastern Europe;121;4"
        ],
        [
         "Armenia;2015;Central and Eastern Europe;127;4"
        ],
        [
         "Armenia;2018;Central and Eastern Europe;129;4"
        ],
        [
         "Australia;2016;Australia and New Zealand;9;7"
        ],
        [
         "Australia;2017;Australia and New Zealand;10;7"
        ],
        [
         "Australia;2018;Australia and New Zealand;10;7"
        ],
        [
         "Australia;2015;Australia and New Zealand;10;7"
        ],
        [
         "Australia;2019;Australia and New Zealand;11;7"
        ],
        [
         "Australia;2021;Australia and New Zealand;11;7"
        ],
        [
         "Australia;2020;Australia and New Zealand;12;7"
        ],
        [
         "Australia;2022;Australia and New Zealand;12;7"
        ],
        [
         "Australia;2023;Australia and New Zealand;12;7"
        ],
        [
         "Austria;2020;Western Europe;9;7"
        ],
        [
         "Austria;2019;Western Europe;10;7"
        ],
        [
         "Austria;2021;Western Europe;10;7"
        ],
        [
         "Austria;2022;Western Europe;11;7"
        ],
        [
         "Austria;2023;Western Europe;11;7"
        ],
        [
         "Austria;2016;Western Europe;12;7"
        ],
        [
         "Austria;2018;Western Europe;12;7"
        ],
        [
         "Austria;2017;Western Europe;13;7"
        ],
        [
         "Austria;2015;Western Europe;13;7"
        ],
        [
         "Azerbaijan;2015;Central and Eastern Europe;80;5"
        ],
        [
         "Azerbaijan;2016;Central and Eastern Europe;81;5"
        ],
        [
         "Azerbaijan;2017;Central and Eastern Europe;85;5"
        ],
        [
         "Azerbaijan;2018;Central and Eastern Europe;87;5"
        ],
        [
         "Azerbaijan;2020;Central and Eastern Europe;89;5"
        ],
        [
         "Azerbaijan;2019;Central and Eastern Europe;90;5"
        ],
        [
         "Azerbaijan;2021;Central and Eastern Europe;90;5"
        ],
        [
         "Azerbaijan;2022;Central and Eastern Europe;92;5"
        ],
        [
         "Bahrain;2022;Middle East and Northern Africa;21;6"
        ],
        [
         "Bahrain;2021;Middle East and Northern Africa;22;6"
        ],
        [
         "Bahrain;2019;Middle East and Northern Africa;37;6"
        ],
        [
         "Bahrain;2020;Middle East and Northern Africa;40;6"
        ],
        [
         "Bahrain;2017;Middle East and Northern Africa;41;6"
        ],
        [
         "Bahrain;2016;Middle East and Northern Africa;42;6"
        ],
        [
         "Bahrain;2023;Middle East and Northern Africa;42;6"
        ],
        [
         "Bahrain;2018;Middle East and Northern Africa;43;6"
        ],
        [
         "Bahrain;2015;Middle East and Northern Africa;49;5"
        ],
        [
         "Bangladesh;2022;Southern Asia;94;5"
        ],
        [
         "Bangladesh;2021;Southern Asia;101;5"
        ],
        [
         "Bangladesh;2020;Southern Asia;107;4"
        ],
        [
         "Bangladesh;2015;Southern Asia;109;4"
        ],
        [
         "Bangladesh;2016;Southern Asia;110;4"
        ],
        [
         "Bangladesh;2017;Southern Asia;110;4"
        ],
        [
         "Bangladesh;2018;Southern Asia;115;4"
        ],
        [
         "Bangladesh;2023;Southern Asia;118;4"
        ],
        [
         "Bangladesh;2019;Southern Asia;125;4"
        ],
        [
         "Belarus;2015;Central and Eastern Europe;59;5"
        ],
        [
         "Belarus;2016;Central and Eastern Europe;61;5"
        ],
        [
         "Belarus;2022;Central and Eastern Europe;65;5"
        ],
        [
         "Belarus;2017;Central and Eastern Europe;67;5"
        ],
        [
         "Belarus;2018;Central and Eastern Europe;73;5"
        ],
        [
         "Belarus;2020;Central and Eastern Europe;75;5"
        ],
        [
         "Belarus;2021;Central and Eastern Europe;75;5"
        ],
        [
         "Belarus;2019;Central and Eastern Europe;81;5"
        ],
        [
         "Belgium;2018;Western Europe;16;6"
        ],
        [
         "Belgium;2017;Western Europe;17;6"
        ],
        [
         "Belgium;2023;Western Europe;17;6"
        ],
        [
         "Belgium;2016;Western Europe;18;6"
        ],
        [
         "Belgium;2019;Western Europe;18;6"
        ],
        [
         "Belgium;2022;Western Europe;19;6"
        ],
        [
         "Belgium;2015;Western Europe;19;6"
        ],
        [
         "Belgium;2020;Western Europe;20;6"
        ],
        [
         "Belgium;2021;Western Europe;20;6"
        ],
        [
         "Belize;2018;Latin America and Caribbean;49;5"
        ],
        [
         "Belize;2017;Latin America and Caribbean;50;5"
        ],
        [
         "Belize;2016;Latin America and Caribbean;52;5"
        ],
        [
         "Benin;2020;Sub-Saharan Africa;86;5"
        ],
        [
         "Benin;2021;Sub-Saharan Africa;99;5"
        ],
        [
         "Benin;2019;Sub-Saharan Africa;102;4"
        ],
        [
         "Benin;2022;Sub-Saharan Africa;115;4"
        ],
        [
         "Benin;2023;Sub-Saharan Africa;116;4"
        ],
        [
         "Benin;2018;Sub-Saharan Africa;136;4"
        ],
        [
         "Benin;2017;Sub-Saharan Africa;143;3"
        ],
        [
         "Benin;2016;Sub-Saharan Africa;153;3"
        ],
        [
         "Benin;2015;Sub-Saharan Africa;155;3"
        ],
        [
         "Bhutan;2015;Southern Asia;79;5"
        ],
        [
         "Bhutan;2016;Southern Asia;84;5"
        ],
        [
         "Bhutan;2019;Southern Asia;95;5"
        ],
        [
         "Bhutan;2017;Southern Asia;97;5"
        ],
        [
         "Bhutan;2018;Southern Asia;97;5"
        ],
        [
         "Bolivia;2015;Latin America and Caribbean;51;5"
        ],
        [
         "Bolivia;2017;Latin America and Caribbean;58;5"
        ],
        [
         "Bolivia;2016;Latin America and Caribbean;59;5"
        ],
        [
         "Bolivia;2019;Latin America and Caribbean;61;5"
        ],
        [
         "Bolivia;2018;Latin America and Caribbean;62;5"
        ],
        [
         "Bolivia;2020;Latin America and Caribbean;65;5"
        ],
        [
         "Bolivia;2021;Latin America and Caribbean;69;5"
        ],
        [
         "Bolivia;2023;Latin America and Caribbean;69;5"
        ],
        [
         "Bolivia;2022;Latin America and Caribbean;71;5"
        ],
        [
         "Bosnia and Herzegovina;2021;Central and Eastern Europe;64;5"
        ],
        [
         "Bosnia and Herzegovina;2022;Central and Eastern Europe;67;5"
        ],
        [
         "Bosnia and Herzegovina;2020;Central and Eastern Europe;69;5"
        ],
        [
         "Bosnia and Herzegovina;2023;Central and Eastern Europe;71;5"
        ],
        [
         "Bosnia and Herzegovina;2019;Central and Eastern Europe;78;5"
        ],
        [
         "Bosnia and Herzegovina;2016;Central and Eastern Europe;87;5"
        ],
        [
         "Bosnia and Herzegovina;2017;Central and Eastern Europe;90;5"
        ],
        [
         "Bosnia and Herzegovina;2018;Central and Eastern Europe;93;5"
        ],
        [
         "Bosnia and Herzegovina;2015;Central and Eastern Europe;96;4"
        ],
        [
         "Botswana;2015;Sub-Saharan Africa;128;4"
        ],
        [
         "Botswana;2023;Sub-Saharan Africa;132;3"
        ],
        [
         "Botswana;2016;Sub-Saharan Africa;137;3"
        ],
        [
         "Botswana;2017;Sub-Saharan Africa;142;3"
        ],
        [
         "Botswana;2022;Sub-Saharan Africa;142;3"
        ],
        [
         "Botswana;2018;Sub-Saharan Africa;146;3"
        ],
        [
         "Botswana;2021;Sub-Saharan Africa;146;3"
        ],
        [
         "Botswana;2020;Sub-Saharan Africa;147;3"
        ],
        [
         "Botswana;2019;Sub-Saharan Africa;148;3"
        ],
        [
         "Brazil;2015;Latin America and Caribbean;16;6"
        ],
        [
         "Brazil;2016;Latin America and Caribbean;17;6"
        ],
        [
         "Brazil;2017;Latin America and Caribbean;22;6"
        ],
        [
         "Brazil;2018;Latin America and Caribbean;28;6"
        ],
        [
         "Brazil;2019;Latin America and Caribbean;32;6"
        ],
        [
         "Brazil;2020;Latin America and Caribbean;32;6"
        ],
        [
         "Brazil;2021;Latin America and Caribbean;35;6"
        ],
        [
         "Brazil;2022;Latin America and Caribbean;38;6"
        ],
        [
         "Brazil;2023;Latin America and Caribbean;49;6"
        ],
        [
         "Bulgaria;2023;Central and Eastern Europe;77;5"
        ],
        [
         "Bulgaria;2022;Central and Eastern Europe;85;5"
        ],
        [
         "Bulgaria;2021;Central and Eastern Europe;88;5"
        ],
        [
         "Bulgaria;2020;Central and Eastern Europe;96;5"
        ],
        [
         "Bulgaria;2019;Central and Eastern Europe;97;5"
        ],
        [
         "Bulgaria;2018;Central and Eastern Europe;100;4"
        ],
        [
         "Bulgaria;2017;Central and Eastern Europe;105;4"
        ],
        [
         "Bulgaria;2016;Central and Eastern Europe;129;4"
        ],
        [
         "Bulgaria;2015;Central and Eastern Europe;134;4"
        ],
        [
         "Burkina Faso;2023;Sub-Saharan Africa;104;4"
        ],
        [
         "Burkina Faso;2020;Sub-Saharan Africa;112;4"
        ],
        [
         "Burkina Faso;2021;Sub-Saharan Africa;113;4"
        ],
        [
         "Burkina Faso;2022;Sub-Saharan Africa;113;4"
        ],
        [
         "Burkina Faso;2019;Sub-Saharan Africa;115;4"
        ],
        [
         "Burkina Faso;2018;Sub-Saharan Africa;121;4"
        ],
        [
         "Burkina Faso;2017;Sub-Saharan Africa;134;4"
        ],
        [
         "Burkina Faso;2016;Sub-Saharan Africa;145;3"
        ],
        [
         "Burkina Faso;2015;Sub-Saharan Africa;152;3"
        ],
        [
         "Burundi;2020;Sub-Saharan Africa;140;3"
        ],
        [
         "Burundi;2021;Sub-Saharan Africa;140;3"
        ],
        [
         "Burundi;2019;Sub-Saharan Africa;145;3"
        ],
        [
         "Burundi;2017;Sub-Saharan Africa;154;2"
        ],
        [
         "Burundi;2018;Sub-Saharan Africa;156;2"
        ],
        [
         "Burundi;2016;Sub-Saharan Africa;157;2"
        ],
        [
         "Burundi;2015;Sub-Saharan Africa;157;2"
        ],
        [
         "Cambodia;2020;Southeastern Asia;106;4"
        ],
        [
         "Cambodia;2019;Southeastern Asia;109;4"
        ],
        [
         "Cambodia;2021;Southeastern Asia;114;4"
        ],
        [
         "Cambodia;2022;Southeastern Asia;114;4"
        ],
        [
         "Cambodia;2023;Southeastern Asia;115;4"
        ],
        [
         "Cambodia;2018;Southeastern Asia;120;4"
        ],
        [
         "Cambodia;2017;Southeastern Asia;129;4"
        ],
        [
         "Cambodia;2016;Southeastern Asia;140;3"
        ],
        [
         "Cambodia;2015;Southeastern Asia;145;3"
        ],
        [
         "Cameroon;2021;Sub-Saharan Africa;91;5"
        ],
        [
         "Cameroon;2019;Sub-Saharan Africa;96;5"
        ],
        [
         "Cameroon;2023;Sub-Saharan Africa;96;4"
        ],
        [
         "Cameroon;2020;Sub-Saharan Africa;98;5"
        ],
        [
         "Cameroon;2018;Sub-Saharan Africa;99;4"
        ],
        [
         "Cameroon;2022;Sub-Saharan Africa;102;5"
        ],
        [
         "Cameroon;2017;Sub-Saharan Africa;107;4"
        ],
        [
         "Cameroon;2016;Sub-Saharan Africa;114;4"
        ],
        [
         "Cameroon;2015;Sub-Saharan Africa;133;4"
        ],
        [
         "Canada;2015;North America;5;7"
        ],
        [
         "Canada;2016;North America;6;7"
        ],
        [
         "Canada;2017;North America;7;7"
        ],
        [
         "Canada;2018;North America;7;7"
        ],
        [
         "Canada;2019;North America;9;7"
        ],
        [
         "Canada;2020;North America;11;7"
        ],
        [
         "Canada;2023;North America;13;6"
        ],
        [
         "Canada;2021;North America;14;7"
        ],
        [
         "Canada;2022;North America;15;7"
        ],
        [
         "Central African Republic;2015;Sub-Saharan Africa;148;3"
        ],
        [
         "Central African Republic;2020;Sub-Saharan Africa;149;3"
        ],
        [
         "Central African Republic;2017;Sub-Saharan Africa;155;2"
        ],
        [
         "Central African Republic;2018;Sub-Saharan Africa;155;3"
        ],
        [
         "Central African Republic;2019;Sub-Saharan Africa;155;3"
        ],
        [
         "Chad;2023;Sub-Saharan Africa;114;4"
        ],
        [
         "Chad;2020;Sub-Saharan Africa;127;4"
        ],
        [
         "Chad;2021;Sub-Saharan Africa;128;4"
        ],
        [
         "Chad;2022;Sub-Saharan Africa;130;4"
        ],
        [
         "Chad;2018;Sub-Saharan Africa;131;4"
        ],
        [
         "Chad;2019;Sub-Saharan Africa;132;4"
        ],
        [
         "Chad;2017;Sub-Saharan Africa;137;3"
        ],
        [
         "Chad;2016;Sub-Saharan Africa;144;3"
        ],
        [
         "Chad;2015;Sub-Saharan Africa;149;3"
        ],
        [
         "Chile;2017;Latin America and Caribbean;20;6"
        ],
        [
         "Chile;2016;Latin America and Caribbean;24;6"
        ],
        [
         "Chile;2018;Latin America and Caribbean;25;6"
        ],
        [
         "Chile;2019;Latin America and Caribbean;26;6"
        ],
        [
         "Chile;2015;Latin America and Caribbean;27;6"
        ],
        [
         "Chile;2023;Latin America and Caribbean;35;6"
        ],
        [
         "Chile;2020;Latin America and Caribbean;39;6"
        ],
        [
         "Chile;2021;Latin America and Caribbean;43;6"
        ],
        [
         "Chile;2022;Latin America and Caribbean;44;6"
        ],
        [
         "China;2023;Eastern Asia;64;5"
        ],
        [
         "China;2022;Eastern Asia;72;5"
        ],
        [
         "China;2017;Eastern Asia;79;5"
        ],
        [
         "China;2016;Eastern Asia;83;5"
        ],
        [
         "China;2021;Eastern Asia;84;5"
        ],
        [
         "China;2015;Eastern Asia;84;5"
        ],
        [
         "China;2018;Eastern Asia;86;5"
        ],
        [
         "China;2019;Eastern Asia;93;5"
        ],
        [
         "China;2020;Eastern Asia;94;5"
        ],
        [
         "Colombia;2016;Latin America and Caribbean;31;6"
        ],
        [
         "Colombia;2015;Latin America and Caribbean;33;6"
        ],
        [
         "Colombia;2017;Latin America and Caribbean;36;6"
        ],
        [
         "Colombia;2018;Latin America and Caribbean;37;6"
        ],
        [
         "Colombia;2019;Latin America and Caribbean;43;6"
        ],
        [
         "Colombia;2020;Latin America and Caribbean;44;6"
        ],
        [
         "Colombia;2021;Latin America and Caribbean;52;6"
        ],
        [
         "Colombia;2022;Latin America and Caribbean;66;5"
        ],
        [
         "Colombia;2023;Latin America and Caribbean;72;5"
        ],
        [
         "Comoros;2022;Sub-Saharan Africa;116;4"
        ],
        [
         "Comoros;2023;Sub-Saharan Africa;130;3"
        ],
        [
         "Comoros;2021;Sub-Saharan Africa;131;4"
        ],
        [
         "Comoros;2020;Sub-Saharan Africa;134;4"
        ],
        [
         "Comoros;2016;Sub-Saharan Africa;138;3"
        ],
        [
         "Comoros;2015;Sub-Saharan Africa;140;3"
        ],
        [
         "Comoros;2019;Sub-Saharan Africa;142;3"
        ],
        [
         "Congo (Brazzaville);2021;Sub-Saharan Africa;83;5"
        ],
        [
         "Congo (Brazzaville);2023;Sub-Saharan Africa;86;5"
        ],
        [
         "Congo (Brazzaville);2020;Sub-Saharan Africa;88;5"
        ],
        [
         "Congo (Brazzaville);2022;Sub-Saharan Africa;99;5"
        ],
        [
         "Congo (Brazzaville);2019;Sub-Saharan Africa;103;4"
        ],
        [
         "Congo (Brazzaville);2018;Sub-Saharan Africa;114;4"
        ],
        [
         "Congo (Brazzaville);2017;Sub-Saharan Africa;124;4"
        ],
        [
         "Congo (Brazzaville);2016;Sub-Saharan Africa;127;4"
        ],
        [
         "Congo (Brazzaville);2015;Sub-Saharan Africa;139;3"
        ],
        [
         "Congo (Kinshasa);2015;Sub-Saharan Africa;120;4"
        ],
        [
         "Congo (Kinshasa);2016;Sub-Saharan Africa;125;4"
        ],
        [
         "Congo (Kinshasa);2017;Sub-Saharan Africa;126;4"
        ],
        [
         "Congo (Kinshasa);2019;Sub-Saharan Africa;127;4"
        ],
        [
         "Congo (Kinshasa);2020;Sub-Saharan Africa;131;4"
        ],
        [
         "Congo (Kinshasa);2018;Sub-Saharan Africa;132;4"
        ],
        [
         "Congo (Kinshasa);2023;Sub-Saharan Africa;133;3"
        ],
        [
         "Costa Rica;2015;Latin America and Caribbean;12;7"
        ],
        [
         "Costa Rica;2017;Latin America and Caribbean;12;7"
        ],
        [
         "Costa Rica;2019;Latin America and Caribbean;12;7"
        ],
        [
         "Costa Rica;2018;Latin America and Caribbean;13;7"
        ],
        [
         "Costa Rica;2016;Latin America and Caribbean;14;7"
        ],
        [
         "Costa Rica;2020;Latin America and Caribbean;15;7"
        ],
        [
         "Costa Rica;2021;Latin America and Caribbean;16;7"
        ],
        [
         "Costa Rica;2022;Latin America and Caribbean;23;6"
        ],
        [
         "Costa Rica;2023;Latin America and Caribbean;23;6"
        ],
        [
         "Croatia;2022;Central and Eastern Europe;47;6"
        ],
        [
         "Croatia;2023;Central and Eastern Europe;48;6"
        ],
        [
         "Croatia;2021;Central and Eastern Europe;60;5"
        ],
        [
         "Croatia;2015;Central and Eastern Europe;62;5"
        ],
        [
         "Croatia;2016;Central and Eastern Europe;74;5"
        ],
        [
         "Croatia;2019;Central and Eastern Europe;75;5"
        ],
        [
         "Croatia;2017;Central and Eastern Europe;77;5"
        ],
        [
         "Croatia;2020;Central and Eastern Europe;79;5"
        ],
        [
         "Croatia;2018;Central and Eastern Europe;82;5"
        ],
        [
         "Cyprus;2021;Western Europe;39;6"
        ],
        [
         "Cyprus;2022;Western Europe;41;6"
        ],
        [
         "Cyprus;2020;Western Europe;45;6"
        ],
        [
         "Cyprus;2023;Western Europe;46;6"
        ],
        [
         "Cyprus;2019;Western Europe;49;6"
        ],
        [
         "Cyprus;2018;Western Europe;61;5"
        ],
        [
         "Cyprus;2017;Western Europe;65;5"
        ],
        [
         "Cyprus;2015;Western Europe;67;5"
        ],
        [
         "Cyprus;2016;Western Europe;69;5"
        ],
        [
         "Czech Republic;2021;Central and Eastern Europe;18;6"
        ],
        [
         "Czech Republic;2022;Central and Eastern Europe;18;6"
        ],
        [
         "Czech Republic;2023;Central and Eastern Europe;18;6"
        ],
        [
         "Czech Republic;2020;Central and Eastern Europe;19;6"
        ],
        [
         "Czech Republic;2019;Central and Eastern Europe;20;6"
        ],
        [
         "Czech Republic;2018;Central and Eastern Europe;21;6"
        ],
        [
         "Czech Republic;2017;Central and Eastern Europe;23;6"
        ],
        [
         "Czech Republic;2016;Central and Eastern Europe;27;6"
        ],
        [
         "Czech Republic;2015;Central and Eastern Europe;31;6"
        ],
        [
         "Denmark;2016;Western Europe;1;7"
        ],
        [
         "Denmark;2017;Western Europe;2;7"
        ],
        [
         "Denmark;2019;Western Europe;2;7"
        ],
        [
         "Denmark;2020;Western Europe;2;7"
        ],
        [
         "Denmark;2021;Western Europe;2;7"
        ],
        [
         "Denmark;2022;Western Europe;2;7"
        ],
        [
         "Denmark;2023;Western Europe;2;7"
        ],
        [
         "Denmark;2015;Western Europe;3;7"
        ],
        [
         "Denmark;2018;Western Europe;3;7"
        ],
        [
         "Djibouti;2015;Sub-Saharan Africa;126;4"
        ],
        [
         "Dominican Republic;2020;Latin America and Caribbean;68;5"
        ],
        [
         "Dominican Republic;2022;Latin America and Caribbean;69;5"
        ],
        [
         "Dominican Republic;2021;Latin America and Caribbean;73;5"
        ],
        [
         "Dominican Republic;2023;Latin America and Caribbean;73;5"
        ],
        [
         "Dominican Republic;2019;Latin America and Caribbean;77;5"
        ],
        [
         "Dominican Republic;2018;Latin America and Caribbean;83;5"
        ],
        [
         "Dominican Republic;2017;Latin America and Caribbean;86;5"
        ],
        [
         "Dominican Republic;2016;Latin America and Caribbean;89;5"
        ],
        [
         "Dominican Republic;2015;Latin America and Caribbean;98;4"
        ],
        [
         "Ecuador;2017;Latin America and Caribbean;44;6"
        ],
        [
         "Ecuador;2018;Latin America and Caribbean;48;5"
        ],
        [
         "Ecuador;2015;Latin America and Caribbean;48;5"
        ],
        [
         "Ecuador;2019;Latin America and Caribbean;50;6"
        ],
        [
         "Ecuador;2016;Latin America and Caribbean;51;5"
        ],
        [
         "Ecuador;2020;Latin America and Caribbean;58;5"
        ],
        [
         "Ecuador;2021;Latin America and Caribbean;66;5"
        ],
        [
         "Ecuador;2023;Latin America and Caribbean;74;5"
        ],
        [
         "Ecuador;2022;Latin America and Caribbean;76;5"
        ],
        [
         "Egypt;2017;Middle East and Northern Africa;104;4"
        ],
        [
         "Egypt;2016;Middle East and Northern Africa;120;4"
        ],
        [
         "Egypt;2023;Middle East and Northern Africa;121;4"
        ],
        [
         "Egypt;2018;Middle East and Northern Africa;122;4"
        ],
        [
         "Egypt;2022;Middle East and Northern Africa;129;4"
        ],
        [
         "Egypt;2021;Middle East and Northern Africa;132;4"
        ],
        [
         "Egypt;2015;Middle East and Northern Africa;135;4"
        ],
        [
         "Egypt;2019;Middle East and Northern Africa;137;4"
        ],
        [
         "Egypt;2020;Middle East and Northern Africa;138;4"
        ],
        [
         "El Salvador;2020;Latin America and Caribbean;34;6"
        ],
        [
         "El Salvador;2019;Latin America and Caribbean;35;6"
        ],
        [
         "El Salvador;2018;Latin America and Caribbean;40;6"
        ],
        [
         "El Salvador;2015;Latin America and Caribbean;42;6"
        ],
        [
         "El Salvador;2017;Latin America and Caribbean;45;6"
        ],
        [
         "El Salvador;2016;Latin America and Caribbean;46;6"
        ],
        [
         "El Salvador;2021;Latin America and Caribbean;49;6"
        ],
        [
         "El Salvador;2022;Latin America and Caribbean;49;6"
        ],
        [
         "El Salvador;2023;Latin America and Caribbean;50;6"
        ],
        [
         "Estonia;2023;Central and Eastern Europe;31;6"
        ],
        [
         "Estonia;2022;Central and Eastern Europe;36;6"
        ],
        [
         "Estonia;2021;Central and Eastern Europe;40;6"
        ],
        [
         "Estonia;2020;Central and Eastern Europe;51;6"
        ],
        [
         "Estonia;2019;Central and Eastern Europe;55;5"
        ],
        [
         "Estonia;2018;Central and Eastern Europe;63;5"
        ],
        [
         "Estonia;2017;Central and Eastern Europe;66;5"
        ],
        [
         "Estonia;2016;Central and Eastern Europe;72;5"
        ],
        [
         "Estonia;2015;Central and Eastern Europe;73;5"
        ],
        [
         "Eswatini;2022;Sub-Saharan Africa;125;4"
        ],
        [
         "Ethiopia;2016;Sub-Saharan Africa;115;4"
        ],
        [
         "Ethiopia;2017;Sub-Saharan Africa;119;4"
        ],
        [
         "Ethiopia;2015;Sub-Saharan Africa;122;4"
        ],
        [
         "Ethiopia;2023;Sub-Saharan Africa;124;4"
        ],
        [
         "Ethiopia;2018;Sub-Saharan Africa;127;4"
        ],
        [
         "Ethiopia;2022;Sub-Saharan Africa;131;4"
        ],
        [
         "Ethiopia;2021;Sub-Saharan Africa;133;4"
        ],
        [
         "Ethiopia;2019;Sub-Saharan Africa;134;4"
        ],
        [
         "Ethiopia;2020;Sub-Saharan Africa;136;4"
        ],
        [
         "Finland;2018;Western Europe;1;7"
        ],
        [
         "Finland;2019;Western Europe;1;7"
        ],
        [
         "Finland;2020;Western Europe;1;7"
        ],
        [
         "Finland;2021;Western Europe;1;7"
        ],
        [
         "Finland;2022;Western Europe;1;7"
        ],
        [
         "Finland;2023;Western Europe;1;7"
        ],
        [
         "Finland;2016;Western Europe;5;7"
        ],
        [
         "Finland;2017;Western Europe;5;7"
        ],
        [
         "Finland;2015;Western Europe;6;7"
        ],
        [
         "France;2022;Western Europe;20;6"
        ],
        [
         "France;2021;Western Europe;21;6"
        ],
        [
         "France;2023;Western Europe;21;6"
        ],
        [
         "France;2018;Western Europe;23;6"
        ],
        [
         "France;2020;Western Europe;23;6"
        ],
        [
         "France;2019;Western Europe;24;6"
        ],
        [
         "France;2015;Western Europe;29;6"
        ],
        [
         "France;2017;Western Europe;31;6"
        ],
        [
         "France;2016;Western Europe;32;6"
        ],
        [
         "Gabon;2023;Sub-Saharan Africa;94;5"
        ],
        [
         "Gabon;2018;Sub-Saharan Africa;103;4"
        ],
        [
         "Gabon;2019;Sub-Saharan Africa;104;4"
        ],
        [
         "Gabon;2022;Sub-Saharan Africa;106;4"
        ],
        [
         "Gabon;2020;Sub-Saharan Africa;108;4"
        ],
        [
         "Gabon;2021;Sub-Saharan Africa;112;4"
        ],
        [
         "Gabon;2017;Sub-Saharan Africa;118;4"
        ],
        [
         "Gabon;2016;Sub-Saharan Africa;134;4"
        ],
        [
         "Gabon;2015;Sub-Saharan Africa;143;3"
        ],
        [
         "Gambia;2022;Sub-Saharan Africa;93;5"
        ],
        [
         "Gambia;2021;Sub-Saharan Africa;98;5"
        ],
        [
         "Gambia;2020;Sub-Saharan Africa;113;4"
        ],
        [
         "Gambia;2023;Sub-Saharan Africa;119;4"
        ],
        [
         "Gambia;2019;Sub-Saharan Africa;120;4"
        ],
        [
         "Georgia;2023;Central and Eastern Europe;90;5"
        ],
        [
         "Georgia;2022;Central and Eastern Europe;105;4"
        ],
        [
         "Georgia;2021;Central and Eastern Europe;108;4"
        ],
        [
         "Georgia;2020;Central and Eastern Europe;117;4"
        ],
        [
         "Georgia;2019;Central and Eastern Europe;119;4"
        ],
        [
         "Georgia;2017;Central and Eastern Europe;125;4"
        ],
        [
         "Georgia;2016;Central and Eastern Europe;126;4"
        ],
        [
         "Georgia;2018;Central and Eastern Europe;128;4"
        ],
        [
         "Georgia;2015;Central and Eastern Europe;130;4"
        ],
        [
         "Germany;2021;Western Europe;13;7"
        ],
        [
         "Germany;2022;Western Europe;14;7"
        ],
        [
         "Germany;2018;Western Europe;15;6"
        ],
        [
         "Germany;2016;Western Europe;16;6"
        ],
        [
         "Germany;2017;Western Europe;16;6"
        ],
        [
         "Germany;2023;Western Europe;16;6"
        ],
        [
         "Germany;2019;Western Europe;17;6"
        ],
        [
         "Germany;2020;Western Europe;17;7"
        ],
        [
         "Germany;2015;Western Europe;26;6"
        ],
        [
         "Ghana;2020;Sub-Saharan Africa;91;5"
        ],
        [
         "Ghana;2021;Sub-Saharan Africa;95;5"
        ],
        [
         "Ghana;2019;Sub-Saharan Africa;98;4"
        ],
        [
         "Ghana;2023;Sub-Saharan Africa;107;4"
        ],
        [
         "Ghana;2018;Sub-Saharan Africa;108;4"
        ],
        [
         "Ghana;2022;Sub-Saharan Africa;111;4"
        ],
        [
         "Ghana;2015;Sub-Saharan Africa;114;4"
        ],
        [
         "Ghana;2016;Sub-Saharan Africa;124;4"
        ],
        [
         "Ghana;2017;Sub-Saharan Africa;131;4"
        ],
        [
         "Greece;2022;Western Europe;58;5"
        ],
        [
         "Greece;2023;Western Europe;58;5"
        ],
        [
         "Greece;2021;Western Europe;68;5"
        ],
        [
         "Greece;2020;Western Europe;77;5"
        ],
        [
         "Greece;2018;Western Europe;79;5"
        ],
        [
         "Greece;2019;Western Europe;82;5"
        ],
        [
         "Greece;2017;Western Europe;87;5"
        ],
        [
         "Greece;2016;Western Europe;99;5"
        ],
        [
         "Greece;2015;Western Europe;102;4"
        ],
        [
         "Guatemala;2019;Latin America and Caribbean;27;6"
        ],
        [
         "Guatemala;2017;Latin America and Caribbean;29;6"
        ],
        [
         "Guatemala;2020;Latin America and Caribbean;29;6"
        ],
        [
         "Guatemala;2018;Latin America and Caribbean;30;6"
        ],
        [
         "Guatemala;2021;Latin America and Caribbean;30;6"
        ],
        [
         "Guatemala;2016;Latin America and Caribbean;39;6"
        ],
        [
         "Guatemala;2022;Latin America and Caribbean;39;6"
        ],
        [
         "Guatemala;2015;Latin America and Caribbean;43;6"
        ],
        [
         "Guatemala;2023;Latin America and Caribbean;43;6"
        ],
        [
         "Guinea;2023;Sub-Saharan Africa;91;5"
        ],
        [
         "Guinea;2020;Sub-Saharan Africa;102;4"
        ],
        [
         "Guinea;2021;Sub-Saharan Africa;102;4"
        ],
        [
         "Guinea;2022;Sub-Saharan Africa;109;4"
        ],
        [
         "Guinea;2019;Sub-Saharan Africa;118;4"
        ],
        [
         "Guinea;2018;Sub-Saharan Africa;140;3"
        ],
        [
         "Guinea;2017;Sub-Saharan Africa;149;3"
        ],
        [
         "Guinea;2015;Sub-Saharan Africa;150;3"
        ],
        [
         "Guinea;2016;Sub-Saharan Africa;151;3"
        ],
        [
         "Haiti;2015;Latin America and Caribbean;119;4"
        ],
        [
         "Haiti;2016;Latin America and Caribbean;136;4"
        ],
        [
         "Haiti;2020;Latin America and Caribbean;142;3"
        ],
        [
         "Haiti;2021;Latin America and Caribbean;143;3"
        ],
        [
         "Haiti;2017;Latin America and Caribbean;145;3"
        ],
        [
         "Haiti;2019;Latin America and Caribbean;147;3"
        ],
        [
         "Haiti;2018;Latin America and Caribbean;148;3"
        ],
        [
         "Honduras;2023;Latin America and Caribbean;53;6"
        ],
        [
         "Honduras;2022;Latin America and Caribbean;55;6"
        ],
        [
         "Honduras;2020;Latin America and Caribbean;56;5"
        ],
        [
         "Honduras;2019;Latin America and Caribbean;59;5"
        ],
        [
         "Honduras;2021;Latin America and Caribbean;59;5"
        ],
        [
         "Honduras;2018;Latin America and Caribbean;72;5"
        ],
        [
         "Honduras;2017;Latin America and Caribbean;91;5"
        ],
        [
         "Honduras;2016;Latin America and Caribbean;104;4"
        ],
        [
         "Honduras;2015;Latin America and Caribbean;105;4"
        ],
        [
         "Hong Kong;2017;Eastern Asia;71;5"
        ],
        [
         "Hong Kong;2015;Eastern Asia;72;5"
        ],
        [
         "Hong Kong;2016;Eastern Asia;75;5"
        ],
        [
         "Hong Kong;2018;Eastern Asia;76;5"
        ],
        [
         "Hong Kong;2019;Eastern Asia;76;5"
        ],
        [
         "Hong Kong;2021;Eastern Asia;77;5"
        ],
        [
         "Hong Kong;2020;Eastern Asia;78;5"
        ],
        [
         "Hong Kong;2022;Eastern Asia;81;5"
        ],
        [
         "Hong Kong;2023;Eastern Asia;82;5"
        ],
        [
         "Hungary;2022;Central and Eastern Europe;51;6"
        ],
        [
         "Hungary;2023;Central and Eastern Europe;51;6"
        ],
        [
         "Hungary;2020;Central and Eastern Europe;53;6"
        ],
        [
         "Hungary;2021;Central and Eastern Europe;53;5"
        ],
        [
         "Hungary;2019;Central and Eastern Europe;62;5"
        ],
        [
         "Hungary;2018;Central and Eastern Europe;69;5"
        ],
        [
         "Hungary;2017;Central and Eastern Europe;75;5"
        ],
        [
         "Hungary;2016;Central and Eastern Europe;91;5"
        ],
        [
         "Hungary;2015;Central and Eastern Europe;104;4"
        ],
        [
         "Iceland;2015;Western Europe;2;7"
        ],
        [
         "Iceland;2016;Western Europe;3;7"
        ],
        [
         "Iceland;2017;Western Europe;3;7"
        ],
        [
         "Iceland;2022;Western Europe;3;7"
        ],
        [
         "Iceland;2023;Western Europe;3;7"
        ],
        [
         "Iceland;2018;Western Europe;4;7"
        ],
        [
         "Iceland;2019;Western Europe;4;7"
        ],
        [
         "Iceland;2020;Western Europe;4;7"
        ],
        [
         "Iceland;2021;Western Europe;4;7"
        ],
        [
         "India;2015;Southern Asia;117;4"
        ],
        [
         "India;2016;Southern Asia;118;4"
        ],
        [
         "India;2017;Southern Asia;122;4"
        ],
        [
         "India;2023;Southern Asia;126;4"
        ],
        [
         "India;2018;Southern Asia;133;4"
        ],
        [
         "India;2022;Southern Asia;136;3"
        ],
        [
         "India;2021;Southern Asia;139;3"
        ],
        [
         "India;2019;Southern Asia;140;4"
        ],
        [
         "India;2020;Southern Asia;144;3"
        ],
        [
         "Indonesia;2015;Southeastern Asia;74;5"
        ],
        [
         "Indonesia;2016;Southeastern Asia;79;5"
        ],
        [
         "Indonesia;2017;Southeastern Asia;81;5"
        ],
        [
         "Indonesia;2021;Southeastern Asia;82;5"
        ],
        [
         "Indonesia;2020;Southeastern Asia;84;5"
        ],
        [
         "Indonesia;2023;Southeastern Asia;84;5"
        ],
        [
         "Indonesia;2022;Southeastern Asia;87;5"
        ],
        [
         "Indonesia;2019;Southeastern Asia;92;5"
        ],
        [
         "Indonesia;2018;Southeastern Asia;96;5"
        ],
        [
         "Iran;2023;Middle East and Northern Africa;101;4"
        ],
        [
         "Iran;2016;Middle East and Northern Africa;105;4"
        ],
        [
         "Iran;2018;Middle East and Northern Africa;106;4"
        ],
        [
         "Iran;2017;Middle East and Northern Africa;108;4"
        ],
        [
         "Iran;2022;Middle East and Northern Africa;110;4"
        ],
        [
         "Iran;2015;Middle East and Northern Africa;110;4"
        ],
        [
         "Iran;2019;Middle East and Northern Africa;117;4"
        ],
        [
         "Iran;2020;Middle East and Northern Africa;118;4"
        ],
        [
         "Iran;2021;Middle East and Northern Africa;118;4"
        ],
        [
         "Iraq;2023;Middle East and Northern Africa;98;4"
        ],
        [
         "Iraq;2022;Middle East and Northern Africa;107;4"
        ],
        [
         "Iraq;2020;Middle East and Northern Africa;110;4"
        ],
        [
         "Iraq;2021;Middle East and Northern Africa;111;4"
        ],
        [
         "Iraq;2016;Middle East and Northern Africa;112;4"
        ],
        [
         "Iraq;2015;Middle East and Northern Africa;112;4"
        ],
        [
         "Iraq;2017;Middle East and Northern Africa;117;4"
        ],
        [
         "Iraq;2018;Middle East and Northern Africa;117;4"
        ],
        [
         "Iraq;2019;Middle East and Northern Africa;126;4"
        ],
        [
         "Ireland;2022;Western Europe;13;7"
        ],
        [
         "Ireland;2018;Western Europe;14;6"
        ],
        [
         "Ireland;2023;Western Europe;14;6"
        ],
        [
         "Ireland;2017;Western Europe;15;6"
        ],
        [
         "Ireland;2021;Western Europe;15;7"
        ],
        [
         "Ireland;2019;Western Europe;16;7"
        ],
        [
         "Ireland;2020;Western Europe;16;7"
        ],
        [
         "Ireland;2015;Western Europe;18;6"
        ],
        [
         "Ireland;2016;Western Europe;19;6"
        ],
        [
         "Israel;2023;Middle East and Northern Africa;4;7"
        ],
        [
         "Israel;2022;Middle East and Northern Africa;9;7"
        ],
        [
         "Israel;2015;Middle East and Northern Africa;11;7"
        ],
        [
         "Israel;2016;Middle East and Northern Africa;11;7"
        ],
        [
         "Israel;2017;Middle East and Northern Africa;11;7"
        ],
        [
         "Israel;2021;Middle East and Northern Africa;12;7"
        ],
        [
         "Israel;2019;Middle East and Northern Africa;13;7"
        ],
        [
         "Israel;2020;Middle East and Northern Africa;14;7"
        ],
        [
         "Israel;2018;Middle East and Northern Africa;19;6"
        ],
        [
         "Italy;2021;Western Europe;28;6"
        ],
        [
         "Italy;2020;Western Europe;30;6"
        ],
        [
         "Italy;2022;Western Europe;31;6"
        ],
        [
         "Italy;2023;Western Europe;33;6"
        ],
        [
         "Italy;2019;Western Europe;36;6"
        ],
        [
         "Italy;2018;Western Europe;47;6"
        ],
        [
         "Italy;2017;Western Europe;48;5"
        ],
        [
         "Italy;2015;Western Europe;50;5"
        ],
        [
         "Italy;2016;Western Europe;50;5"
        ],
        [
         "Ivory Coast;2020;Sub-Saharan Africa;85;5"
        ],
        [
         "Ivory Coast;2021;Sub-Saharan Africa;85;5"
        ],
        [
         "Ivory Coast;2022;Sub-Saharan Africa;88;5"
        ],
        [
         "Ivory Coast;2023;Sub-Saharan Africa;93;5"
        ],
        [
         "Ivory Coast;2019;Sub-Saharan Africa;99;4"
        ],
        [
         "Ivory Coast;2018;Sub-Saharan Africa;107;4"
        ],
        [
         "Ivory Coast;2017;Sub-Saharan Africa;128;4"
        ],
        [
         "Ivory Coast;2016;Sub-Saharan Africa;139;3"
        ],
        [
         "Ivory Coast;2015;Sub-Saharan Africa;151;3"
        ],
        [
         "Jamaica;2021;Latin America and Caribbean;37;6"
        ],
        [
         "Jamaica;2018;Latin America and Caribbean;56;5"
        ],
        [
         "Jamaica;2019;Latin America and Caribbean;56;5"
        ],
        [
         "Jamaica;2020;Latin America and Caribbean;60;5"
        ],
        [
         "Jamaica;2022;Latin America and Caribbean;63;5"
        ],
        [
         "Jamaica;2015;Latin America and Caribbean;65;5"
        ],
        [
         "Jamaica;2023;Latin America and Caribbean;68;5"
        ],
        [
         "Jamaica;2016;Latin America and Caribbean;73;5"
        ],
        [
         "Jamaica;2017;Latin America and Caribbean;76;5"
        ],
        [
         "Japan;2015;Eastern Asia;46;5"
        ],
        [
         "Japan;2023;Eastern Asia;47;6"
        ],
        [
         "Japan;2017;Eastern Asia;51;5"
        ],
        [
         "Japan;2016;Eastern Asia;53;5"
        ],
        [
         "Japan;2018;Eastern Asia;54;5"
        ],
        [
         "Japan;2022;Eastern Asia;54;6"
        ],
        [
         "Japan;2021;Eastern Asia;56;5"
        ],
        [
         "Japan;2019;Eastern Asia;58;5"
        ],
        [
         "Japan;2020;Eastern Asia;62;5"
        ],
        [
         "Jordan;2017;Middle East and Northern Africa;74;5"
        ],
        [
         "Jordan;2016;Middle East and Northern Africa;80;5"
        ],
        [
         "Jordan;2015;Middle East and Northern Africa;82;5"
        ],
        [
         "Jordan;2018;Middle East and Northern Africa;90;5"
        ],
        [
         "Jordan;2019;Middle East and Northern Africa;101;4"
        ],
        [
         "Jordan;2020;Middle East and Northern Africa;119;4"
        ],
        [
         "Jordan;2023;Middle East and Northern Africa;123;4"
        ],
        [
         "Jordan;2021;Middle East and Northern Africa;127;4"
        ],
        [
         "Jordan;2022;Middle East and Northern Africa;134;4"
        ],
        [
         "Kazakhstan;2022;Central and Eastern Europe;40;6"
        ],
        [
         "Kazakhstan;2023;Central and Eastern Europe;44;6"
        ],
        [
         "Kazakhstan;2021;Central and Eastern Europe;45;6"
        ],
        [
         "Kazakhstan;2020;Central and Eastern Europe;50;6"
        ],
        [
         "Kazakhstan;2015;Central and Eastern Europe;54;5"
        ],
        [
         "Kazakhstan;2016;Central and Eastern Europe;54;5"
        ],
        [
         "Kazakhstan;2017;Central and Eastern Europe;60;5"
        ],
        [
         "Kazakhstan;2018;Central and Eastern Europe;60;5"
        ],
        [
         "Kazakhstan;2019;Central and Eastern Europe;60;5"
        ],
        [
         "Kenya;2023;Sub-Saharan Africa;111;4"
        ],
        [
         "Kenya;2017;Sub-Saharan Africa;112;4"
        ],
        [
         "Kenya;2022;Sub-Saharan Africa;119;4"
        ],
        [
         "Kenya;2019;Sub-Saharan Africa;121;4"
        ],
        [
         "Kenya;2020;Sub-Saharan Africa;121;4"
        ],
        [
         "Kenya;2021;Sub-Saharan Africa;121;4"
        ],
        [
         "Kenya;2016;Sub-Saharan Africa;122;4"
        ],
        [
         "Kenya;2018;Sub-Saharan Africa;124;4"
        ],
        [
         "Kenya;2015;Sub-Saharan Africa;125;4"
        ],
        [
         "Kosovo;2022;Central and Eastern Europe;32;6"
        ],
        [
         "Kosovo;2021;Central and Eastern Europe;33;6"
        ],
        [
         "Kosovo;2023;Central and Eastern Europe;34;6"
        ],
        [
         "Kosovo;2020;Central and Eastern Europe;35;6"
        ],
        [
         "Kosovo;2019;Central and Eastern Europe;46;6"
        ],
        [
         "Kosovo;2018;Central and Eastern Europe;66;5"
        ],
        [
         "Kosovo;2015;Central and Eastern Europe;69;5"
        ],
        [
         "Kosovo;2016;Central and Eastern Europe;77;5"
        ],
        [
         "Kosovo;2017;Central and Eastern Europe;78;5"
        ],
        [
         "Kuwait;2015;Middle East and Northern Africa;39;6"
        ],
        [
         "Kuwait;2017;Middle East and Northern Africa;39;6"
        ],
        [
         "Kuwait;2016;Middle East and Northern Africa;41;6"
        ],
        [
         "Kuwait;2018;Middle East and Northern Africa;45;6"
        ],
        [
         "Kuwait;2021;Middle East and Northern Africa;47;6"
        ],
        [
         "Kuwait;2020;Middle East and Northern Africa;48;6"
        ],
        [
         "Kuwait;2022;Middle East and Northern Africa;50;6"
        ],
        [
         "Kuwait;2019;Middle East and Northern Africa;51;6"
        ],
        [
         "Kyrgyzstan;2023;Central and Eastern Europe;62;5"
        ],
        [
         "Kyrgyzstan;2022;Central and Eastern Europe;64;5"
        ],
        [
         "Kyrgyzstan;2021;Central and Eastern Europe;67;5"
        ],
        [
         "Kyrgyzstan;2020;Central and Eastern Europe;74;5"
        ],
        [
         "Kyrgyzstan;2015;Central and Eastern Europe;77;5"
        ],
        [
         "Kyrgyzstan;2016;Central and Eastern Europe;85;5"
        ],
        [
         "Kyrgyzstan;2019;Central and Eastern Europe;86;5"
        ],
        [
         "Kyrgyzstan;2018;Central and Eastern Europe;92;5"
        ],
        [
         "Kyrgyzstan;2017;Central and Eastern Europe;98;5"
        ],
        [
         "Laos;2023;Southeastern Asia;89;5"
        ],
        [
         "Laos;2022;Southeastern Asia;95;5"
        ],
        [
         "Laos;2015;Southeastern Asia;99;4"
        ],
        [
         "Laos;2021;Southeastern Asia;100;5"
        ],
        [
         "Laos;2016;Southeastern Asia;102;4"
        ],
        [
         "Laos;2020;Southeastern Asia;104;4"
        ],
        [
         "Laos;2019;Southeastern Asia;105;4"
        ],
        [
         "Laos;2018;Southeastern Asia;110;4"
        ],
        [
         "Latvia;2023;Central and Eastern Europe;41;6"
        ],
        [
         "Latvia;2022;Central and Eastern Europe;42;6"
        ],
        [
         "Latvia;2021;Central and Eastern Europe;51;6"
        ],
        [
         "Latvia;2018;Central and Eastern Europe;53;5"
        ],
        [
         "Latvia;2019;Central and Eastern Europe;53;5"
        ],
        [
         "Latvia;2017;Central and Eastern Europe;54;5"
        ],
        [
         "Latvia;2020;Central and Eastern Europe;57;5"
        ],
        [
         "Latvia;2016;Central and Eastern Europe;68;5"
        ],
        [
         "Latvia;2015;Central and Eastern Europe;89;5"
        ],
        [
         "Lebanon;2018;Middle East and Northern Africa;80;5"
        ],
        [
         "Lebanon;2017;Middle East and Northern Africa;88;5"
        ],
        [
         "Lebanon;2019;Middle East and Northern Africa;91;5"
        ],
        [
         "Lebanon;2016;Middle East and Northern Africa;93;5"
        ],
        [
         "Lebanon;2015;Middle East and Northern Africa;103;4"
        ],
        [
         "Lebanon;2020;Middle East and Northern Africa;111;4"
        ],
        [
         "Lebanon;2021;Middle East and Northern Africa;123;4"
        ],
        [
         "Lebanon;2023;Middle East and Northern Africa;136;2"
        ],
        [
         "Lebanon;2022;Middle East and Northern Africa;145;2"
        ],
        [
         "Lesotho;2015;Sub-Saharan Africa;97;4"
        ],
        [
         "Lesotho;2017;Sub-Saharan Africa;139;3"
        ],
        [
         "Lesotho;2018;Sub-Saharan Africa;141;3"
        ],
        [
         "Lesotho;2022;Sub-Saharan Africa;141;3"
        ],
        [
         "Lesotho;2020;Sub-Saharan Africa;143;3"
        ],
        [
         "Lesotho;2019;Sub-Saharan Africa;144;3"
        ],
        [
         "Lesotho;2021;Sub-Saharan Africa;145;3"
        ],
        [
         "Liberia;2022;Sub-Saharan Africa;97;5"
        ],
        [
         "Liberia;2015;Sub-Saharan Africa;116;4"
        ],
        [
         "Liberia;2021;Sub-Saharan Africa;120;4"
        ],
        [
         "Liberia;2020;Sub-Saharan Africa;124;4"
        ],
        [
         "Liberia;2023;Sub-Saharan Africa;125;4"
        ],
        [
         "Liberia;2019;Sub-Saharan Africa;141;3"
        ],
        [
         "Liberia;2017;Sub-Saharan Africa;148;3"
        ],
        [
         "Liberia;2018;Sub-Saharan Africa;149;3"
        ],
        [
         "Liberia;2016;Sub-Saharan Africa;150;3"
        ],
        [
         "Libya;2015;Middle East and Northern Africa;63;5"
        ],
        [
         "Libya;2016;Middle East and Northern Africa;67;5"
        ],
        [
         "Libya;2017;Middle East and Northern Africa;68;5"
        ],
        [
         "Libya;2018;Middle East and Northern Africa;70;5"
        ],
        [
         "Libya;2019;Middle East and Northern Africa;72;5"
        ],
        [
         "Libya;2020;Middle East and Northern Africa;80;5"
        ],
        [
         "Libya;2021;Middle East and Northern Africa;80;5"
        ],
        [
         "Libya;2022;Middle East and Northern Africa;86;5"
        ],
        [
         "Lithuania;2023;Central and Eastern Europe;20;6"
        ],
        [
         "Lithuania;2022;Central and Eastern Europe;34;6"
        ],
        [
         "Lithuania;2021;Central and Eastern Europe;38;6"
        ],
        [
         "Lithuania;2020;Central and Eastern Europe;41;6"
        ],
        [
         "Lithuania;2019;Central and Eastern Europe;42;6"
        ],
        [
         "Lithuania;2018;Central and Eastern Europe;50;5"
        ],
        [
         "Lithuania;2017;Central and Eastern Europe;52;5"
        ],
        [
         "Lithuania;2015;Central and Eastern Europe;56;5"
        ],
        [
         "Lithuania;2016;Central and Eastern Europe;60;5"
        ],
        [
         "Luxembourg;2022;Western Europe;6;7"
        ],
        [
         "Luxembourg;2021;Western Europe;8;7"
        ],
        [
         "Luxembourg;2023;Western Europe;9;7"
        ],
        [
         "Luxembourg;2020;Western Europe;10;7"
        ],
        [
         "Luxembourg;2019;Western Europe;14;7"
        ],
        [
         "Luxembourg;2015;Western Europe;17;6"
        ],
        [
         "Luxembourg;2018;Western Europe;17;6"
        ],
        [
         "Luxembourg;2017;Western Europe;18;6"
        ],
        [
         "Luxembourg;2016;Western Europe;20;6"
        ],
        [
         "Macedonia;2019;Central and Eastern Europe;84;5"
        ],
        [
         "Macedonia;2023;Central and Eastern Europe;87;5"
        ],
        [
         "Macedonia;2018;Central and Eastern Europe;89;5"
        ],
        [
         "Macedonia;2022;Central and Eastern Europe;89;5"
        ],
        [
         "Macedonia;2020;Central and Eastern Europe;90;5"
        ],
        [
         "Macedonia;2017;Central and Eastern Europe;92;5"
        ],
        [
         "Macedonia;2015;Central and Eastern Europe;93;5"
        ],
        [
         "Macedonia;2021;Central and Eastern Europe;94;5"
        ],
        [
         "Macedonia;2016;Central and Eastern Europe;95;5"
        ],
        [
         "Madagascar;2023;Sub-Saharan Africa;127;4"
        ],
        [
         "Madagascar;2022;Sub-Saharan Africa;128;4"
        ],
        [
         "Madagascar;2021;Sub-Saharan Africa;135;4"
        ],
        [
         "Madagascar;2020;Sub-Saharan Africa;137;4"
        ],
        [
         "Madagascar;2018;Sub-Saharan Africa;143;3"
        ],
        [
         "Madagascar;2019;Sub-Saharan Africa;143;3"
        ],
        [
         "Madagascar;2017;Sub-Saharan Africa;144;3"
        ],
        [
         "Madagascar;2015;Sub-Saharan Africa;147;3"
        ],
        [
         "Madagascar;2016;Sub-Saharan Africa;148;3"
        ],
        [
         "Malawi;2023;Sub-Saharan Africa;131;3"
        ],
        [
         "Malawi;2015;Sub-Saharan Africa;131;4"
        ],
        [
         "Malawi;2016;Sub-Saharan Africa;132;4"
        ],
        [
         "Malawi;2017;Sub-Saharan Africa;136;3"
        ],
        [
         "Malawi;2022;Sub-Saharan Africa;138;3"
        ],
        [
         "Malawi;2021;Sub-Saharan Africa;144;3"
        ],
        [
         "Malawi;2020;Sub-Saharan Africa;145;3"
        ],
        [
         "Malawi;2018;Sub-Saharan Africa;147;3"
        ],
        [
         "Malawi;2019;Sub-Saharan Africa;150;3"
        ],
        [
         "Malaysia;2018;Southeastern Asia;35;6"
        ],
        [
         "Malaysia;2017;Southeastern Asia;42;6"
        ],
        [
         "Malaysia;2016;Southeastern Asia;47;6"
        ],
        [
         "Malaysia;2023;Southeastern Asia;55;6"
        ],
        [
         "Malaysia;2015;Southeastern Asia;61;5"
        ],
        [
         "Malaysia;2022;Southeastern Asia;70;5"
        ],
        [
         "Malaysia;2019;Southeastern Asia;80;5"
        ],
        [
         "Malaysia;2021;Southeastern Asia;81;5"
        ],
        [
         "Malaysia;2020;Southeastern Asia;82;5"
        ],
        [
         "Maldives;2020;Eastern Asia;87;5"
        ],
        [
         "Maldives;2021;Southern Asia;89;5"
        ],
        [
         "Mali;2020;Sub-Saharan Africa;114;4"
        ],
        [
         "Mali;2021;Sub-Saharan Africa;117;4"
        ],
        [
         "Mali;2018;Sub-Saharan Africa;118;4"
        ],
        [
         "Mali;2023;Sub-Saharan Africa;120;4"
        ],
        [
         "Mali;2022;Sub-Saharan Africa;123;4"
        ],
        [
         "Mali;2017;Sub-Saharan Africa;127;4"
        ],
        [
         "Mali;2019;Sub-Saharan Africa;128;4"
        ],
        [
         "Mali;2016;Sub-Saharan Africa;135;4"
        ],
        [
         "Mali;2015;Sub-Saharan Africa;138;3"
        ],
        [
         "Malta;2018;Western Europe;22;6"
        ],
        [
         "Malta;2019;Western Europe;22;6"
        ],
        [
         "Malta;2020;Western Europe;22;6"
        ],
        [
         "Malta;2021;Western Europe;23;6"
        ],
        [
         "Malta;2017;Western Europe;27;6"
        ],
        [
         "Malta;2016;Western Europe;30;6"
        ],
        [
         "Malta;2022;Western Europe;33;6"
        ],
        [
         "Malta;2015;Western Europe;37;6"
        ],
        [
         "Malta;2023;Western Europe;37;6"
        ],
        [
         "Mauritania;2023;Sub-Saharan Africa;103;4"
        ],
        [
         "Mauritania;2019;Sub-Saharan Africa;122;4"
        ],
        [
         "Mauritania;2017;Sub-Saharan Africa;123;4"
        ],
        [
         "Mauritania;2015;Sub-Saharan Africa;124;4"
        ],
        [
         "Mauritania;2018;Sub-Saharan Africa;126;4"
        ],
        [
         "Mauritania;2020;Sub-Saharan Africa;129;4"
        ],
        [
         "Mauritania;2016;Sub-Saharan Africa;130;4"
        ],
        [
         "Mauritania;2022;Sub-Saharan Africa;133;4"
        ],
        [
         "Mauritania;2021;Sub-Saharan Africa;134;4"
        ],
        [
         "Mauritius;2020;Sub-Saharan Africa;49;6"
        ],
        [
         "Mauritius;2021;Sub-Saharan Africa;50;6"
        ],
        [
         "Mauritius;2022;Sub-Saharan Africa;52;6"
        ],
        [
         "Mauritius;2018;Sub-Saharan Africa;55;5"
        ],
        [
         "Mauritius;2019;Sub-Saharan Africa;57;5"
        ],
        [
         "Mauritius;2023;Sub-Saharan Africa;59;5"
        ],
        [
         "Mauritius;2017;Sub-Saharan Africa;64;5"
        ],
        [
         "Mauritius;2016;Sub-Saharan Africa;66;5"
        ],
        [
         "Mauritius;2015;Sub-Saharan Africa;71;5"
        ],
        [
         "Mexico;2015;Latin America and Caribbean;14;7"
        ],
        [
         "Mexico;2016;Latin America and Caribbean;21;6"
        ],
        [
         "Mexico;2019;Latin America and Caribbean;23;6"
        ],
        [
         "Mexico;2018;Latin America and Caribbean;24;6"
        ],
        [
         "Mexico;2020;Latin America and Caribbean;24;6"
        ],
        [
         "Mexico;2017;Latin America and Caribbean;25;6"
        ],
        [
         "Mexico;2021;Latin America and Caribbean;36;6"
        ],
        [
         "Mexico;2023;Latin America and Caribbean;36;6"
        ],
        [
         "Mexico;2022;Latin America and Caribbean;46;6"
        ],
        [
         "Moldova;2015;Central and Eastern Europe;52;5"
        ],
        [
         "Moldova;2016;Central and Eastern Europe;55;5"
        ],
        [
         "Moldova;2017;Central and Eastern Europe;56;5"
        ],
        [
         "Moldova;2022;Central and Eastern Europe;62;5"
        ],
        [
         "Moldova;2023;Central and Eastern Europe;63;5"
        ],
        [
         "Moldova;2021;Central and Eastern Europe;65;5"
        ],
        [
         "Moldova;2018;Central and Eastern Europe;67;5"
        ],
        [
         "Moldova;2020;Central and Eastern Europe;70;5"
        ],
        [
         "Moldova;2019;Central and Eastern Europe;71;5"
        ],
        [
         "Mongolia;2023;Eastern Asia;61;5"
        ],
        [
         "Mongolia;2022;Eastern Asia;68;5"
        ],
        [
         "Mongolia;2021;Eastern Asia;70;5"
        ],
        [
         "Mongolia;2020;Eastern Asia;81;5"
        ],
        [
         "Mongolia;2019;Eastern Asia;83;5"
        ],
        [
         "Mongolia;2018;Eastern Asia;94;5"
        ],
        [
         "Mongolia;2017;Eastern Asia;100;4"
        ],
        [
         "Mongolia;2015;Eastern Asia;100;4"
        ],
        [
         "Mongolia;2016;Eastern Asia;101;4"
        ],
        [
         "Montenegro;2023;Central and Eastern Europe;67;5"
        ],
        [
         "Montenegro;2020;Central and Eastern Europe;72;5"
        ],
        [
         "Montenegro;2021;Central and Eastern Europe;72;5"
        ],
        [
         "Montenegro;2019;Central and Eastern Europe;73;5"
        ],
        [
         "Montenegro;2022;Central and Eastern Europe;75;5"
        ],
        [
         "Montenegro;2018;Central and Eastern Europe;81;5"
        ],
        [
         "Montenegro;2015;Central and Eastern Europe;82;5"
        ],
        [
         "Montenegro;2017;Central and Eastern Europe;83;5"
        ],
        [
         "Montenegro;2016;Central and Eastern Europe;88;5"
        ],
        [
         "Morocco;2017;Middle East and Northern Africa;84;5"
        ],
        [
         "Morocco;2018;Middle East and Northern Africa;85;5"
        ],
        [
         "Morocco;2019;Middle East and Northern Africa;89;5"
        ],
        [
         "Morocco;2016;Middle East and Northern Africa;90;5"
        ],
        [
         "Morocco;2015;Middle East and Northern Africa;92;5"
        ],
        [
         "Morocco;2020;Middle East and Northern Africa;97;5"
        ],
        [
         "Morocco;2022;Middle East and Northern Africa;100;5"
        ],
        [
         "Morocco;2023;Middle East and Northern Africa;100;4"
        ],
        [
         "Morocco;2021;Middle East and Northern Africa;106;4"
        ],
        [
         "Mozambique;2015;Sub-Saharan Africa;94;4"
        ],
        [
         "Mozambique;2023;Sub-Saharan Africa;97;4"
        ],
        [
         "Mozambique;2022;Sub-Saharan Africa;101;5"
        ],
        [
         "Mozambique;2017;Sub-Saharan Africa;113;4"
        ],
        [
         "Mozambique;2021;Sub-Saharan Africa;115;4"
        ],
        [
         "Mozambique;2020;Sub-Saharan Africa;120;4"
        ],
        [
         "Mozambique;2018;Sub-Saharan Africa;123;4"
        ],
        [
         "Mozambique;2019;Sub-Saharan Africa;123;4"
        ],
        [
         "Myanmar;2017;Southeastern Asia;114;4"
        ],
        [
         "Myanmar;2023;Southeastern Asia;117;4"
        ],
        [
         "Myanmar;2016;Southeastern Asia;119;4"
        ],
        [
         "Myanmar;2021;Southeastern Asia;126;4"
        ],
        [
         "Myanmar;2022;Southeastern Asia;126;4"
        ],
        [
         "Myanmar;2015;Southeastern Asia;129;4"
        ],
        [
         "Myanmar;2018;Southeastern Asia;130;4"
        ],
        [
         "Myanmar;2019;Southeastern Asia;131;4"
        ],
        [
         "Myanmar;2020;Southeastern Asia;133;4"
        ],
        [
         "Namibia;2023;Sub-Saharan Africa;105;4"
        ],
        [
         "Namibia;2017;Sub-Saharan Africa;111;4"
        ],
        [
         "Namibia;2016;Sub-Saharan Africa;113;4"
        ],
        [
         "Namibia;2019;Sub-Saharan Africa;113;4"
        ],
        [
         "Namibia;2018;Sub-Saharan Africa;119;4"
        ],
        [
         "Namibia;2020;Sub-Saharan Africa;122;4"
        ],
        [
         "Namibia;2021;Sub-Saharan Africa;124;4"
        ],
        [
         "Namibia;2022;Sub-Saharan Africa;124;4"
        ],
        [
         "Nepal;2023;Southern Asia;78;5"
        ],
        [
         "Nepal;2022;Southern Asia;84;5"
        ],
        [
         "Nepal;2021;Southern Asia;87;5"
        ],
        [
         "Nepal;2020;Southern Asia;92;5"
        ],
        [
         "Nepal;2017;Southern Asia;99;4"
        ],
        [
         "Nepal;2019;Southern Asia;100;4"
        ],
        [
         "Nepal;2018;Southern Asia;101;4"
        ],
        [
         "Nepal;2016;Southern Asia;107;4"
        ],
        [
         "Nepal;2015;Southern Asia;121;4"
        ],
        [
         "Netherlands;2019;Western Europe;5;7"
        ],
        [
         "Netherlands;2021;Western Europe;5;7"
        ],
        [
         "Netherlands;2022;Western Europe;5;7"
        ],
        [
         "Netherlands;2023;Western Europe;5;7"
        ],
        [
         "Netherlands;2017;Western Europe;6;7"
        ],
        [
         "Netherlands;2018;Western Europe;6;7"
        ],
        [
         "Netherlands;2020;Western Europe;6;7"
        ],
        [
         "Netherlands;2015;Western Europe;7;7"
        ],
        [
         "Netherlands;2016;Western Europe;7;7"
        ],
        [
         "New Zealand;2016;Australia and New Zealand;8;7"
        ],
        [
         "New Zealand;2017;Australia and New Zealand;8;7"
        ],
        [
         "New Zealand;2018;Australia and New Zealand;8;7"
        ],
        [
         "New Zealand;2019;Australia and New Zealand;8;7"
        ],
        [
         "New Zealand;2020;Australia and New Zealand;8;7"
        ],
        [
         "New Zealand;2015;Australia and New Zealand;9;7"
        ],
        [
         "New Zealand;2021;Australia and New Zealand;9;7"
        ],
        [
         "New Zealand;2022;Australia and New Zealand;10;7"
        ],
        [
         "New Zealand;2023;Australia and New Zealand;10;7"
        ],
        [
         "Nicaragua;2023;Latin America and Caribbean;40;6"
        ],
        [
         "Nicaragua;2018;Latin America and Caribbean;41;6"
        ],
        [
         "Nicaragua;2017;Latin America and Caribbean;43;6"
        ],
        [
         "Nicaragua;2019;Latin America and Caribbean;45;6"
        ],
        [
         "Nicaragua;2022;Latin America and Caribbean;45;6"
        ],
        [
         "Nicaragua;2020;Latin America and Caribbean;46;6"
        ],
        [
         "Nicaragua;2016;Latin America and Caribbean;48;5"
        ],
        [
         "Nicaragua;2021;Latin America and Caribbean;55;5"
        ],
        [
         "Nicaragua;2015;Latin America and Caribbean;57;5"
        ],
        [
         "Niger;2021;Sub-Saharan Africa;96;5"
        ],
        [
         "Niger;2020;Sub-Saharan Africa;103;4"
        ],
        [
         "Niger;2022;Sub-Saharan Africa;104;5"
        ],
        [
         "Niger;2023;Sub-Saharan Africa;109;4"
        ],
        [
         "Niger;2019;Sub-Saharan Africa;114;4"
        ],
        [
         "Niger;2018;Sub-Saharan Africa;134;4"
        ],
        [
         "Niger;2017;Sub-Saharan Africa;135;4"
        ],
        [
         "Niger;2016;Sub-Saharan Africa;142;3"
        ],
        [
         "Niger;2015;Sub-Saharan Africa;144;3"
        ],
        [
         "Nigeria;2015;Sub-Saharan Africa;78;5"
        ],
        [
         "Nigeria;2019;Sub-Saharan Africa;85;5"
        ],
        [
         "Nigeria;2018;Sub-Saharan Africa;91;5"
        ],
        [
         "Nigeria;2017;Sub-Saharan Africa;95;5"
        ],
        [
         "Nigeria;2023;Sub-Saharan Africa;95;4"
        ],
        [
         "Nigeria;2016;Sub-Saharan Africa;103;4"
        ],
        [
         "Nigeria;2020;Sub-Saharan Africa;115;4"
        ],
        [
         "Nigeria;2021;Sub-Saharan Africa;116;4"
        ],
        [
         "Nigeria;2022;Sub-Saharan Africa;118;4"
        ],
        [
         "North Cyprus;2017;Western Europe;61;5"
        ],
        [
         "North Cyprus;2016;Western Europe;62;5"
        ],
        [
         "North Cyprus;2015;Western Europe;66;5"
        ],
        [
         "North Cyprus;2021;Western Europe;74;5"
        ],
        [
         "North Cyprus;2020;Western Europe;76;5"
        ],
        [
         "Norway;2017;Western Europe;1;7"
        ],
        [
         "Norway;2018;Western Europe;2;7"
        ],
        [
         "Norway;2019;Western Europe;3;7"
        ],
        [
         "Norway;2015;Western Europe;4;7"
        ],
        [
         "Norway;2016;Western Europe;4;7"
        ],
        [
         "Norway;2020;Western Europe;5;7"
        ],
        [
         "Norway;2021;Western Europe;6;7"
        ],
        [
         "Norway;2023;Western Europe;7;7"
        ],
        [
         "Norway;2022;Western Europe;8;7"
        ],
        [
         "Oman;2015;Middle East and Northern Africa;22;6"
        ],
        [
         "Pakistan;2020;Southern Asia;66;5"
        ],
        [
         "Pakistan;2019;Southern Asia;67;5"
        ],
        [
         "Pakistan;2018;Southern Asia;75;5"
        ],
        [
         "Pakistan;2017;Southern Asia;80;5"
        ],
        [
         "Pakistan;2015;Southern Asia;81;5"
        ],
        [
         "Pakistan;2016;Southern Asia;92;5"
        ],
        [
         "Pakistan;2021;Southern Asia;105;4"
        ],
        [
         "Pakistan;2023;Southern Asia;108;4"
        ],
        [
         "Pakistan;2022;Southern Asia;121;4"
        ],
        [
         "Palestinian Territories;2023;Middle East and Northern Africa;99;4"
        ],
        [
         "Palestinian Territories;2017;Middle East and Northern Africa;103;4"
        ],
        [
         "Palestinian Territories;2018;Middle East and Northern Africa;104;4"
        ],
        [
         "Palestinian Territories;2015;Middle East and Northern Africa;108;4"
        ],
        [
         "Palestinian Territories;2016;Middle East and Northern Africa;108;4"
        ],
        [
         "Palestinian Territories;2019;Middle East and Northern Africa;110;4"
        ],
        [
         "Palestinian Territories;2022;Middle East and Northern Africa;122;4"
        ],
        [
         "Palestinian Territories;2020;Middle East and Northern Africa;125;4"
        ],
        [
         "Palestinian Territories;2021;Middle East and Northern Africa;125;4"
        ],
        [
         "Panama;2015;Latin America and Caribbean;25;6"
        ],
        [
         "Panama;2016;Latin America and Caribbean;25;6"
        ],
        [
         "Panama;2018;Latin America and Caribbean;27;6"
        ],
        [
         "Panama;2017;Latin America and Caribbean;30;6"
        ],
        [
         "Panama;2019;Latin America and Caribbean;31;6"
        ],
        [
         "Panama;2020;Latin America and Caribbean;36;6"
        ],
        [
         "Panama;2022;Latin America and Caribbean;37;6"
        ],
        [
         "Panama;2023;Latin America and Caribbean;38;6"
        ],
        [
         "Panama;2021;Latin America and Caribbean;41;6"
        ],
        [
         "Paraguay;2015;Latin America and Caribbean;53;5"
        ],
        [
         "Paraguay;2019;Latin America and Caribbean;63;5"
        ],
        [
         "Paraguay;2018;Latin America and Caribbean;64;5"
        ],
        [
         "Paraguay;2023;Latin America and Caribbean;66;5"
        ],
        [
         "Paraguay;2020;Latin America and Caribbean;67;5"
        ],
        [
         "Paraguay;2016;Latin America and Caribbean;70;5"
        ],
        [
         "Paraguay;2017;Latin America and Caribbean;70;5"
        ],
        [
         "Paraguay;2021;Latin America and Caribbean;71;5"
        ],
        [
         "Paraguay;2022;Latin America and Caribbean;73;5"
        ],
        [
         "Peru;2015;Latin America and Caribbean;58;5"
        ],
        [
         "Peru;2017;Latin America and Caribbean;63;5"
        ],
        [
         "Peru;2020;Latin America and Caribbean;63;5"
        ],
        [
         "Peru;2021;Latin America and Caribbean;63;5"
        ],
        [
         "Peru;2016;Latin America and Caribbean;64;5"
        ],
        [
         "Peru;2018;Latin America and Caribbean;65;5"
        ],
        [
         "Peru;2019;Latin America and Caribbean;65;5"
        ],
        [
         "Peru;2022;Latin America and Caribbean;74;5"
        ],
        [
         "Peru;2023;Latin America and Caribbean;75;5"
        ],
        [
         "Philippines;2020;Southeastern Asia;52;6"
        ],
        [
         "Philippines;2022;Southeastern Asia;60;5"
        ],
        [
         "Philippines;2021;Southeastern Asia;61;5"
        ],
        [
         "Philippines;2019;Southeastern Asia;69;5"
        ],
        [
         "Philippines;2018;Southeastern Asia;71;5"
        ],
        [
         "Philippines;2017;Southeastern Asia;72;5"
        ],
        [
         "Philippines;2023;Southeastern Asia;76;5"
        ],
        [
         "Philippines;2016;Southeastern Asia;82;5"
        ],
        [
         "Philippines;2015;Southeastern Asia;90;5"
        ],
        [
         "Poland;2023;Central and Eastern Europe;39;6"
        ],
        [
         "Poland;2019;Central and Eastern Europe;40;6"
        ],
        [
         "Poland;2018;Central and Eastern Europe;42;6"
        ],
        [
         "Poland;2020;Central and Eastern Europe;43;6"
        ],
        [
         "Poland;2021;Central and Eastern Europe;44;6"
        ],
        [
         "Poland;2017;Central and Eastern Europe;46;5"
        ],
        [
         "Poland;2022;Central and Eastern Europe;48;6"
        ],
        [
         "Poland;2016;Central and Eastern Europe;57;5"
        ],
        [
         "Poland;2015;Central and Eastern Europe;60;5"
        ],
        [
         "Portugal;2022;Western Europe;56;6"
        ],
        [
         "Portugal;2023;Western Europe;56;5"
        ],
        [
         "Portugal;2021;Western Europe;58;5"
        ],
        [
         "Portugal;2020;Western Europe;59;5"
        ],
        [
         "Portugal;2019;Western Europe;66;5"
        ],
        [
         "Portugal;2018;Western Europe;77;5"
        ],
        [
         "Portugal;2015;Western Europe;88;5"
        ],
        [
         "Portugal;2017;Western Europe;89;5"
        ],
        [
         "Portugal;2016;Western Europe;94;5"
        ],
        [
         "Puerto Rico;2016;Latin America and Caribbean;15;7"
        ],
        [
         "Qatar;2015;Middle East and Northern Africa;28;6"
        ],
        [
         "Qatar;2019;Middle East and Northern Africa;29;6"
        ],
        [
         "Qatar;2018;Middle East and Northern Africa;32;6"
        ],
        [
         "Qatar;2017;Middle East and Northern Africa;35;6"
        ],
        [
         "Qatar;2016;Middle East and Northern Africa;36;6"
        ],
        [
         "Romania;2023;Central and Eastern Europe;24;6"
        ],
        [
         "Romania;2022;Central and Eastern Europe;28;6"
        ],
        [
         "Romania;2021;Central and Eastern Europe;46;6"
        ],
        [
         "Romania;2020;Central and Eastern Europe;47;6"
        ],
        [
         "Romania;2019;Central and Eastern Europe;48;6"
        ],
        [
         "Romania;2018;Central and Eastern Europe;52;5"
        ],
        [
         "Romania;2017;Central and Eastern Europe;57;5"
        ],
        [
         "Romania;2016;Central and Eastern Europe;71;5"
        ],
        [
         "Romania;2015;Central and Eastern Europe;86;5"
        ],
        [
         "Russia;2017;Central and Eastern Europe;49;5"
        ],
        [
         "Russia;2016;Central and Eastern Europe;56;5"
        ],
        [
         "Russia;2018;Central and Eastern Europe;59;5"
        ],
        [
         "Russia;2015;Central and Eastern Europe;64;5"
        ],
        [
         "Russia;2019;Central and Eastern Europe;68;5"
        ],
        [
         "Russia;2023;Central and Eastern Europe;70;5"
        ],
        [
         "Russia;2020;Central and Eastern Europe;73;5"
        ],
        [
         "Russia;2021;Central and Eastern Europe;76;5"
        ],
        [
         "Russia;2022;Central and Eastern Europe;80;5"
        ],
        [
         "Rwanda;2022;Sub-Saharan Africa;143;3"
        ],
        [
         "Rwanda;2021;Sub-Saharan Africa;147;3"
        ],
        [
         "Rwanda;2020;Sub-Saharan Africa;150;3"
        ],
        [
         "Rwanda;2017;Sub-Saharan Africa;151;3"
        ],
        [
         "Rwanda;2018;Sub-Saharan Africa;151;3"
        ],
        [
         "Rwanda;2016;Sub-Saharan Africa;152;3"
        ],
        [
         "Rwanda;2019;Sub-Saharan Africa;152;3"
        ],
        [
         "Rwanda;2015;Sub-Saharan Africa;154;3"
        ],
        [
         "Saudi Arabia;2022;Middle East and Northern Africa;25;6"
        ],
        [
         "Saudi Arabia;2021;Middle East and Northern Africa;26;6"
        ],
        [
         "Saudi Arabia;2020;Middle East and Northern Africa;27;6"
        ],
        [
         "Saudi Arabia;2019;Middle East and Northern Africa;28;6"
        ],
        [
         "Saudi Arabia;2023;Middle East and Northern Africa;30;6"
        ],
        [
         "Saudi Arabia;2018;Middle East and Northern Africa;33;6"
        ],
        [
         "Saudi Arabia;2016;Middle East and Northern Africa;34;6"
        ],
        [
         "Saudi Arabia;2015;Middle East and Northern Africa;35;6"
        ],
        [
         "Saudi Arabia;2017;Middle East and Northern Africa;37;6"
        ],
        [
         "Senegal;2021;Sub-Saharan Africa;92;5"
        ],
        [
         "Senegal;2020;Sub-Saharan Africa;101;4"
        ],
        [
         "Senegal;2023;Sub-Saharan Africa;102;4"
        ],
        [
         "Senegal;2022;Sub-Saharan Africa;103;5"
        ],
        [
         "Senegal;2018;Sub-Saharan Africa;109;4"
        ],
        [
         "Senegal;2019;Sub-Saharan Africa;111;4"
        ],
        [
         "Senegal;2017;Sub-Saharan Africa;115;4"
        ],
        [
         "Senegal;2016;Sub-Saharan Africa;128;4"
        ],
        [
         "Senegal;2015;Sub-Saharan Africa;142;3"
        ],
        [
         "Serbia;2022;Central and Eastern Europe;43;6"
        ],
        [
         "Serbia;2023;Central and Eastern Europe;45;6"
        ],
        [
         "Serbia;2021;Central and Eastern Europe;48;6"
        ],
        [
         "Serbia;2020;Central and Eastern Europe;64;5"
        ],
        [
         "Serbia;2019;Central and Eastern Europe;70;5"
        ],
        [
         "Serbia;2017;Central and Eastern Europe;73;5"
        ],
        [
         "Serbia;2018;Central and Eastern Europe;78;5"
        ],
        [
         "Serbia;2016;Central and Eastern Europe;86;5"
        ],
        [
         "Serbia;2015;Central and Eastern Europe;87;5"
        ],
        [
         "Sierra Leone;2017;Sub-Saharan Africa;106;4"
        ],
        [
         "Sierra Leone;2016;Sub-Saharan Africa;111;4"
        ],
        [
         "Sierra Leone;2018;Sub-Saharan Africa;113;4"
        ],
        [
         "Sierra Leone;2015;Sub-Saharan Africa;123;4"
        ],
        [
         "Sierra Leone;2019;Sub-Saharan Africa;129;4"
        ],
        [
         "Sierra Leone;2023;Sub-Saharan Africa;135;3"
        ],
        [
         "Sierra Leone;2021;Sub-Saharan Africa;138;3"
        ],
        [
         "Sierra Leone;2020;Sub-Saharan Africa;139;3"
        ],
        [
         "Sierra Leone;2022;Sub-Saharan Africa;140;3"
        ],
        [
         "Singapore;2016;Southeastern Asia;22;6"
        ],
        [
         "Singapore;2015;Southeastern Asia;24;6"
        ],
        [
         "Singapore;2023;Southeastern Asia;25;6"
        ],
        [
         "Singapore;2017;Southeastern Asia;26;6"
        ],
        [
         "Singapore;2022;Southeastern Asia;27;6"
        ],
        [
         "Singapore;2020;Southeastern Asia;31;6"
        ],
        [
         "Singapore;2021;Southeastern Asia;32;6"
        ],
        [
         "Singapore;2018;Southeastern Asia;34;6"
        ],
        [
         "Singapore;2019;Southeastern Asia;34;6"
        ],
        [
         "Slovakia;2023;Central and Eastern Europe;29;6"
        ],
        [
         "Slovakia;2021;Central and Eastern Europe;34;6"
        ],
        [
         "Slovakia;2022;Central and Eastern Europe;35;6"
        ],
        [
         "Slovakia;2020;Central and Eastern Europe;37;6"
        ],
        [
         "Slovakia;2019;Central and Eastern Europe;38;6"
        ],
        [
         "Slovakia;2018;Central and Eastern Europe;39;6"
        ],
        [
         "Slovakia;2017;Central and Eastern Europe;40;6"
        ],
        [
         "Slovakia;2015;Central and Eastern Europe;45;5"
        ],
        [
         "Slovakia;2016;Central and Eastern Europe;45;6"
        ],
        [
         "Slovenia;2022;Central and Eastern Europe;22;6"
        ],
        [
         "Slovenia;2023;Central and Eastern Europe;22;6"
        ],
        [
         "Slovenia;2021;Central and Eastern Europe;29;6"
        ],
        [
         "Slovenia;2020;Central and Eastern Europe;33;6"
        ],
        [
         "Slovenia;2019;Central and Eastern Europe;44;6"
        ],
        [
         "Slovenia;2018;Central and Eastern Europe;51;5"
        ],
        [
         "Slovenia;2015;Central and Eastern Europe;55;5"
        ],
        [
         "Slovenia;2017;Central and Eastern Europe;62;5"
        ],
        [
         "Slovenia;2016;Central and Eastern Europe;63;5"
        ],
        [
         "Somalia;2016;Sub-Saharan Africa;76;5"
        ],
        [
         "Somaliland region;2015;Sub-Saharan Africa;91;5"
        ],
        [
         "Somaliland region;2017;Sub-Saharan Africa;93;5"
        ],
        [
         "Somaliland Region;2016;Sub-Saharan Africa;97;5"
        ],
        [
         "Somaliland region;2018;Sub-Saharan Africa;98;4"
        ],
        [
         "Somaliland region;2019;Sub-Saharan Africa;112;4"
        ],
        [
         "South Africa;2023;Sub-Saharan Africa;85;5"
        ],
        [
         "South Africa;2022;Sub-Saharan Africa;91;5"
        ],
        [
         "South Africa;2017;Sub-Saharan Africa;101;4"
        ],
        [
         "South Africa;2021;Sub-Saharan Africa;103;4"
        ],
        [
         "South Africa;2018;Sub-Saharan Africa;105;4"
        ],
        [
         "South Africa;2019;Sub-Saharan Africa;106;4"
        ],
        [
         "South Africa;2020;Sub-Saharan Africa;109;4"
        ],
        [
         "South Africa;2015;Sub-Saharan Africa;113;4"
        ],
        [
         "South Africa;2016;Sub-Saharan Africa;116;4"
        ],
        [
         "South Korea;2015;Eastern Asia;47;5"
        ],
        [
         "South Korea;2019;Eastern Asia;54;5"
        ],
        [
         "South Korea;2017;Eastern Asia;55;5"
        ],
        [
         "South Korea;2016;Eastern Asia;57;5"
        ],
        [
         "South Korea;2018;Eastern Asia;57;5"
        ],
        [
         "South Korea;2023;Eastern Asia;57;5"
        ],
        [
         "South Korea;2022;Eastern Asia;59;5"
        ],
        [
         "South Korea;2020;Eastern Asia;61;5"
        ],
        [
         "South Korea;2021;Eastern Asia;62;5"
        ],
        [
         "South Sudan;2016;Sub-Saharan Africa;143;3"
        ],
        [
         "South Sudan;2017;Sub-Saharan Africa;147;3"
        ],
        [
         "Spain;2021;Western Europe;27;6"
        ],
        [
         "Spain;2020;Western Europe;28;6"
        ],
        [
         "Spain;2022;Western Europe;29;6"
        ],
        [
         "Spain;2019;Western Europe;30;6"
        ],
        [
         "Spain;2023;Western Europe;32;6"
        ],
        [
         "Spain;2017;Western Europe;34;6"
        ],
        [
         "Spain;2015;Western Europe;36;6"
        ],
        [
         "Spain;2018;Western Europe;36;6"
        ],
        [
         "Spain;2016;Western Europe;37;6"
        ],
        [
         "Sri Lanka;2023;Southern Asia;112;4"
        ],
        [
         "Sri Lanka;2018;Southern Asia;116;4"
        ],
        [
         "Sri Lanka;2016;Southern Asia;117;4"
        ],
        [
         "Sri Lanka;2017;Southern Asia;120;4"
        ],
        [
         "Sri Lanka;2022;Southern Asia;127;4"
        ],
        [
         "Sri Lanka;2021;Southern Asia;129;4"
        ],
        [
         "Sri Lanka;2019;Southern Asia;130;4"
        ],
        [
         "Sri Lanka;2020;Southern Asia;130;4"
        ],
        [
         "Sri Lanka;2015;Southern Asia;132;4"
        ],
        [
         "Sudan;2015;Sub-Saharan Africa;118;4"
        ],
        [
         "Sudan;2017;Sub-Saharan Africa;130;4"
        ],
        [
         "Sudan;2016;Sub-Saharan Africa;133;4"
        ],
        [
         "Sudan;2020;Sub-Saharan Africa;152;2"
        ],
        [
         "Sudan;2018;Sub-Saharan Africa;154;3"
        ],
        [
         "Sudan;2019;Sub-Saharan Africa;156;2"
        ],
        [
         "Suriname;2015;Latin America and Caribbean;40;6"
        ],
        [
         "Suriname;2016;Latin America and Caribbean;40;6"
        ],
        [
         "Swaziland;2015;Sub-Saharan Africa;101;4"
        ],
        [
         "Swaziland;2021;Sub-Saharan Africa;130;4"
        ],
        [
         "Swaziland;2020;Sub-Saharan Africa;132;4"
        ],
        [
         "Swaziland;2019;Sub-Saharan Africa;135;4"
        ],
        [
         "Sweden;2023;Western Europe;6;7"
        ],
        [
         "Sweden;2019;Western Europe;7;7"
        ],
        [
         "Sweden;2020;Western Europe;7;7"
        ],
        [
         "Sweden;2021;Western Europe;7;7"
        ],
        [
         "Sweden;2022;Western Europe;7;7"
        ],
        [
         "Sweden;2015;Western Europe;8;7"
        ],
        [
         "Sweden;2017;Western Europe;9;7"
        ],
        [
         "Sweden;2018;Western Europe;9;7"
        ],
        [
         "Sweden;2016;Western Europe;10;7"
        ],
        [
         "Switzerland;2015;Western Europe;1;7"
        ],
        [
         "Switzerland;2016;Western Europe;2;7"
        ],
        [
         "Switzerland;2020;Western Europe;3;7"
        ],
        [
         "Switzerland;2021;Western Europe;3;7"
        ],
        [
         "Switzerland;2017;Western Europe;4;7"
        ],
        [
         "Switzerland;2022;Western Europe;4;7"
        ],
        [
         "Switzerland;2018;Western Europe;5;7"
        ],
        [
         "Switzerland;2019;Western Europe;6;7"
        ],
        [
         "Switzerland;2023;Western Europe;8;7"
        ],
        [
         "Syria;2019;Middle East and Northern Africa;149;3"
        ],
        [
         "Syria;2018;Middle East and Northern Africa;150;3"
        ],
        [
         "Syria;2017;Middle East and Northern Africa;152;3"
        ],
        [
         "Syria;2016;Middle East and Northern Africa;156;3"
        ],
        [
         "Syria;2015;Middle East and Northern Africa;156;3"
        ],
        [
         "Taiwan;2021;Eastern Asia;24;6"
        ],
        [
         "Taiwan;2019;Eastern Asia;25;6"
        ],
        [
         "Taiwan;2020;Eastern Asia;25;6"
        ],
        [
         "Taiwan;2018;Eastern Asia;26;6"
        ],
        [
         "Taiwan;2022;Eastern Asia;26;6"
        ],
        [
         "Taiwan;2023;Eastern Asia;27;6"
        ],
        [
         "Taiwan;2017;Eastern Asia;33;6"
        ],
        [
         "Taiwan;2016;Eastern Asia;34;6"
        ],
        [
         "Taiwan;2015;Eastern Asia;38;6"
        ],
        [
         "Tajikistan;2020;Central and Eastern Europe;71;5"
        ],
        [
         "Tajikistan;2019;Central and Eastern Europe;74;5"
        ],
        [
         "Tajikistan;2021;Central and Eastern Europe;78;5"
        ],
        [
         "Tajikistan;2023;Central and Eastern Europe;80;5"
        ],
        [
         "Tajikistan;2022;Central and Eastern Europe;83;5"
        ],
        [
         "Tajikistan;2018;Central and Eastern Europe;88;5"
        ],
        [
         "Tajikistan;2017;Central and Eastern Europe;96;5"
        ],
        [
         "Tajikistan;2016;Central and Eastern Europe;100;4"
        ],
        [
         "Tajikistan;2015;Central and Eastern Europe;106;4"
        ],
        [
         "Tanzania;2023;Sub-Saharan Africa;129;3"
        ],
        [
         "Tanzania;2022;Sub-Saharan Africa;139;3"
        ],
        [
         "Tanzania;2021;Sub-Saharan Africa;142;3"
        ],
        [
         "Tanzania;2015;Sub-Saharan Africa;146;3"
        ],
        [
         "Tanzania;2020;Sub-Saharan Africa;148;3"
        ],
        [
         "Tanzania;2016;Sub-Saharan Africa;149;3"
        ],
        [
         "Tanzania;2017;Sub-Saharan Africa;153;3"
        ],
        [
         "Tanzania;2018;Sub-Saharan Africa;153;3"
        ],
        [
         "Tanzania;2019;Sub-Saharan Africa;153;3"
        ],
        [
         "Thailand;2017;Southeastern Asia;32;6"
        ],
        [
         "Thailand;2016;Southeastern Asia;33;6"
        ],
        [
         "Thailand;2015;Southeastern Asia;34;6"
        ],
        [
         "Thailand;2018;Southeastern Asia;46;6"
        ],
        [
         "Thailand;2019;Southeastern Asia;52;6"
        ],
        [
         "Thailand;2020;Southeastern Asia;54;5"
        ],
        [
         "Thailand;2021;Southeastern Asia;54;5"
        ],
        [
         "Thailand;2023;Southeastern Asia;60;5"
        ],
        [
         "Thailand;2022;Southeastern Asia;61;5"
        ],
        [
         "Togo;2023;Sub-Saharan Africa;122;4"
        ],
        [
         "Togo;2020;Sub-Saharan Africa;135;4"
        ],
        [
         "Togo;2022;Sub-Saharan Africa;135;4"
        ],
        [
         "Togo;2021;Sub-Saharan Africa;136;4"
        ],
        [
         "Togo;2018;Sub-Saharan Africa;139;3"
        ],
        [
         "Togo;2019;Sub-Saharan Africa;139;4"
        ],
        [
         "Togo;2017;Sub-Saharan Africa;150;3"
        ],
        [
         "Togo;2016;Sub-Saharan Africa;155;3"
        ],
        [
         "Togo;2015;Sub-Saharan Africa;158;2"
        ],
        [
         "Trinidad and Tobago;2017;Latin America and Caribbean;38;6"
        ],
        [
         "Trinidad and Tobago;2018;Latin America and Caribbean;38;6"
        ],
        [
         "Trinidad and Tobago;2019;Latin America and Caribbean;39;6"
        ],
        [
         "Trinidad and Tobago;2015;Latin America and Caribbean;41;6"
        ],
        [
         "Trinidad and Tobago;2020;Latin America and Caribbean;42;6"
        ],
        [
         "Trinidad and Tobago;2016;Latin America and Caribbean;43;6"
        ],
        [
         "Tunisia;2016;Middle East and Northern Africa;98;5"
        ],
        [
         "Tunisia;2017;Middle East and Northern Africa;102;4"
        ],
        [
         "Tunisia;2015;Middle East and Northern Africa;107;4"
        ],
        [
         "Tunisia;2023;Middle East and Northern Africa;110;4"
        ],
        [
         "Tunisia;2018;Middle East and Northern Africa;111;4"
        ],
        [
         "Tunisia;2022;Middle East and Northern Africa;120;4"
        ],
        [
         "Tunisia;2021;Middle East and Northern Africa;122;4"
        ],
        [
         "Tunisia;2019;Middle East and Northern Africa;124;4"
        ],
        [
         "Tunisia;2020;Middle East and Northern Africa;128;4"
        ],
        [
         "Turkey;2017;Middle East and Northern Africa;69;5"
        ],
        [
         "Turkey;2018;Middle East and Northern Africa;74;5"
        ],
        [
         "Turkey;2015;Middle East and Northern Africa;76;5"
        ],
        [
         "Turkey;2016;Middle East and Northern Africa;78;5"
        ],
        [
         "Turkey;2019;Middle East and Northern Africa;79;5"
        ],
        [
         "Turkey;2020;Middle East and Northern Africa;93;5"
        ],
        [
         "Turkey;2021;Middle East and Northern Africa;104;4"
        ],
        [
         "Turkey;2023;Middle East and Northern Africa;106;4"
        ],
        [
         "Turkey;2022;Middle East and Northern Africa;112;4"
        ],
        [
         "Turkmenistan;2017;Central and Eastern Europe;59;5"
        ],
        [
         "Turkmenistan;2016;Central and Eastern Europe;65;5"
        ],
        [
         "Turkmenistan;2018;Central and Eastern Europe;68;5"
        ],
        [
         "Turkmenistan;2015;Central and Eastern Europe;70;5"
        ],
        [
         "Turkmenistan;2022;Central and Eastern Europe;78;5"
        ],
        [
         "Turkmenistan;2019;Central and Eastern Europe;87;5"
        ],
        [
         "Turkmenistan;2020;Central and Eastern Europe;95;5"
        ],
        [
         "Turkmenistan;2021;Central and Eastern Europe;97;5"
        ],
        [
         "Uganda;2023;Sub-Saharan Africa;113;4"
        ],
        [
         "Uganda;2022;Sub-Saharan Africa;117;4"
        ],
        [
         "Uganda;2021;Sub-Saharan Africa;119;4"
        ],
        [
         "Uganda;2020;Sub-Saharan Africa;126;4"
        ],
        [
         "Uganda;2017;Sub-Saharan Africa;133;4"
        ],
        [
         "Uganda;2018;Sub-Saharan Africa;135;4"
        ],
        [
         "Uganda;2019;Sub-Saharan Africa;136;4"
        ],
        [
         "Uganda;2015;Sub-Saharan Africa;141;3"
        ],
        [
         "Uganda;2016;Sub-Saharan Africa;145;3"
        ],
        [
         "Ukraine;2023;Central and Eastern Europe;92;5"
        ],
        [
         "Ukraine;2022;Central and Eastern Europe;98;5"
        ],
        [
         "Ukraine;2021;Central and Eastern Europe;110;4"
        ],
        [
         "Ukraine;2015;Central and Eastern Europe;111;4"
        ],
        [
         "Ukraine;2016;Central and Eastern Europe;123;4"
        ],
        [
         "Ukraine;2020;Central and Eastern Europe;123;4"
        ],
        [
         "Ukraine;2017;Central and Eastern Europe;132;4"
        ],
        [
         "Ukraine;2019;Central and Eastern Europe;133;4"
        ],
        [
         "Ukraine;2018;Central and Eastern Europe;138;4"
        ],
        [
         "United Arab Emirates;2015;Middle East and Northern Africa;20;6"
        ],
        [
         "United Arab Emirates;2017;Middle East and Northern Africa;21;6"
        ],
        [
         "United Arab Emirates;2019;Middle East and Northern Africa;21;6"
        ],
        [
         "United Arab Emirates;2020;Middle East and Northern Africa;21;6"
        ],
        [
         "United Arab Emirates;2022;Middle East and Northern Africa;24;6"
        ],
        [
         "United Arab Emirates;2021;Middle East and Northern Africa;25;6"
        ],
        [
         "United Arab Emirates;2023;Middle East and Northern Africa;26;6"
        ],
        [
         "United Arab Emirates;2016;Middle East and Northern Africa;28;6"
        ],
        [
         "United Kingdom;2018;Western Europe;11;7"
        ],
        [
         "United Kingdom;2020;Western Europe;13;7"
        ],
        [
         "United Kingdom;2019;Western Europe;15;7"
        ],
        [
         "United Kingdom;2021;Western Europe;17;7"
        ],
        [
         "United Kingdom;2022;Western Europe;17;6"
        ],
        [
         "United Kingdom;2017;Western Europe;19;6"
        ],
        [
         "United Kingdom;2023;Western Europe;19;6"
        ],
        [
         "United Kingdom;2015;Western Europe;21;6"
        ],
        [
         "United Kingdom;2016;Western Europe;23;6"
        ],
        [
         "United States;2016;North America;13;7"
        ],
        [
         "United States;2017;North America;14;6"
        ],
        [
         "United States;2015;North America;15;7"
        ],
        [
         "United States;2023;North America;15;6"
        ],
        [
         "United States;2022;North America;16;6"
        ],
        [
         "United States;2018;North America;18;6"
        ],
        [
         "United States;2020;North America;18;6"
        ],
        [
         "United States;2019;North America;19;6"
        ],
        [
         "United States;2021;North America;19;6"
        ],
        [
         "Uruguay;2020;Latin America and Caribbean;26;6"
        ],
        [
         "Uruguay;2017;Latin America and Caribbean;28;6"
        ],
        [
         "Uruguay;2023;Latin America and Caribbean;28;6"
        ],
        [
         "Uruguay;2016;Latin America and Caribbean;29;6"
        ],
        [
         "Uruguay;2022;Latin America and Caribbean;30;6"
        ],
        [
         "Uruguay;2018;Latin America and Caribbean;31;6"
        ],
        [
         "Uruguay;2021;Latin America and Caribbean;31;6"
        ],
        [
         "Uruguay;2015;Latin America and Caribbean;32;6"
        ],
        [
         "Uruguay;2019;Latin America and Caribbean;33;6"
        ],
        [
         "Uzbekistan;2020;Central and Eastern Europe;38;6"
        ],
        [
         "Uzbekistan;2019;Central and Eastern Europe;41;6"
        ],
        [
         "Uzbekistan;2021;Central and Eastern Europe;42;6"
        ],
        [
         "Uzbekistan;2015;Central and Eastern Europe;44;6"
        ],
        [
         "Uzbekistan;2018;Central and Eastern Europe;44;6"
        ],
        [
         "Uzbekistan;2017;Central and Eastern Europe;47;5"
        ],
        [
         "Uzbekistan;2016;Central and Eastern Europe;49;5"
        ],
        [
         "Uzbekistan;2022;Central and Eastern Europe;53;6"
        ],
        [
         "Uzbekistan;2023;Central and Eastern Europe;54;6"
        ],
        [
         "Venezuela;2015;Latin America and Caribbean;23;6"
        ],
        [
         "Venezuela;2016;Latin America and Caribbean;44;6"
        ],
        [
         "Venezuela;2017;Latin America and Caribbean;82;5"
        ],
        [
         "Venezuela;2023;Latin America and Caribbean;88;5"
        ],
        [
         "Venezuela;2020;Latin America and Caribbean;99;5"
        ],
        [
         "Venezuela;2018;Latin America and Caribbean;102;4"
        ],
        [
         "Venezuela;2021;Latin America and Caribbean;107;4"
        ],
        [
         "Venezuela;2019;Latin America and Caribbean;108;4"
        ],
        [
         "Venezuela;2022;Latin America and Caribbean;108;4"
        ],
        [
         "Vietnam;2023;Southeastern Asia;65;5"
        ],
        [
         "Vietnam;2015;Southeastern Asia;75;5"
        ],
        [
         "Vietnam;2022;Southeastern Asia;77;5"
        ],
        [
         "Vietnam;2021;Southeastern Asia;79;5"
        ],
        [
         "Vietnam;2020;Southeastern Asia;83;5"
        ],
        [
         "Vietnam;2017;Southeastern Asia;94;5"
        ],
        [
         "Vietnam;2019;Southeastern Asia;94;5"
        ],
        [
         "Vietnam;2018;Southeastern Asia;95;5"
        ],
        [
         "Vietnam;2016;Southeastern Asia;96;5"
        ],
        [
         "Yemen;2022;Middle East and Northern Africa;132;4"
        ],
        [
         "Yemen;2015;Middle East and Northern Africa;136;4"
        ],
        [
         "Yemen;2021;Middle East and Northern Africa;141;3"
        ],
        [
         "Yemen;2017;Middle East and Northern Africa;146;3"
        ],
        [
         "Yemen;2020;Middle East and Northern Africa;146;3"
        ],
        [
         "Yemen;2016;Middle East and Northern Africa;147;3"
        ],
        [
         "Yemen;2019;Middle East and Northern Africa;151;3"
        ],
        [
         "Yemen;2018;Middle East and Northern Africa;152;3"
        ],
        [
         "Zambia;2015;Sub-Saharan Africa;85;5"
        ],
        [
         "Zambia;2016;Sub-Saharan Africa;106;4"
        ],
        [
         "Zambia;2017;Sub-Saharan Africa;116;4"
        ],
        [
         "Zambia;2018;Sub-Saharan Africa;125;4"
        ],
        [
         "Zambia;2023;Sub-Saharan Africa;128;3"
        ],
        [
         "Zambia;2021;Sub-Saharan Africa;137;4"
        ],
        [
         "Zambia;2022;Sub-Saharan Africa;137;3"
        ],
        [
         "Zambia;2019;Sub-Saharan Africa;138;4"
        ],
        [
         "Zambia;2020;Sub-Saharan Africa;141;3"
        ],
        [
         "Zimbabwe;2015;Sub-Saharan Africa;115;4"
        ],
        [
         "Zimbabwe;2016;Sub-Saharan Africa;131;4"
        ],
        [
         "Zimbabwe;2023;Sub-Saharan Africa;134;3"
        ],
        [
         "Zimbabwe;2017;Sub-Saharan Africa;138;3"
        ],
        [
         "Zimbabwe;2018;Sub-Saharan Africa;144;3"
        ],
        [
         "Zimbabwe;2022;Sub-Saharan Africa;144;2"
        ],
        [
         "Zimbabwe;2019;Sub-Saharan Africa;146;3"
        ],
        [
         "Zimbabwe;2021;Sub-Saharan Africa;148;3"
        ],
        [
         "Zimbabwe;2020;Sub-Saharan Africa;151;3"
        ]
       ],
       "datasetInfos": [],
       "dbfsResultPath": null,
       "isJsonSchema": true,
       "metadata": {},
       "overflow": false,
       "plotOptions": {
        "customPlotOptions": {},
        "displayType": "table",
        "pivotAggregation": null,
        "pivotColumns": null,
        "xColumns": null,
        "yColumns": null
       },
       "removedWidgets": [],
       "schema": [
        {
         "metadata": "{}",
         "name": "Country;Year;Region;Happiness Rank;Happiness Score;GDP;Social Support;Life Expectancy;Freedom;Generosity;Corruption",
         "type": "\"string\""
        }
       ],
       "type": "table"
      }
     },
     "output_type": "display_data"
    },
    {
     "output_type": "display_data",
     "data": {
      "text/html": [
       "<style scoped>\n",
       "  .table-result-container {\n",
       "    max-height: 300px;\n",
       "    overflow: auto;\n",
       "  }\n",
       "  table, th, td {\n",
       "    border: 1px solid black;\n",
       "    border-collapse: collapse;\n",
       "  }\n",
       "  th, td {\n",
       "    padding: 5px;\n",
       "  }\n",
       "  th {\n",
       "    text-align: left;\n",
       "  }\n",
       "</style><div class='table-result-container'><table class='table-result'><thead style='background-color: white'><tr><th>Region;Continent</th></tr></thead><tbody><tr><td>Southern Asia;Asia</td></tr><tr><td>Central and Eastern Europe;Europe</td></tr><tr><td>Middle East and Northern Africa;Middle East and Northern Africa</td></tr><tr><td>Latin America and Caribbean;Latin America and Caribbean</td></tr><tr><td>Australia and New Zealand;Oceania</td></tr><tr><td>Western Europe;Europe</td></tr><tr><td>Sub-Saharan Africa;Africa </td></tr><tr><td>Southeastern Asia;Asia</td></tr><tr><td>North America;North America</td></tr><tr><td>Eastern Asia;Asia</td></tr></tbody></table></div>"
      ]
     },
     "metadata": {
      "application/vnd.databricks.v1+output": {
       "addedWidgets": {},
       "aggData": [],
       "aggError": "",
       "aggOverflow": false,
       "aggSchema": [],
       "aggSeriesLimitReached": false,
       "aggType": "",
       "arguments": {},
       "columnCustomDisplayInfos": {},
       "data": [
        [
         "Southern Asia;Asia"
        ],
        [
         "Central and Eastern Europe;Europe"
        ],
        [
         "Middle East and Northern Africa;Middle East and Northern Africa"
        ],
        [
         "Latin America and Caribbean;Latin America and Caribbean"
        ],
        [
         "Australia and New Zealand;Oceania"
        ],
        [
         "Western Europe;Europe"
        ],
        [
         "Sub-Saharan Africa;Africa "
        ],
        [
         "Southeastern Asia;Asia"
        ],
        [
         "North America;North America"
        ],
        [
         "Eastern Asia;Asia"
        ]
       ],
       "datasetInfos": [],
       "dbfsResultPath": null,
       "isJsonSchema": true,
       "metadata": {},
       "overflow": false,
       "plotOptions": {
        "customPlotOptions": {},
        "displayType": "table",
        "pivotAggregation": null,
        "pivotColumns": null,
        "xColumns": null,
        "yColumns": null
       },
       "removedWidgets": [],
       "schema": [
        {
         "metadata": "{}",
         "name": "Region;Continent",
         "type": "\"string\""
        }
       ],
       "type": "table"
      }
     },
     "output_type": "display_data"
    }
   ],
   "source": [
    "# Leitura do dataset principal\n",
    "df_happiness = spark.read.format(\"csv\") \\\n",
    "    .option(\"header\", \"true\") \\\n",
    "    .option(\"inferSchema\", \"true\") \\\n",
    "    .load(\"/FileStore/tables/dataset/WHRFinal.csv\")\n",
    "\n",
    "# Leitura do dataset de continentes\n",
    "df_continent = spark.read.format(\"csv\") \\\n",
    "    .option(\"header\", \"true\") \\\n",
    "    .option(\"inferSchema\", \"true\") \\\n",
    "    .load(\"/FileStore/tables/dataset/WHRContinent.csv\")\n",
    "\n",
    "# Visualização\n",
    "display(df_happiness)\n",
    "display(df_continent)\n"
   ]
  },
  {
   "cell_type": "markdown",
   "metadata": {
    "application/vnd.databricks.v1+cell": {
     "cellMetadata": {},
     "inputWidgets": {},
     "nuid": "728bee74-df6e-4b5a-aefe-c83dc0fcb590",
     "showTitle": false,
     "tableResultSettingsMap": {},
     "title": ""
    }
   },
   "source": [
    "## Normalização dos nomes de colunas\n",
    "\n",
    "Os arquivos CSV possuem nomes de colunas com espaços e caracteres especiais, que não são compatíveis com a criação de tabelas Delta.Será realizado:\n",
    "- remover espaços e caracteres especiais\n",
    "- colocar os nomes em minúsculo com underscores (`snake_case`)\n",
    "- salvar od dados na camada Bronze.\n"
   ]
  },
  {
   "cell_type": "code",
   "execution_count": 0,
   "metadata": {
    "application/vnd.databricks.v1+cell": {
     "cellMetadata": {
      "byteLimit": 2048000,
      "rowLimit": 10000
     },
     "inputWidgets": {},
     "nuid": "781bb226-73ac-4ded-8810-aaf4e63523bf",
     "showTitle": true,
     "tableResultSettingsMap": {},
     "title": "Formatação nome das colunas"
    }
   },
   "outputs": [],
   "source": [
    "# Função para limpar nomes de colunas\n",
    "def clean_column_names(df):\n",
    "    for col_name in df.columns:\n",
    "        new_col = col_name.strip().lower().replace(\" \", \"_\").replace(\"(\", \"\").replace(\")\", \"\")\n",
    "        df = df.withColumnRenamed(col_name, new_col)\n",
    "    return df\n"
   ]
  },
  {
   "cell_type": "code",
   "execution_count": 0,
   "metadata": {
    "application/vnd.databricks.v1+cell": {
     "cellMetadata": {
      "byteLimit": 2048000,
      "rowLimit": 10000
     },
     "inputWidgets": {},
     "nuid": "ec91d42e-7b61-4366-8532-902e1bf05e56",
     "showTitle": true,
     "tableResultSettingsMap": {},
     "title": "Aplicar código"
    }
   },
   "outputs": [
    {
     "output_type": "stream",
     "name": "stdout",
     "output_type": "stream",
     "text": [
      "root\n |-- country;year;region;happiness_rank;happiness_score;gdp;social_support;life_expectancy;freedom;generosity;corruption: string (nullable = true)\n\nroot\n |-- region;continent: string (nullable = true)\n\n"
     ]
    }
   ],
   "source": [
    "# Limpar colunas dos dois DataFrames\n",
    "df_happiness_clean = clean_column_names(df_happiness)\n",
    "df_continent_clean = clean_column_names(df_continent)\n",
    "\n",
    "# Visualizar novos nomes\n",
    "df_happiness_clean.printSchema()\n",
    "df_continent_clean.printSchema()\n"
   ]
  },
  {
   "cell_type": "code",
   "execution_count": 0,
   "metadata": {
    "application/vnd.databricks.v1+cell": {
     "cellMetadata": {
      "byteLimit": 2048000,
      "rowLimit": 10000
     },
     "inputWidgets": {},
     "nuid": "d235e586-7f1e-461f-9127-71da807292c9",
     "showTitle": true,
     "tableResultSettingsMap": {},
     "title": "Salvando os dados como tabelas da camada Bronze"
    }
   },
   "outputs": [
    {
     "output_type": "display_data",
     "data": {
      "text/plain": [
       "\u001B[0;31m---------------------------------------------------------------------------\u001B[0m\n",
       "\u001B[0;31mAnalysisException\u001B[0m                         Traceback (most recent call last)\n",
       "File \u001B[0;32m<command-3281497165144793>:2\u001B[0m\n",
       "\u001B[1;32m      1\u001B[0m \u001B[38;5;66;03m# Salvando dataset principal\u001B[39;00m\n",
       "\u001B[0;32m----> 2\u001B[0m df_happiness_clean\u001B[38;5;241m.\u001B[39mwrite\u001B[38;5;241m.\u001B[39mformat(\u001B[38;5;124m\"\u001B[39m\u001B[38;5;124mdelta\u001B[39m\u001B[38;5;124m\"\u001B[39m)\u001B[38;5;241m.\u001B[39mmode(\u001B[38;5;124m\"\u001B[39m\u001B[38;5;124moverwrite\u001B[39m\u001B[38;5;124m\"\u001B[39m)\u001B[38;5;241m.\u001B[39msave(\u001B[38;5;124m\"\u001B[39m\u001B[38;5;124m/mnt/bronze/happiness\u001B[39m\u001B[38;5;124m\"\u001B[39m)\n",
       "\u001B[1;32m      3\u001B[0m spark\u001B[38;5;241m.\u001B[39msql(\u001B[38;5;124m\"\u001B[39m\u001B[38;5;124mDROP TABLE IF EXISTS bronze_happiness\u001B[39m\u001B[38;5;124m\"\u001B[39m)\n",
       "\u001B[1;32m      4\u001B[0m spark\u001B[38;5;241m.\u001B[39msql(\u001B[38;5;124m\"\"\"\u001B[39m\n",
       "\u001B[1;32m      5\u001B[0m \u001B[38;5;124m  CREATE TABLE bronze_happiness\u001B[39m\n",
       "\u001B[1;32m      6\u001B[0m \u001B[38;5;124m  USING DELTA\u001B[39m\n",
       "\u001B[1;32m      7\u001B[0m \u001B[38;5;124m  LOCATION \u001B[39m\u001B[38;5;124m'\u001B[39m\u001B[38;5;124m/mnt/bronze/happiness\u001B[39m\u001B[38;5;124m'\u001B[39m\n",
       "\u001B[1;32m      8\u001B[0m \u001B[38;5;124m\"\"\"\u001B[39m)\n",
       "\n",
       "File \u001B[0;32m/databricks/spark/python/pyspark/instrumentation_utils.py:48\u001B[0m, in \u001B[0;36m_wrap_function.<locals>.wrapper\u001B[0;34m(*args, **kwargs)\u001B[0m\n",
       "\u001B[1;32m     46\u001B[0m start \u001B[38;5;241m=\u001B[39m time\u001B[38;5;241m.\u001B[39mperf_counter()\n",
       "\u001B[1;32m     47\u001B[0m \u001B[38;5;28;01mtry\u001B[39;00m:\n",
       "\u001B[0;32m---> 48\u001B[0m     res \u001B[38;5;241m=\u001B[39m \u001B[43mfunc\u001B[49m\u001B[43m(\u001B[49m\u001B[38;5;241;43m*\u001B[39;49m\u001B[43margs\u001B[49m\u001B[43m,\u001B[49m\u001B[43m \u001B[49m\u001B[38;5;241;43m*\u001B[39;49m\u001B[38;5;241;43m*\u001B[39;49m\u001B[43mkwargs\u001B[49m\u001B[43m)\u001B[49m\n",
       "\u001B[1;32m     49\u001B[0m     logger\u001B[38;5;241m.\u001B[39mlog_success(\n",
       "\u001B[1;32m     50\u001B[0m         module_name, class_name, function_name, time\u001B[38;5;241m.\u001B[39mperf_counter() \u001B[38;5;241m-\u001B[39m start, signature\n",
       "\u001B[1;32m     51\u001B[0m     )\n",
       "\u001B[1;32m     52\u001B[0m     \u001B[38;5;28;01mreturn\u001B[39;00m res\n",
       "\n",
       "File \u001B[0;32m/databricks/spark/python/pyspark/sql/readwriter.py:1397\u001B[0m, in \u001B[0;36mDataFrameWriter.save\u001B[0;34m(self, path, format, mode, partitionBy, **options)\u001B[0m\n",
       "\u001B[1;32m   1395\u001B[0m     \u001B[38;5;28mself\u001B[39m\u001B[38;5;241m.\u001B[39m_jwrite\u001B[38;5;241m.\u001B[39msave()\n",
       "\u001B[1;32m   1396\u001B[0m \u001B[38;5;28;01melse\u001B[39;00m:\n",
       "\u001B[0;32m-> 1397\u001B[0m     \u001B[38;5;28;43mself\u001B[39;49m\u001B[38;5;241;43m.\u001B[39;49m\u001B[43m_jwrite\u001B[49m\u001B[38;5;241;43m.\u001B[39;49m\u001B[43msave\u001B[49m\u001B[43m(\u001B[49m\u001B[43mpath\u001B[49m\u001B[43m)\u001B[49m\n",
       "\n",
       "File \u001B[0;32m/databricks/spark/python/lib/py4j-0.10.9.5-src.zip/py4j/java_gateway.py:1321\u001B[0m, in \u001B[0;36mJavaMember.__call__\u001B[0;34m(self, *args)\u001B[0m\n",
       "\u001B[1;32m   1315\u001B[0m command \u001B[38;5;241m=\u001B[39m proto\u001B[38;5;241m.\u001B[39mCALL_COMMAND_NAME \u001B[38;5;241m+\u001B[39m\\\n",
       "\u001B[1;32m   1316\u001B[0m     \u001B[38;5;28mself\u001B[39m\u001B[38;5;241m.\u001B[39mcommand_header \u001B[38;5;241m+\u001B[39m\\\n",
       "\u001B[1;32m   1317\u001B[0m     args_command \u001B[38;5;241m+\u001B[39m\\\n",
       "\u001B[1;32m   1318\u001B[0m     proto\u001B[38;5;241m.\u001B[39mEND_COMMAND_PART\n",
       "\u001B[1;32m   1320\u001B[0m answer \u001B[38;5;241m=\u001B[39m \u001B[38;5;28mself\u001B[39m\u001B[38;5;241m.\u001B[39mgateway_client\u001B[38;5;241m.\u001B[39msend_command(command)\n",
       "\u001B[0;32m-> 1321\u001B[0m return_value \u001B[38;5;241m=\u001B[39m \u001B[43mget_return_value\u001B[49m\u001B[43m(\u001B[49m\n",
       "\u001B[1;32m   1322\u001B[0m \u001B[43m    \u001B[49m\u001B[43manswer\u001B[49m\u001B[43m,\u001B[49m\u001B[43m \u001B[49m\u001B[38;5;28;43mself\u001B[39;49m\u001B[38;5;241;43m.\u001B[39;49m\u001B[43mgateway_client\u001B[49m\u001B[43m,\u001B[49m\u001B[43m \u001B[49m\u001B[38;5;28;43mself\u001B[39;49m\u001B[38;5;241;43m.\u001B[39;49m\u001B[43mtarget_id\u001B[49m\u001B[43m,\u001B[49m\u001B[43m \u001B[49m\u001B[38;5;28;43mself\u001B[39;49m\u001B[38;5;241;43m.\u001B[39;49m\u001B[43mname\u001B[49m\u001B[43m)\u001B[49m\n",
       "\u001B[1;32m   1324\u001B[0m \u001B[38;5;28;01mfor\u001B[39;00m temp_arg \u001B[38;5;129;01min\u001B[39;00m temp_args:\n",
       "\u001B[1;32m   1325\u001B[0m     temp_arg\u001B[38;5;241m.\u001B[39m_detach()\n",
       "\n",
       "File \u001B[0;32m/databricks/spark/python/pyspark/errors/exceptions.py:234\u001B[0m, in \u001B[0;36mcapture_sql_exception.<locals>.deco\u001B[0;34m(*a, **kw)\u001B[0m\n",
       "\u001B[1;32m    230\u001B[0m converted \u001B[38;5;241m=\u001B[39m convert_exception(e\u001B[38;5;241m.\u001B[39mjava_exception)\n",
       "\u001B[1;32m    231\u001B[0m \u001B[38;5;28;01mif\u001B[39;00m \u001B[38;5;129;01mnot\u001B[39;00m \u001B[38;5;28misinstance\u001B[39m(converted, UnknownException):\n",
       "\u001B[1;32m    232\u001B[0m     \u001B[38;5;66;03m# Hide where the exception came from that shows a non-Pythonic\u001B[39;00m\n",
       "\u001B[1;32m    233\u001B[0m     \u001B[38;5;66;03m# JVM exception message.\u001B[39;00m\n",
       "\u001B[0;32m--> 234\u001B[0m     \u001B[38;5;28;01mraise\u001B[39;00m converted \u001B[38;5;28;01mfrom\u001B[39;00m \u001B[38;5;28mNone\u001B[39m\n",
       "\u001B[1;32m    235\u001B[0m \u001B[38;5;28;01melse\u001B[39;00m:\n",
       "\u001B[1;32m    236\u001B[0m     \u001B[38;5;28;01mraise\u001B[39;00m\n",
       "\n",
       "\u001B[0;31mAnalysisException\u001B[0m: Found invalid character(s) among ' ,;{}()\\n\\t=' in the column names of your schema. Please use other characters and try again."
      ]
     },
     "metadata": {
      "application/vnd.databricks.v1+output": {
       "arguments": {},
       "data": "\u001B[0;31m---------------------------------------------------------------------------\u001B[0m\n\u001B[0;31mAnalysisException\u001B[0m                         Traceback (most recent call last)\nFile \u001B[0;32m<command-3281497165144793>:2\u001B[0m\n\u001B[1;32m      1\u001B[0m \u001B[38;5;66;03m# Salvando dataset principal\u001B[39;00m\n\u001B[0;32m----> 2\u001B[0m df_happiness_clean\u001B[38;5;241m.\u001B[39mwrite\u001B[38;5;241m.\u001B[39mformat(\u001B[38;5;124m\"\u001B[39m\u001B[38;5;124mdelta\u001B[39m\u001B[38;5;124m\"\u001B[39m)\u001B[38;5;241m.\u001B[39mmode(\u001B[38;5;124m\"\u001B[39m\u001B[38;5;124moverwrite\u001B[39m\u001B[38;5;124m\"\u001B[39m)\u001B[38;5;241m.\u001B[39msave(\u001B[38;5;124m\"\u001B[39m\u001B[38;5;124m/mnt/bronze/happiness\u001B[39m\u001B[38;5;124m\"\u001B[39m)\n\u001B[1;32m      3\u001B[0m spark\u001B[38;5;241m.\u001B[39msql(\u001B[38;5;124m\"\u001B[39m\u001B[38;5;124mDROP TABLE IF EXISTS bronze_happiness\u001B[39m\u001B[38;5;124m\"\u001B[39m)\n\u001B[1;32m      4\u001B[0m spark\u001B[38;5;241m.\u001B[39msql(\u001B[38;5;124m\"\"\"\u001B[39m\n\u001B[1;32m      5\u001B[0m \u001B[38;5;124m  CREATE TABLE bronze_happiness\u001B[39m\n\u001B[1;32m      6\u001B[0m \u001B[38;5;124m  USING DELTA\u001B[39m\n\u001B[1;32m      7\u001B[0m \u001B[38;5;124m  LOCATION \u001B[39m\u001B[38;5;124m'\u001B[39m\u001B[38;5;124m/mnt/bronze/happiness\u001B[39m\u001B[38;5;124m'\u001B[39m\n\u001B[1;32m      8\u001B[0m \u001B[38;5;124m\"\"\"\u001B[39m)\n\nFile \u001B[0;32m/databricks/spark/python/pyspark/instrumentation_utils.py:48\u001B[0m, in \u001B[0;36m_wrap_function.<locals>.wrapper\u001B[0;34m(*args, **kwargs)\u001B[0m\n\u001B[1;32m     46\u001B[0m start \u001B[38;5;241m=\u001B[39m time\u001B[38;5;241m.\u001B[39mperf_counter()\n\u001B[1;32m     47\u001B[0m \u001B[38;5;28;01mtry\u001B[39;00m:\n\u001B[0;32m---> 48\u001B[0m     res \u001B[38;5;241m=\u001B[39m \u001B[43mfunc\u001B[49m\u001B[43m(\u001B[49m\u001B[38;5;241;43m*\u001B[39;49m\u001B[43margs\u001B[49m\u001B[43m,\u001B[49m\u001B[43m \u001B[49m\u001B[38;5;241;43m*\u001B[39;49m\u001B[38;5;241;43m*\u001B[39;49m\u001B[43mkwargs\u001B[49m\u001B[43m)\u001B[49m\n\u001B[1;32m     49\u001B[0m     logger\u001B[38;5;241m.\u001B[39mlog_success(\n\u001B[1;32m     50\u001B[0m         module_name, class_name, function_name, time\u001B[38;5;241m.\u001B[39mperf_counter() \u001B[38;5;241m-\u001B[39m start, signature\n\u001B[1;32m     51\u001B[0m     )\n\u001B[1;32m     52\u001B[0m     \u001B[38;5;28;01mreturn\u001B[39;00m res\n\nFile \u001B[0;32m/databricks/spark/python/pyspark/sql/readwriter.py:1397\u001B[0m, in \u001B[0;36mDataFrameWriter.save\u001B[0;34m(self, path, format, mode, partitionBy, **options)\u001B[0m\n\u001B[1;32m   1395\u001B[0m     \u001B[38;5;28mself\u001B[39m\u001B[38;5;241m.\u001B[39m_jwrite\u001B[38;5;241m.\u001B[39msave()\n\u001B[1;32m   1396\u001B[0m \u001B[38;5;28;01melse\u001B[39;00m:\n\u001B[0;32m-> 1397\u001B[0m     \u001B[38;5;28;43mself\u001B[39;49m\u001B[38;5;241;43m.\u001B[39;49m\u001B[43m_jwrite\u001B[49m\u001B[38;5;241;43m.\u001B[39;49m\u001B[43msave\u001B[49m\u001B[43m(\u001B[49m\u001B[43mpath\u001B[49m\u001B[43m)\u001B[49m\n\nFile \u001B[0;32m/databricks/spark/python/lib/py4j-0.10.9.5-src.zip/py4j/java_gateway.py:1321\u001B[0m, in \u001B[0;36mJavaMember.__call__\u001B[0;34m(self, *args)\u001B[0m\n\u001B[1;32m   1315\u001B[0m command \u001B[38;5;241m=\u001B[39m proto\u001B[38;5;241m.\u001B[39mCALL_COMMAND_NAME \u001B[38;5;241m+\u001B[39m\\\n\u001B[1;32m   1316\u001B[0m     \u001B[38;5;28mself\u001B[39m\u001B[38;5;241m.\u001B[39mcommand_header \u001B[38;5;241m+\u001B[39m\\\n\u001B[1;32m   1317\u001B[0m     args_command \u001B[38;5;241m+\u001B[39m\\\n\u001B[1;32m   1318\u001B[0m     proto\u001B[38;5;241m.\u001B[39mEND_COMMAND_PART\n\u001B[1;32m   1320\u001B[0m answer \u001B[38;5;241m=\u001B[39m \u001B[38;5;28mself\u001B[39m\u001B[38;5;241m.\u001B[39mgateway_client\u001B[38;5;241m.\u001B[39msend_command(command)\n\u001B[0;32m-> 1321\u001B[0m return_value \u001B[38;5;241m=\u001B[39m \u001B[43mget_return_value\u001B[49m\u001B[43m(\u001B[49m\n\u001B[1;32m   1322\u001B[0m \u001B[43m    \u001B[49m\u001B[43manswer\u001B[49m\u001B[43m,\u001B[49m\u001B[43m \u001B[49m\u001B[38;5;28;43mself\u001B[39;49m\u001B[38;5;241;43m.\u001B[39;49m\u001B[43mgateway_client\u001B[49m\u001B[43m,\u001B[49m\u001B[43m \u001B[49m\u001B[38;5;28;43mself\u001B[39;49m\u001B[38;5;241;43m.\u001B[39;49m\u001B[43mtarget_id\u001B[49m\u001B[43m,\u001B[49m\u001B[43m \u001B[49m\u001B[38;5;28;43mself\u001B[39;49m\u001B[38;5;241;43m.\u001B[39;49m\u001B[43mname\u001B[49m\u001B[43m)\u001B[49m\n\u001B[1;32m   1324\u001B[0m \u001B[38;5;28;01mfor\u001B[39;00m temp_arg \u001B[38;5;129;01min\u001B[39;00m temp_args:\n\u001B[1;32m   1325\u001B[0m     temp_arg\u001B[38;5;241m.\u001B[39m_detach()\n\nFile \u001B[0;32m/databricks/spark/python/pyspark/errors/exceptions.py:234\u001B[0m, in \u001B[0;36mcapture_sql_exception.<locals>.deco\u001B[0;34m(*a, **kw)\u001B[0m\n\u001B[1;32m    230\u001B[0m converted \u001B[38;5;241m=\u001B[39m convert_exception(e\u001B[38;5;241m.\u001B[39mjava_exception)\n\u001B[1;32m    231\u001B[0m \u001B[38;5;28;01mif\u001B[39;00m \u001B[38;5;129;01mnot\u001B[39;00m \u001B[38;5;28misinstance\u001B[39m(converted, UnknownException):\n\u001B[1;32m    232\u001B[0m     \u001B[38;5;66;03m# Hide where the exception came from that shows a non-Pythonic\u001B[39;00m\n\u001B[1;32m    233\u001B[0m     \u001B[38;5;66;03m# JVM exception message.\u001B[39;00m\n\u001B[0;32m--> 234\u001B[0m     \u001B[38;5;28;01mraise\u001B[39;00m converted \u001B[38;5;28;01mfrom\u001B[39;00m \u001B[38;5;28mNone\u001B[39m\n\u001B[1;32m    235\u001B[0m \u001B[38;5;28;01melse\u001B[39;00m:\n\u001B[1;32m    236\u001B[0m     \u001B[38;5;28;01mraise\u001B[39;00m\n\n\u001B[0;31mAnalysisException\u001B[0m: Found invalid character(s) among ' ,;{}()\\n\\t=' in the column names of your schema. Please use other characters and try again.",
       "errorSummary": "<span class='ansi-red-fg'>AnalysisException</span>: Found invalid character(s) among ' ,;{}()\\n\\t=' in the column names of your schema. Please use other characters and try again.",
       "errorTraceType": "ansi",
       "metadata": {},
       "type": "ipynbError"
      }
     },
     "output_type": "display_data"
    }
   ],
   "source": [
    "# Salvando dataset principal\n",
    "df_happiness_clean.write.format(\"delta\").mode(\"overwrite\").save(\"/mnt/bronze/happiness\")\n",
    "spark.sql(\"DROP TABLE IF EXISTS bronze_happiness\")\n",
    "spark.sql(\"\"\"\n",
    "  CREATE TABLE bronze_happiness\n",
    "  USING DELTA\n",
    "  LOCATION '/mnt/bronze/happiness'\n",
    "\"\"\")\n",
    "\n",
    "# Salvando dataset de continentes\n",
    "df_continent_clean.write.format(\"delta\").mode(\"overwrite\").save(\"/mnt/bronze/continent\")\n",
    "spark.sql(\"DROP TABLE IF EXISTS bronze_continent\")\n",
    "spark.sql(\"\"\"\n",
    "  CREATE TABLE bronze_continent\n",
    "  USING DELTA\n",
    "  LOCATION '/mnt/bronze/continent'\n",
    "\"\"\")\n"
   ]
  },
  {
   "cell_type": "markdown",
   "metadata": {
    "application/vnd.databricks.v1+cell": {
     "cellMetadata": {
      "byteLimit": 2048000,
      "rowLimit": 10000
     },
     "inputWidgets": {},
     "nuid": "7794441f-655a-4a8c-a966-cdf19ff045f8",
     "showTitle": false,
     "tableResultSettingsMap": {},
     "title": ""
    },
    "jupyter": {
     "outputs_hidden": true
    }
   },
   "source": [
    "## Padronização de nomes de colunas\n",
    "\n",
    "Foi identificado um erro ao tentar salvar os dados no formato Delta, devido à presença de caracteres inválidos nos nomes das colunas, será realizado:\n",
    "-  função que remove qualquer caractere não alfanumérico\n",
    "-  nomes convertidos para `snake_case`\n",
    "-  após a limpeza, os dados serão salvos na camada Bronze\n"
   ]
  },
  {
   "cell_type": "markdown",
   "metadata": {
    "application/vnd.databricks.v1+cell": {
     "cellMetadata": {},
     "inputWidgets": {},
     "nuid": "eea683d0-6bf1-406d-88e5-fc3622733622",
     "showTitle": false,
     "tableResultSettingsMap": {},
     "title": ""
    }
   },
   "source": []
  },
  {
   "cell_type": "code",
   "execution_count": 0,
   "metadata": {
    "application/vnd.databricks.v1+cell": {
     "cellMetadata": {
      "byteLimit": 2048000,
      "rowLimit": 10000
     },
     "inputWidgets": {},
     "nuid": "55a81e0f-1049-4800-932f-ba858717696f",
     "showTitle": true,
     "tableResultSettingsMap": {},
     "title": "Formatação nome das colunas"
    }
   },
   "outputs": [],
   "source": [
    "#remove tudo que não for letra, número ou underscore (_) dos nomes das colunas\n",
    "import re\n",
    "def sanitize_column_names(df):\n",
    "    new_columns = []\n",
    "    for col_name in df.columns:\n",
    "        # Substitui espaços e caracteres especiais por underscore, remove acentos\n",
    "        clean_name = re.sub(r\"[^\\w]\", \"_\", col_name.strip())\n",
    "        clean_name = re.sub(r\"_+\", \"_\", clean_name)  # Remove múltiplos underscores\n",
    "        clean_name = clean_name.lower()\n",
    "        new_columns.append(clean_name)\n",
    "    \n",
    "    for old_col, new_col in zip(df.columns, new_columns):\n",
    "        df = df.withColumnRenamed(old_col, new_col)\n",
    "    \n",
    "    return df\n"
   ]
  },
  {
   "cell_type": "code",
   "execution_count": 0,
   "metadata": {
    "application/vnd.databricks.v1+cell": {
     "cellMetadata": {
      "byteLimit": 2048000,
      "rowLimit": 10000
     },
     "inputWidgets": {},
     "nuid": "8f1a8c28-6d18-43bf-b880-b474eb6799e3",
     "showTitle": true,
     "tableResultSettingsMap": {},
     "title": "Aplicar no Dataframe"
    }
   },
   "outputs": [
    {
     "output_type": "stream",
     "name": "stdout",
     "output_type": "stream",
     "text": [
      "root\n |-- country_year_region_happiness_rank_happiness_score_gdp_social_support_life_expectancy_freedom_generosity_corruption: string (nullable = true)\n\nroot\n |-- region_continent: string (nullable = true)\n\n"
     ]
    }
   ],
   "source": [
    "# Aplicar padronização\n",
    "df_happiness_clean = sanitize_column_names(df_happiness)\n",
    "df_continent_clean = sanitize_column_names(df_continent)\n",
    "\n",
    "# Verificar nomes\n",
    "df_happiness_clean.printSchema()\n",
    "df_continent_clean.printSchema()\n"
   ]
  },
  {
   "cell_type": "code",
   "execution_count": 0,
   "metadata": {
    "application/vnd.databricks.v1+cell": {
     "cellMetadata": {
      "byteLimit": 2048000,
      "rowLimit": 10000
     },
     "inputWidgets": {},
     "nuid": "898fa112-a5f8-4e67-859a-911319b0c115",
     "showTitle": true,
     "tableResultSettingsMap": {},
     "title": "Salvar como Delta"
    }
   },
   "outputs": [
    {
     "output_type": "stream",
     "name": "stdout",
     "output_type": "stream",
     "text": [
      "Out[11]: DataFrame[]"
     ]
    }
   ],
   "source": [
    "# Dataset principal\n",
    "df_happiness_clean.write.format(\"delta\").mode(\"overwrite\").save(\"/mnt/bronze/happiness\")\n",
    "spark.sql(\"DROP TABLE IF EXISTS bronze_happiness\")\n",
    "spark.sql(\"\"\"\n",
    "  CREATE TABLE bronze_happiness\n",
    "  USING DELTA\n",
    "  LOCATION '/mnt/bronze/happiness'\n",
    "\"\"\")\n",
    "\n",
    "# Dataset de continentes\n",
    "df_continent_clean.write.format(\"delta\").mode(\"overwrite\").save(\"/mnt/bronze/continent\")\n",
    "spark.sql(\"DROP TABLE IF EXISTS bronze_continent\")\n",
    "spark.sql(\"\"\"\n",
    "  CREATE TABLE bronze_continent\n",
    "  USING DELTA\n",
    "  LOCATION '/mnt/bronze/continent'\n",
    "\"\"\")\n"
   ]
  },
  {
   "cell_type": "markdown",
   "metadata": {
    "application/vnd.databricks.v1+cell": {
     "cellMetadata": {},
     "inputWidgets": {},
     "nuid": "a81d14ec-cc7d-48f6-bc1f-278f50c444e4",
     "showTitle": false,
     "tableResultSettingsMap": {},
     "title": ""
    }
   },
   "source": []
  },
  {
   "cell_type": "markdown",
   "metadata": {
    "application/vnd.databricks.v1+cell": {
     "cellMetadata": {},
     "inputWidgets": {},
     "nuid": "60ccc8d5-133e-4cd2-a7c0-650c3dbbf2ef",
     "showTitle": false,
     "tableResultSettingsMap": {},
     "title": ""
    }
   },
   "source": [
    "## Validação dos dados da Camada Bronze com SQL\n",
    "\n",
    "Após salvar os dados na camada Bronze, realizar consultas no Databricks para garantir que:\n",
    "\n",
    "- os dados foram importados corretamente\n",
    "- os tipos das colunas estão coerentes\n",
    "- a quantidade de registros e países está dentro do esperado\n",
    "- as tabelas podem ser usadas para análises posteriores\n"
   ]
  },
  {
   "cell_type": "code",
   "execution_count": 0,
   "metadata": {
    "application/vnd.databricks.v1+cell": {
     "cellMetadata": {
      "byteLimit": 2048000,
      "implicitDf": true,
      "rowLimit": 10000
     },
     "inputWidgets": {},
     "nuid": "529a3b9c-2a4a-4f17-b113-b4c58d6528ef",
     "showTitle": true,
     "tableResultSettingsMap": {},
     "title": "Verificar os dados da Bronze"
    }
   },
   "outputs": [
    {
     "output_type": "display_data",
     "data": {
      "text/html": [
       "<style scoped>\n",
       "  .table-result-container {\n",
       "    max-height: 300px;\n",
       "    overflow: auto;\n",
       "  }\n",
       "  table, th, td {\n",
       "    border: 1px solid black;\n",
       "    border-collapse: collapse;\n",
       "  }\n",
       "  th, td {\n",
       "    padding: 5px;\n",
       "  }\n",
       "  th {\n",
       "    text-align: left;\n",
       "  }\n",
       "</style><div class='table-result-container'><table class='table-result'><thead style='background-color: white'><tr><th>country_year_region_happiness_rank_happiness_score_gdp_social_support_life_expectancy_freedom_generosity_corruption</th></tr></thead><tbody><tr><td>Afghanistan;2023;Southern Asia;137;1</td></tr><tr><td>Afghanistan;2017;Southern Asia;141;3</td></tr><tr><td>Afghanistan;2018;Southern Asia;145;3</td></tr><tr><td>Afghanistan;2022;Southern Asia;146;2</td></tr><tr><td>Afghanistan;2021;Southern Asia;149;2</td></tr></tbody></table></div>"
      ]
     },
     "metadata": {
      "application/vnd.databricks.v1+output": {
       "addedWidgets": {},
       "aggData": [],
       "aggError": "",
       "aggOverflow": false,
       "aggSchema": [],
       "aggSeriesLimitReached": false,
       "aggType": "",
       "arguments": {},
       "columnCustomDisplayInfos": {},
       "data": [
        [
         "Afghanistan;2023;Southern Asia;137;1"
        ],
        [
         "Afghanistan;2017;Southern Asia;141;3"
        ],
        [
         "Afghanistan;2018;Southern Asia;145;3"
        ],
        [
         "Afghanistan;2022;Southern Asia;146;2"
        ],
        [
         "Afghanistan;2021;Southern Asia;149;2"
        ]
       ],
       "datasetInfos": [],
       "dbfsResultPath": null,
       "isJsonSchema": true,
       "metadata": {},
       "overflow": false,
       "plotOptions": {
        "customPlotOptions": {},
        "displayType": "table",
        "pivotAggregation": null,
        "pivotColumns": null,
        "xColumns": null,
        "yColumns": null
       },
       "removedWidgets": [],
       "schema": [
        {
         "metadata": "{}",
         "name": "country_year_region_happiness_rank_happiness_score_gdp_social_support_life_expectancy_freedom_generosity_corruption",
         "type": "\"string\""
        }
       ],
       "type": "table"
      }
     },
     "output_type": "display_data"
    }
   ],
   "source": [
    "%sql\n",
    "SELECT * FROM bronze_happiness LIMIT 5;\n"
   ]
  },
  {
   "cell_type": "code",
   "execution_count": 0,
   "metadata": {
    "application/vnd.databricks.v1+cell": {
     "cellMetadata": {
      "byteLimit": 2048000,
      "implicitDf": true,
      "rowLimit": 10000
     },
     "inputWidgets": {},
     "nuid": "f1828a8f-7adb-4cdb-8ce6-904d25a9b54c",
     "showTitle": true,
     "tableResultSettingsMap": {},
     "title": "Verificar colunas e tipos"
    }
   },
   "outputs": [
    {
     "output_type": "display_data",
     "data": {
      "text/html": [
       "<style scoped>\n",
       "  .table-result-container {\n",
       "    max-height: 300px;\n",
       "    overflow: auto;\n",
       "  }\n",
       "  table, th, td {\n",
       "    border: 1px solid black;\n",
       "    border-collapse: collapse;\n",
       "  }\n",
       "  th, td {\n",
       "    padding: 5px;\n",
       "  }\n",
       "  th {\n",
       "    text-align: left;\n",
       "  }\n",
       "</style><div class='table-result-container'><table class='table-result'><thead style='background-color: white'><tr><th>col_name</th><th>data_type</th><th>comment</th></tr></thead><tbody><tr><td>country_year_region_happiness_rank_happiness_score_gdp_social_support_life_expectancy_freedom_generosity_corruption</td><td>string</td><td>null</td></tr></tbody></table></div>"
      ]
     },
     "metadata": {
      "application/vnd.databricks.v1+output": {
       "addedWidgets": {},
       "aggData": [],
       "aggError": "",
       "aggOverflow": false,
       "aggSchema": [],
       "aggSeriesLimitReached": false,
       "aggType": "",
       "arguments": {},
       "columnCustomDisplayInfos": {},
       "data": [
        [
         "country_year_region_happiness_rank_happiness_score_gdp_social_support_life_expectancy_freedom_generosity_corruption",
         "string",
         null
        ]
       ],
       "datasetInfos": [],
       "dbfsResultPath": null,
       "isJsonSchema": true,
       "metadata": {},
       "overflow": false,
       "plotOptions": {
        "customPlotOptions": {},
        "displayType": "table",
        "pivotAggregation": null,
        "pivotColumns": null,
        "xColumns": null,
        "yColumns": null
       },
       "removedWidgets": [],
       "schema": [
        {
         "metadata": "{\"comment\":\"name of the column\"}",
         "name": "col_name",
         "type": "\"string\""
        },
        {
         "metadata": "{\"comment\":\"data type of the column\"}",
         "name": "data_type",
         "type": "\"string\""
        },
        {
         "metadata": "{\"comment\":\"comment of the column\"}",
         "name": "comment",
         "type": "\"string\""
        }
       ],
       "type": "table"
      }
     },
     "output_type": "display_data"
    }
   ],
   "source": [
    "%sql\n",
    "DESCRIBE TABLE bronze_happiness;\n"
   ]
  },
  {
   "cell_type": "code",
   "execution_count": 0,
   "metadata": {
    "application/vnd.databricks.v1+cell": {
     "cellMetadata": {
      "byteLimit": 2048000,
      "implicitDf": true,
      "rowLimit": 10000
     },
     "inputWidgets": {},
     "nuid": "ab8ab291-9e24-4be2-a666-f755b5cadb2f",
     "showTitle": true,
     "tableResultSettingsMap": {},
     "title": "Verificar os dados da Bronze"
    }
   },
   "outputs": [
    {
     "output_type": "display_data",
     "data": {
      "text/html": [
       "<style scoped>\n",
       "  .table-result-container {\n",
       "    max-height: 300px;\n",
       "    overflow: auto;\n",
       "  }\n",
       "  table, th, td {\n",
       "    border: 1px solid black;\n",
       "    border-collapse: collapse;\n",
       "  }\n",
       "  th, td {\n",
       "    padding: 5px;\n",
       "  }\n",
       "  th {\n",
       "    text-align: left;\n",
       "  }\n",
       "</style><div class='table-result-container'><table class='table-result'><thead style='background-color: white'><tr><th>region_continent</th></tr></thead><tbody><tr><td>Southern Asia;Asia</td></tr><tr><td>Central and Eastern Europe;Europe</td></tr><tr><td>Middle East and Northern Africa;Middle East and Northern Africa</td></tr><tr><td>Latin America and Caribbean;Latin America and Caribbean</td></tr><tr><td>Australia and New Zealand;Oceania</td></tr></tbody></table></div>"
      ]
     },
     "metadata": {
      "application/vnd.databricks.v1+output": {
       "addedWidgets": {},
       "aggData": [],
       "aggError": "",
       "aggOverflow": false,
       "aggSchema": [],
       "aggSeriesLimitReached": false,
       "aggType": "",
       "arguments": {},
       "columnCustomDisplayInfos": {},
       "data": [
        [
         "Southern Asia;Asia"
        ],
        [
         "Central and Eastern Europe;Europe"
        ],
        [
         "Middle East and Northern Africa;Middle East and Northern Africa"
        ],
        [
         "Latin America and Caribbean;Latin America and Caribbean"
        ],
        [
         "Australia and New Zealand;Oceania"
        ]
       ],
       "datasetInfos": [],
       "dbfsResultPath": null,
       "isJsonSchema": true,
       "metadata": {},
       "overflow": false,
       "plotOptions": {
        "customPlotOptions": {},
        "displayType": "table",
        "pivotAggregation": null,
        "pivotColumns": null,
        "xColumns": null,
        "yColumns": null
       },
       "removedWidgets": [],
       "schema": [
        {
         "metadata": "{}",
         "name": "region_continent",
         "type": "\"string\""
        }
       ],
       "type": "table"
      }
     },
     "output_type": "display_data"
    }
   ],
   "source": [
    "%sql\n",
    "SELECT * FROM bronze_continent LIMIT 5;"
   ]
  },
  {
   "cell_type": "code",
   "execution_count": 0,
   "metadata": {
    "application/vnd.databricks.v1+cell": {
     "cellMetadata": {
      "byteLimit": 2048000,
      "implicitDf": true,
      "rowLimit": 10000
     },
     "inputWidgets": {},
     "nuid": "99702c52-3225-45db-becb-d591169521c1",
     "showTitle": true,
     "tableResultSettingsMap": {},
     "title": "Verificar colunas e tipos"
    }
   },
   "outputs": [
    {
     "output_type": "display_data",
     "data": {
      "text/html": [
       "<style scoped>\n",
       "  .table-result-container {\n",
       "    max-height: 300px;\n",
       "    overflow: auto;\n",
       "  }\n",
       "  table, th, td {\n",
       "    border: 1px solid black;\n",
       "    border-collapse: collapse;\n",
       "  }\n",
       "  th, td {\n",
       "    padding: 5px;\n",
       "  }\n",
       "  th {\n",
       "    text-align: left;\n",
       "  }\n",
       "</style><div class='table-result-container'><table class='table-result'><thead style='background-color: white'><tr><th>col_name</th><th>data_type</th><th>comment</th></tr></thead><tbody><tr><td>region_continent</td><td>string</td><td>null</td></tr></tbody></table></div>"
      ]
     },
     "metadata": {
      "application/vnd.databricks.v1+output": {
       "addedWidgets": {},
       "aggData": [],
       "aggError": "",
       "aggOverflow": false,
       "aggSchema": [],
       "aggSeriesLimitReached": false,
       "aggType": "",
       "arguments": {},
       "columnCustomDisplayInfos": {},
       "data": [
        [
         "region_continent",
         "string",
         null
        ]
       ],
       "datasetInfos": [],
       "dbfsResultPath": null,
       "isJsonSchema": true,
       "metadata": {},
       "overflow": false,
       "plotOptions": {
        "customPlotOptions": {},
        "displayType": "table",
        "pivotAggregation": null,
        "pivotColumns": null,
        "xColumns": null,
        "yColumns": null
       },
       "removedWidgets": [],
       "schema": [
        {
         "metadata": "{\"comment\":\"name of the column\"}",
         "name": "col_name",
         "type": "\"string\""
        },
        {
         "metadata": "{\"comment\":\"data type of the column\"}",
         "name": "data_type",
         "type": "\"string\""
        },
        {
         "metadata": "{\"comment\":\"comment of the column\"}",
         "name": "comment",
         "type": "\"string\""
        }
       ],
       "type": "table"
      }
     },
     "output_type": "display_data"
    }
   ],
   "source": [
    "%sql\n",
    "DESCRIBE TABLE bronze_continent;\n"
   ]
  },
  {
   "cell_type": "markdown",
   "metadata": {
    "application/vnd.databricks.v1+cell": {
     "cellMetadata": {},
     "inputWidgets": {},
     "nuid": "a87ad915-8c23-4dc8-b28b-d7ef83543feb",
     "showTitle": false,
     "tableResultSettingsMap": {},
     "title": ""
    }
   },
   "source": [
    "# Etapa 2 — Camada Silver: Dados Tratados\n",
    "\n",
    "## Objetivo\n",
    "Transformar os dados brutos da camada Bronze em dados limpos, padronizados e enriquecidos com informações geográficas (continente).\n",
    "\n",
    "## Será realizado\n",
    "- Remoção de registros nulos em colunas críticas\n",
    "- Padronização dos nomes de país e região\n",
    "- Conversão correta dos tipos de dados\n",
    "- Inclusão da coluna de continente (join com bronze_continent)\n",
    "- Salvamento da tabela tratada no formato Delta\n"
   ]
  },
  {
   "cell_type": "code",
   "execution_count": 0,
   "metadata": {
    "application/vnd.databricks.v1+cell": {
     "cellMetadata": {
      "byteLimit": 2048000,
      "rowLimit": 10000
     },
     "inputWidgets": {},
     "nuid": "07046153-d50c-4ae8-80d6-91627d8eb886",
     "showTitle": true,
     "tableResultSettingsMap": {},
     "title": "Código para construção da Silver"
    }
   },
   "outputs": [
    {
     "output_type": "display_data",
     "data": {
      "text/plain": [
       "\u001B[0;31m---------------------------------------------------------------------------\u001B[0m\n",
       "\u001B[0;31mAnalysisException\u001B[0m                         Traceback (most recent call last)\n",
       "File \u001B[0;32m<command-3281497165144823>:9\u001B[0m\n",
       "\u001B[1;32m      5\u001B[0m df_bronze_continent \u001B[38;5;241m=\u001B[39m spark\u001B[38;5;241m.\u001B[39mread\u001B[38;5;241m.\u001B[39mformat(\u001B[38;5;124m\"\u001B[39m\u001B[38;5;124mdelta\u001B[39m\u001B[38;5;124m\"\u001B[39m)\u001B[38;5;241m.\u001B[39mload(\u001B[38;5;124m\"\u001B[39m\u001B[38;5;124m/mnt/bronze/continent\u001B[39m\u001B[38;5;124m\"\u001B[39m)\n",
       "\u001B[1;32m      7\u001B[0m \u001B[38;5;66;03m# Limpeza e tratamento (Silver)\u001B[39;00m\n",
       "\u001B[1;32m      8\u001B[0m df_silver \u001B[38;5;241m=\u001B[39m (\n",
       "\u001B[0;32m----> 9\u001B[0m     df_bronze_happiness\n",
       "\u001B[1;32m     10\u001B[0m     \u001B[38;5;241m.\u001B[39mdropna(subset\u001B[38;5;241m=\u001B[39m[\u001B[38;5;124m\"\u001B[39m\u001B[38;5;124mcountry\u001B[39m\u001B[38;5;124m\"\u001B[39m, \u001B[38;5;124m\"\u001B[39m\u001B[38;5;124myear\u001B[39m\u001B[38;5;124m\"\u001B[39m, \u001B[38;5;124m\"\u001B[39m\u001B[38;5;124mhappiness_score\u001B[39m\u001B[38;5;124m\"\u001B[39m])\n",
       "\u001B[1;32m     11\u001B[0m     \u001B[38;5;241m.\u001B[39mwithColumn(\u001B[38;5;124m\"\u001B[39m\u001B[38;5;124mcountry\u001B[39m\u001B[38;5;124m\"\u001B[39m, trim(col(\u001B[38;5;124m\"\u001B[39m\u001B[38;5;124mcountry\u001B[39m\u001B[38;5;124m\"\u001B[39m)))\n",
       "\u001B[1;32m     12\u001B[0m     \u001B[38;5;241m.\u001B[39mwithColumn(\u001B[38;5;124m\"\u001B[39m\u001B[38;5;124mregion\u001B[39m\u001B[38;5;124m\"\u001B[39m, trim(col(\u001B[38;5;124m\"\u001B[39m\u001B[38;5;124mregion\u001B[39m\u001B[38;5;124m\"\u001B[39m)))\n",
       "\u001B[1;32m     13\u001B[0m     \u001B[38;5;241m.\u001B[39mwithColumn(\u001B[38;5;124m\"\u001B[39m\u001B[38;5;124myear\u001B[39m\u001B[38;5;124m\"\u001B[39m, col(\u001B[38;5;124m\"\u001B[39m\u001B[38;5;124myear\u001B[39m\u001B[38;5;124m\"\u001B[39m)\u001B[38;5;241m.\u001B[39mcast(\u001B[38;5;124m\"\u001B[39m\u001B[38;5;124mint\u001B[39m\u001B[38;5;124m\"\u001B[39m))\n",
       "\u001B[1;32m     14\u001B[0m     \u001B[38;5;241m.\u001B[39mwithColumn(\u001B[38;5;124m\"\u001B[39m\u001B[38;5;124mhappiness_score\u001B[39m\u001B[38;5;124m\"\u001B[39m, col(\u001B[38;5;124m\"\u001B[39m\u001B[38;5;124mhappiness_score\u001B[39m\u001B[38;5;124m\"\u001B[39m)\u001B[38;5;241m.\u001B[39mcast(\u001B[38;5;124m\"\u001B[39m\u001B[38;5;124mfloat\u001B[39m\u001B[38;5;124m\"\u001B[39m))\n",
       "\u001B[1;32m     15\u001B[0m     \u001B[38;5;241m.\u001B[39mwithColumn(\u001B[38;5;124m\"\u001B[39m\u001B[38;5;124mgdp\u001B[39m\u001B[38;5;124m\"\u001B[39m, col(\u001B[38;5;124m\"\u001B[39m\u001B[38;5;124mgdp\u001B[39m\u001B[38;5;124m\"\u001B[39m)\u001B[38;5;241m.\u001B[39mcast(\u001B[38;5;124m\"\u001B[39m\u001B[38;5;124mfloat\u001B[39m\u001B[38;5;124m\"\u001B[39m))\n",
       "\u001B[1;32m     16\u001B[0m     \u001B[38;5;241m.\u001B[39mwithColumn(\u001B[38;5;124m\"\u001B[39m\u001B[38;5;124msocial_support\u001B[39m\u001B[38;5;124m\"\u001B[39m, col(\u001B[38;5;124m\"\u001B[39m\u001B[38;5;124msocial_support\u001B[39m\u001B[38;5;124m\"\u001B[39m)\u001B[38;5;241m.\u001B[39mcast(\u001B[38;5;124m\"\u001B[39m\u001B[38;5;124mfloat\u001B[39m\u001B[38;5;124m\"\u001B[39m))\n",
       "\u001B[1;32m     17\u001B[0m     \u001B[38;5;241m.\u001B[39mwithColumn(\u001B[38;5;124m\"\u001B[39m\u001B[38;5;124mlife_expectancy\u001B[39m\u001B[38;5;124m\"\u001B[39m, col(\u001B[38;5;124m\"\u001B[39m\u001B[38;5;124mlife_expectancy\u001B[39m\u001B[38;5;124m\"\u001B[39m)\u001B[38;5;241m.\u001B[39mcast(\u001B[38;5;124m\"\u001B[39m\u001B[38;5;124mfloat\u001B[39m\u001B[38;5;124m\"\u001B[39m))\n",
       "\u001B[1;32m     18\u001B[0m     \u001B[38;5;241m.\u001B[39mwithColumn(\u001B[38;5;124m\"\u001B[39m\u001B[38;5;124mfreedom\u001B[39m\u001B[38;5;124m\"\u001B[39m, col(\u001B[38;5;124m\"\u001B[39m\u001B[38;5;124mfreedom\u001B[39m\u001B[38;5;124m\"\u001B[39m)\u001B[38;5;241m.\u001B[39mcast(\u001B[38;5;124m\"\u001B[39m\u001B[38;5;124mfloat\u001B[39m\u001B[38;5;124m\"\u001B[39m))\n",
       "\u001B[1;32m     19\u001B[0m     \u001B[38;5;241m.\u001B[39mwithColumn(\u001B[38;5;124m\"\u001B[39m\u001B[38;5;124mgenerosity\u001B[39m\u001B[38;5;124m\"\u001B[39m, col(\u001B[38;5;124m\"\u001B[39m\u001B[38;5;124mgenerosity\u001B[39m\u001B[38;5;124m\"\u001B[39m)\u001B[38;5;241m.\u001B[39mcast(\u001B[38;5;124m\"\u001B[39m\u001B[38;5;124mfloat\u001B[39m\u001B[38;5;124m\"\u001B[39m))\n",
       "\u001B[1;32m     20\u001B[0m     \u001B[38;5;241m.\u001B[39mwithColumn(\u001B[38;5;124m\"\u001B[39m\u001B[38;5;124mcorruption\u001B[39m\u001B[38;5;124m\"\u001B[39m, col(\u001B[38;5;124m\"\u001B[39m\u001B[38;5;124mcorruption\u001B[39m\u001B[38;5;124m\"\u001B[39m)\u001B[38;5;241m.\u001B[39mcast(\u001B[38;5;124m\"\u001B[39m\u001B[38;5;124mfloat\u001B[39m\u001B[38;5;124m\"\u001B[39m))\n",
       "\u001B[1;32m     21\u001B[0m )\n",
       "\u001B[1;32m     23\u001B[0m \u001B[38;5;66;03m# Enriquecimento com continente\u001B[39;00m\n",
       "\u001B[1;32m     24\u001B[0m df_silver \u001B[38;5;241m=\u001B[39m df_silver\u001B[38;5;241m.\u001B[39mjoin(\n",
       "\u001B[1;32m     25\u001B[0m     df_bronze_continent,\n",
       "\u001B[1;32m     26\u001B[0m     on\u001B[38;5;241m=\u001B[39m\u001B[38;5;124m\"\u001B[39m\u001B[38;5;124mregion\u001B[39m\u001B[38;5;124m\"\u001B[39m,\n",
       "\u001B[1;32m     27\u001B[0m     how\u001B[38;5;241m=\u001B[39m\u001B[38;5;124m\"\u001B[39m\u001B[38;5;124mleft\u001B[39m\u001B[38;5;124m\"\u001B[39m\n",
       "\u001B[1;32m     28\u001B[0m )\n",
       "\n",
       "File \u001B[0;32m/databricks/spark/python/pyspark/instrumentation_utils.py:48\u001B[0m, in \u001B[0;36m_wrap_function.<locals>.wrapper\u001B[0;34m(*args, **kwargs)\u001B[0m\n",
       "\u001B[1;32m     46\u001B[0m start \u001B[38;5;241m=\u001B[39m time\u001B[38;5;241m.\u001B[39mperf_counter()\n",
       "\u001B[1;32m     47\u001B[0m \u001B[38;5;28;01mtry\u001B[39;00m:\n",
       "\u001B[0;32m---> 48\u001B[0m     res \u001B[38;5;241m=\u001B[39m \u001B[43mfunc\u001B[49m\u001B[43m(\u001B[49m\u001B[38;5;241;43m*\u001B[39;49m\u001B[43margs\u001B[49m\u001B[43m,\u001B[49m\u001B[43m \u001B[49m\u001B[38;5;241;43m*\u001B[39;49m\u001B[38;5;241;43m*\u001B[39;49m\u001B[43mkwargs\u001B[49m\u001B[43m)\u001B[49m\n",
       "\u001B[1;32m     49\u001B[0m     logger\u001B[38;5;241m.\u001B[39mlog_success(\n",
       "\u001B[1;32m     50\u001B[0m         module_name, class_name, function_name, time\u001B[38;5;241m.\u001B[39mperf_counter() \u001B[38;5;241m-\u001B[39m start, signature\n",
       "\u001B[1;32m     51\u001B[0m     )\n",
       "\u001B[1;32m     52\u001B[0m     \u001B[38;5;28;01mreturn\u001B[39;00m res\n",
       "\n",
       "File \u001B[0;32m/databricks/spark/python/pyspark/sql/dataframe.py:3983\u001B[0m, in \u001B[0;36mDataFrame.dropna\u001B[0;34m(self, how, thresh, subset)\u001B[0m\n",
       "\u001B[1;32m   3980\u001B[0m \u001B[38;5;28;01mif\u001B[39;00m thresh \u001B[38;5;129;01mis\u001B[39;00m \u001B[38;5;28;01mNone\u001B[39;00m:\n",
       "\u001B[1;32m   3981\u001B[0m     thresh \u001B[38;5;241m=\u001B[39m \u001B[38;5;28mlen\u001B[39m(subset) \u001B[38;5;28;01mif\u001B[39;00m how \u001B[38;5;241m==\u001B[39m \u001B[38;5;124m\"\u001B[39m\u001B[38;5;124many\u001B[39m\u001B[38;5;124m\"\u001B[39m \u001B[38;5;28;01melse\u001B[39;00m \u001B[38;5;241m1\u001B[39m\n",
       "\u001B[0;32m-> 3983\u001B[0m \u001B[38;5;28;01mreturn\u001B[39;00m DataFrame(\u001B[38;5;28;43mself\u001B[39;49m\u001B[38;5;241;43m.\u001B[39;49m\u001B[43m_jdf\u001B[49m\u001B[38;5;241;43m.\u001B[39;49m\u001B[43mna\u001B[49m\u001B[43m(\u001B[49m\u001B[43m)\u001B[49m\u001B[38;5;241;43m.\u001B[39;49m\u001B[43mdrop\u001B[49m\u001B[43m(\u001B[49m\u001B[43mthresh\u001B[49m\u001B[43m,\u001B[49m\u001B[43m \u001B[49m\u001B[38;5;28;43mself\u001B[39;49m\u001B[38;5;241;43m.\u001B[39;49m\u001B[43m_jseq\u001B[49m\u001B[43m(\u001B[49m\u001B[43msubset\u001B[49m\u001B[43m)\u001B[49m\u001B[43m)\u001B[49m, \u001B[38;5;28mself\u001B[39m\u001B[38;5;241m.\u001B[39msparkSession)\n",
       "\n",
       "File \u001B[0;32m/databricks/spark/python/lib/py4j-0.10.9.5-src.zip/py4j/java_gateway.py:1321\u001B[0m, in \u001B[0;36mJavaMember.__call__\u001B[0;34m(self, *args)\u001B[0m\n",
       "\u001B[1;32m   1315\u001B[0m command \u001B[38;5;241m=\u001B[39m proto\u001B[38;5;241m.\u001B[39mCALL_COMMAND_NAME \u001B[38;5;241m+\u001B[39m\\\n",
       "\u001B[1;32m   1316\u001B[0m     \u001B[38;5;28mself\u001B[39m\u001B[38;5;241m.\u001B[39mcommand_header \u001B[38;5;241m+\u001B[39m\\\n",
       "\u001B[1;32m   1317\u001B[0m     args_command \u001B[38;5;241m+\u001B[39m\\\n",
       "\u001B[1;32m   1318\u001B[0m     proto\u001B[38;5;241m.\u001B[39mEND_COMMAND_PART\n",
       "\u001B[1;32m   1320\u001B[0m answer \u001B[38;5;241m=\u001B[39m \u001B[38;5;28mself\u001B[39m\u001B[38;5;241m.\u001B[39mgateway_client\u001B[38;5;241m.\u001B[39msend_command(command)\n",
       "\u001B[0;32m-> 1321\u001B[0m return_value \u001B[38;5;241m=\u001B[39m \u001B[43mget_return_value\u001B[49m\u001B[43m(\u001B[49m\n",
       "\u001B[1;32m   1322\u001B[0m \u001B[43m    \u001B[49m\u001B[43manswer\u001B[49m\u001B[43m,\u001B[49m\u001B[43m \u001B[49m\u001B[38;5;28;43mself\u001B[39;49m\u001B[38;5;241;43m.\u001B[39;49m\u001B[43mgateway_client\u001B[49m\u001B[43m,\u001B[49m\u001B[43m \u001B[49m\u001B[38;5;28;43mself\u001B[39;49m\u001B[38;5;241;43m.\u001B[39;49m\u001B[43mtarget_id\u001B[49m\u001B[43m,\u001B[49m\u001B[43m \u001B[49m\u001B[38;5;28;43mself\u001B[39;49m\u001B[38;5;241;43m.\u001B[39;49m\u001B[43mname\u001B[49m\u001B[43m)\u001B[49m\n",
       "\u001B[1;32m   1324\u001B[0m \u001B[38;5;28;01mfor\u001B[39;00m temp_arg \u001B[38;5;129;01min\u001B[39;00m temp_args:\n",
       "\u001B[1;32m   1325\u001B[0m     temp_arg\u001B[38;5;241m.\u001B[39m_detach()\n",
       "\n",
       "File \u001B[0;32m/databricks/spark/python/pyspark/errors/exceptions.py:234\u001B[0m, in \u001B[0;36mcapture_sql_exception.<locals>.deco\u001B[0;34m(*a, **kw)\u001B[0m\n",
       "\u001B[1;32m    230\u001B[0m converted \u001B[38;5;241m=\u001B[39m convert_exception(e\u001B[38;5;241m.\u001B[39mjava_exception)\n",
       "\u001B[1;32m    231\u001B[0m \u001B[38;5;28;01mif\u001B[39;00m \u001B[38;5;129;01mnot\u001B[39;00m \u001B[38;5;28misinstance\u001B[39m(converted, UnknownException):\n",
       "\u001B[1;32m    232\u001B[0m     \u001B[38;5;66;03m# Hide where the exception came from that shows a non-Pythonic\u001B[39;00m\n",
       "\u001B[1;32m    233\u001B[0m     \u001B[38;5;66;03m# JVM exception message.\u001B[39;00m\n",
       "\u001B[0;32m--> 234\u001B[0m     \u001B[38;5;28;01mraise\u001B[39;00m converted \u001B[38;5;28;01mfrom\u001B[39;00m \u001B[38;5;28mNone\u001B[39m\n",
       "\u001B[1;32m    235\u001B[0m \u001B[38;5;28;01melse\u001B[39;00m:\n",
       "\u001B[1;32m    236\u001B[0m     \u001B[38;5;28;01mraise\u001B[39;00m\n",
       "\n",
       "\u001B[0;31mAnalysisException\u001B[0m: [UNRESOLVED_COLUMN.WITH_SUGGESTION] A column or function parameter with name `country` cannot be resolved. Did you mean one of the following? [`country_year_region_happiness_rank_happiness_score_gdp_social_support_life_expectancy_freedom_generosity_corruption`]."
      ]
     },
     "metadata": {
      "application/vnd.databricks.v1+output": {
       "arguments": {},
       "data": "\u001B[0;31m---------------------------------------------------------------------------\u001B[0m\n\u001B[0;31mAnalysisException\u001B[0m                         Traceback (most recent call last)\nFile \u001B[0;32m<command-3281497165144823>:9\u001B[0m\n\u001B[1;32m      5\u001B[0m df_bronze_continent \u001B[38;5;241m=\u001B[39m spark\u001B[38;5;241m.\u001B[39mread\u001B[38;5;241m.\u001B[39mformat(\u001B[38;5;124m\"\u001B[39m\u001B[38;5;124mdelta\u001B[39m\u001B[38;5;124m\"\u001B[39m)\u001B[38;5;241m.\u001B[39mload(\u001B[38;5;124m\"\u001B[39m\u001B[38;5;124m/mnt/bronze/continent\u001B[39m\u001B[38;5;124m\"\u001B[39m)\n\u001B[1;32m      7\u001B[0m \u001B[38;5;66;03m# Limpeza e tratamento (Silver)\u001B[39;00m\n\u001B[1;32m      8\u001B[0m df_silver \u001B[38;5;241m=\u001B[39m (\n\u001B[0;32m----> 9\u001B[0m     df_bronze_happiness\n\u001B[1;32m     10\u001B[0m     \u001B[38;5;241m.\u001B[39mdropna(subset\u001B[38;5;241m=\u001B[39m[\u001B[38;5;124m\"\u001B[39m\u001B[38;5;124mcountry\u001B[39m\u001B[38;5;124m\"\u001B[39m, \u001B[38;5;124m\"\u001B[39m\u001B[38;5;124myear\u001B[39m\u001B[38;5;124m\"\u001B[39m, \u001B[38;5;124m\"\u001B[39m\u001B[38;5;124mhappiness_score\u001B[39m\u001B[38;5;124m\"\u001B[39m])\n\u001B[1;32m     11\u001B[0m     \u001B[38;5;241m.\u001B[39mwithColumn(\u001B[38;5;124m\"\u001B[39m\u001B[38;5;124mcountry\u001B[39m\u001B[38;5;124m\"\u001B[39m, trim(col(\u001B[38;5;124m\"\u001B[39m\u001B[38;5;124mcountry\u001B[39m\u001B[38;5;124m\"\u001B[39m)))\n\u001B[1;32m     12\u001B[0m     \u001B[38;5;241m.\u001B[39mwithColumn(\u001B[38;5;124m\"\u001B[39m\u001B[38;5;124mregion\u001B[39m\u001B[38;5;124m\"\u001B[39m, trim(col(\u001B[38;5;124m\"\u001B[39m\u001B[38;5;124mregion\u001B[39m\u001B[38;5;124m\"\u001B[39m)))\n\u001B[1;32m     13\u001B[0m     \u001B[38;5;241m.\u001B[39mwithColumn(\u001B[38;5;124m\"\u001B[39m\u001B[38;5;124myear\u001B[39m\u001B[38;5;124m\"\u001B[39m, col(\u001B[38;5;124m\"\u001B[39m\u001B[38;5;124myear\u001B[39m\u001B[38;5;124m\"\u001B[39m)\u001B[38;5;241m.\u001B[39mcast(\u001B[38;5;124m\"\u001B[39m\u001B[38;5;124mint\u001B[39m\u001B[38;5;124m\"\u001B[39m))\n\u001B[1;32m     14\u001B[0m     \u001B[38;5;241m.\u001B[39mwithColumn(\u001B[38;5;124m\"\u001B[39m\u001B[38;5;124mhappiness_score\u001B[39m\u001B[38;5;124m\"\u001B[39m, col(\u001B[38;5;124m\"\u001B[39m\u001B[38;5;124mhappiness_score\u001B[39m\u001B[38;5;124m\"\u001B[39m)\u001B[38;5;241m.\u001B[39mcast(\u001B[38;5;124m\"\u001B[39m\u001B[38;5;124mfloat\u001B[39m\u001B[38;5;124m\"\u001B[39m))\n\u001B[1;32m     15\u001B[0m     \u001B[38;5;241m.\u001B[39mwithColumn(\u001B[38;5;124m\"\u001B[39m\u001B[38;5;124mgdp\u001B[39m\u001B[38;5;124m\"\u001B[39m, col(\u001B[38;5;124m\"\u001B[39m\u001B[38;5;124mgdp\u001B[39m\u001B[38;5;124m\"\u001B[39m)\u001B[38;5;241m.\u001B[39mcast(\u001B[38;5;124m\"\u001B[39m\u001B[38;5;124mfloat\u001B[39m\u001B[38;5;124m\"\u001B[39m))\n\u001B[1;32m     16\u001B[0m     \u001B[38;5;241m.\u001B[39mwithColumn(\u001B[38;5;124m\"\u001B[39m\u001B[38;5;124msocial_support\u001B[39m\u001B[38;5;124m\"\u001B[39m, col(\u001B[38;5;124m\"\u001B[39m\u001B[38;5;124msocial_support\u001B[39m\u001B[38;5;124m\"\u001B[39m)\u001B[38;5;241m.\u001B[39mcast(\u001B[38;5;124m\"\u001B[39m\u001B[38;5;124mfloat\u001B[39m\u001B[38;5;124m\"\u001B[39m))\n\u001B[1;32m     17\u001B[0m     \u001B[38;5;241m.\u001B[39mwithColumn(\u001B[38;5;124m\"\u001B[39m\u001B[38;5;124mlife_expectancy\u001B[39m\u001B[38;5;124m\"\u001B[39m, col(\u001B[38;5;124m\"\u001B[39m\u001B[38;5;124mlife_expectancy\u001B[39m\u001B[38;5;124m\"\u001B[39m)\u001B[38;5;241m.\u001B[39mcast(\u001B[38;5;124m\"\u001B[39m\u001B[38;5;124mfloat\u001B[39m\u001B[38;5;124m\"\u001B[39m))\n\u001B[1;32m     18\u001B[0m     \u001B[38;5;241m.\u001B[39mwithColumn(\u001B[38;5;124m\"\u001B[39m\u001B[38;5;124mfreedom\u001B[39m\u001B[38;5;124m\"\u001B[39m, col(\u001B[38;5;124m\"\u001B[39m\u001B[38;5;124mfreedom\u001B[39m\u001B[38;5;124m\"\u001B[39m)\u001B[38;5;241m.\u001B[39mcast(\u001B[38;5;124m\"\u001B[39m\u001B[38;5;124mfloat\u001B[39m\u001B[38;5;124m\"\u001B[39m))\n\u001B[1;32m     19\u001B[0m     \u001B[38;5;241m.\u001B[39mwithColumn(\u001B[38;5;124m\"\u001B[39m\u001B[38;5;124mgenerosity\u001B[39m\u001B[38;5;124m\"\u001B[39m, col(\u001B[38;5;124m\"\u001B[39m\u001B[38;5;124mgenerosity\u001B[39m\u001B[38;5;124m\"\u001B[39m)\u001B[38;5;241m.\u001B[39mcast(\u001B[38;5;124m\"\u001B[39m\u001B[38;5;124mfloat\u001B[39m\u001B[38;5;124m\"\u001B[39m))\n\u001B[1;32m     20\u001B[0m     \u001B[38;5;241m.\u001B[39mwithColumn(\u001B[38;5;124m\"\u001B[39m\u001B[38;5;124mcorruption\u001B[39m\u001B[38;5;124m\"\u001B[39m, col(\u001B[38;5;124m\"\u001B[39m\u001B[38;5;124mcorruption\u001B[39m\u001B[38;5;124m\"\u001B[39m)\u001B[38;5;241m.\u001B[39mcast(\u001B[38;5;124m\"\u001B[39m\u001B[38;5;124mfloat\u001B[39m\u001B[38;5;124m\"\u001B[39m))\n\u001B[1;32m     21\u001B[0m )\n\u001B[1;32m     23\u001B[0m \u001B[38;5;66;03m# Enriquecimento com continente\u001B[39;00m\n\u001B[1;32m     24\u001B[0m df_silver \u001B[38;5;241m=\u001B[39m df_silver\u001B[38;5;241m.\u001B[39mjoin(\n\u001B[1;32m     25\u001B[0m     df_bronze_continent,\n\u001B[1;32m     26\u001B[0m     on\u001B[38;5;241m=\u001B[39m\u001B[38;5;124m\"\u001B[39m\u001B[38;5;124mregion\u001B[39m\u001B[38;5;124m\"\u001B[39m,\n\u001B[1;32m     27\u001B[0m     how\u001B[38;5;241m=\u001B[39m\u001B[38;5;124m\"\u001B[39m\u001B[38;5;124mleft\u001B[39m\u001B[38;5;124m\"\u001B[39m\n\u001B[1;32m     28\u001B[0m )\n\nFile \u001B[0;32m/databricks/spark/python/pyspark/instrumentation_utils.py:48\u001B[0m, in \u001B[0;36m_wrap_function.<locals>.wrapper\u001B[0;34m(*args, **kwargs)\u001B[0m\n\u001B[1;32m     46\u001B[0m start \u001B[38;5;241m=\u001B[39m time\u001B[38;5;241m.\u001B[39mperf_counter()\n\u001B[1;32m     47\u001B[0m \u001B[38;5;28;01mtry\u001B[39;00m:\n\u001B[0;32m---> 48\u001B[0m     res \u001B[38;5;241m=\u001B[39m \u001B[43mfunc\u001B[49m\u001B[43m(\u001B[49m\u001B[38;5;241;43m*\u001B[39;49m\u001B[43margs\u001B[49m\u001B[43m,\u001B[49m\u001B[43m \u001B[49m\u001B[38;5;241;43m*\u001B[39;49m\u001B[38;5;241;43m*\u001B[39;49m\u001B[43mkwargs\u001B[49m\u001B[43m)\u001B[49m\n\u001B[1;32m     49\u001B[0m     logger\u001B[38;5;241m.\u001B[39mlog_success(\n\u001B[1;32m     50\u001B[0m         module_name, class_name, function_name, time\u001B[38;5;241m.\u001B[39mperf_counter() \u001B[38;5;241m-\u001B[39m start, signature\n\u001B[1;32m     51\u001B[0m     )\n\u001B[1;32m     52\u001B[0m     \u001B[38;5;28;01mreturn\u001B[39;00m res\n\nFile \u001B[0;32m/databricks/spark/python/pyspark/sql/dataframe.py:3983\u001B[0m, in \u001B[0;36mDataFrame.dropna\u001B[0;34m(self, how, thresh, subset)\u001B[0m\n\u001B[1;32m   3980\u001B[0m \u001B[38;5;28;01mif\u001B[39;00m thresh \u001B[38;5;129;01mis\u001B[39;00m \u001B[38;5;28;01mNone\u001B[39;00m:\n\u001B[1;32m   3981\u001B[0m     thresh \u001B[38;5;241m=\u001B[39m \u001B[38;5;28mlen\u001B[39m(subset) \u001B[38;5;28;01mif\u001B[39;00m how \u001B[38;5;241m==\u001B[39m \u001B[38;5;124m\"\u001B[39m\u001B[38;5;124many\u001B[39m\u001B[38;5;124m\"\u001B[39m \u001B[38;5;28;01melse\u001B[39;00m \u001B[38;5;241m1\u001B[39m\n\u001B[0;32m-> 3983\u001B[0m \u001B[38;5;28;01mreturn\u001B[39;00m DataFrame(\u001B[38;5;28;43mself\u001B[39;49m\u001B[38;5;241;43m.\u001B[39;49m\u001B[43m_jdf\u001B[49m\u001B[38;5;241;43m.\u001B[39;49m\u001B[43mna\u001B[49m\u001B[43m(\u001B[49m\u001B[43m)\u001B[49m\u001B[38;5;241;43m.\u001B[39;49m\u001B[43mdrop\u001B[49m\u001B[43m(\u001B[49m\u001B[43mthresh\u001B[49m\u001B[43m,\u001B[49m\u001B[43m \u001B[49m\u001B[38;5;28;43mself\u001B[39;49m\u001B[38;5;241;43m.\u001B[39;49m\u001B[43m_jseq\u001B[49m\u001B[43m(\u001B[49m\u001B[43msubset\u001B[49m\u001B[43m)\u001B[49m\u001B[43m)\u001B[49m, \u001B[38;5;28mself\u001B[39m\u001B[38;5;241m.\u001B[39msparkSession)\n\nFile \u001B[0;32m/databricks/spark/python/lib/py4j-0.10.9.5-src.zip/py4j/java_gateway.py:1321\u001B[0m, in \u001B[0;36mJavaMember.__call__\u001B[0;34m(self, *args)\u001B[0m\n\u001B[1;32m   1315\u001B[0m command \u001B[38;5;241m=\u001B[39m proto\u001B[38;5;241m.\u001B[39mCALL_COMMAND_NAME \u001B[38;5;241m+\u001B[39m\\\n\u001B[1;32m   1316\u001B[0m     \u001B[38;5;28mself\u001B[39m\u001B[38;5;241m.\u001B[39mcommand_header \u001B[38;5;241m+\u001B[39m\\\n\u001B[1;32m   1317\u001B[0m     args_command \u001B[38;5;241m+\u001B[39m\\\n\u001B[1;32m   1318\u001B[0m     proto\u001B[38;5;241m.\u001B[39mEND_COMMAND_PART\n\u001B[1;32m   1320\u001B[0m answer \u001B[38;5;241m=\u001B[39m \u001B[38;5;28mself\u001B[39m\u001B[38;5;241m.\u001B[39mgateway_client\u001B[38;5;241m.\u001B[39msend_command(command)\n\u001B[0;32m-> 1321\u001B[0m return_value \u001B[38;5;241m=\u001B[39m \u001B[43mget_return_value\u001B[49m\u001B[43m(\u001B[49m\n\u001B[1;32m   1322\u001B[0m \u001B[43m    \u001B[49m\u001B[43manswer\u001B[49m\u001B[43m,\u001B[49m\u001B[43m \u001B[49m\u001B[38;5;28;43mself\u001B[39;49m\u001B[38;5;241;43m.\u001B[39;49m\u001B[43mgateway_client\u001B[49m\u001B[43m,\u001B[49m\u001B[43m \u001B[49m\u001B[38;5;28;43mself\u001B[39;49m\u001B[38;5;241;43m.\u001B[39;49m\u001B[43mtarget_id\u001B[49m\u001B[43m,\u001B[49m\u001B[43m \u001B[49m\u001B[38;5;28;43mself\u001B[39;49m\u001B[38;5;241;43m.\u001B[39;49m\u001B[43mname\u001B[49m\u001B[43m)\u001B[49m\n\u001B[1;32m   1324\u001B[0m \u001B[38;5;28;01mfor\u001B[39;00m temp_arg \u001B[38;5;129;01min\u001B[39;00m temp_args:\n\u001B[1;32m   1325\u001B[0m     temp_arg\u001B[38;5;241m.\u001B[39m_detach()\n\nFile \u001B[0;32m/databricks/spark/python/pyspark/errors/exceptions.py:234\u001B[0m, in \u001B[0;36mcapture_sql_exception.<locals>.deco\u001B[0;34m(*a, **kw)\u001B[0m\n\u001B[1;32m    230\u001B[0m converted \u001B[38;5;241m=\u001B[39m convert_exception(e\u001B[38;5;241m.\u001B[39mjava_exception)\n\u001B[1;32m    231\u001B[0m \u001B[38;5;28;01mif\u001B[39;00m \u001B[38;5;129;01mnot\u001B[39;00m \u001B[38;5;28misinstance\u001B[39m(converted, UnknownException):\n\u001B[1;32m    232\u001B[0m     \u001B[38;5;66;03m# Hide where the exception came from that shows a non-Pythonic\u001B[39;00m\n\u001B[1;32m    233\u001B[0m     \u001B[38;5;66;03m# JVM exception message.\u001B[39;00m\n\u001B[0;32m--> 234\u001B[0m     \u001B[38;5;28;01mraise\u001B[39;00m converted \u001B[38;5;28;01mfrom\u001B[39;00m \u001B[38;5;28mNone\u001B[39m\n\u001B[1;32m    235\u001B[0m \u001B[38;5;28;01melse\u001B[39;00m:\n\u001B[1;32m    236\u001B[0m     \u001B[38;5;28;01mraise\u001B[39;00m\n\n\u001B[0;31mAnalysisException\u001B[0m: [UNRESOLVED_COLUMN.WITH_SUGGESTION] A column or function parameter with name `country` cannot be resolved. Did you mean one of the following? [`country_year_region_happiness_rank_happiness_score_gdp_social_support_life_expectancy_freedom_generosity_corruption`].",
       "errorSummary": "<span class='ansi-red-fg'>AnalysisException</span>: [UNRESOLVED_COLUMN.WITH_SUGGESTION] A column or function parameter with name `country` cannot be resolved. Did you mean one of the following? [`country_year_region_happiness_rank_happiness_score_gdp_social_support_life_expectancy_freedom_generosity_corruption`].",
       "errorTraceType": "ansi",
       "metadata": {},
       "type": "ipynbError"
      }
     },
     "output_type": "display_data"
    }
   ],
   "source": [
    "from pyspark.sql.functions import col, trim\n",
    "\n",
    "# Carregar as tabelas da Bronze\n",
    "df_bronze_happiness = spark.read.format(\"delta\").load(\"/mnt/bronze/happiness\")\n",
    "df_bronze_continent = spark.read.format(\"delta\").load(\"/mnt/bronze/continent\")\n",
    "\n",
    "# Limpeza e tratamento (Silver)\n",
    "df_silver = (\n",
    "    df_bronze_happiness\n",
    "    .dropna(subset=[\"country\", \"year\", \"happiness_score\"])\n",
    "    .withColumn(\"country\", trim(col(\"country\")))\n",
    "    .withColumn(\"region\", trim(col(\"region\")))\n",
    "    .withColumn(\"year\", col(\"year\").cast(\"int\"))\n",
    "    .withColumn(\"happiness_score\", col(\"happiness_score\").cast(\"float\"))\n",
    "    .withColumn(\"gdp\", col(\"gdp\").cast(\"float\"))\n",
    "    .withColumn(\"social_support\", col(\"social_support\").cast(\"float\"))\n",
    "    .withColumn(\"life_expectancy\", col(\"life_expectancy\").cast(\"float\"))\n",
    "    .withColumn(\"freedom\", col(\"freedom\").cast(\"float\"))\n",
    "    .withColumn(\"generosity\", col(\"generosity\").cast(\"float\"))\n",
    "    .withColumn(\"corruption\", col(\"corruption\").cast(\"float\"))\n",
    ")\n",
    "\n",
    "# Enriquecimento com continente\n",
    "df_silver = df_silver.join(\n",
    "    df_bronze_continent,\n",
    "    on=\"region\",\n",
    "    how=\"left\"\n",
    ")\n"
   ]
  },
  {
   "cell_type": "code",
   "execution_count": 0,
   "metadata": {
    "application/vnd.databricks.v1+cell": {
     "cellMetadata": {
      "byteLimit": 2048000,
      "rowLimit": 10000
     },
     "inputWidgets": {},
     "nuid": "3969323b-bc4a-4bfd-a107-35ea7004b1d2",
     "showTitle": true,
     "tableResultSettingsMap": {},
     "title": "Releitura do csv"
    }
   },
   "outputs": [],
   "source": [
    "# Corrigir o erro (como se todo o cabeçalho do CSV tivesse sido lido como um único campo)\n",
    "# Refazer a leitura da Bronze\n",
    "df_bronze_happiness = spark.read.format(\"csv\") \\\n",
    "    .option(\"header\", \"true\") \\\n",
    "    .option(\"sep\", \",\") \\\n",
    "    .option(\"inferSchema\", \"true\") \\\n",
    "    .load(\"/FileStore/tables/dataset/WHRFinal.csv\")\n",
    "\n",
    "df_bronze_continent = spark.read.format(\"csv\") \\\n",
    "    .option(\"header\", \"true\") \\\n",
    "    .option(\"sep\", \",\") \\\n",
    "    .option(\"inferSchema\", \"true\") \\\n",
    "    .load(\"/FileStore/tables/dataset/WHRContinent.csv\")\n"
   ]
  },
  {
   "cell_type": "code",
   "execution_count": 0,
   "metadata": {
    "application/vnd.databricks.v1+cell": {
     "cellMetadata": {
      "byteLimit": 2048000,
      "rowLimit": 10000
     },
     "inputWidgets": {},
     "nuid": "17f9a4c8-489e-4af9-a7d9-f7f81c6ea519",
     "showTitle": true,
     "tableResultSettingsMap": {},
     "title": "Verificar as colunas"
    }
   },
   "outputs": [
    {
     "output_type": "stream",
     "name": "stdout",
     "output_type": "stream",
     "text": [
      "root\n |-- Country;Year;Region;Happiness Rank;Happiness Score;GDP;Social Support;Life Expectancy;Freedom;Generosity;Corruption: string (nullable = true)\n\n+-------------------------------------------------------------------------------------------------------------------+\n|Country;Year;Region;Happiness Rank;Happiness Score;GDP;Social Support;Life Expectancy;Freedom;Generosity;Corruption|\n+-------------------------------------------------------------------------------------------------------------------+\n|                                                                                               Afghanistan;2023;...|\n|                                                                                               Afghanistan;2017;...|\n|                                                                                               Afghanistan;2018;...|\n|                                                                                               Afghanistan;2022;...|\n|                                                                                               Afghanistan;2021;...|\n+-------------------------------------------------------------------------------------------------------------------+\nonly showing top 5 rows\n\n"
     ]
    }
   ],
   "source": [
    "#Verifique se as colunas estão no formato correto\n",
    "df_bronze_happiness.printSchema()\n",
    "df_bronze_happiness.show(5)\n"
   ]
  },
  {
   "cell_type": "code",
   "execution_count": 0,
   "metadata": {
    "application/vnd.databricks.v1+cell": {
     "cellMetadata": {
      "byteLimit": 2048000,
      "rowLimit": 10000
     },
     "inputWidgets": {},
     "nuid": "cef27bd4-9ef5-4063-ae4c-1239e748add1",
     "showTitle": true,
     "tableResultSettingsMap": {},
     "title": "Reaplicar a função de padronização"
    }
   },
   "outputs": [],
   "source": [
    "# Reaplicar a função de padronização nas colunas\n",
    "df_bronze_happiness = sanitize_column_names(df_bronze_happiness)\n",
    "df_bronze_continent = sanitize_column_names(df_bronze_continent)\n"
   ]
  },
  {
   "cell_type": "code",
   "execution_count": 0,
   "metadata": {
    "application/vnd.databricks.v1+cell": {
     "cellMetadata": {
      "byteLimit": 2048000,
      "rowLimit": 10000
     },
     "inputWidgets": {},
     "nuid": "7c232cb1-476e-4156-8481-8703070c3d34",
     "showTitle": true,
     "tableResultSettingsMap": {},
     "title": "Corrigir separador correto (;) na leitura do CSV"
    }
   },
   "outputs": [],
   "source": [
    "# Especificar o separador correto (;) na leitura do CSV\n",
    "# Lendo corretamente com separador \";\"\n",
    "df_bronze_happiness = spark.read.format(\"csv\") \\\n",
    "    .option(\"header\", \"true\") \\\n",
    "    .option(\"sep\", \";\") \\\n",
    "    .option(\"inferSchema\", \"true\") \\\n",
    "    .load(\"/FileStore/tables/dataset/WHRFinal.csv\")\n",
    "\n",
    "df_bronze_continent = spark.read.format(\"csv\") \\\n",
    "    .option(\"header\", \"true\") \\\n",
    "    .option(\"sep\", \";\") \\\n",
    "    .option(\"inferSchema\", \"true\") \\\n",
    "    .load(\"/FileStore/tables/dataset/WHRContinent.csv\")\n"
   ]
  },
  {
   "cell_type": "code",
   "execution_count": 0,
   "metadata": {
    "application/vnd.databricks.v1+cell": {
     "cellMetadata": {
      "byteLimit": 2048000,
      "rowLimit": 10000
     },
     "inputWidgets": {},
     "nuid": "a00c5a76-c9f6-46e9-be57-258ab5593cbb",
     "showTitle": false,
     "tableResultSettingsMap": {},
     "title": ""
    }
   },
   "outputs": [
    {
     "output_type": "stream",
     "name": "stdout",
     "output_type": "stream",
     "text": [
      "root\n |-- Country: string (nullable = true)\n |-- Year: integer (nullable = true)\n |-- Region: string (nullable = true)\n |-- Happiness Rank: integer (nullable = true)\n |-- Happiness Score: string (nullable = true)\n |-- GDP: string (nullable = true)\n |-- Social Support: string (nullable = true)\n |-- Life Expectancy: string (nullable = true)\n |-- Freedom: string (nullable = true)\n |-- Generosity: string (nullable = true)\n |-- Corruption: string (nullable = true)\n\n+-----------+----+-------------+--------------+---------------+-----+--------------+---------------+-------+----------+----------+\n|    Country|Year|       Region|Happiness Rank|Happiness Score|  GDP|Social Support|Life Expectancy|Freedom|Generosity|Corruption|\n+-----------+----+-------------+--------------+---------------+-----+--------------+---------------+-------+----------+----------+\n|Afghanistan|2023|Southern Asia|           137|          1,859|0,645|         0,000|          0,087|  0,000|     0,093|     0,059|\n|Afghanistan|2017|Southern Asia|           141|          3,794|0,401|         0,582|          0,181|  0,106|     0,312|     0,061|\n|Afghanistan|2018|Southern Asia|           145|          3,632|0,332|         0,537|          0,255|  0,085|     0,191|     0,036|\n|Afghanistan|2022|Southern Asia|           146|          2,404|0,758|         0,000|          0,289|  0,000|     0,089|     0,005|\n|Afghanistan|2021|Southern Asia|           149|          2,523|0,370|         0,000|          0,126|  0,000|     0,122|     0,010|\n+-----------+----+-------------+--------------+---------------+-----+--------------+---------------+-------+----------+----------+\nonly showing top 5 rows\n\n"
     ]
    }
   ],
   "source": [
    "df_bronze_happiness.printSchema()\n",
    "df_bronze_happiness.show(5)\n"
   ]
  },
  {
   "cell_type": "code",
   "execution_count": 0,
   "metadata": {
    "application/vnd.databricks.v1+cell": {
     "cellMetadata": {
      "byteLimit": 2048000,
      "rowLimit": 10000
     },
     "inputWidgets": {},
     "nuid": "b3e07cfd-2bdc-4e82-9db8-e4cc2726be0e",
     "showTitle": false,
     "tableResultSettingsMap": {},
     "title": ""
    }
   },
   "outputs": [],
   "source": [
    "#sParonizar as colunas\n",
    "df_bronze_happiness = sanitize_column_names(df_bronze_happiness)\n",
    "df_bronze_continent = sanitize_column_names(df_bronze_continent)\n"
   ]
  },
  {
   "cell_type": "code",
   "execution_count": 0,
   "metadata": {
    "application/vnd.databricks.v1+cell": {
     "cellMetadata": {
      "byteLimit": 2048000,
      "rowLimit": 10000
     },
     "inputWidgets": {},
     "nuid": "55b27973-98b8-4a35-aaa6-5c146ec5e54f",
     "showTitle": true,
     "tableResultSettingsMap": {},
     "title": "Tratar dados na Silver"
    }
   },
   "outputs": [],
   "source": [
    "#Trocar vírgula por ponto nos números\n",
    "from pyspark.sql.functions import regexp_replace, col, trim\n",
    "\n",
    "# Lista das colunas que estão com números no formato string (com vírgula)\n",
    "cols_to_clean = [\n",
    "    \"happiness_score\", \"gdp\", \"social_support\",\n",
    "    \"life_expectancy\", \"freedom\", \"generosity\", \"corruption\"\n",
    "]\n",
    "\n",
    "# Substituir vírgula por ponto e converter para float\n",
    "for c in cols_to_clean:\n",
    "    df_bronze_happiness = df_bronze_happiness.withColumn(\n",
    "        c, regexp_replace(col(c), \",\", \".\").cast(\"float\")\n",
    "    )\n",
    "\n",
    "# Padronizar colunas de texto\n",
    "df_bronze_happiness = df_bronze_happiness.withColumn(\"country\", trim(col(\"country\")))\n",
    "df_bronze_happiness = df_bronze_happiness.withColumn(\"region\", trim(col(\"region\")))\n"
   ]
  },
  {
   "cell_type": "code",
   "execution_count": 0,
   "metadata": {
    "application/vnd.databricks.v1+cell": {
     "cellMetadata": {
      "byteLimit": 2048000,
      "rowLimit": 10000
     },
     "inputWidgets": {},
     "nuid": "ae1451e5-4585-4037-bcc7-722d51e35c8a",
     "showTitle": true,
     "tableResultSettingsMap": {},
     "title": "Join com continent"
    }
   },
   "outputs": [],
   "source": [
    "# Join com a tabela de continentes\n",
    "df_silver = df_bronze_happiness.join(\n",
    "    df_bronze_continent,\n",
    "    on=\"region\",\n",
    "    how=\"left\"\n",
    ")\n",
    "\n"
   ]
  },
  {
   "cell_type": "code",
   "execution_count": 0,
   "metadata": {
    "application/vnd.databricks.v1+cell": {
     "cellMetadata": {
      "byteLimit": 2048000,
      "rowLimit": 10000
     },
     "inputWidgets": {},
     "nuid": "05c5e7f5-6357-4d77-9d13-10554cb12c68",
     "showTitle": true,
     "tableResultSettingsMap": {},
     "title": "Validação join"
    }
   },
   "outputs": [
    {
     "output_type": "stream",
     "name": "stdout",
     "output_type": "stream",
     "text": [
      "+-----------+-------------+---------+----+---------------+\n|    country|       region|continent|year|happiness_score|\n+-----------+-------------+---------+----+---------------+\n|Afghanistan|Southern Asia|     Asia|2023|          1.859|\n|Afghanistan|Southern Asia|     Asia|2017|          3.794|\n|Afghanistan|Southern Asia|     Asia|2018|          3.632|\n|Afghanistan|Southern Asia|     Asia|2022|          2.404|\n|Afghanistan|Southern Asia|     Asia|2021|          2.523|\n+-----------+-------------+---------+----+---------------+\nonly showing top 5 rows\n\n"
     ]
    }
   ],
   "source": [
    "df_silver.select(\"country\", \"region\", \"continent\", \"year\", \"happiness_score\").show(5)\n"
   ]
  },
  {
   "cell_type": "code",
   "execution_count": 0,
   "metadata": {
    "application/vnd.databricks.v1+cell": {
     "cellMetadata": {
      "byteLimit": 2048000,
      "rowLimit": 10000
     },
     "inputWidgets": {},
     "nuid": "2d52616f-d27d-4bb3-8c04-b77e9ad6d2ec",
     "showTitle": true,
     "tableResultSettingsMap": {},
     "title": "Salvar como tabela Silver"
    }
   },
   "outputs": [
    {
     "output_type": "stream",
     "name": "stdout",
     "output_type": "stream",
     "text": [
      "Out[35]: DataFrame[]"
     ]
    }
   ],
   "source": [
    "# Salvar como Delta\n",
    "df_silver.write.format(\"delta\").mode(\"overwrite\").save(\"/mnt/silver/happiness\")\n",
    "\n",
    "# Registrar a tabela no catálogo\n",
    "spark.sql(\"DROP TABLE IF EXISTS silver_happiness\")\n",
    "spark.sql(\"\"\"\n",
    "  CREATE TABLE silver_happiness\n",
    "  USING DELTA\n",
    "  LOCATION '/mnt/silver/happiness'\n",
    "\"\"\")\n"
   ]
  },
  {
   "cell_type": "markdown",
   "metadata": {
    "application/vnd.databricks.v1+cell": {
     "cellMetadata": {},
     "inputWidgets": {},
     "nuid": "f6e38aa6-3a19-48f0-8997-c80a6ef0d727",
     "showTitle": false,
     "tableResultSettingsMap": {},
     "title": ""
    }
   },
   "source": [
    "## Finalização da Camada Silver\n",
    "\n",
    "Dados limpos e enriquecidos com a informação de continente, realizado:\n",
    "\n",
    "- join entre bronze_happiness e bronze_continent usando a coluna `region`\n",
    "- verificação de consistência dos dados após o join\n",
    "- salvamento da tabela `silver_happiness` no formato Delta\n"
   ]
  },
  {
   "cell_type": "markdown",
   "metadata": {
    "application/vnd.databricks.v1+cell": {
     "cellMetadata": {},
     "inputWidgets": {},
     "nuid": "a8506bc9-ef90-46e0-890b-fe11b275fc3a",
     "showTitle": false,
     "tableResultSettingsMap": {},
     "title": ""
    }
   },
   "source": [
    "# Etapa 3 — Camada Gold: Modelagem Estrela\n",
    "\n",
    "## Objetivo\n",
    "Criar um modelo dimensional (estrela) para suportar análises exploratórias dos dados de felicidade mundial, considerando aspectos geográficos, temporais e indicadores sociais.\n",
    "\n",
    "## Estrutura\n",
    "- **Fato**: fato_felicidade — Contém os indicadores por país e ano\n",
    "- **Dimensões**:\n",
    "  - dim_pais — Informações geográficas: país, região, continente\n",
    "  - dim_tempo — Informações temporais: ano, possíveis agregações futuras\n",
    "\n"
   ]
  },
  {
   "cell_type": "code",
   "execution_count": 0,
   "metadata": {
    "application/vnd.databricks.v1+cell": {
     "cellMetadata": {
      "byteLimit": 2048000,
      "rowLimit": 10000
     },
     "inputWidgets": {},
     "nuid": "5b5c33be-b46b-4a8d-ad56-4ccd1afa38b0",
     "showTitle": true,
     "tableResultSettingsMap": {},
     "title": "Criar dim_país"
    }
   },
   "outputs": [
    {
     "output_type": "stream",
     "name": "stdout",
     "output_type": "stream",
     "text": [
      "+-----------+-------------------------------+-------------------------------+-------+\n|country    |region                         |continent                      |id_pais|\n+-----------+-------------------------------+-------------------------------+-------+\n|Afghanistan|Southern Asia                  |Asia                           |30     |\n|Albania    |Central and Eastern Europe     |Europe                         |25     |\n|Algeria    |Middle East and Northern Africa|Middle East and Northern Africa|109    |\n|Angola     |Sub-Saharan Africa             |Africa                         |98     |\n|Argentina  |Latin America and Caribbean    |Latin America and Caribbean    |106    |\n|Armenia    |Central and Eastern Europe     |Europe                         |138    |\n|Australia  |Australia and New Zealand      |Oceania                        |57     |\n|Austria    |Western Europe                 |Europe                         |68     |\n|Azerbaijan |Central and Eastern Europe     |Europe                         |66     |\n|Bahrain    |Middle East and Northern Africa|Middle East and Northern Africa|142    |\n+-----------+-------------------------------+-------------------------------+-------+\nonly showing top 10 rows\n\n"
     ]
    }
   ],
   "source": [
    "# Dimensão País — dim_pais\n",
    "#Contém informações geográficas para análise por país, região e continente. Cada país recebe um ID único (id_pais) para ser usado como chave na tabela fato.\n",
    "# Colunas:id_pais (PK), country, region, continent\n",
    "\n",
    "from pyspark.sql.functions import monotonically_increasing_id\n",
    "\n",
    "# Selecionar apenas colunas geográficas distintas\n",
    "dim_pais = df_silver.select(\"country\", \"region\", \"continent\").dropDuplicates()\n",
    "\n",
    "# Criar coluna de ID único para cada país\n",
    "dim_pais = dim_pais.withColumn(\"id_pais\", monotonically_increasing_id())\n",
    "\n",
    "# Visualizar\n",
    "dim_pais.orderBy(\"country\").show(10, truncate=False)\n"
   ]
  },
  {
   "cell_type": "code",
   "execution_count": 0,
   "metadata": {
    "application/vnd.databricks.v1+cell": {
     "cellMetadata": {
      "byteLimit": 2048000,
      "rowLimit": 10000
     },
     "inputWidgets": {},
     "nuid": "dab5250a-dcc8-4a3d-96ef-5b485bcdf862",
     "showTitle": true,
     "tableResultSettingsMap": {},
     "title": "Salvar dim_país como tabela Delta"
    }
   },
   "outputs": [
    {
     "output_type": "stream",
     "name": "stdout",
     "output_type": "stream",
     "text": [
      "Out[37]: DataFrame[]"
     ]
    }
   ],
   "source": [
    "dim_pais.write.format(\"delta\").mode(\"overwrite\").save(\"/mnt/gold/dim_pais\")\n",
    "\n",
    "spark.sql(\"DROP TABLE IF EXISTS dim_pais\")\n",
    "spark.sql(\"\"\"\n",
    "  CREATE TABLE dim_pais\n",
    "  USING DELTA\n",
    "  LOCATION '/mnt/gold/dim_pais'\n",
    "\"\"\")\n"
   ]
  },
  {
   "cell_type": "code",
   "execution_count": 0,
   "metadata": {
    "application/vnd.databricks.v1+cell": {
     "cellMetadata": {
      "byteLimit": 2048000,
      "rowLimit": 10000
     },
     "inputWidgets": {},
     "nuid": "75a5dd7c-656d-44c8-9b36-625d1f5e8aa8",
     "showTitle": true,
     "tableResultSettingsMap": {},
     "title": "Criar dim_tempo"
    }
   },
   "outputs": [
    {
     "output_type": "stream",
     "name": "stdout",
     "output_type": "stream",
     "text": [
      "+----+--------+\n|year|id_tempo|\n+----+--------+\n|2015|       0|\n|2016|       1|\n|2017|       2|\n|2018|       3|\n|2019|       4|\n|2020|       5|\n|2021|       6|\n|2022|       7|\n|2023|       8|\n+----+--------+\n\n"
     ]
    }
   ],
   "source": [
    "# Dimensão Tempo — dim_tempo\n",
    "#Contém os anos em que foram registrados os dados, com um identificador único (id_tempo).\n",
    "# Colunas: id_tempo(PK), year\n",
    "\n",
    "\n",
    "# Selecionar anos únicos\n",
    "dim_tempo = df_silver.select(\"year\").dropDuplicates().orderBy(\"year\")\n",
    "\n",
    "# Adicionar id_tempo\n",
    "dim_tempo = dim_tempo.withColumn(\"id_tempo\", monotonically_increasing_id())\n",
    "\n",
    "# Visualizar\n",
    "dim_tempo.show()\n"
   ]
  },
  {
   "cell_type": "code",
   "execution_count": 0,
   "metadata": {
    "application/vnd.databricks.v1+cell": {
     "cellMetadata": {
      "byteLimit": 2048000,
      "rowLimit": 10000
     },
     "inputWidgets": {},
     "nuid": "b7180897-93de-41a9-a5e0-9a261e742ad2",
     "showTitle": true,
     "tableResultSettingsMap": {},
     "title": "Salvar dim_tempo como tabela Delta"
    }
   },
   "outputs": [
    {
     "output_type": "stream",
     "name": "stdout",
     "output_type": "stream",
     "text": [
      "Out[39]: DataFrame[]"
     ]
    }
   ],
   "source": [
    "dim_tempo.write.format(\"delta\").mode(\"overwrite\").save(\"/mnt/gold/dim_tempo\")\n",
    "\n",
    "spark.sql(\"DROP TABLE IF EXISTS dim_tempo\")\n",
    "spark.sql(\"\"\"\n",
    "  CREATE TABLE dim_tempo\n",
    "  USING DELTA\n",
    "  LOCATION '/mnt/gold/dim_tempo'\n",
    "\"\"\")\n"
   ]
  },
  {
   "cell_type": "code",
   "execution_count": 0,
   "metadata": {
    "application/vnd.databricks.v1+cell": {
     "cellMetadata": {
      "byteLimit": 2048000,
      "rowLimit": 10000
     },
     "inputWidgets": {},
     "nuid": "3cfa2290-61cf-4f2d-b1d8-92e46768ccb8",
     "showTitle": true,
     "tableResultSettingsMap": {},
     "title": "Criar fato_felicidade"
    }
   },
   "outputs": [
    {
     "output_type": "stream",
     "name": "stdout",
     "output_type": "stream",
     "text": [
      "+-------+--------+---------------+--------------+-----+--------------+---------------+-------+----------+----------+\n|id_pais|id_tempo|happiness_score|happiness_rank|  gdp|social_support|life_expectancy|freedom|generosity|corruption|\n+-------+--------+---------------+--------------+-----+--------------+---------------+-------+----------+----------+\n|     30|       8|          1.859|           137|0.645|           0.0|          0.087|    0.0|     0.093|     0.059|\n|     30|       2|          3.794|           141|0.401|         0.582|          0.181|  0.106|     0.312|     0.061|\n|     30|       3|          3.632|           145|0.332|         0.537|          0.255|  0.085|     0.191|     0.036|\n|     30|       7|          2.404|           146|0.758|           0.0|          0.289|    0.0|     0.089|     0.005|\n|     30|       6|          2.523|           149| 0.37|           0.0|          0.126|    0.0|     0.122|      0.01|\n+-------+--------+---------------+--------------+-----+--------------+---------------+-------+----------+----------+\nonly showing top 5 rows\n\n"
     ]
    }
   ],
   "source": [
    "# Join com dim_pais\n",
    "df_fato = df_silver.join(\n",
    "    dim_pais,\n",
    "    on=[\"country\", \"region\", \"continent\"],\n",
    "    how=\"left\"\n",
    ")\n",
    "\n",
    "# Join com dim_tempo\n",
    "df_fato = df_fato.join(\n",
    "    dim_tempo,\n",
    "    on=\"year\",\n",
    "    how=\"left\"\n",
    ")\n",
    "\n",
    "# Selecionar colunas da fato\n",
    "fato_felicidade = df_fato.select(\n",
    "    \"id_pais\", \"id_tempo\",\n",
    "    \"happiness_score\",\n",
    "    \"happiness_rank\",\n",
    "    \"gdp\",\n",
    "    \"social_support\",\n",
    "    \"life_expectancy\",\n",
    "    \"freedom\",\n",
    "    \"generosity\",\n",
    "    \"corruption\"\n",
    ")\n",
    "\n",
    "# Visualizar\n",
    "fato_felicidade.show(5)\n"
   ]
  },
  {
   "cell_type": "markdown",
   "metadata": {
    "application/vnd.databricks.v1+cell": {
     "cellMetadata": {},
     "inputWidgets": {},
     "nuid": "a06139a3-e202-4977-bdb4-5767de080ac0",
     "showTitle": false,
     "tableResultSettingsMap": {},
     "title": ""
    }
   },
   "source": [
    "## Tabela Fato — fato_felicidade\n",
    "\n",
    "Tabela central do modelo estrela. Contém os indicadores de felicidade associados a um país e um ano, usando chaves para as dimensões.\n",
    "\n",
    "### Colunas:\n",
    "- id_pais (FK)\n",
    "- id_tempo (FK)\n",
    "- happiness_score\n",
    "- happiness_rank\n",
    "- gdp\n",
    "- social_support\n",
    "- life_expectancy\n",
    "- freedom\n",
    "- generosity\n",
    "- corruption\n"
   ]
  },
  {
   "cell_type": "code",
   "execution_count": 0,
   "metadata": {
    "application/vnd.databricks.v1+cell": {
     "cellMetadata": {
      "byteLimit": 2048000,
      "rowLimit": 10000
     },
     "inputWidgets": {},
     "nuid": "33417c67-198b-41b0-a185-f1f61d085edb",
     "showTitle": true,
     "tableResultSettingsMap": {},
     "title": "Salvar fato_felicidade como tabela Delta"
    }
   },
   "outputs": [
    {
     "output_type": "stream",
     "name": "stdout",
     "output_type": "stream",
     "text": [
      "Out[53]: DataFrame[]"
     ]
    }
   ],
   "source": [
    "fato_felicidade.write.format(\"delta\").mode(\"overwrite\").save(\"/mnt/gold/fato_felicidade\")\n",
    "\n",
    "spark.sql(\"DROP TABLE IF EXISTS fato_felicidade\")\n",
    "spark.sql(\"\"\"\n",
    "  CREATE TABLE fato_felicidade\n",
    "  USING DELTA\n",
    "  LOCATION '/mnt/gold/fato_felicidade'\n",
    "\"\"\")\n"
   ]
  },
  {
   "cell_type": "code",
   "execution_count": 0,
   "metadata": {
    "application/vnd.databricks.v1+cell": {
     "cellMetadata": {
      "byteLimit": 2048000,
      "rowLimit": 10000
     },
     "inputWidgets": {},
     "nuid": "fb3eb1ab-1c57-4734-a7cb-b27ddae28364",
     "showTitle": true,
     "tableResultSettingsMap": {},
     "title": "Views temporárias"
    }
   },
   "outputs": [],
   "source": [
    "# Criar views temporárias\n",
    "spark.table(\"fato_felicidade\").createOrReplaceTempView(\"vw_fato_felicidade\")\n",
    "spark.table(\"dim_pais\").createOrReplaceTempView(\"vw_dim_pais\")\n",
    "spark.table(\"dim_tempo\").createOrReplaceTempView(\"vw_dim_tempo\")\n"
   ]
  },
  {
   "cell_type": "markdown",
   "metadata": {
    "application/vnd.databricks.v1+cell": {
     "cellMetadata": {},
     "inputWidgets": {},
     "nuid": "be857275-a3ac-4584-9ef0-5ccd98f833d5",
     "showTitle": false,
     "tableResultSettingsMap": {},
     "title": ""
    }
   },
   "source": [
    "## 📊 Resumo das Perguntas e Respostas (Análises)\n",
    "\n",
    "São 14 perguntas exploradas com base no dataset World Happiness Report (2015–2023), utilizando SQL e modelagem dimensional.\n",
    "\n",
    "| Nº | Pergunta                                                                                 | Métrica Principal                                       |\n",
    "|----|------------------------------------------------------------------------------------------|---------------------------------------------------------|\n",
    "| 1  | Qual a evolução da felicidade média no mundo por ano?                                   | AVG(`happiness_score`) por ano                          |\n",
    "| 2  | Comparativo de felicidade média por continente em 2023?                                 | AVG(`happiness_score`) por continente                   |\n",
    "| 3  | Top 10 países mais felizes em 2023?                                                      | TOP 10 `happiness_score`                                |\n",
    "| 4  | Fatores mais presentes entre os países mais felizes?                                    | Médias dos indicadores (`happiness_score` ≥ 7)          |\n",
    "| 5  | Top 10 países menos felizes em 2023                                                      | Menores `happiness_score`                               |\n",
    "| 6  | Quais fatores estão mais presentes entre os países menos felizes?                       | Médias dos indicadores (`happiness_score` ≤ 4)          |\n",
    "| 7  | Quais são os 5 países menos felizes em cada ano?                                         | `ROW_NUMBER()` por ano (`happiness_score` ASC)          |\n",
    "| 8  | Existe relação entre PIB per capita e felicidade?                                       | Dispersão entre `gdp` e `happiness_score`               |\n",
    "| 9  | Como a expectativa de vida afeta a felicidade?                                           | Dispersão entre `life_expectancy` e `happiness_score`   |\n",
    "| 10 | Quais países se destacam por generosidade ou suporte social?                            | AVG(`generosity`), AVG(`social_support`) por país       |\n",
    "| 11 | Correlação entre felicidade e GDP em 2023                                                | `happiness_score` vs `gdp` (somente 2023)               |\n",
    "| 12 | Variação da felicidade no Brasil por ano?                                                | Histórico de `happiness_score` do Brasil                |\n",
    "| 13 | Quais fatores estão mais presentes na felicidade do Brazil?                             | Médias dos indicadores do Brasil                        |\n",
    "| 14 | Comparativo: Brasil vs América Latina e Caribe                                          | Médias comparativas Brasil x América Latina             |\n"
   ]
  },
  {
   "cell_type": "code",
   "execution_count": 0,
   "metadata": {
    "application/vnd.databricks.v1+cell": {
     "cellMetadata": {
      "byteLimit": 2048000,
      "implicitDf": true,
      "rowLimit": 10000
     },
     "inputWidgets": {},
     "nuid": "7c32d473-1247-4170-add8-9eb74c249142",
     "showTitle": true,
     "tableResultSettingsMap": {},
     "title": "1. Qual a evolução da felicidade média no mundo por ano?"
    }
   },
   "outputs": [
    {
     "output_type": "display_data",
     "data": {
      "text/html": [
       "<style scoped>\n",
       "  .table-result-container {\n",
       "    max-height: 300px;\n",
       "    overflow: auto;\n",
       "  }\n",
       "  table, th, td {\n",
       "    border: 1px solid black;\n",
       "    border-collapse: collapse;\n",
       "  }\n",
       "  th, td {\n",
       "    padding: 5px;\n",
       "  }\n",
       "  th {\n",
       "    text-align: left;\n",
       "  }\n",
       "</style><div class='table-result-container'><table class='table-result'><thead style='background-color: white'><tr><th>year</th><th>media_happiness</th></tr></thead><tbody><tr><td>2015</td><td>5.38</td></tr><tr><td>2016</td><td>5.38</td></tr><tr><td>2017</td><td>5.35</td></tr><tr><td>2018</td><td>5.37</td></tr><tr><td>2019</td><td>5.41</td></tr><tr><td>2020</td><td>5.47</td></tr><tr><td>2021</td><td>5.53</td></tr><tr><td>2022</td><td>5.55</td></tr><tr><td>2023</td><td>5.54</td></tr></tbody></table></div>"
      ]
     },
     "metadata": {
      "application/vnd.databricks.v1+output": {
       "addedWidgets": {},
       "aggData": [],
       "aggError": "",
       "aggOverflow": false,
       "aggSchema": [],
       "aggSeriesLimitReached": false,
       "aggType": "",
       "arguments": {},
       "columnCustomDisplayInfos": {},
       "data": [
        [
         2015,
         5.38
        ],
        [
         2016,
         5.38
        ],
        [
         2017,
         5.35
        ],
        [
         2018,
         5.37
        ],
        [
         2019,
         5.41
        ],
        [
         2020,
         5.47
        ],
        [
         2021,
         5.53
        ],
        [
         2022,
         5.55
        ],
        [
         2023,
         5.54
        ]
       ],
       "datasetInfos": [],
       "dbfsResultPath": null,
       "isJsonSchema": true,
       "metadata": {},
       "overflow": false,
       "plotOptions": {
        "customPlotOptions": {},
        "displayType": "table",
        "pivotAggregation": null,
        "pivotColumns": null,
        "xColumns": null,
        "yColumns": null
       },
       "removedWidgets": [],
       "schema": [
        {
         "metadata": "{}",
         "name": "year",
         "type": "\"integer\""
        },
        {
         "metadata": "{}",
         "name": "media_happiness",
         "type": "\"double\""
        }
       ],
       "type": "table"
      }
     },
     "output_type": "display_data"
    },
    {
     "output_type": "display_data",
     "data": {
      "text/plain": [
       "Databricks visualization. Run in Databricks to view."
      ]
     },
     "metadata": {
      "application/vnd.databricks.v1.subcommand+json": {
       "baseErrorDetails": null,
       "bindings": {},
       "collapsed": false,
       "command": "%sql WITH q AS (SELECT t.year, ROUND(AVG(f.happiness_score), 2) AS media_happiness\nFROM vw_fato_felicidade f\nJOIN vw_dim_tempo t ON f.id_tempo = t.id_tempo\nGROUP BY t.year\nORDER BY t.year) SELECT `year`,SUM(`media_happiness`) `column_bb1113c989` FROM q GROUP BY `year`",
       "commandTitle": "Visualização 1",
       "commandType": "auto",
       "commandVersion": 0,
       "commentThread": [],
       "commentsVisible": false,
       "contentSha256Hex": null,
       "customPlotOptions": {
        "redashChart": [
         {
          "key": "type",
          "value": "CHART"
         },
         {
          "key": "options",
          "value": {
           "alignYAxesAtZero": true,
           "coefficient": 1,
           "columnConfigurationMap": {
            "x": {
             "column": "year",
             "id": "column_bb1113c988"
            },
            "y": [
             {
              "column": "media_happiness",
              "id": "column_bb1113c989",
              "transform": "SUM"
             }
            ]
           },
           "dateTimeFormat": "DD/MM/YYYY HH:mm",
           "direction": {
            "type": "counterclockwise"
           },
           "error_y": {
            "type": "data",
            "visible": true
           },
           "globalSeriesType": "line",
           "isAggregationOn": true,
           "legend": {
            "traceorder": "normal"
           },
           "missingValuesAsZero": true,
           "numberFormat": "0,0.[00000]",
           "percentFormat": "0[.]00%",
           "series": {
            "error_y": {
             "type": "data",
             "visible": true
            },
            "percentValues": false,
            "stacking": null
           },
           "seriesOptions": {
            "column_bb1113c989": {
             "color": "#981717",
             "name": "media_happiness",
             "type": "line",
             "yAxis": 0
            }
           },
           "showDataLabels": false,
           "sizemode": "diameter",
           "sortX": true,
           "sortY": true,
           "swappedAxes": false,
           "textFormat": "",
           "useAggregationsUi": true,
           "valuesOptions": {},
           "version": 2,
           "xAxis": {
            "labels": {
             "enabled": true
            },
            "type": "-"
           },
           "yAxis": [
            {
             "type": "-"
            },
            {
             "opposite": true,
             "type": "-"
            }
           ]
          }
         }
        ]
       },
       "datasetPreviewNameToCmdIdMap": {},
       "diffDeletes": [],
       "diffInserts": [],
       "displayType": "redashChart",
       "error": null,
       "errorDetails": null,
       "errorSummary": null,
       "errorTraceType": null,
       "finishTime": 0,
       "globalVars": {},
       "guid": "",
       "height": "auto",
       "hideCommandCode": false,
       "hideCommandResult": false,
       "iPythonMetadata": null,
       "inputWidgets": {},
       "isLockedInExamMode": false,
       "latestUser": "a user",
       "latestUserId": null,
       "listResultMetadata": null,
       "metadata": {},
       "nuid": "87c7d144-02a2-4b10-826f-561c4c35ce85",
       "origId": 0,
       "parentHierarchy": [],
       "pivotAggregation": null,
       "pivotColumns": null,
       "position": 132.0,
       "resultDbfsErrorMessage": null,
       "resultDbfsStatus": "INLINED_IN_TREE",
       "results": null,
       "showCommandTitle": false,
       "startTime": 0,
       "state": "input",
       "streamStates": {},
       "subcommandOptions": {
        "queryPlan": {
         "groups": [
          {
           "column": "year",
           "type": "column"
          }
         ],
         "selects": [
          {
           "column": "year",
           "type": "column"
          },
          {
           "alias": "column_bb1113c989",
           "args": [
            {
             "column": "media_happiness",
             "type": "column"
            }
           ],
           "function": "SUM",
           "type": "function"
          }
         ]
        }
       },
       "submitTime": 0,
       "subtype": "tableResultSubCmd.visualization",
       "tableResultIndex": 0,
       "tableResultSettingsMap": {},
       "useConsistentColors": false,
       "version": "CommandV1",
       "width": "auto",
       "workflows": [],
       "xColumns": null,
       "yColumns": null
      }
     },
     "output_type": "display_data"
    }
   ],
   "source": [
    "%sql\n",
    "SELECT t.year, ROUND(AVG(f.happiness_score), 2) AS media_happiness\n",
    "FROM vw_fato_felicidade f\n",
    "JOIN vw_dim_tempo t ON f.id_tempo = t.id_tempo\n",
    "GROUP BY t.year\n",
    "ORDER BY t.year;\n"
   ]
  },
  {
   "cell_type": "code",
   "execution_count": 0,
   "metadata": {
    "application/vnd.databricks.v1+cell": {
     "cellMetadata": {
      "byteLimit": 2048000,
      "implicitDf": true,
      "rowLimit": 10000
     },
     "inputWidgets": {},
     "nuid": "6eee8bc1-5505-470e-9f60-6ef190121c87",
     "showTitle": true,
     "tableResultSettingsMap": {},
     "title": "2. Comparativo de felicidade média por continente em 2023?"
    }
   },
   "outputs": [
    {
     "output_type": "display_data",
     "data": {
      "text/html": [
       "<style scoped>\n",
       "  .table-result-container {\n",
       "    max-height: 300px;\n",
       "    overflow: auto;\n",
       "  }\n",
       "  table, th, td {\n",
       "    border: 1px solid black;\n",
       "    border-collapse: collapse;\n",
       "  }\n",
       "  th, td {\n",
       "    padding: 5px;\n",
       "  }\n",
       "  th {\n",
       "    text-align: left;\n",
       "  }\n",
       "</style><div class='table-result-container'><table class='table-result'><thead style='background-color: white'><tr><th>continent</th><th>media_happiness</th></tr></thead><tbody><tr><td>Oceania</td><td>7.11</td></tr><tr><td>North America</td><td>6.93</td></tr><tr><td>Europe</td><td>6.36</td></tr><tr><td>Latin America and Caribbean</td><td>5.97</td></tr><tr><td>Asia</td><td>5.19</td></tr><tr><td>Middle East and Northern Africa</td><td>5.1</td></tr><tr><td>Africa </td><td>4.38</td></tr></tbody></table></div>"
      ]
     },
     "metadata": {
      "application/vnd.databricks.v1+output": {
       "addedWidgets": {},
       "aggData": [],
       "aggError": "",
       "aggOverflow": false,
       "aggSchema": [],
       "aggSeriesLimitReached": false,
       "aggType": "",
       "arguments": {},
       "columnCustomDisplayInfos": {},
       "data": [
        [
         "Oceania",
         7.11
        ],
        [
         "North America",
         6.93
        ],
        [
         "Europe",
         6.36
        ],
        [
         "Latin America and Caribbean",
         5.97
        ],
        [
         "Asia",
         5.19
        ],
        [
         "Middle East and Northern Africa",
         5.1
        ],
        [
         "Africa ",
         4.38
        ]
       ],
       "datasetInfos": [],
       "dbfsResultPath": null,
       "isJsonSchema": true,
       "metadata": {},
       "overflow": false,
       "plotOptions": {
        "customPlotOptions": {},
        "displayType": "table",
        "pivotAggregation": null,
        "pivotColumns": null,
        "xColumns": null,
        "yColumns": null
       },
       "removedWidgets": [],
       "schema": [
        {
         "metadata": "{}",
         "name": "continent",
         "type": "\"string\""
        },
        {
         "metadata": "{}",
         "name": "media_happiness",
         "type": "\"double\""
        }
       ],
       "type": "table"
      }
     },
     "output_type": "display_data"
    },
    {
     "output_type": "display_data",
     "data": {
      "text/plain": [
       "Databricks visualization. Run in Databricks to view."
      ]
     },
     "metadata": {
      "application/vnd.databricks.v1.subcommand+json": {
       "baseErrorDetails": null,
       "bindings": {},
       "collapsed": false,
       "command": "%sql WITH q AS (SELECT p.continent, ROUND(AVG(f.happiness_score), 2) AS media_happiness\nFROM vw_fato_felicidade f\nJOIN vw_dim_pais p ON f.id_pais = p.id_pais\nJOIN vw_dim_tempo t ON f.id_tempo = t.id_tempo\nWHERE t.year = 2023\nGROUP BY p.continent\nORDER BY media_happiness DESC) SELECT `continent`,SUM(`media_happiness`) `column_bb1113c975` FROM q GROUP BY `continent`",
       "commandTitle": "Visualização 1",
       "commandType": "auto",
       "commandVersion": 0,
       "commentThread": [],
       "commentsVisible": false,
       "contentSha256Hex": null,
       "customPlotOptions": {
        "redashChart": [
         {
          "key": "type",
          "value": "CHART"
         },
         {
          "key": "options",
          "value": {
           "alignYAxesAtZero": true,
           "coefficient": 1,
           "columnConfigurationMap": {
            "x": {
             "column": "continent",
             "id": "column_bb1113c974"
            },
            "y": [
             {
              "column": "media_happiness",
              "id": "column_bb1113c975",
              "transform": "SUM"
             }
            ]
           },
           "dateTimeFormat": "DD/MM/YYYY HH:mm",
           "direction": {
            "type": "counterclockwise"
           },
           "error_y": {
            "type": "data",
            "visible": true
           },
           "globalSeriesType": "column",
           "isAggregationOn": true,
           "legend": {
            "traceorder": "normal"
           },
           "missingValuesAsZero": true,
           "numberFormat": "0,0.[00000]",
           "percentFormat": "0[.]00%",
           "series": {
            "error_y": {
             "type": "data",
             "visible": true
            },
            "stacking": null
           },
           "seriesOptions": {
            "column_bb1113c975": {
             "color": "#981717",
             "name": "media_happiness",
             "yAxis": 0
            }
           },
           "showDataLabels": false,
           "sizemode": "diameter",
           "sortX": true,
           "sortY": true,
           "swappedAxes": true,
           "textFormat": "",
           "useAggregationsUi": true,
           "valuesOptions": {},
           "version": 2,
           "xAxis": {
            "labels": {
             "enabled": true
            },
            "type": "-"
           },
           "yAxis": [
            {
             "type": "-"
            },
            {
             "opposite": true,
             "type": "-"
            }
           ]
          }
         }
        ]
       },
       "datasetPreviewNameToCmdIdMap": {},
       "diffDeletes": [],
       "diffInserts": [],
       "displayType": "redashChart",
       "error": null,
       "errorDetails": null,
       "errorSummary": null,
       "errorTraceType": null,
       "finishTime": 0,
       "globalVars": {},
       "guid": "",
       "height": "auto",
       "hideCommandCode": false,
       "hideCommandResult": false,
       "iPythonMetadata": null,
       "inputWidgets": {},
       "isLockedInExamMode": false,
       "latestUser": "a user",
       "latestUserId": null,
       "listResultMetadata": null,
       "metadata": {},
       "nuid": "460d95da-0483-4a34-bfc6-6d5a27b1f91e",
       "origId": 0,
       "parentHierarchy": [],
       "pivotAggregation": null,
       "pivotColumns": null,
       "position": 133.0,
       "resultDbfsErrorMessage": null,
       "resultDbfsStatus": "INLINED_IN_TREE",
       "results": null,
       "showCommandTitle": false,
       "startTime": 0,
       "state": "input",
       "streamStates": {},
       "subcommandOptions": {
        "queryPlan": {
         "groups": [
          {
           "column": "continent",
           "type": "column"
          }
         ],
         "selects": [
          {
           "column": "continent",
           "type": "column"
          },
          {
           "alias": "column_bb1113c975",
           "args": [
            {
             "column": "media_happiness",
             "type": "column"
            }
           ],
           "function": "SUM",
           "type": "function"
          }
         ]
        }
       },
       "submitTime": 0,
       "subtype": "tableResultSubCmd.visualization",
       "tableResultIndex": 0,
       "tableResultSettingsMap": {},
       "useConsistentColors": false,
       "version": "CommandV1",
       "width": "auto",
       "workflows": [],
       "xColumns": null,
       "yColumns": null
      }
     },
     "output_type": "display_data"
    }
   ],
   "source": [
    "%sql\n",
    "SELECT p.continent, ROUND(AVG(f.happiness_score), 2) AS media_happiness\n",
    "FROM vw_fato_felicidade f\n",
    "JOIN vw_dim_pais p ON f.id_pais = p.id_pais\n",
    "JOIN vw_dim_tempo t ON f.id_tempo = t.id_tempo\n",
    "WHERE t.year = 2023\n",
    "GROUP BY p.continent\n",
    "ORDER BY media_happiness DESC;\n"
   ]
  },
  {
   "cell_type": "code",
   "execution_count": 0,
   "metadata": {
    "application/vnd.databricks.v1+cell": {
     "cellMetadata": {
      "byteLimit": 2048000,
      "implicitDf": true,
      "rowLimit": 10000
     },
     "inputWidgets": {},
     "nuid": "b8da190f-f8a1-4ebd-8ff5-ce35bb498f33",
     "showTitle": true,
     "tableResultSettingsMap": {},
     "title": "3. Top 10 países mais felizes em 2023?"
    }
   },
   "outputs": [
    {
     "output_type": "display_data",
     "data": {
      "text/html": [
       "<style scoped>\n",
       "  .table-result-container {\n",
       "    max-height: 300px;\n",
       "    overflow: auto;\n",
       "  }\n",
       "  table, th, td {\n",
       "    border: 1px solid black;\n",
       "    border-collapse: collapse;\n",
       "  }\n",
       "  th, td {\n",
       "    padding: 5px;\n",
       "  }\n",
       "  th {\n",
       "    text-align: left;\n",
       "  }\n",
       "</style><div class='table-result-container'><table class='table-result'><thead style='background-color: white'><tr><th>country</th><th>happiness_score</th></tr></thead><tbody><tr><td>Finland</td><td>7.804</td></tr><tr><td>Denmark</td><td>7.586</td></tr><tr><td>Iceland</td><td>7.53</td></tr><tr><td>Israel</td><td>7.473</td></tr><tr><td>Netherlands</td><td>7.403</td></tr><tr><td>Sweden</td><td>7.395</td></tr><tr><td>Norway</td><td>7.315</td></tr><tr><td>Switzerland</td><td>7.24</td></tr><tr><td>Luxembourg</td><td>7.228</td></tr><tr><td>New Zealand</td><td>7.123</td></tr></tbody></table></div>"
      ]
     },
     "metadata": {
      "application/vnd.databricks.v1+output": {
       "addedWidgets": {},
       "aggData": [],
       "aggError": "",
       "aggOverflow": false,
       "aggSchema": [],
       "aggSeriesLimitReached": false,
       "aggType": "",
       "arguments": {},
       "columnCustomDisplayInfos": {},
       "data": [
        [
         "Finland",
         7.804
        ],
        [
         "Denmark",
         7.586
        ],
        [
         "Iceland",
         7.53
        ],
        [
         "Israel",
         7.473
        ],
        [
         "Netherlands",
         7.403
        ],
        [
         "Sweden",
         7.395
        ],
        [
         "Norway",
         7.315
        ],
        [
         "Switzerland",
         7.24
        ],
        [
         "Luxembourg",
         7.228
        ],
        [
         "New Zealand",
         7.123
        ]
       ],
       "datasetInfos": [],
       "dbfsResultPath": null,
       "isJsonSchema": true,
       "metadata": {},
       "overflow": false,
       "plotOptions": {
        "customPlotOptions": {},
        "displayType": "table",
        "pivotAggregation": null,
        "pivotColumns": null,
        "xColumns": null,
        "yColumns": null
       },
       "removedWidgets": [],
       "schema": [
        {
         "metadata": "{}",
         "name": "country",
         "type": "\"string\""
        },
        {
         "metadata": "{}",
         "name": "happiness_score",
         "type": "\"float\""
        }
       ],
       "type": "table"
      }
     },
     "output_type": "display_data"
    },
    {
     "output_type": "display_data",
     "data": {
      "text/plain": [
       "Databricks visualization. Run in Databricks to view."
      ]
     },
     "metadata": {
      "application/vnd.databricks.v1.subcommand+json": {
       "baseErrorDetails": null,
       "bindings": {},
       "collapsed": false,
       "command": "%sql WITH q AS (SELECT p.country, f.happiness_score\nFROM vw_fato_felicidade f\nJOIN vw_dim_pais p ON f.id_pais = p.id_pais\nJOIN vw_dim_tempo t ON f.id_tempo = t.id_tempo\nWHERE t.year = 2023\nORDER BY f.happiness_score DESC\nLIMIT 10) SELECT `country`,SUM(`happiness_score`) `column_bb1113c979` FROM q GROUP BY `country`",
       "commandTitle": "Visualização 1",
       "commandType": "auto",
       "commandVersion": 0,
       "commentThread": [],
       "commentsVisible": false,
       "contentSha256Hex": null,
       "customPlotOptions": {
        "redashChart": [
         {
          "key": "type",
          "value": "CHART"
         },
         {
          "key": "options",
          "value": {
           "alignYAxesAtZero": true,
           "coefficient": 1,
           "columnConfigurationMap": {
            "x": {
             "column": "country",
             "id": "column_bb1113c978"
            },
            "y": [
             {
              "column": "happiness_score",
              "id": "column_bb1113c979",
              "transform": "SUM"
             }
            ]
           },
           "dateTimeFormat": "DD/MM/YYYY HH:mm",
           "direction": {
            "type": "counterclockwise"
           },
           "error_y": {
            "type": "data",
            "visible": true
           },
           "globalSeriesType": "column",
           "isAggregationOn": true,
           "legend": {
            "traceorder": "normal"
           },
           "missingValuesAsZero": true,
           "numberFormat": "0,0.[00000]",
           "percentFormat": "0[.]00%",
           "series": {
            "error_y": {
             "type": "data",
             "visible": true
            },
            "stacking": null
           },
           "seriesOptions": {
            "column_bb1113c979": {
             "color": "#FB8D3D",
             "name": "happiness_score",
             "yAxis": 0
            }
           },
           "showDataLabels": false,
           "sizemode": "diameter",
           "sortX": true,
           "sortY": true,
           "swappedAxes": true,
           "textFormat": "",
           "useAggregationsUi": true,
           "valuesOptions": {},
           "version": 2,
           "xAxis": {
            "labels": {
             "enabled": true
            },
            "type": "-"
           },
           "yAxis": [
            {
             "type": "-"
            },
            {
             "opposite": true,
             "type": "-"
            }
           ]
          }
         }
        ]
       },
       "datasetPreviewNameToCmdIdMap": {},
       "diffDeletes": [],
       "diffInserts": [],
       "displayType": "redashChart",
       "error": null,
       "errorDetails": null,
       "errorSummary": null,
       "errorTraceType": null,
       "finishTime": 0,
       "globalVars": {},
       "guid": "",
       "height": "auto",
       "hideCommandCode": false,
       "hideCommandResult": false,
       "iPythonMetadata": null,
       "inputWidgets": {},
       "isLockedInExamMode": false,
       "latestUser": "a user",
       "latestUserId": null,
       "listResultMetadata": null,
       "metadata": {},
       "nuid": "ac7b48bf-6afb-4601-bfba-e511553beddd",
       "origId": 0,
       "parentHierarchy": [],
       "pivotAggregation": null,
       "pivotColumns": null,
       "position": 134.0,
       "resultDbfsErrorMessage": null,
       "resultDbfsStatus": "INLINED_IN_TREE",
       "results": null,
       "showCommandTitle": false,
       "startTime": 0,
       "state": "input",
       "streamStates": {},
       "subcommandOptions": {
        "queryPlan": {
         "groups": [
          {
           "column": "country",
           "type": "column"
          }
         ],
         "selects": [
          {
           "column": "country",
           "type": "column"
          },
          {
           "alias": "column_bb1113c979",
           "args": [
            {
             "column": "happiness_score",
             "type": "column"
            }
           ],
           "function": "SUM",
           "type": "function"
          }
         ]
        }
       },
       "submitTime": 0,
       "subtype": "tableResultSubCmd.visualization",
       "tableResultIndex": 0,
       "tableResultSettingsMap": {},
       "useConsistentColors": false,
       "version": "CommandV1",
       "width": "auto",
       "workflows": [],
       "xColumns": null,
       "yColumns": null
      }
     },
     "output_type": "display_data"
    }
   ],
   "source": [
    "%sql\n",
    "SELECT p.country, f.happiness_score\n",
    "FROM vw_fato_felicidade f\n",
    "JOIN vw_dim_pais p ON f.id_pais = p.id_pais\n",
    "JOIN vw_dim_tempo t ON f.id_tempo = t.id_tempo\n",
    "WHERE t.year = 2023\n",
    "ORDER BY f.happiness_score DESC\n",
    "LIMIT 10;\n"
   ]
  },
  {
   "cell_type": "code",
   "execution_count": 0,
   "metadata": {
    "application/vnd.databricks.v1+cell": {
     "cellMetadata": {
      "byteLimit": 2048000,
      "implicitDf": true,
      "rowLimit": 10000
     },
     "inputWidgets": {},
     "nuid": "a695dcf5-df1d-43d0-9432-5c3c0f6d842d",
     "showTitle": true,
     "tableResultSettingsMap": {},
     "title": "4. Fatores mais presentes entre os países mais felizes?"
    }
   },
   "outputs": [
    {
     "output_type": "display_data",
     "data": {
      "text/html": [
       "<style scoped>\n",
       "  .table-result-container {\n",
       "    max-height: 300px;\n",
       "    overflow: auto;\n",
       "  }\n",
       "  table, th, td {\n",
       "    border: 1px solid black;\n",
       "    border-collapse: collapse;\n",
       "  }\n",
       "  th, td {\n",
       "    padding: 5px;\n",
       "  }\n",
       "  th {\n",
       "    text-align: left;\n",
       "  }\n",
       "</style><div class='table-result-container'><table class='table-result'><thead style='background-color: white'><tr><th>fator</th><th>media_valor</th></tr></thead><tbody><tr><td>GDP</td><td>1.494</td></tr><tr><td>Social Support</td><td>1.343</td></tr><tr><td>Life Expectancy</td><td>0.845</td></tr><tr><td>Freedom</td><td>0.616</td></tr><tr><td>Generosity</td><td>0.283</td></tr><tr><td>Corruption</td><td>0.322</td></tr></tbody></table></div>"
      ]
     },
     "metadata": {
      "application/vnd.databricks.v1+output": {
       "addedWidgets": {},
       "aggData": [],
       "aggError": "",
       "aggOverflow": false,
       "aggSchema": [],
       "aggSeriesLimitReached": false,
       "aggType": "",
       "arguments": {},
       "columnCustomDisplayInfos": {},
       "data": [
        [
         "GDP",
         1.494
        ],
        [
         "Social Support",
         1.343
        ],
        [
         "Life Expectancy",
         0.845
        ],
        [
         "Freedom",
         0.616
        ],
        [
         "Generosity",
         0.283
        ],
        [
         "Corruption",
         0.322
        ]
       ],
       "datasetInfos": [],
       "dbfsResultPath": null,
       "isJsonSchema": true,
       "metadata": {},
       "overflow": false,
       "plotOptions": {
        "customPlotOptions": {},
        "displayType": "table",
        "pivotAggregation": null,
        "pivotColumns": null,
        "xColumns": null,
        "yColumns": null
       },
       "removedWidgets": [],
       "schema": [
        {
         "metadata": "{}",
         "name": "fator",
         "type": "\"string\""
        },
        {
         "metadata": "{}",
         "name": "media_valor",
         "type": "\"double\""
        }
       ],
       "type": "table"
      }
     },
     "output_type": "display_data"
    },
    {
     "output_type": "display_data",
     "data": {
      "text/plain": [
       "Databricks visualization. Run in Databricks to view."
      ]
     },
     "metadata": {
      "application/vnd.databricks.v1.subcommand+json": {
       "baseErrorDetails": null,
       "bindings": {},
       "collapsed": false,
       "command": "%sql WITH q AS (SELECT 'GDP' AS fator, ROUND(AVG(gdp), 3) AS media_valor FROM vw_fato_felicidade WHERE happiness_score >= 7\nUNION ALL\nSELECT 'Social Support', ROUND(AVG(social_support), 3) FROM vw_fato_felicidade WHERE happiness_score >= 7\nUNION ALL\nSELECT 'Life Expectancy', ROUND(AVG(life_expectancy), 3) FROM vw_fato_felicidade WHERE happiness_score >= 7\nUNION ALL\nSELECT 'Freedom', ROUND(AVG(freedom), 3) FROM vw_fato_felicidade WHERE happiness_score >= 7\nUNION ALL\nSELECT 'Generosity', ROUND(AVG(generosity), 3) FROM vw_fato_felicidade WHERE happiness_score >= 7\nUNION ALL\nSELECT 'Corruption', ROUND(AVG(corruption), 3) FROM vw_fato_felicidade WHERE happiness_score >= 7) SELECT `fator`,SUM(`media_valor`) `column_bb1113c9115` FROM q GROUP BY `fator`",
       "commandTitle": "Visualização 1",
       "commandType": "auto",
       "commandVersion": 0,
       "commentThread": [],
       "commentsVisible": false,
       "contentSha256Hex": null,
       "customPlotOptions": {
        "redashChart": [
         {
          "key": "type",
          "value": "CHART"
         },
         {
          "key": "options",
          "value": {
           "alignYAxesAtZero": true,
           "coefficient": 1,
           "columnConfigurationMap": {
            "x": {
             "column": "fator",
             "id": "column_bb1113c9114"
            },
            "y": [
             {
              "column": "media_valor",
              "id": "column_bb1113c9115",
              "transform": "SUM"
             }
            ]
           },
           "dateTimeFormat": "DD/MM/YYYY HH:mm",
           "direction": {
            "type": "counterclockwise"
           },
           "error_y": {
            "type": "data",
            "visible": true
           },
           "globalSeriesType": "column",
           "isAggregationOn": true,
           "legend": {
            "traceorder": "normal"
           },
           "missingValuesAsZero": true,
           "numberFormat": "0,0.[00000]",
           "percentFormat": "0[.]00%",
           "series": {
            "error_y": {
             "type": "data",
             "visible": true
            },
            "stacking": null
           },
           "seriesOptions": {
            "column_bb1113c9115": {
             "color": "#FB8D3D",
             "name": "media_valor",
             "yAxis": 0
            }
           },
           "showDataLabels": false,
           "sizemode": "diameter",
           "sortX": true,
           "sortY": true,
           "swappedAxes": true,
           "textFormat": "",
           "useAggregationsUi": true,
           "valuesOptions": {},
           "version": 2,
           "xAxis": {
            "labels": {
             "enabled": true
            },
            "type": "-"
           },
           "yAxis": [
            {
             "type": "-"
            },
            {
             "opposite": true,
             "type": "-"
            }
           ]
          }
         }
        ]
       },
       "datasetPreviewNameToCmdIdMap": {},
       "diffDeletes": [],
       "diffInserts": [],
       "displayType": "redashChart",
       "error": null,
       "errorDetails": null,
       "errorSummary": null,
       "errorTraceType": null,
       "finishTime": 0,
       "globalVars": {},
       "guid": "",
       "height": "auto",
       "hideCommandCode": false,
       "hideCommandResult": false,
       "iPythonMetadata": null,
       "inputWidgets": {},
       "isLockedInExamMode": false,
       "latestUser": "a user",
       "latestUserId": null,
       "listResultMetadata": null,
       "metadata": {},
       "nuid": "96039371-67db-4ff8-8743-856c267d889b",
       "origId": 0,
       "parentHierarchy": [],
       "pivotAggregation": null,
       "pivotColumns": null,
       "position": 134.09375,
       "resultDbfsErrorMessage": null,
       "resultDbfsStatus": "INLINED_IN_TREE",
       "results": null,
       "showCommandTitle": false,
       "startTime": 0,
       "state": "input",
       "streamStates": {},
       "subcommandOptions": {
        "queryPlan": {
         "groups": [
          {
           "column": "fator",
           "type": "column"
          }
         ],
         "selects": [
          {
           "column": "fator",
           "type": "column"
          },
          {
           "alias": "column_bb1113c9115",
           "args": [
            {
             "column": "media_valor",
             "type": "column"
            }
           ],
           "function": "SUM",
           "type": "function"
          }
         ]
        }
       },
       "submitTime": 0,
       "subtype": "tableResultSubCmd.visualization",
       "tableResultIndex": 0,
       "tableResultSettingsMap": {},
       "useConsistentColors": false,
       "version": "CommandV1",
       "width": "auto",
       "workflows": [],
       "xColumns": null,
       "yColumns": null
      }
     },
     "output_type": "display_data"
    }
   ],
   "source": [
    "%sql\n",
    "SELECT 'GDP' AS fator, ROUND(AVG(gdp), 3) AS media_valor FROM vw_fato_felicidade WHERE happiness_score >= 7\n",
    "UNION ALL\n",
    "SELECT 'Social Support', ROUND(AVG(social_support), 3) FROM vw_fato_felicidade WHERE happiness_score >= 7\n",
    "UNION ALL\n",
    "SELECT 'Life Expectancy', ROUND(AVG(life_expectancy), 3) FROM vw_fato_felicidade WHERE happiness_score >= 7\n",
    "UNION ALL\n",
    "SELECT 'Freedom', ROUND(AVG(freedom), 3) FROM vw_fato_felicidade WHERE happiness_score >= 7\n",
    "UNION ALL\n",
    "SELECT 'Generosity', ROUND(AVG(generosity), 3) FROM vw_fato_felicidade WHERE happiness_score >= 7\n",
    "UNION ALL\n",
    "SELECT 'Corruption', ROUND(AVG(corruption), 3) FROM vw_fato_felicidade WHERE happiness_score >= 7;\n"
   ]
  },
  {
   "cell_type": "code",
   "execution_count": 0,
   "metadata": {
    "application/vnd.databricks.v1+cell": {
     "cellMetadata": {
      "byteLimit": 2048000,
      "implicitDf": true,
      "rowLimit": 10000
     },
     "inputWidgets": {},
     "nuid": "f1e6f3b5-d9ed-48ed-86ee-5a7c0037a4f2",
     "showTitle": true,
     "tableResultSettingsMap": {},
     "title": "5. Top 10 países menos felizes em 2023?"
    }
   },
   "outputs": [
    {
     "output_type": "display_data",
     "data": {
      "text/html": [
       "<style scoped>\n",
       "  .table-result-container {\n",
       "    max-height: 300px;\n",
       "    overflow: auto;\n",
       "  }\n",
       "  table, th, td {\n",
       "    border: 1px solid black;\n",
       "    border-collapse: collapse;\n",
       "  }\n",
       "  th, td {\n",
       "    padding: 5px;\n",
       "  }\n",
       "  th {\n",
       "    text-align: left;\n",
       "  }\n",
       "</style><div class='table-result-container'><table class='table-result'><thead style='background-color: white'><tr><th>country</th><th>happiness_score</th></tr></thead><tbody><tr><td>Afghanistan</td><td>1.859</td></tr><tr><td>Lebanon</td><td>2.392</td></tr><tr><td>Sierra Leone</td><td>3.138</td></tr><tr><td>Zimbabwe</td><td>3.204</td></tr><tr><td>Congo (Kinshasa)</td><td>3.207</td></tr><tr><td>Botswana</td><td>3.435</td></tr><tr><td>Malawi</td><td>3.495</td></tr><tr><td>Comoros</td><td>3.545</td></tr><tr><td>Tanzania</td><td>3.694</td></tr><tr><td>Zambia</td><td>3.982</td></tr></tbody></table></div>"
      ]
     },
     "metadata": {
      "application/vnd.databricks.v1+output": {
       "addedWidgets": {},
       "aggData": [],
       "aggError": "",
       "aggOverflow": false,
       "aggSchema": [],
       "aggSeriesLimitReached": false,
       "aggType": "",
       "arguments": {},
       "columnCustomDisplayInfos": {},
       "data": [
        [
         "Afghanistan",
         1.859
        ],
        [
         "Lebanon",
         2.392
        ],
        [
         "Sierra Leone",
         3.138
        ],
        [
         "Zimbabwe",
         3.204
        ],
        [
         "Congo (Kinshasa)",
         3.207
        ],
        [
         "Botswana",
         3.435
        ],
        [
         "Malawi",
         3.495
        ],
        [
         "Comoros",
         3.545
        ],
        [
         "Tanzania",
         3.694
        ],
        [
         "Zambia",
         3.982
        ]
       ],
       "datasetInfos": [],
       "dbfsResultPath": null,
       "isJsonSchema": true,
       "metadata": {},
       "overflow": false,
       "plotOptions": {
        "customPlotOptions": {},
        "displayType": "table",
        "pivotAggregation": null,
        "pivotColumns": null,
        "xColumns": null,
        "yColumns": null
       },
       "removedWidgets": [],
       "schema": [
        {
         "metadata": "{}",
         "name": "country",
         "type": "\"string\""
        },
        {
         "metadata": "{}",
         "name": "happiness_score",
         "type": "\"float\""
        }
       ],
       "type": "table"
      }
     },
     "output_type": "display_data"
    },
    {
     "output_type": "display_data",
     "data": {
      "text/plain": [
       "Databricks visualization. Run in Databricks to view."
      ]
     },
     "metadata": {
      "application/vnd.databricks.v1.subcommand+json": {
       "baseErrorDetails": null,
       "bindings": {},
       "collapsed": false,
       "command": "%sql WITH q AS (SELECT p.country, f.happiness_score\nFROM vw_fato_felicidade f\nJOIN vw_dim_pais p ON f.id_pais = p.id_pais\nJOIN vw_dim_tempo t ON f.id_tempo = t.id_tempo\nWHERE t.year = 2023\nORDER BY f.happiness_score ASC\nLIMIT 10) SELECT `country`,SUM(`happiness_score`) `column_bb1113c9108` FROM q GROUP BY `country`",
       "commandTitle": "Visualização 1",
       "commandType": "auto",
       "commandVersion": 0,
       "commentThread": [],
       "commentsVisible": false,
       "contentSha256Hex": null,
       "customPlotOptions": {
        "redashChart": [
         {
          "key": "type",
          "value": "CHART"
         },
         {
          "key": "options",
          "value": {
           "alignYAxesAtZero": true,
           "coefficient": 1,
           "columnConfigurationMap": {
            "x": {
             "column": "country",
             "id": "column_bb1113c9107"
            },
            "y": [
             {
              "column": "happiness_score",
              "id": "column_bb1113c9108",
              "transform": "SUM"
             }
            ]
           },
           "dateTimeFormat": "DD/MM/YYYY HH:mm",
           "direction": {
            "type": "counterclockwise"
           },
           "error_y": {
            "type": "data",
            "visible": true
           },
           "globalSeriesType": "column",
           "isAggregationOn": true,
           "legend": {
            "traceorder": "normal"
           },
           "missingValuesAsZero": true,
           "numberFormat": "0,0.[00000]",
           "percentFormat": "0[.]00%",
           "series": {
            "error_y": {
             "type": "data",
             "visible": true
            },
            "stacking": null
           },
           "seriesOptions": {
            "column_bb1113c9108": {
             "color": "#799CFF",
             "name": "happiness_score",
             "yAxis": 0
            }
           },
           "showDataLabels": false,
           "sizemode": "diameter",
           "sortX": true,
           "sortY": true,
           "swappedAxes": true,
           "textFormat": "",
           "useAggregationsUi": true,
           "valuesOptions": {},
           "version": 2,
           "xAxis": {
            "labels": {
             "enabled": true
            },
            "type": "-"
           },
           "yAxis": [
            {
             "type": "-"
            },
            {
             "opposite": true,
             "type": "-"
            }
           ]
          }
         }
        ]
       },
       "datasetPreviewNameToCmdIdMap": {},
       "diffDeletes": [],
       "diffInserts": [],
       "displayType": "redashChart",
       "error": null,
       "errorDetails": null,
       "errorSummary": null,
       "errorTraceType": null,
       "finishTime": 0,
       "globalVars": {},
       "guid": "",
       "height": "auto",
       "hideCommandCode": false,
       "hideCommandResult": false,
       "iPythonMetadata": null,
       "inputWidgets": {},
       "isLockedInExamMode": false,
       "latestUser": "a user",
       "latestUserId": null,
       "listResultMetadata": null,
       "metadata": {},
       "nuid": "4c136391-8669-44aa-b004-3bd3ed2eb3c3",
       "origId": 0,
       "parentHierarchy": [],
       "pivotAggregation": null,
       "pivotColumns": null,
       "position": 134.1875,
       "resultDbfsErrorMessage": null,
       "resultDbfsStatus": "INLINED_IN_TREE",
       "results": null,
       "showCommandTitle": false,
       "startTime": 0,
       "state": "input",
       "streamStates": {},
       "subcommandOptions": {
        "queryPlan": {
         "groups": [
          {
           "column": "country",
           "type": "column"
          }
         ],
         "selects": [
          {
           "column": "country",
           "type": "column"
          },
          {
           "alias": "column_bb1113c9108",
           "args": [
            {
             "column": "happiness_score",
             "type": "column"
            }
           ],
           "function": "SUM",
           "type": "function"
          }
         ]
        }
       },
       "submitTime": 0,
       "subtype": "tableResultSubCmd.visualization",
       "tableResultIndex": 0,
       "tableResultSettingsMap": {},
       "useConsistentColors": false,
       "version": "CommandV1",
       "width": "auto",
       "workflows": [],
       "xColumns": null,
       "yColumns": null
      }
     },
     "output_type": "display_data"
    }
   ],
   "source": [
    "%sql\n",
    "SELECT p.country, f.happiness_score\n",
    "FROM vw_fato_felicidade f\n",
    "JOIN vw_dim_pais p ON f.id_pais = p.id_pais\n",
    "JOIN vw_dim_tempo t ON f.id_tempo = t.id_tempo\n",
    "WHERE t.year = 2023\n",
    "ORDER BY f.happiness_score ASC\n",
    "LIMIT 10;\n"
   ]
  },
  {
   "cell_type": "code",
   "execution_count": 0,
   "metadata": {
    "application/vnd.databricks.v1+cell": {
     "cellMetadata": {
      "byteLimit": 2048000,
      "implicitDf": true,
      "rowLimit": 10000
     },
     "inputWidgets": {},
     "nuid": "6b6f6fb6-a975-4feb-944d-a5c3f0e5dc81",
     "showTitle": true,
     "tableResultSettingsMap": {},
     "title": "6. Quais fatores estão mais presentes entre os países menos felizes?"
    }
   },
   "outputs": [
    {
     "output_type": "display_data",
     "data": {
      "text/html": [
       "<style scoped>\n",
       "  .table-result-container {\n",
       "    max-height: 300px;\n",
       "    overflow: auto;\n",
       "  }\n",
       "  table, th, td {\n",
       "    border: 1px solid black;\n",
       "    border-collapse: collapse;\n",
       "  }\n",
       "  th, td {\n",
       "    padding: 5px;\n",
       "  }\n",
       "  th {\n",
       "    text-align: left;\n",
       "  }\n",
       "</style><div class='table-result-container'><table class='table-result'><thead style='background-color: white'><tr><th>fator</th><th>media_valor</th></tr></thead><tbody><tr><td>GDP</td><td>0.46</td></tr><tr><td>Social Support</td><td>0.638</td></tr><tr><td>Life Expectancy</td><td>0.29</td></tr><tr><td>Freedom</td><td>0.325</td></tr><tr><td>Generosity</td><td>0.208</td></tr><tr><td>Corruption</td><td>0.118</td></tr></tbody></table></div>"
      ]
     },
     "metadata": {
      "application/vnd.databricks.v1+output": {
       "addedWidgets": {},
       "aggData": [],
       "aggError": "",
       "aggOverflow": false,
       "aggSchema": [],
       "aggSeriesLimitReached": false,
       "aggType": "",
       "arguments": {},
       "columnCustomDisplayInfos": {},
       "data": [
        [
         "GDP",
         0.46
        ],
        [
         "Social Support",
         0.638
        ],
        [
         "Life Expectancy",
         0.29
        ],
        [
         "Freedom",
         0.325
        ],
        [
         "Generosity",
         0.208
        ],
        [
         "Corruption",
         0.118
        ]
       ],
       "datasetInfos": [],
       "dbfsResultPath": null,
       "isJsonSchema": true,
       "metadata": {},
       "overflow": false,
       "plotOptions": {
        "customPlotOptions": {},
        "displayType": "table",
        "pivotAggregation": null,
        "pivotColumns": null,
        "xColumns": null,
        "yColumns": null
       },
       "removedWidgets": [],
       "schema": [
        {
         "metadata": "{}",
         "name": "fator",
         "type": "\"string\""
        },
        {
         "metadata": "{}",
         "name": "media_valor",
         "type": "\"double\""
        }
       ],
       "type": "table"
      }
     },
     "output_type": "display_data"
    },
    {
     "output_type": "display_data",
     "data": {
      "text/plain": [
       "Databricks visualization. Run in Databricks to view."
      ]
     },
     "metadata": {
      "application/vnd.databricks.v1.subcommand+json": {
       "baseErrorDetails": null,
       "bindings": {},
       "collapsed": false,
       "command": "%sql WITH q AS (SELECT 'GDP' AS fator, ROUND(AVG(gdp), 3) AS media_valor FROM vw_fato_felicidade WHERE happiness_score <= 4\nUNION ALL\nSELECT 'Social Support', ROUND(AVG(social_support), 3) FROM vw_fato_felicidade WHERE happiness_score <= 4\nUNION ALL\nSELECT 'Life Expectancy', ROUND(AVG(life_expectancy), 3) FROM vw_fato_felicidade WHERE happiness_score <= 4\nUNION ALL\nSELECT 'Freedom', ROUND(AVG(freedom), 3) FROM vw_fato_felicidade WHERE happiness_score <= 4\nUNION ALL\nSELECT 'Generosity', ROUND(AVG(generosity), 3) FROM vw_fato_felicidade WHERE happiness_score <= 4\nUNION ALL\nSELECT 'Corruption', ROUND(AVG(corruption), 3) FROM vw_fato_felicidade WHERE happiness_score <= 4) SELECT `fator`,SUM(`media_valor`) `column_bb1113c9111` FROM q GROUP BY `fator`",
       "commandTitle": "Visualização 1",
       "commandType": "auto",
       "commandVersion": 0,
       "commentThread": [],
       "commentsVisible": false,
       "contentSha256Hex": null,
       "customPlotOptions": {
        "redashChart": [
         {
          "key": "type",
          "value": "CHART"
         },
         {
          "key": "options",
          "value": {
           "alignYAxesAtZero": true,
           "coefficient": 1,
           "columnConfigurationMap": {
            "x": {
             "column": "fator",
             "id": "column_bb1113c9110"
            },
            "y": [
             {
              "column": "media_valor",
              "id": "column_bb1113c9111",
              "transform": "SUM"
             }
            ]
           },
           "dateTimeFormat": "DD/MM/YYYY HH:mm",
           "direction": {
            "type": "counterclockwise"
           },
           "error_y": {
            "type": "data",
            "visible": true
           },
           "globalSeriesType": "column",
           "isAggregationOn": true,
           "legend": {
            "traceorder": "normal"
           },
           "missingValuesAsZero": true,
           "numberFormat": "0,0.[00000]",
           "percentFormat": "0[.]00%",
           "series": {
            "error_y": {
             "type": "data",
             "visible": true
            },
            "stacking": null
           },
           "seriesOptions": {
            "column_bb1113c9111": {
             "color": "#799CFF",
             "name": "media_valor",
             "yAxis": 0
            }
           },
           "showDataLabels": false,
           "sizemode": "diameter",
           "sortX": true,
           "sortY": true,
           "swappedAxes": true,
           "textFormat": "",
           "useAggregationsUi": true,
           "valuesOptions": {},
           "version": 2,
           "xAxis": {
            "labels": {
             "enabled": true
            },
            "type": "-"
           },
           "yAxis": [
            {
             "type": "-"
            },
            {
             "opposite": true,
             "type": "-"
            }
           ]
          }
         }
        ]
       },
       "datasetPreviewNameToCmdIdMap": {},
       "diffDeletes": [],
       "diffInserts": [],
       "displayType": "redashChart",
       "error": null,
       "errorDetails": null,
       "errorSummary": null,
       "errorTraceType": null,
       "finishTime": 0,
       "globalVars": {},
       "guid": "",
       "height": "auto",
       "hideCommandCode": false,
       "hideCommandResult": false,
       "iPythonMetadata": null,
       "inputWidgets": {},
       "isLockedInExamMode": false,
       "latestUser": "a user",
       "latestUserId": null,
       "listResultMetadata": null,
       "metadata": {},
       "nuid": "44d96daa-d29a-4723-887d-936083c3d24f",
       "origId": 0,
       "parentHierarchy": [],
       "pivotAggregation": null,
       "pivotColumns": null,
       "position": 134.375,
       "resultDbfsErrorMessage": null,
       "resultDbfsStatus": "INLINED_IN_TREE",
       "results": null,
       "showCommandTitle": false,
       "startTime": 0,
       "state": "input",
       "streamStates": {},
       "subcommandOptions": {
        "queryPlan": {
         "groups": [
          {
           "column": "fator",
           "type": "column"
          }
         ],
         "selects": [
          {
           "column": "fator",
           "type": "column"
          },
          {
           "alias": "column_bb1113c9111",
           "args": [
            {
             "column": "media_valor",
             "type": "column"
            }
           ],
           "function": "SUM",
           "type": "function"
          }
         ]
        }
       },
       "submitTime": 0,
       "subtype": "tableResultSubCmd.visualization",
       "tableResultIndex": 0,
       "tableResultSettingsMap": {},
       "useConsistentColors": false,
       "version": "CommandV1",
       "width": "auto",
       "workflows": [],
       "xColumns": null,
       "yColumns": null
      }
     },
     "output_type": "display_data"
    }
   ],
   "source": [
    "%sql\n",
    "SELECT 'GDP' AS fator, ROUND(AVG(gdp), 3) AS media_valor FROM vw_fato_felicidade WHERE happiness_score <= 4\n",
    "UNION ALL\n",
    "SELECT 'Social Support', ROUND(AVG(social_support), 3) FROM vw_fato_felicidade WHERE happiness_score <= 4\n",
    "UNION ALL\n",
    "SELECT 'Life Expectancy', ROUND(AVG(life_expectancy), 3) FROM vw_fato_felicidade WHERE happiness_score <= 4\n",
    "UNION ALL\n",
    "SELECT 'Freedom', ROUND(AVG(freedom), 3) FROM vw_fato_felicidade WHERE happiness_score <= 4\n",
    "UNION ALL\n",
    "SELECT 'Generosity', ROUND(AVG(generosity), 3) FROM vw_fato_felicidade WHERE happiness_score <= 4\n",
    "UNION ALL\n",
    "SELECT 'Corruption', ROUND(AVG(corruption), 3) FROM vw_fato_felicidade WHERE happiness_score <= 4;\n"
   ]
  },
  {
   "cell_type": "code",
   "execution_count": 0,
   "metadata": {
    "application/vnd.databricks.v1+cell": {
     "cellMetadata": {
      "byteLimit": 2048000,
      "implicitDf": true,
      "rowLimit": 10000
     },
     "inputWidgets": {},
     "nuid": "afbb4491-874e-442d-a7d2-c1ba9911e29e",
     "showTitle": true,
     "tableResultSettingsMap": {},
     "title": "7. Quais são os 5 países menos felizes em cada ano?"
    }
   },
   "outputs": [
    {
     "output_type": "display_data",
     "data": {
      "text/html": [
       "<style scoped>\n",
       "  .table-result-container {\n",
       "    max-height: 300px;\n",
       "    overflow: auto;\n",
       "  }\n",
       "  table, th, td {\n",
       "    border: 1px solid black;\n",
       "    border-collapse: collapse;\n",
       "  }\n",
       "  th, td {\n",
       "    padding: 5px;\n",
       "  }\n",
       "  th {\n",
       "    text-align: left;\n",
       "  }\n",
       "</style><div class='table-result-container'><table class='table-result'><thead style='background-color: white'><tr><th>year</th><th>country</th><th>happiness_score</th></tr></thead><tbody><tr><td>2015</td><td>Togo</td><td>2.839</td></tr><tr><td>2015</td><td>Burundi</td><td>2.905</td></tr><tr><td>2015</td><td>Syria</td><td>3.006</td></tr><tr><td>2015</td><td>Benin</td><td>3.34</td></tr><tr><td>2015</td><td>Rwanda</td><td>3.465</td></tr><tr><td>2016</td><td>Burundi</td><td>2.905</td></tr><tr><td>2016</td><td>Syria</td><td>3.069</td></tr><tr><td>2016</td><td>Togo</td><td>3.303</td></tr><tr><td>2016</td><td>Afghanistan</td><td>3.36</td></tr><tr><td>2016</td><td>Benin</td><td>3.484</td></tr><tr><td>2017</td><td>Central African Republic</td><td>2.693</td></tr><tr><td>2017</td><td>Burundi</td><td>2.905</td></tr><tr><td>2017</td><td>Tanzania</td><td>3.349</td></tr><tr><td>2017</td><td>Syria</td><td>3.462</td></tr><tr><td>2017</td><td>Rwanda</td><td>3.471</td></tr><tr><td>2018</td><td>Burundi</td><td>2.905</td></tr><tr><td>2018</td><td>Central African Republic</td><td>3.083</td></tr><tr><td>2018</td><td>Sudan</td><td>3.254</td></tr><tr><td>2018</td><td>Tanzania</td><td>3.303</td></tr><tr><td>2018</td><td>Yemen</td><td>3.355</td></tr><tr><td>2019</td><td>Sudan</td><td>2.853</td></tr><tr><td>2019</td><td>Central African Republic</td><td>3.083</td></tr><tr><td>2019</td><td>Afghanistan</td><td>3.203</td></tr><tr><td>2019</td><td>Tanzania</td><td>3.231</td></tr><tr><td>2019</td><td>Rwanda</td><td>3.334</td></tr><tr><td>2020</td><td>Afghanistan</td><td>2.567</td></tr><tr><td>2020</td><td>Sudan</td><td>2.817</td></tr><tr><td>2020</td><td>Zimbabwe</td><td>3.299</td></tr><tr><td>2020</td><td>Rwanda</td><td>3.312</td></tr><tr><td>2020</td><td>Central African Republic</td><td>3.476</td></tr><tr><td>2021</td><td>Afghanistan</td><td>2.523</td></tr><tr><td>2021</td><td>Zimbabwe</td><td>3.145</td></tr><tr><td>2021</td><td>Rwanda</td><td>3.415</td></tr><tr><td>2021</td><td>Botswana</td><td>3.467</td></tr><tr><td>2021</td><td>Lesotho</td><td>3.512</td></tr><tr><td>2022</td><td>Afghanistan</td><td>2.404</td></tr><tr><td>2022</td><td>Lebanon</td><td>2.955</td></tr><tr><td>2022</td><td>Zimbabwe</td><td>2.995</td></tr><tr><td>2022</td><td>Rwanda</td><td>3.268</td></tr><tr><td>2022</td><td>Botswana</td><td>3.471</td></tr><tr><td>2023</td><td>Afghanistan</td><td>1.859</td></tr><tr><td>2023</td><td>Lebanon</td><td>2.392</td></tr><tr><td>2023</td><td>Sierra Leone</td><td>3.138</td></tr><tr><td>2023</td><td>Zimbabwe</td><td>3.204</td></tr><tr><td>2023</td><td>Congo (Kinshasa)</td><td>3.207</td></tr></tbody></table></div>"
      ]
     },
     "metadata": {
      "application/vnd.databricks.v1+output": {
       "addedWidgets": {},
       "aggData": [],
       "aggError": "",
       "aggOverflow": false,
       "aggSchema": [],
       "aggSeriesLimitReached": false,
       "aggType": "",
       "arguments": {},
       "columnCustomDisplayInfos": {},
       "data": [
        [
         2015,
         "Togo",
         2.839
        ],
        [
         2015,
         "Burundi",
         2.905
        ],
        [
         2015,
         "Syria",
         3.006
        ],
        [
         2015,
         "Benin",
         3.34
        ],
        [
         2015,
         "Rwanda",
         3.465
        ],
        [
         2016,
         "Burundi",
         2.905
        ],
        [
         2016,
         "Syria",
         3.069
        ],
        [
         2016,
         "Togo",
         3.303
        ],
        [
         2016,
         "Afghanistan",
         3.36
        ],
        [
         2016,
         "Benin",
         3.484
        ],
        [
         2017,
         "Central African Republic",
         2.693
        ],
        [
         2017,
         "Burundi",
         2.905
        ],
        [
         2017,
         "Tanzania",
         3.349
        ],
        [
         2017,
         "Syria",
         3.462
        ],
        [
         2017,
         "Rwanda",
         3.471
        ],
        [
         2018,
         "Burundi",
         2.905
        ],
        [
         2018,
         "Central African Republic",
         3.083
        ],
        [
         2018,
         "Sudan",
         3.254
        ],
        [
         2018,
         "Tanzania",
         3.303
        ],
        [
         2018,
         "Yemen",
         3.355
        ],
        [
         2019,
         "Sudan",
         2.853
        ],
        [
         2019,
         "Central African Republic",
         3.083
        ],
        [
         2019,
         "Afghanistan",
         3.203
        ],
        [
         2019,
         "Tanzania",
         3.231
        ],
        [
         2019,
         "Rwanda",
         3.334
        ],
        [
         2020,
         "Afghanistan",
         2.567
        ],
        [
         2020,
         "Sudan",
         2.817
        ],
        [
         2020,
         "Zimbabwe",
         3.299
        ],
        [
         2020,
         "Rwanda",
         3.312
        ],
        [
         2020,
         "Central African Republic",
         3.476
        ],
        [
         2021,
         "Afghanistan",
         2.523
        ],
        [
         2021,
         "Zimbabwe",
         3.145
        ],
        [
         2021,
         "Rwanda",
         3.415
        ],
        [
         2021,
         "Botswana",
         3.467
        ],
        [
         2021,
         "Lesotho",
         3.512
        ],
        [
         2022,
         "Afghanistan",
         2.404
        ],
        [
         2022,
         "Lebanon",
         2.955
        ],
        [
         2022,
         "Zimbabwe",
         2.995
        ],
        [
         2022,
         "Rwanda",
         3.268
        ],
        [
         2022,
         "Botswana",
         3.471
        ],
        [
         2023,
         "Afghanistan",
         1.859
        ],
        [
         2023,
         "Lebanon",
         2.392
        ],
        [
         2023,
         "Sierra Leone",
         3.138
        ],
        [
         2023,
         "Zimbabwe",
         3.204
        ],
        [
         2023,
         "Congo (Kinshasa)",
         3.207
        ]
       ],
       "datasetInfos": [],
       "dbfsResultPath": null,
       "isJsonSchema": true,
       "metadata": {},
       "overflow": false,
       "plotOptions": {
        "customPlotOptions": {},
        "displayType": "table",
        "pivotAggregation": null,
        "pivotColumns": null,
        "xColumns": null,
        "yColumns": null
       },
       "removedWidgets": [],
       "schema": [
        {
         "metadata": "{}",
         "name": "year",
         "type": "\"integer\""
        },
        {
         "metadata": "{}",
         "name": "country",
         "type": "\"string\""
        },
        {
         "metadata": "{}",
         "name": "happiness_score",
         "type": "\"float\""
        }
       ],
       "type": "table"
      }
     },
     "output_type": "display_data"
    },
    {
     "output_type": "display_data",
     "data": {
      "text/plain": [
       "Databricks visualization. Run in Databricks to view."
      ]
     },
     "metadata": {
      "application/vnd.databricks.v1.subcommand+json": {
       "baseErrorDetails": null,
       "bindings": {},
       "collapsed": false,
       "command": "%sql WITH q AS (WITH paises_menos_felizes AS (\n  SELECT \n    t.year,\n    p.country,\n    f.happiness_score,\n    ROW_NUMBER() OVER (PARTITION BY t.year ORDER BY f.happiness_score ASC) AS posicao\n  FROM vw_fato_felicidade f\n  JOIN vw_dim_pais p ON f.id_pais = p.id_pais\n  JOIN vw_dim_tempo t ON f.id_tempo = t.id_tempo\n  WHERE f.happiness_score IS NOT NULL\n)\n\nSELECT year, country, happiness_score\nFROM paises_menos_felizes\nWHERE posicao <= 5\nORDER BY year, happiness_score) SELECT `year`,SUM(`happiness_score`) `column_bb1113c9126`,`country` FROM q GROUP BY `country`,`year`",
       "commandTitle": "Visualização 1",
       "commandType": "auto",
       "commandVersion": 0,
       "commentThread": [],
       "commentsVisible": false,
       "contentSha256Hex": null,
       "customPlotOptions": {
        "redashChart": [
         {
          "key": "type",
          "value": "CHART"
         },
         {
          "key": "options",
          "value": {
           "alignYAxesAtZero": true,
           "coefficient": 1,
           "columnConfigurationMap": {
            "series": {
             "column": "country",
             "id": "column_bb1113c9127"
            },
            "x": {
             "column": "year",
             "id": "column_bb1113c9125"
            },
            "y": [
             {
              "column": "happiness_score",
              "id": "column_bb1113c9126",
              "transform": "SUM"
             }
            ]
           },
           "dateTimeFormat": "DD/MM/YYYY HH:mm",
           "direction": {
            "type": "counterclockwise"
           },
           "error_y": {
            "type": "data",
            "visible": true
           },
           "globalSeriesType": "column",
           "isAggregationOn": true,
           "legend": {
            "traceorder": "normal"
           },
           "missingValuesAsZero": true,
           "numberFormat": "0,0.[00000]",
           "percentFormat": "0[.]00%",
           "series": {
            "error_y": {
             "type": "data",
             "visible": true
            },
            "stacking": null
           },
           "seriesOptions": {
            "column_bb1113c9126": {
             "name": "happiness_score",
             "type": "column",
             "yAxis": 0
            }
           },
           "showDataLabels": false,
           "sizemode": "diameter",
           "sortX": true,
           "sortY": true,
           "swappedAxes": false,
           "textFormat": "",
           "useAggregationsUi": true,
           "valuesOptions": {},
           "version": 2,
           "xAxis": {
            "labels": {
             "enabled": true
            },
            "type": "-"
           },
           "yAxis": [
            {
             "type": "-"
            },
            {
             "opposite": true,
             "type": "-"
            }
           ]
          }
         }
        ]
       },
       "datasetPreviewNameToCmdIdMap": {},
       "diffDeletes": [],
       "diffInserts": [],
       "displayType": "redashChart",
       "error": null,
       "errorDetails": null,
       "errorSummary": null,
       "errorTraceType": null,
       "finishTime": 0,
       "globalVars": {},
       "guid": "",
       "height": "auto",
       "hideCommandCode": false,
       "hideCommandResult": false,
       "iPythonMetadata": null,
       "inputWidgets": {},
       "isLockedInExamMode": false,
       "latestUser": "a user",
       "latestUserId": null,
       "listResultMetadata": null,
       "metadata": {},
       "nuid": "8c7c4b92-88a0-4cef-b972-7834c81b9065",
       "origId": 0,
       "parentHierarchy": [],
       "pivotAggregation": null,
       "pivotColumns": null,
       "position": 134.4375,
       "resultDbfsErrorMessage": null,
       "resultDbfsStatus": "INLINED_IN_TREE",
       "results": null,
       "showCommandTitle": false,
       "startTime": 0,
       "state": "input",
       "streamStates": {},
       "subcommandOptions": {
        "queryPlan": {
         "groups": [
          {
           "column": "year",
           "type": "column"
          },
          {
           "column": "country",
           "type": "column"
          }
         ],
         "selects": [
          {
           "column": "year",
           "type": "column"
          },
          {
           "alias": "column_bb1113c9126",
           "args": [
            {
             "column": "happiness_score",
             "type": "column"
            }
           ],
           "function": "SUM",
           "type": "function"
          },
          {
           "column": "country",
           "type": "column"
          }
         ]
        }
       },
       "submitTime": 0,
       "subtype": "tableResultSubCmd.visualization",
       "tableResultIndex": 0,
       "tableResultSettingsMap": {},
       "useConsistentColors": false,
       "version": "CommandV1",
       "width": "auto",
       "workflows": [],
       "xColumns": null,
       "yColumns": null
      }
     },
     "output_type": "display_data"
    }
   ],
   "source": [
    "%sql\n",
    "WITH paises_menos_felizes AS (\n",
    "  SELECT \n",
    "    t.year,\n",
    "    p.country,\n",
    "    f.happiness_score,\n",
    "    ROW_NUMBER() OVER (PARTITION BY t.year ORDER BY f.happiness_score ASC) AS posicao\n",
    "  FROM vw_fato_felicidade f\n",
    "  JOIN vw_dim_pais p ON f.id_pais = p.id_pais\n",
    "  JOIN vw_dim_tempo t ON f.id_tempo = t.id_tempo\n",
    "  WHERE f.happiness_score IS NOT NULL\n",
    ")\n",
    "\n",
    "SELECT year, country, happiness_score\n",
    "FROM paises_menos_felizes\n",
    "WHERE posicao <= 5\n",
    "ORDER BY year, happiness_score;\n",
    "\n"
   ]
  },
  {
   "cell_type": "code",
   "execution_count": 0,
   "metadata": {
    "application/vnd.databricks.v1+cell": {
     "cellMetadata": {
      "byteLimit": 2048000,
      "implicitDf": true,
      "rowLimit": 10000
     },
     "inputWidgets": {},
     "nuid": "ae39e8e8-50e0-4cc7-9c07-77438fb4cfc3",
     "showTitle": true,
     "tableResultSettingsMap": {},
     "title": "8. Existe relação entre PIB per capita e felicidade?"
    }
   },
   "outputs": [
    {
     "output_type": "display_data",
     "data": {
      "text/html": [
       "<style scoped>\n",
       "  .table-result-container {\n",
       "    max-height: 300px;\n",
       "    overflow: auto;\n",
       "  }\n",
       "  table, th, td {\n",
       "    border: 1px solid black;\n",
       "    border-collapse: collapse;\n",
       "  }\n",
       "  th, td {\n",
       "    padding: 5px;\n",
       "  }\n",
       "  th {\n",
       "    text-align: left;\n",
       "  }\n",
       "</style><div class='table-result-container'><table class='table-result'><thead style='background-color: white'><tr><th>happiness_score</th><th>gdp</th></tr></thead><tbody><tr><td>1.859</td><td>0.645</td></tr><tr><td>3.794</td><td>0.401</td></tr><tr><td>3.632</td><td>0.332</td></tr><tr><td>2.404</td><td>0.758</td></tr><tr><td>2.523</td><td>0.37</td></tr><tr><td>2.567</td><td>0.301</td></tr><tr><td>3.575</td><td>0.32</td></tr><tr><td>3.36</td><td>0.382</td></tr><tr><td>3.203</td><td>0.35</td></tr><tr><td>5.277</td><td>1.449</td></tr><tr><td>5.199</td><td>1.439</td></tr><tr><td>5.117</td><td>1.008</td></tr><tr><td>4.959</td><td>0.879</td></tr><tr><td>4.883</td><td>0.907</td></tr><tr><td>4.719</td><td>0.947</td></tr><tr><td>4.655</td><td>0.955</td></tr><tr><td>4.644</td><td>0.996</td></tr><tr><td>4.586</td><td>0.916</td></tr><tr><td>6.355</td><td>1.053</td></tr><tr><td>5.872</td><td>1.092</td></tr><tr><td>5.605</td><td>0.939</td></tr><tr><td>5.329</td><td>1.353</td></tr><tr><td>5.295</td><td>0.979</td></tr><tr><td>5.211</td><td>1.002</td></tr><tr><td>5.122</td><td>1.363</td></tr><tr><td>5.005</td><td>0.944</td></tr><tr><td>4.887</td><td>0.946</td></tr><tr><td>4.033</td><td>0.758</td></tr><tr><td>3.795</td><td>0.858</td></tr><tr><td>3.866</td><td>0.847</td></tr><tr><td>3.795</td><td>0.73</td></tr><tr><td>6.599</td><td>1.185</td></tr><tr><td>6.65</td><td>1.151</td></tr><tr><td>6.388</td><td>1.073</td></tr><tr><td>6.574</td><td>1.054</td></tr><tr><td>6.086</td><td>1.092</td></tr><tr><td>6.024</td><td>1.59</td></tr><tr><td>5.975</td><td>1.028</td></tr><tr><td>5.929</td><td>1.162</td></tr><tr><td>5.967</td><td>1.592</td></tr><tr><td>5.342</td><td>1.466</td></tr><tr><td>5.399</td><td>1.434</td></tr><tr><td>5.283</td><td>0.996</td></tr><tr><td>4.559</td><td>0.85</td></tr><tr><td>4.677</td><td>0.808</td></tr><tr><td>4.36</td><td>0.861</td></tr><tr><td>4.376</td><td>0.901</td></tr><tr><td>4.35</td><td>0.768</td></tr><tr><td>4.321</td><td>0.816</td></tr><tr><td>7.313</td><td>1.444</td></tr><tr><td>7.284</td><td>1.484</td></tr><tr><td>7.272</td><td>1.34</td></tr><tr><td>7.284</td><td>1.334</td></tr><tr><td>7.228</td><td>1.372</td></tr><tr><td>7.183</td><td>1.453</td></tr><tr><td>7.223</td><td>1.31</td></tr><tr><td>7.162</td><td>1.9</td></tr><tr><td>7.095</td><td>1.899</td></tr><tr><td>7.294</td><td>1.317</td></tr><tr><td>7.246</td><td>1.376</td></tr><tr><td>7.268</td><td>1.492</td></tr><tr><td>7.163</td><td>1.931</td></tr><tr><td>7.097</td><td>1.927</td></tr><tr><td>7.119</td><td>1.45</td></tr><tr><td>7.139</td><td>1.341</td></tr><tr><td>7.006</td><td>1.487</td></tr><tr><td>7.2</td><td>1.337</td></tr><tr><td>5.212</td><td>1.024</td></tr><tr><td>5.291</td><td>1.124</td></tr><tr><td>5.234</td><td>1.154</td></tr><tr><td>5.201</td><td>1.024</td></tr><tr><td>5.165</td><td>0.99</td></tr><tr><td>5.208</td><td>1.043</td></tr><tr><td>5.171</td><td>1.025</td></tr><tr><td>5.173</td><td>1.458</td></tr><tr><td>6.647</td><td>1.854</td></tr><tr><td>6.647</td><td>1.409</td></tr><tr><td>6.199</td><td>1.362</td></tr><tr><td>6.227</td><td>1.297</td></tr><tr><td>6.087</td><td>1.488</td></tr><tr><td>6.218</td><td>1.44</td></tr><tr><td>6.173</td><td>1.883</td></tr><tr><td>6.105</td><td>1.338</td></tr><tr><td>5.96</td><td>1.324</td></tr><tr><td>5.155</td><td>1.06</td></tr><tr><td>5.025</td><td>0.635</td></tr><tr><td>4.833</td><td>0.556</td></tr><tr><td>4.694</td><td>0.398</td></tr><tr><td>4.643</td><td>0.542</td></tr><tr><td>4.608</td><td>0.587</td></tr><tr><td>4.5</td><td>0.532</td></tr><tr><td>4.282</td><td>1.133</td></tr><tr><td>4.456</td><td>0.562</td></tr><tr><td>5.813</td><td>1.032</td></tr><tr><td>5.802</td><td>1.131</td></tr><tr><td>5.821</td><td>1.562</td></tr><tr><td>5.569</td><td>1.157</td></tr><tr><td>5.483</td><td>1.039</td></tr><tr><td>5.54</td><td>1.019</td></tr><tr><td>5.534</td><td>1.124</td></tr><tr><td>5.323</td><td>1.067</td></tr><tr><td>6.927</td><td>1.324</td></tr><tr><td>6.891</td><td>1.464</td></tr><tr><td>6.859</td><td>1.907</td></tr><tr><td>6.929</td><td>1.425</td></tr><tr><td>6.923</td><td>1.356</td></tr><tr><td>6.805</td><td>1.907</td></tr><tr><td>6.937</td><td>1.308</td></tr><tr><td>6.864</td><td>1.296</td></tr><tr><td>6.834</td><td>1.463</td></tr><tr><td>5.956</td><td>0.807</td></tr><tr><td>5.956</td><td>0.908</td></tr><tr><td>5.956</td><td>0.876</td></tr><tr><td>5.216</td><td>0.366</td></tr><tr><td>5.045</td><td>0.507</td></tr><tr><td>4.883</td><td>0.393</td></tr><tr><td>4.623</td><td>0.932</td></tr><tr><td>4.374</td><td>0.924</td></tr><tr><td>4.141</td><td>0.378</td></tr><tr><td>3.657</td><td>0.431</td></tr><tr><td>3.484</td><td>0.395</td></tr><tr><td>3.34</td><td>0.287</td></tr><tr><td>5.253</td><td>0.77</td></tr><tr><td>5.196</td><td>0.853</td></tr><tr><td>5.082</td><td>0.813</td></tr><tr><td>5.011</td><td>0.885</td></tr><tr><td>5.082</td><td>0.796</td></tr><tr><td>5.89</td><td>0.681</td></tr><tr><td>5.823</td><td>0.834</td></tr><tr><td>5.822</td><td>0.794</td></tr><tr><td>5.779</td><td>0.776</td></tr><tr><td>5.752</td><td>0.751</td></tr><tr><td>5.747</td><td>0.731</td></tr><tr><td>5.716</td><td>0.842</td></tr><tr><td>5.684</td><td>1.24</td></tr><tr><td>5.6</td><td>1.256</td></tr><tr><td>5.813</td><td>1.032</td></tr><tr><td>5.768</td><td>1.468</td></tr><tr><td>5.674</td><td>0.918</td></tr><tr><td>5.633</td><td>1.467</td></tr><tr><td>5.386</td><td>0.945</td></tr><tr><td>5.163</td><td>0.934</td></tr><tr><td>5.182</td><td>0.982</td></tr><tr><td>5.129</td><td>0.915</td></tr><tr><td>4.949</td><td>0.832</td></tr><tr><td>4.332</td><td>0.994</td></tr><tr><td>3.435</td><td>1.471</td></tr><tr><td>3.974</td><td>1.094</td></tr><tr><td>3.766</td><td>1.122</td></tr><tr><td>3.471</td><td>1.503</td></tr><tr><td>3.59</td><td>1.017</td></tr><tr><td>3.467</td><td>1.099</td></tr><tr><td>3.479</td><td>0.998</td></tr><tr><td>3.488</td><td>1.041</td></tr><tr><td>6.983</td><td>0.981</td></tr><tr><td>6.952</td><td>1.088</td></tr><tr><td>6.635</td><td>1.107</td></tr><tr><td>6.419</td><td>0.986</td></tr><tr><td>6.3</td><td>1.004</td></tr><tr><td>6.376</td><td>0.953</td></tr><tr><td>6.33</td><td>1.028</td></tr><tr><td>6.293</td><td>1.462</td></tr><tr><td>6.125</td><td>1.454</td></tr><tr><td>5.466</td><td>1.635</td></tr><tr><td>5.371</td><td>1.625</td></tr><tr><td>5.266</td><td>1.181</td></tr><tr><td>5.102</td><td>1.047</td></tr><tr><td>5.011</td><td>1.092</td></tr><tr><td>4.933</td><td>1.054</td></tr><tr><td>4.714</td><td>1.161</td></tr><tr><td>4.217</td><td>1.113</td></tr><tr><td>4.218</td><td>1.012</td></tr><tr><td>4.638</td><td>0.768</td></tr><tr><td>4.769</td><td>0.302</td></tr><tr><td>4.834</td><td>0.364</td></tr><tr><td>4.67</td><td>0.779</td></tr><tr><td>4.587</td><td>0.331</td></tr><tr><td>4.424</td><td>0.314</td></tr><tr><td>4.032</td><td>0.35</td></tr><tr><td>3.739</td><td>0.32</td></tr><tr><td>3.587</td><td>0.258</td></tr><tr><td>3.775</td><td>0.0</td></tr><tr><td>3.775</td><td>0.0</td></tr><tr><td>3.775</td><td>0.046</td></tr><tr><td>2.905</td><td>0.092</td></tr><tr><td>2.905</td><td>0.091</td></tr><tr><td>2.905</td><td>0.068</td></tr><tr><td>2.905</td><td>0.015</td></tr><tr><td>4.848</td><td>0.545</td></tr><tr><td>4.7</td><td>0.574</td></tr><tr><td>4.83</td><td>0.603</td></tr><tr><td>4.64</td><td>1.019</td></tr><tr><td>4.393</td><td>1.025</td></tr><tr><td>4.433</td><td>0.549</td></tr><tr><td>4.168</td><td>0.602</td></tr><tr><td>3.907</td><td>0.556</td></tr><tr><td>3.819</td><td>0.46</td></tr><tr><td>5.142</td><td>0.543</td></tr><tr><td>5.044</td><td>0.549</td></tr><tr><td>4.973</td><td>0.965</td></tr><tr><td>5.085</td><td>0.504</td></tr><tr><td>4.975</td><td>0.535</td></tr><tr><td>5.048</td><td>0.968</td></tr><tr><td>4.695</td><td>0.564</td></tr><tr><td>4.513</td><td>0.525</td></tr><tr><td>4.252</td><td>0.423</td></tr><tr><td>7.427</td><td>1.326</td></tr><tr><td>7.404</td><td>1.44</td></tr><tr><td>7.316</td><td>1.479</td></tr><tr><td>7.328</td><td>1.33</td></tr><tr><td>7.278</td><td>1.365</td></tr><tr><td>7.232</td><td>1.302</td></tr><tr><td>6.961</td><td>1.881</td></tr><tr><td>7.103</td><td>1.447</td></tr><tr><td>7.025</td><td>1.886</td></tr><tr><td>3.678</td><td>0.079</td></tr><tr><td>3.476</td><td>0.041</td></tr><tr><td>2.693</td><td>0.0</td></tr><tr><td>3.083</td><td>0.024</td></tr><tr><td>3.083</td><td>0.026</td></tr><tr><td>4.397</td><td>0.622</td></tr><tr><td>4.423</td><td>0.302</td></tr><tr><td>4.355</td><td>0.255</td></tr><tr><td>4.251</td><td>0.662</td></tr><tr><td>4.301</td><td>0.358</td></tr><tr><td>4.35</td><td>0.35</td></tr><tr><td>3.936</td><td>0.438</td></tr><tr><td>3.763</td><td>0.422</td></tr><tr><td>3.667</td><td>0.342</td></tr><tr><td>6.652</td><td>1.253</td></tr><tr><td>6.705</td><td>1.217</td></tr><tr><td>6.476</td><td>1.131</td></tr><tr><td>6.444</td><td>1.159</td></tr><tr><td>6.67</td><td>1.107</td></tr><tr><td>6.334</td><td>1.645</td></tr><tr><td>6.228</td><td>1.097</td></tr><tr><td>6.172</td><td>1.2</td></tr><tr><td>6.172</td><td>1.651</td></tr><tr><td>5.818</td><td>1.51</td></tr><tr><td>5.585</td><td>1.508</td></tr><tr><td>5.273</td><td>1.081</td></tr><tr><td>5.245</td><td>1.028</td></tr><tr><td>5.339</td><td>1.061</td></tr><tr><td>5.14</td><td>0.89</td></tr><tr><td>5.246</td><td>0.989</td></tr><tr><td>5.191</td><td>1.029</td></tr><tr><td>5.124</td><td>0.991</td></tr><tr><td>6.481</td><td>1.03</td></tr><tr><td>6.477</td><td>0.919</td></tr><tr><td>6.357</td><td>1.071</td></tr><tr><td>6.26</td><td>0.96</td></tr><tr><td>6.125</td><td>0.985</td></tr><tr><td>6.163</td><td>0.932</td></tr><tr><td>6.012</td><td>1.021</td></tr><tr><td>5.781</td><td>1.452</td></tr><tr><td>5.63</td><td>1.455</td></tr><tr><td>4.609</td><td>0.899</td></tr><tr><td>3.545</td><td>0.914</td></tr><tr><td>4.289</td><td>0.488</td></tr><tr><td>4.289</td><td>0.416</td></tr><tr><td>3.956</td><td>0.275</td></tr><tr><td>3.956</td><td>0.239</td></tr><tr><td>3.973</td><td>0.274</td></tr><tr><td>5.342</td><td>0.518</td></tr><tr><td>5.267</td><td>0.921</td></tr><tr><td>5.194</td><td>0.634</td></tr><tr><td>5.075</td><td>0.95</td></tr><tr><td>4.812</td><td>0.673</td></tr><tr><td>4.559</td><td>0.682</td></tr><tr><td>4.291</td><td>0.809</td></tr><tr><td>4.236</td><td>0.771</td></tr><tr><td>3.989</td><td>0.679</td></tr><tr><td>4.517</td><td>0.0</td></tr><tr><td>4.272</td><td>0.057</td></tr><tr><td>4.28</td><td>0.092</td></tr><tr><td>4.418</td><td>0.094</td></tr><tr><td>4.311</td><td>0.062</td></tr><tr><td>4.245</td><td>0.069</td></tr><tr><td>3.207</td><td>0.531</td></tr><tr><td>7.226</td><td>0.956</td></tr><tr><td>7.079</td><td>1.11</td></tr><tr><td>7.167</td><td>1.034</td></tr><tr><td>7.072</td><td>1.01</td></tr><tr><td>7.087</td><td>1.069</td></tr><tr><td>7.121</td><td>0.981</td></tr><tr><td>7.069</td><td>1.134</td></tr><tr><td>6.582</td><td>1.584</td></tr><tr><td>6.609</td><td>1.587</td></tr><tr><td>6.125</td><td>1.705</td></tr><tr><td>6.125</td><td>1.727</td></tr><tr><td>5.882</td><td>1.251</td></tr><tr><td>5.759</td><td>1.083</td></tr><tr><td>5.488</td><td>1.186</td></tr><tr><td>5.432</td><td>1.155</td></tr><tr><td>5.293</td><td>1.223</td></tr><tr><td>5.505</td><td>1.109</td></tr><tr><td>5.321</td><td>1.115</td></tr><tr><td>6.223</td><td>1.377</td></tr><tr><td>6.221</td><td>1.815</td></tr><tr><td>6.159</td><td>1.213</td></tr><tr><td>6.13</td><td>1.824</td></tr><tr><td>6.046</td><td>1.263</td></tr><tr><td>5.762</td><td>1.229</td></tr><tr><td>5.621</td><td>1.356</td></tr><tr><td>5.689</td><td>1.208</td></tr><tr><td>5.546</td><td>1.319</td></tr><tr><td>6.965</td><td>1.37</td></tr><tr><td>6.92</td><td>1.815</td></tr><tr><td>6.845</td><td>1.823</td></tr><tr><td>6.911</td><td>1.212</td></tr><tr><td>6.852</td><td>1.269</td></tr><tr><td>6.711</td><td>1.233</td></tr><tr><td>6.609</td><td>1.353</td></tr><tr><td>6.596</td><td>1.309</td></tr><tr><td>6.505</td><td>1.179</td></tr><tr><td>7.526</td><td>1.442</td></tr><tr><td>7.522</td><td>1.482</td></tr><tr><td>7.6</td><td>1.383</td></tr><tr><td>7.646</td><td>1.327</td></tr><tr><td>7.62</td><td>1.502</td></tr><tr><td>7.636</td><td>1.953</td></tr><tr><td>7.586</td><td>1.949</td></tr><tr><td>7.527</td><td>1.325</td></tr><tr><td>7.555</td><td>1.351</td></tr><tr><td>4.369</td><td>0.44</td></tr><tr><td>5.689</td><td>0.983</td></tr><tr><td>5.737</td><td>1.538</td></tr><tr><td>5.545</td><td>1.106</td></tr><tr><td>5.569</td><td>1.536</td></tr><tr><td>5.425</td><td>1.015</td></tr><tr><td>5.302</td><td>0.982</td></tr><tr><td>5.23</td><td>1.079</td></tr><tr><td>5.155</td><td>1.028</td></tr><tr><td>4.885</td><td>0.895</td></tr><tr><td>6.008</td><td>1.001</td></tr><tr><td>5.973</td><td>0.889</td></tr><tr><td>5.975</td><td>0.864</td></tr><tr><td>6.028</td><td>0.912</td></tr><tr><td>5.976</td><td>0.973</td></tr><tr><td>5.925</td><td>0.853</td></tr><tr><td>5.764</td><td>0.935</td></tr><tr><td>5.559</td><td>1.343</td></tr><tr><td>5.533</td><td>1.352</td></tr><tr><td>4.735</td><td>0.99</td></tr><tr><td>4.362</td><td>0.954</td></tr><tr><td>4.17</td><td>1.377</td></tr><tr><td>4.419</td><td>0.885</td></tr><tr><td>4.288</td><td>1.388</td></tr><tr><td>4.283</td><td>0.954</td></tr><tr><td>4.194</td><td>0.882</td></tr><tr><td>4.166</td><td>0.913</td></tr><tr><td>4.151</td><td>0.875</td></tr><tr><td>6.348</td><td>0.749</td></tr><tr><td>6.253</td><td>0.794</td></tr><tr><td>6.167</td><td>0.806</td></tr><tr><td>6.13</td><td>0.765</td></tr><tr><td>6.003</td><td>0.91</td></tr><tr><td>6.068</td><td>0.874</td></tr><tr><td>6.061</td><td>0.845</td></tr><tr><td>6.12</td><td>1.265</td></tr><tr><td>6.122</td><td>1.278</td></tr><tr><td>6.455</td><td>1.798</td></tr><tr><td>6.341</td><td>1.793</td></tr><tr><td>6.189</td><td>1.344</td></tr><tr><td>6.022</td><td>1.192</td></tr><tr><td>5.893</td><td>1.237</td></tr><tr><td>5.739</td><td>1.2</td></tr><tr><td>5.611</td><td>1.321</td></tr><tr><td>5.517</td><td>1.28</td></tr><tr><td>5.429</td><td>1.152</td></tr><tr><td>4.396</td><td>1.274</td></tr><tr><td>4.508</td><td>0.293</td></tr><tr><td>4.46</td><td>0.339</td></tr><tr><td>4.512</td><td>0.191</td></tr><tr><td>4.091</td><td>0.793</td></tr><tr><td>4.35</td><td>0.308</td></tr><tr><td>4.241</td><td>0.788</td></tr><tr><td>4.275</td><td>0.37</td></tr><tr><td>4.286</td><td>0.336</td></tr><tr><td>4.186</td><td>0.315</td></tr><tr><td>7.632</td><td>1.305</td></tr><tr><td>7.769</td><td>1.34</td></tr><tr><td>7.809</td><td>1.285</td></tr><tr><td>7.842</td><td>1.446</td></tr><tr><td>7.821</td><td>1.892</td></tr><tr><td>7.804</td><td>1.888</td></tr><tr><td>7.413</td><td>1.406</td></tr><tr><td>7.469</td><td>1.444</td></tr><tr><td>7.406</td><td>1.29</td></tr><tr><td>6.687</td><td>1.863</td></tr><tr><td>6.69</td><td>1.421</td></tr><tr><td>6.661</td><td>1.856</td></tr><tr><td>6.489</td><td>1.293</td></tr><tr><td>6.664</td><td>1.268</td></tr><tr><td>6.592</td><td>1.324</td></tr><tr><td>6.575</td><td>1.278</td></tr><tr><td>6.442</td><td>1.431</td></tr><tr><td>6.478</td><td>1.395</td></tr><tr><td>5.035</td><td>1.438</td></tr><tr><td>4.758</td><td>1.036</td></tr><tr><td>4.799</td><td>1.057</td></tr><tr><td>4.958</td><td>1.459</td></tr><tr><td>4.829</td><td>0.988</td></tr><tr><td>4.852</td><td>1.037</td></tr><tr><td>4.465</td><td>1.198</td></tr><tr><td>4.121</td><td>1.159</td></tr><tr><td>3.896</td><td>1.06</td></tr><tr><td>5.164</td><td>0.785</td></tr><tr><td>5.051</td><td>0.367</td></tr><tr><td>4.751</td><td>0.257</td></tr><tr><td>4.279</td><td>0.761</td></tr><tr><td>4.516</td><td>0.308</td></tr><tr><td>5.109</td><td>1.477</td></tr><tr><td>4.973</td><td>1.467</td></tr><tr><td>4.891</td><td>1.03</td></tr><tr><td>4.673</td><td>0.847</td></tr><tr><td>4.519</td><td>0.886</td></tr><tr><td>4.286</td><td>0.951</td></tr><tr><td>4.252</td><td>0.838</td></tr><tr><td>4.34</td><td>0.853</td></tr><tr><td>4.297</td><td>0.742</td></tr><tr><td>7.155</td><td>1.48</td></tr><tr><td>7.034</td><td>1.924</td></tr><tr><td>6.965</td><td>1.34</td></tr><tr><td>6.994</td><td>1.448</td></tr><tr><td>6.951</td><td>1.488</td></tr><tr><td>6.892</td><td>1.919</td></tr><tr><td>6.985</td><td>1.373</td></tr><tr><td>7.076</td><td>1.314</td></tr><tr><td>6.75</td><td>1.328</td></tr><tr><td>5.148</td><td>0.576</td></tr><tr><td>5.088</td><td>0.68</td></tr><tr><td>4.996</td><td>0.611</td></tr><tr><td>4.605</td><td>1.101</td></tr><tr><td>4.657</td><td>0.592</td></tr><tr><td>4.872</td><td>1.112</td></tr><tr><td>4.633</td><td>0.546</td></tr><tr><td>4.276</td><td>0.631</td></tr><tr><td>4.12</td><td>0.667</td></tr><tr><td>5.948</td><td>1.703</td></tr><tr><td>5.931</td><td>1.708</td></tr><tr><td>5.723</td><td>1.273</td></tr><tr><td>5.515</td><td>1.128</td></tr><tr><td>5.358</td><td>1.154</td></tr><tr><td>5.287</td><td>1.181</td></tr><tr><td>5.227</td><td>1.289</td></tr><tr><td>5.033</td><td>1.249</td></tr><tr><td>4.857</td><td>1.154</td></tr><tr><td>6.436</td><td>0.8</td></tr><tr><td>6.454</td><td>0.872</td></tr><tr><td>6.399</td><td>0.754</td></tr><tr><td>6.382</td><td>0.781</td></tr><tr><td>6.435</td><td>0.845</td></tr><tr><td>6.324</td><td>0.835</td></tr><tr><td>6.262</td><td>1.274</td></tr><tr><td>6.123</td><td>0.746</td></tr><tr><td>6.15</td><td>1.287</td></tr><tr><td>5.072</td><td>0.844</td></tr><tr><td>4.949</td><td>0.39</td></tr><tr><td>4.984</td><td>0.42</td></tr><tr><td>4.891</td><td>0.848</td></tr><tr><td>4.534</td><td>0.38</td></tr><tr><td>3.964</td><td>0.344</td></tr><tr><td>3.507</td><td>0.245</td></tr><tr><td>3.656</td><td>0.174</td></tr><tr><td>3.607</td><td>0.224</td></tr><tr><td>4.518</td><td>0.267</td></tr><tr><td>4.028</td><td>0.341</td></tr><tr><td>3.721</td><td>0.285</td></tr><tr><td>3.615</td><td>0.294</td></tr><tr><td>3.603</td><td>0.369</td></tr><tr><td>3.597</td><td>0.323</td></tr><tr><td>3.582</td><td>0.315</td></tr><tr><td>6.023</td><td>1.115</td></tr><tr><td>6.022</td><td>1.111</td></tr><tr><td>5.953</td><td>0.599</td></tr><tr><td>5.86</td><td>0.642</td></tr><tr><td>5.919</td><td>0.703</td></tr><tr><td>5.504</td><td>0.62</td></tr><tr><td>5.181</td><td>0.731</td></tr><tr><td>4.871</td><td>0.694</td></tr><tr><td>4.788</td><td>0.595</td></tr><tr><td>5.472</td><td>1.552</td></tr><tr><td>5.474</td><td>1.386</td></tr><tr><td>5.458</td><td>1.511</td></tr><tr><td>5.43</td><td>1.405</td></tr><tr><td>5.43</td><td>1.438</td></tr><tr><td>5.477</td><td>1.525</td></tr><tr><td>5.51</td><td>1.377</td></tr><tr><td>5.425</td><td>1.957</td></tr><tr><td>5.308</td><td>1.951</td></tr><tr><td>6.086</td><td>1.748</td></tr><tr><td>6.041</td><td>1.754</td></tr><tr><td>6.0</td><td>1.164</td></tr><tr><td>5.992</td><td>1.301</td></tr><tr><td>5.758</td><td>1.201</td></tr><tr><td>5.62</td><td>1.171</td></tr><tr><td>5.324</td><td>1.286</td></tr><tr><td>5.145</td><td>1.241</td></tr><tr><td>4.8</td><td>1.121</td></tr><tr><td>7.561</td><td>1.302</td></tr><tr><td>7.501</td><td>1.427</td></tr><tr><td>7.504</td><td>1.481</td></tr><tr><td>7.557</td><td>1.936</td></tr><tr><td>7.53</td><td>1.926</td></tr><tr><td>7.495</td><td>1.343</td></tr><tr><td>7.494</td><td>1.38</td></tr><tr><td>7.504</td><td>1.327</td></tr><tr><td>7.554</td><td>1.482</td></tr><tr><td>4.565</td><td>0.645</td></tr><tr><td>4.404</td><td>0.74</td></tr><tr><td>4.315</td><td>0.792</td></tr><tr><td>4.036</td><td>1.159</td></tr><tr><td>4.19</td><td>0.721</td></tr><tr><td>3.777</td><td>1.167</td></tr><tr><td>3.819</td><td>0.741</td></tr><tr><td>4.015</td><td>0.755</td></tr><tr><td>3.573</td><td>0.731</td></tr><tr><td>5.399</td><td>0.828</td></tr><tr><td>5.314</td><td>0.951</td></tr><tr><td>5.262</td><td>0.996</td></tr><tr><td>5.345</td><td>0.954</td></tr><tr><td>5.286</td><td>0.892</td></tr><tr><td>5.277</td><td>1.384</td></tr><tr><td>5.24</td><td>1.382</td></tr><tr><td>5.192</td><td>0.931</td></tr><tr><td>5.093</td><td>0.899</td></tr><tr><td>4.876</td><td>1.465</td></tr><tr><td>4.813</td><td>1.118</td></tr><tr><td>4.707</td><td>1.059</td></tr><tr><td>4.692</td><td>1.157</td></tr><tr><td>4.888</td><td>1.41</td></tr><tr><td>4.686</td><td>1.009</td></tr><tr><td>4.548</td><td>1.1</td></tr><tr><td>4.672</td><td>1.029</td></tr><tr><td>4.721</td><td>1.03</td></tr><tr><td>4.941</td><td>1.281</td></tr><tr><td>4.941</td><td>1.289</td></tr><tr><td>4.785</td><td>0.982</td></tr><tr><td>4.854</td><td>0.91</td></tr><tr><td>4.575</td><td>1.075</td></tr><tr><td>4.677</td><td>0.985</td></tr><tr><td>4.497</td><td>1.103</td></tr><tr><td>4.456</td><td>1.01</td></tr><tr><td>4.437</td><td>1.043</td></tr><tr><td>7.041</td><td>2.129</td></tr><tr><td>6.977</td><td>1.448</td></tr><tr><td>6.911</td><td>2.152</td></tr><tr><td>6.977</td><td>1.536</td></tr><tr><td>7.085</td><td>1.644</td></tr><tr><td>7.021</td><td>1.499</td></tr><tr><td>7.094</td><td>1.447</td></tr><tr><td>6.94</td><td>1.336</td></tr><tr><td>6.907</td><td>1.483</td></tr><tr><td>7.473</td><td>1.833</td></tr><tr><td>7.364</td><td>1.826</td></tr><tr><td>7.278</td><td>1.229</td></tr><tr><td>7.267</td><td>1.338</td></tr><tr><td>7.213</td><td>1.375</td></tr><tr><td>7.157</td><td>1.376</td></tr><tr><td>7.139</td><td>1.276</td></tr><tr><td>7.129</td><td>1.216</td></tr><tr><td>6.814</td><td>1.301</td></tr><tr><td>6.483</td><td>1.393</td></tr><tr><td>6.387</td><td>1.236</td></tr><tr><td>6.467</td><td>1.834</td></tr><tr><td>6.405</td><td>1.832</td></tr><tr><td>6.223</td><td>1.294</td></tr><tr><td>6.0</td><td>1.264</td></tr><tr><td>5.964</td><td>1.395</td></tr><tr><td>5.948</td><td>1.251</td></tr><tr><td>5.977</td><td>1.355</td></tr><tr><td>5.233</td><td>0.537</td></tr><tr><td>5.306</td><td>0.669</td></tr><tr><td>5.235</td><td>1.094</td></tr><tr><td>5.053</td><td>1.094</td></tr><tr><td>4.944</td><td>0.569</td></tr><tr><td>4.671</td><td>0.541</td></tr><tr><td>4.18</td><td>0.603</td></tr><tr><td>3.916</td><td>0.555</td></tr><tr><td>3.655</td><td>0.465</td></tr><tr><td>6.309</td><td>0.891</td></tr><tr><td>5.89</td><td>0.819</td></tr><tr><td>5.89</td><td>0.831</td></tr><tr><td>5.89</td><td>0.779</td></tr><tr><td>5.85</td><td>1.296</td></tr><tr><td>5.709</td><td>0.81</td></tr><tr><td>5.703</td><td>1.305</td></tr><tr><td>5.51</td><td>0.893</td></tr><tr><td>5.311</td><td>0.926</td></tr><tr><td>5.987</td><td>1.271</td></tr><tr><td>6.129</td><td>1.825</td></tr><tr><td>5.92</td><td>1.417</td></tr><tr><td>5.921</td><td>1.38</td></tr><tr><td>5.915</td><td>1.294</td></tr><tr><td>6.039</td><td>1.835</td></tr><tr><td>5.94</td><td>1.389</td></tr><tr><td>5.886</td><td>1.327</td></tr><tr><td>5.871</td><td>1.267</td></tr><tr><td>5.336</td><td>0.991</td></tr><tr><td>5.303</td><td>0.997</td></tr><tr><td>5.192</td><td>0.902</td></tr><tr><td>5.161</td><td>0.822</td></tr><tr><td>4.906</td><td>0.837</td></tr><tr><td>4.633</td><td>0.785</td></tr><tr><td>4.12</td><td>1.292</td></tr><tr><td>4.395</td><td>0.89</td></tr><tr><td>4.152</td><td>1.324</td></tr><tr><td>6.234</td><td>1.668</td></tr><tr><td>6.144</td><td>1.664</td></tr><tr><td>6.152</td><td>1.23</td></tr><tr><td>6.058</td><td>1.123</td></tr><tr><td>5.855</td><td>1.123</td></tr><tr><td>5.919</td><td>1.229</td></tr><tr><td>5.819</td><td>1.285</td></tr><tr><td>5.79</td><td>1.143</td></tr><tr><td>5.809</td><td>1.173</td></tr><tr><td>4.487</td><td>1.051</td></tr><tr><td>4.553</td><td>0.56</td></tr><tr><td>4.543</td><td>1.032</td></tr><tr><td>4.509</td><td>0.512</td></tr><tr><td>4.583</td><td>0.476</td></tr><tr><td>4.607</td><td>0.603</td></tr><tr><td>4.356</td><td>0.523</td></tr><tr><td>4.41</td><td>0.493</td></tr><tr><td>4.419</td><td>0.365</td></tr><tr><td>6.455</td><td>1.362</td></tr><tr><td>6.372</td><td>0.937</td></tr><tr><td>6.368</td><td>1.374</td></tr><tr><td>6.325</td><td>0.84</td></tr><tr><td>6.1</td><td>0.882</td></tr><tr><td>5.662</td><td>0.855</td></tr><tr><td>5.589</td><td>0.801</td></tr><tr><td>5.401</td><td>0.901</td></tr><tr><td>5.279</td><td>0.951</td></tr><tr><td>6.295</td><td>1.554</td></tr><tr><td>6.105</td><td>1.633</td></tr><tr><td>6.239</td><td>1.617</td></tr><tr><td>6.083</td><td>1.474</td></tr><tr><td>6.106</td><td>1.461</td></tr><tr><td>6.102</td><td>1.425</td></tr><tr><td>6.106</td><td>1.904</td></tr><tr><td>6.021</td><td>1.5</td></tr><tr><td>5.825</td><td>1.061</td></tr><tr><td>5.828</td><td>1.069</td></tr><tr><td>5.744</td><td>0.665</td></tr><tr><td>5.542</td><td>0.513</td></tr><tr><td>5.286</td><td>0.474</td></tr><tr><td>5.185</td><td>0.56</td></tr><tr><td>5.261</td><td>0.551</td></tr><tr><td>5.131</td><td>0.53</td></tr><tr><td>5.004</td><td>0.596</td></tr><tr><td>5.111</td><td>1.232</td></tr><tr><td>5.14</td><td>1.239</td></tr><tr><td>4.876</td><td>0.591</td></tr><tr><td>5.03</td><td>0.808</td></tr><tr><td>4.876</td><td>0.68</td></tr><tr><td>4.889</td><td>0.715</td></tr><tr><td>4.796</td><td>0.764</td></tr><tr><td>4.623</td><td>0.72</td></tr><tr><td>6.213</td><td>1.737</td></tr><tr><td>6.18</td><td>1.732</td></tr><tr><td>6.032</td><td>1.285</td></tr><tr><td>5.933</td><td>1.148</td></tr><tr><td>5.94</td><td>1.187</td></tr><tr><td>5.85</td><td>1.261</td></tr><tr><td>5.95</td><td>1.141</td></tr><tr><td>5.56</td><td>1.218</td></tr><tr><td>5.098</td><td>1.113</td></tr><tr><td>5.358</td><td>0.965</td></tr><tr><td>5.225</td><td>1.075</td></tr><tr><td>5.197</td><td>0.987</td></tr><tr><td>5.129</td><td>1.123</td></tr><tr><td>4.839</td><td>1.026</td></tr><tr><td>4.772</td><td>0.889</td></tr><tr><td>4.584</td><td>1.045</td></tr><tr><td>2.392</td><td>1.417</td></tr><tr><td>2.955</td><td>1.392</td></tr><tr><td>4.898</td><td>0.375</td></tr><tr><td>3.808</td><td>0.521</td></tr><tr><td>3.808</td><td>0.472</td></tr><tr><td>3.512</td><td>0.839</td></tr><tr><td>3.653</td><td>0.455</td></tr><tr><td>3.802</td><td>0.489</td></tr><tr><td>3.512</td><td>0.451</td></tr><tr><td>5.122</td><td>0.636</td></tr><tr><td>4.571</td><td>0.071</td></tr><tr><td>4.625</td><td>0.228</td></tr><tr><td>4.558</td><td>0.174</td></tr><tr><td>4.042</td><td>0.628</td></tr><tr><td>3.975</td><td>0.073</td></tr><tr><td>3.533</td><td>0.119</td></tr><tr><td>3.495</td><td>0.076</td></tr><tr><td>3.622</td><td>0.107</td></tr><tr><td>5.754</td><td>1.131</td></tr><tr><td>5.615</td><td>1.067</td></tr><tr><td>5.525</td><td>1.102</td></tr><tr><td>5.566</td><td>0.985</td></tr><tr><td>5.525</td><td>1.044</td></tr><tr><td>5.489</td><td>1.022</td></tr><tr><td>5.41</td><td>1.044</td></tr><tr><td>5.33</td><td>1.476</td></tr><tr><td>6.763</td><td>1.808</td></tr><tr><td>6.446</td><td>1.804</td></tr><tr><td>6.255</td><td>1.35</td></tr><tr><td>6.215</td><td>1.194</td></tr><tr><td>6.149</td><td>1.238</td></tr><tr><td>5.952</td><td>1.197</td></tr><tr><td>5.902</td><td>1.315</td></tr><tr><td>5.833</td><td>1.147</td></tr><tr><td>5.813</td><td>1.269</td></tr><tr><td>7.404</td><td>2.209</td></tr><tr><td>7.324</td><td>1.751</td></tr><tr><td>7.228</td><td>2.2</td></tr><tr><td>7.238</td><td>1.537</td></tr><tr><td>7.09</td><td>1.609</td></tr><tr><td>6.946</td><td>1.564</td></tr><tr><td>6.91</td><td>1.576</td></tr><tr><td>6.863</td><td>1.742</td></tr><tr><td>6.871</td><td>1.698</td></tr><tr><td>5.274</td><td>0.983</td></tr><tr><td>5.254</td><td>1.498</td></tr><tr><td>5.185</td><td>0.959</td></tr><tr><td>5.199</td><td>1.505</td></tr><tr><td>5.16</td><td>0.935</td></tr><tr><td>5.175</td><td>1.065</td></tr><tr><td>5.007</td><td>0.919</td></tr><tr><td>5.101</td><td>1.068</td></tr><tr><td>5.121</td><td>1.019</td></tr><tr><td>4.019</td><td>0.632</td></tr><tr><td>4.339</td><td>0.67</td></tr><tr><td>4.208</td><td>0.266</td></tr><tr><td>4.166</td><td>0.245</td></tr><tr><td>3.774</td><td>0.262</td></tr><tr><td>3.933</td><td>0.274</td></tr><tr><td>3.644</td><td>0.306</td></tr><tr><td>3.681</td><td>0.208</td></tr><tr><td>3.695</td><td>0.28</td></tr><tr><td>3.495</td><td>0.637</td></tr><tr><td>4.292</td><td>0.016</td></tr><tr><td>4.156</td><td>0.087</td></tr><tr><td>3.97</td><td>0.233</td></tr><tr><td>3.75</td><td>0.648</td></tr><tr><td>3.6</td><td>0.113</td></tr><tr><td>3.538</td><td>0.177</td></tr><tr><td>3.587</td><td>0.186</td></tr><tr><td>3.41</td><td>0.191</td></tr><tr><td>6.322</td><td>1.161</td></tr><tr><td>6.084</td><td>1.291</td></tr><tr><td>6.005</td><td>1.251</td></tr><tr><td>6.012</td><td>1.665</td></tr><tr><td>5.77</td><td>1.125</td></tr><tr><td>5.711</td><td>1.689</td></tr><tr><td>5.339</td><td>1.221</td></tr><tr><td>5.384</td><td>1.259</td></tr><tr><td>5.384</td><td>1.168</td></tr><tr><td>5.198</td><td>0.938</td></tr><tr><td>5.198</td><td>1.115</td></tr><tr><td>4.729</td><td>0.352</td></tr><tr><td>4.723</td><td>0.387</td></tr><tr><td>4.447</td><td>0.37</td></tr><tr><td>4.198</td><td>0.763</td></tr><tr><td>4.479</td><td>0.792</td></tr><tr><td>4.19</td><td>0.476</td></tr><tr><td>4.39</td><td>0.385</td></tr><tr><td>4.073</td><td>0.313</td></tr><tr><td>3.995</td><td>0.261</td></tr><tr><td>6.627</td><td>1.27</td></tr><tr><td>6.726</td><td>1.3</td></tr><tr><td>6.773</td><td>1.253</td></tr><tr><td>6.602</td><td>1.411</td></tr><tr><td>6.527</td><td>1.343</td></tr><tr><td>6.488</td><td>1.308</td></tr><tr><td>6.447</td><td>1.838</td></tr><tr><td>6.302</td><td>1.207</td></tr><tr><td>6.3</td><td>1.841</td></tr><tr><td>4.724</td><td>1.099</td></tr><tr><td>4.49</td><td>0.57</td></tr><tr><td>4.292</td><td>0.648</td></tr><tr><td>4.436</td><td>0.454</td></tr><tr><td>4.356</td><td>0.557</td></tr><tr><td>4.375</td><td>0.54</td></tr><tr><td>4.201</td><td>0.614</td></tr><tr><td>4.153</td><td>1.1</td></tr><tr><td>4.227</td><td>0.666</td></tr><tr><td>6.101</td><td>1.074</td></tr><tr><td>6.049</td><td>1.178</td></tr><tr><td>6.071</td><td>1.591</td></tr><tr><td>5.891</td><td>1.09</td></tr><tr><td>5.888</td><td>1.12</td></tr><tr><td>5.902</td><td>1.589</td></tr><tr><td>5.629</td><td>1.189</td></tr><tr><td>5.648</td><td>1.144</td></tr><tr><td>5.477</td><td>1.008</td></tr><tr><td>7.187</td><td>1.021</td></tr><tr><td>6.778</td><td>1.115</td></tr><tr><td>6.595</td><td>1.07</td></tr><tr><td>6.488</td><td>1.038</td></tr><tr><td>6.465</td><td>1.024</td></tr><tr><td>6.578</td><td>1.153</td></tr><tr><td>6.317</td><td>1.126</td></tr><tr><td>6.33</td><td>1.55</td></tr><tr><td>6.128</td><td>1.552</td></tr><tr><td>5.889</td><td>0.594</td></tr><tr><td>5.897</td><td>0.692</td></tr><tr><td>5.838</td><td>0.729</td></tr><tr><td>5.857</td><td>1.417</td></tr><tr><td>5.819</td><td>1.425</td></tr><tr><td>5.766</td><td>0.985</td></tr><tr><td>5.64</td><td>0.657</td></tr><tr><td>5.608</td><td>0.708</td></tr><tr><td>5.529</td><td>0.685</td></tr><tr><td>5.84</td><td>1.379</td></tr><tr><td>5.761</td><td>1.393</td></tr><tr><td>5.677</td><td>0.966</td></tr><tr><td>5.456</td><td>0.905</td></tr><tr><td>5.285</td><td>0.948</td></tr><tr><td>5.125</td><td>0.914</td></tr><tr><td>4.955</td><td>1.027</td></tr><tr><td>4.874</td><td>0.828</td></tr><tr><td>4.907</td><td>0.989</td></tr><tr><td>5.722</td><td>1.537</td></tr><tr><td>5.546</td><td>1.01</td></tr><tr><td>5.581</td><td>1.155</td></tr><tr><td>5.523</td><td>1.051</td></tr><tr><td>5.547</td><td>1.573</td></tr><tr><td>5.347</td><td>1.017</td></tr><tr><td>5.192</td><td>0.974</td></tr><tr><td>5.237</td><td>1.121</td></tr><tr><td>5.161</td><td>1.078</td></tr><tr><td>5.235</td><td>0.878</td></tr><tr><td>5.254</td><td>0.779</td></tr><tr><td>5.208</td><td>0.801</td></tr><tr><td>5.151</td><td>0.841</td></tr><tr><td>5.013</td><td>0.735</td></tr><tr><td>5.095</td><td>0.759</td></tr><tr><td>5.06</td><td>1.208</td></tr><tr><td>4.903</td><td>1.236</td></tr><tr><td>4.918</td><td>0.792</td></tr><tr><td>4.971</td><td>0.083</td></tr><tr><td>4.954</td><td>0.57</td></tr><tr><td>5.048</td><td>0.578</td></tr><tr><td>4.55</td><td>0.234</td></tr><tr><td>4.794</td><td>0.183</td></tr><tr><td>4.624</td><td>0.179</td></tr><tr><td>4.417</td><td>0.198</td></tr><tr><td>4.466</td><td>0.204</td></tr><tr><td>4.545</td><td>0.367</td></tr><tr><td>4.372</td><td>1.032</td></tr><tr><td>4.395</td><td>0.341</td></tr><tr><td>4.426</td><td>0.666</td></tr><tr><td>4.394</td><td>1.038</td></tr><tr><td>4.307</td><td>0.271</td></tr><tr><td>4.308</td><td>0.682</td></tr><tr><td>4.36</td><td>0.71</td></tr><tr><td>4.308</td><td>0.678</td></tr><tr><td>4.631</td><td>1.289</td></tr><tr><td>4.574</td><td>0.964</td></tr><tr><td>4.574</td><td>0.933</td></tr><tr><td>4.639</td><td>0.879</td></tr><tr><td>4.441</td><td>0.874</td></tr><tr><td>4.571</td><td>0.84</td></tr><tr><td>4.574</td><td>0.882</td></tr><tr><td>4.459</td><td>1.292</td></tr><tr><td>5.36</td><td>0.979</td></tr><tr><td>5.377</td><td>0.984</td></tr><tr><td>5.269</td><td>0.519</td></tr><tr><td>5.137</td><td>0.444</td></tr><tr><td>4.962</td><td>0.48</td></tr><tr><td>4.913</td><td>0.446</td></tr><tr><td>4.88</td><td>0.425</td></tr><tr><td>4.793</td><td>0.446</td></tr><tr><td>4.514</td><td>0.36</td></tr><tr><td>7.488</td><td>1.396</td></tr><tr><td>7.464</td><td>1.501</td></tr><tr><td>7.415</td><td>1.945</td></tr><tr><td>7.403</td><td>1.942</td></tr><tr><td>7.377</td><td>1.504</td></tr><tr><td>7.441</td><td>1.361</td></tr><tr><td>7.449</td><td>1.339</td></tr><tr><td>7.378</td><td>1.329</td></tr><tr><td>7.339</td><td>1.465</td></tr><tr><td>7.334</td><td>1.361</td></tr><tr><td>7.314</td><td>1.406</td></tr><tr><td>7.324</td><td>1.268</td></tr><tr><td>7.307</td><td>1.303</td></tr><tr><td>7.3</td><td>1.242</td></tr><tr><td>7.286</td><td>1.25</td></tr><tr><td>7.277</td><td>1.4</td></tr><tr><td>7.2</td><td>1.852</td></tr><tr><td>7.123</td><td>1.842</td></tr><tr><td>6.259</td><td>1.109</td></tr><tr><td>6.141</td><td>0.668</td></tr><tr><td>6.071</td><td>0.737</td></tr><tr><td>6.105</td><td>0.694</td></tr><tr><td>6.165</td><td>1.105</td></tr><tr><td>6.137</td><td>0.62</td></tr><tr><td>5.992</td><td>0.694</td></tr><tr><td>5.972</td><td>0.693</td></tr><tr><td>5.828</td><td>0.593</td></tr><tr><td>5.074</td><td>0.162</td></tr><tr><td>4.91</td><td>0.108</td></tr><tr><td>5.003</td><td>0.57</td></tr><tr><td>4.501</td><td>0.561</td></tr><tr><td>4.628</td><td>0.138</td></tr><tr><td>4.166</td><td>0.131</td></tr><tr><td>4.028</td><td>0.162</td></tr><tr><td>3.856</td><td>0.133</td></tr><tr><td>3.845</td><td>0.069</td></tr><tr><td>5.268</td><td>0.654</td></tr><tr><td>5.265</td><td>0.696</td></tr><tr><td>5.155</td><td>0.689</td></tr><tr><td>5.074</td><td>0.784</td></tr><tr><td>4.981</td><td>1.065</td></tr><tr><td>4.875</td><td>0.752</td></tr><tr><td>4.724</td><td>0.646</td></tr><tr><td>4.759</td><td>0.663</td></tr><tr><td>4.552</td><td>1.079</td></tr><tr><td>5.81</td><td>1.347</td></tr><tr><td>5.771</td><td>1.311</td></tr><tr><td>5.695</td><td>1.208</td></tr><tr><td>5.536</td><td>1.377</td></tr><tr><td>5.536</td><td>1.213</td></tr><tr><td>7.537</td><td>1.616</td></tr><tr><td>7.594</td><td>1.456</td></tr><tr><td>7.554</td><td>1.488</td></tr><tr><td>7.522</td><td>1.459</td></tr><tr><td>7.498</td><td>1.577</td></tr><tr><td>7.488</td><td>1.424</td></tr><tr><td>7.392</td><td>1.543</td></tr><tr><td>7.315</td><td>1.994</td></tr><tr><td>7.365</td><td>1.997</td></tr><tr><td>6.853</td><td>1.36</td></tr><tr><td>5.693</td><td>0.617</td></tr><tr><td>5.653</td><td>0.677</td></tr><tr><td>5.472</td><td>0.652</td></tr><tr><td>5.269</td><td>0.727</td></tr><tr><td>5.194</td><td>0.595</td></tr><tr><td>5.132</td><td>0.688</td></tr><tr><td>4.934</td><td>0.637</td></tr><tr><td>4.555</td><td>1.081</td></tr><tr><td>4.516</td><td>1.049</td></tr><tr><td>4.908</td><td>1.144</td></tr><tr><td>4.775</td><td>0.716</td></tr><tr><td>4.743</td><td>0.642</td></tr><tr><td>4.715</td><td>0.599</td></tr><tr><td>4.754</td><td>0.67</td></tr><tr><td>4.696</td><td>0.657</td></tr><tr><td>4.483</td><td>1.148</td></tr><tr><td>4.553</td><td>0.588</td></tr><tr><td>4.517</td><td>0.646</td></tr><tr><td>6.786</td><td>1.064</td></tr><tr><td>6.701</td><td>1.183</td></tr><tr><td>6.43</td><td>1.112</td></tr><tr><td>6.452</td><td>1.234</td></tr><tr><td>6.321</td><td>1.149</td></tr><tr><td>6.305</td><td>1.098</td></tr><tr><td>6.309</td><td>1.715</td></tr><tr><td>6.265</td><td>1.714</td></tr><tr><td>6.18</td><td>1.298</td></tr><tr><td>5.878</td><td>0.76</td></tr><tr><td>5.743</td><td>0.855</td></tr><tr><td>5.681</td><td>0.835</td></tr><tr><td>5.738</td><td>1.428</td></tr><tr><td>5.692</td><td>0.898</td></tr><tr><td>5.538</td><td>0.894</td></tr><tr><td>5.493</td><td>0.933</td></tr><tr><td>5.653</td><td>0.983</td></tr><tr><td>5.578</td><td>1.409</td></tr><tr><td>5.824</td><td>0.9</td></tr><tr><td>5.715</td><td>1.035</td></tr><tr><td>5.797</td><td>0.919</td></tr><tr><td>5.84</td><td>0.986</td></tr><tr><td>5.743</td><td>0.996</td></tr><tr><td>5.663</td><td>0.934</td></tr><tr><td>5.697</td><td>0.96</td></tr><tr><td>5.559</td><td>1.397</td></tr><tr><td>5.526</td><td>1.39</td></tr><tr><td>6.006</td><td>0.775</td></tr><tr><td>5.904</td><td>1.268</td></tr><tr><td>5.88</td><td>0.853</td></tr><tr><td>5.631</td><td>0.807</td></tr><tr><td>5.524</td><td>0.775</td></tr><tr><td>5.43</td><td>0.858</td></tr><tr><td>5.523</td><td>1.238</td></tr><tr><td>5.279</td><td>0.812</td></tr><tr><td>5.073</td><td>0.705</td></tr><tr><td>6.26</td><td>1.767</td></tr><tr><td>6.182</td><td>1.206</td></tr><tr><td>6.123</td><td>1.176</td></tr><tr><td>6.186</td><td>1.169</td></tr><tr><td>6.166</td><td>1.309</td></tr><tr><td>5.973</td><td>1.292</td></tr><tr><td>6.123</td><td>1.758</td></tr><tr><td>5.835</td><td>1.246</td></tr><tr><td>5.791</td><td>1.126</td></tr><tr><td>6.016</td><td>1.76</td></tr><tr><td>5.968</td><td>1.758</td></tr><tr><td>5.929</td><td>1.323</td></tr><tr><td>5.911</td><td>1.169</td></tr><tr><td>5.693</td><td>1.221</td></tr><tr><td>5.41</td><td>1.188</td></tr><tr><td>5.102</td><td>1.16</td></tr><tr><td>5.195</td><td>1.315</td></tr><tr><td>5.123</td><td>1.276</td></tr><tr><td>7.039</td><td>1.359</td></tr><tr><td>6.611</td><td>1.69</td></tr><tr><td>6.374</td><td>1.684</td></tr><tr><td>6.374</td><td>1.649</td></tr><tr><td>6.375</td><td>1.871</td></tr><tr><td>6.375</td><td>1.824</td></tr><tr><td>6.589</td><td>1.726</td></tr><tr><td>6.477</td><td>1.719</td></tr><tr><td>6.14</td><td>1.275</td></tr><tr><td>6.124</td><td>1.12</td></tr><tr><td>6.07</td><td>1.162</td></tr><tr><td>5.945</td><td>1.116</td></tr><tr><td>5.825</td><td>1.218</td></tr><tr><td>5.528</td><td>1.17</td></tr><tr><td>5.124</td><td>1.043</td></tr><tr><td>5.963</td><td>1.282</td></tr><tr><td>5.856</td><td>1.232</td></tr><tr><td>5.81</td><td>1.151</td></tr><tr><td>5.716</td><td>1.138</td></tr><tr><td>5.648</td><td>1.183</td></tr><tr><td>5.661</td><td>1.68</td></tr><tr><td>5.546</td><td>1.127</td></tr><tr><td>5.477</td><td>1.241</td></tr><tr><td>5.459</td><td>1.685</td></tr><tr><td>3.268</td><td>0.785</td></tr><tr><td>3.415</td><td>0.364</td></tr><tr><td>3.312</td><td>0.343</td></tr><tr><td>3.471</td><td>0.369</td></tr><tr><td>3.408</td><td>0.332</td></tr><tr><td>3.515</td><td>0.328</td></tr><tr><td>3.334</td><td>0.359</td></tr><tr><td>3.465</td><td>0.222</td></tr><tr><td>6.523</td><td>1.87</td></tr><tr><td>6.494</td><td>1.435</td></tr><tr><td>6.406</td><td>1.334</td></tr><tr><td>6.375</td><td>1.403</td></tr><tr><td>6.463</td><td>1.861</td></tr><tr><td>6.371</td><td>1.379</td></tr><tr><td>6.379</td><td>1.49</td></tr><tr><td>6.411</td><td>1.395</td></tr><tr><td>6.344</td><td>1.531</td></tr><tr><td>5.132</td><td>0.518</td></tr><tr><td>4.981</td><td>0.504</td></tr><tr><td>4.855</td><td>0.943</td></tr><tr><td>5.046</td><td>0.933</td></tr><tr><td>4.631</td><td>0.429</td></tr><tr><td>4.681</td><td>0.45</td></tr><tr><td>4.535</td><td>0.479</td></tr><tr><td>4.219</td><td>0.443</td></tr><tr><td>3.904</td><td>0.365</td></tr><tr><td>6.178</td><td>1.55</td></tr><tr><td>6.144</td><td>1.552</td></tr><tr><td>6.078</td><td>1.101</td></tr><tr><td>5.778</td><td>0.988</td></tr><tr><td>5.603</td><td>1.004</td></tr><tr><td>5.395</td><td>1.069</td></tr><tr><td>5.398</td><td>0.975</td></tr><tr><td>5.177</td><td>1.034</td></tr><tr><td>5.123</td><td>0.921</td></tr><tr><td>4.709</td><td>0.368</td></tr><tr><td>4.635</td><td>0.365</td></tr><tr><td>4.571</td><td>0.256</td></tr><tr><td>4.507</td><td>0.33</td></tr><tr><td>4.374</td><td>0.268</td></tr><tr><td>3.138</td><td>0.67</td></tr><tr><td>3.849</td><td>0.279</td></tr><tr><td>3.926</td><td>0.241</td></tr><tr><td>3.574</td><td>0.686</td></tr><tr><td>6.739</td><td>1.646</td></tr><tr><td>6.798</td><td>1.522</td></tr><tr><td>6.587</td><td>2.168</td></tr><tr><td>6.572</td><td>1.692</td></tr><tr><td>6.48</td><td>2.149</td></tr><tr><td>6.377</td><td>1.52</td></tr><tr><td>6.377</td><td>1.695</td></tr><tr><td>6.343</td><td>1.529</td></tr><tr><td>6.262</td><td>1.572</td></tr><tr><td>6.469</td><td>1.731</td></tr><tr><td>6.331</td><td>1.304</td></tr><tr><td>6.391</td><td>1.736</td></tr><tr><td>6.281</td><td>1.195</td></tr><tr><td>6.198</td><td>1.246</td></tr><tr><td>6.173</td><td>1.21</td></tr><tr><td>6.098</td><td>1.325</td></tr><tr><td>5.995</td><td>1.169</td></tr><tr><td>6.078</td><td>1.28</td></tr><tr><td>6.63</td><td>1.81</td></tr><tr><td>6.65</td><td>1.815</td></tr><tr><td>6.461</td><td>1.36</td></tr><tr><td>6.363</td><td>1.209</td></tr><tr><td>6.118</td><td>1.258</td></tr><tr><td>5.948</td><td>1.219</td></tr><tr><td>5.848</td><td>1.185</td></tr><tr><td>5.758</td><td>1.341</td></tr><tr><td>5.768</td><td>1.299</td></tr><tr><td>5.44</td><td>0.0</td></tr><tr><td>5.057</td><td>0.188</td></tr><tr><td>5.151</td><td>0.023</td></tr><tr><td>5.057</td><td>0.256</td></tr><tr><td>4.982</td><td>0.0</td></tr><tr><td>4.668</td><td>0.0</td></tr><tr><td>5.275</td><td>1.417</td></tr><tr><td>5.194</td><td>1.425</td></tr><tr><td>4.829</td><td>1.055</td></tr><tr><td>4.956</td><td>0.967</td></tr><tr><td>4.724</td><td>0.94</td></tr><tr><td>4.722</td><td>0.96</td></tr><tr><td>4.814</td><td>0.902</td></tr><tr><td>4.642</td><td>0.92</td></tr><tr><td>4.459</td><td>1.024</td></tr><tr><td>5.984</td><td>1.245</td></tr><tr><td>5.895</td><td>1.301</td></tr><tr><td>5.838</td><td>1.402</td></tr><tr><td>5.835</td><td>1.359</td></tr><tr><td>5.875</td><td>1.266</td></tr><tr><td>5.951</td><td>1.853</td></tr><tr><td>5.935</td><td>1.851</td></tr><tr><td>5.872</td><td>1.245</td></tr><tr><td>5.845</td><td>1.403</td></tr><tr><td>3.832</td><td>0.394</td></tr><tr><td>3.591</td><td>0.397</td></tr><tr><td>6.491</td><td>1.375</td></tr><tr><td>6.401</td><td>1.231</td></tr><tr><td>6.476</td><td>1.808</td></tr><tr><td>6.354</td><td>1.286</td></tr><tr><td>6.436</td><td>1.798</td></tr><tr><td>6.403</td><td>1.384</td></tr><tr><td>6.329</td><td>1.23</td></tr><tr><td>6.31</td><td>1.251</td></tr><tr><td>6.361</td><td>1.343</td></tr><tr><td>4.442</td><td>1.422</td></tr><tr><td>4.471</td><td>0.918</td></tr><tr><td>4.415</td><td>0.973</td></tr><tr><td>4.44</td><td>1.01</td></tr><tr><td>4.362</td><td>1.415</td></tr><tr><td>4.325</td><td>0.99</td></tr><tr><td>4.366</td><td>0.949</td></tr><tr><td>4.327</td><td>0.898</td></tr><tr><td>4.271</td><td>0.835</td></tr><tr><td>4.55</td><td>0.521</td></tr><tr><td>4.139</td><td>0.66</td></tr><tr><td>4.139</td><td>0.631</td></tr><tr><td>2.817</td><td>0.289</td></tr><tr><td>3.254</td><td>0.337</td></tr><tr><td>2.853</td><td>0.306</td></tr><tr><td>6.269</td><td>0.995</td></tr><tr><td>6.269</td><td>1.097</td></tr><tr><td>4.867</td><td>0.712</td></tr><tr><td>4.308</td><td>0.849</td></tr><tr><td>4.308</td><td>0.828</td></tr><tr><td>4.212</td><td>0.811</td></tr><tr><td>7.395</td><td>1.921</td></tr><tr><td>7.343</td><td>1.387</td></tr><tr><td>7.353</td><td>1.322</td></tr><tr><td>7.363</td><td>1.478</td></tr><tr><td>7.384</td><td>1.92</td></tr><tr><td>7.364</td><td>1.332</td></tr><tr><td>7.284</td><td>1.494</td></tr><tr><td>7.314</td><td>1.355</td></tr><tr><td>7.291</td><td>1.452</td></tr><tr><td>7.587</td><td>1.397</td></tr><tr><td>7.509</td><td>1.527</td></tr><tr><td>7.56</td><td>1.391</td></tr><tr><td>7.571</td><td>1.566</td></tr><tr><td>7.494</td><td>1.565</td></tr><tr><td>7.512</td><td>2.026</td></tr><tr><td>7.487</td><td>1.42</td></tr><tr><td>7.48</td><td>1.452</td></tr><tr><td>7.24</td><td>2.022</td></tr><tr><td>3.462</td><td>0.619</td></tr><tr><td>3.462</td><td>0.689</td></tr><tr><td>3.462</td><td>0.777</td></tr><tr><td>3.069</td><td>0.747</td></tr><tr><td>3.006</td><td>0.663</td></tr><tr><td>6.584</td><td>1.48</td></tr><tr><td>6.446</td><td>1.368</td></tr><tr><td>6.455</td><td>1.327</td></tr><tr><td>6.441</td><td>1.365</td></tr><tr><td>6.512</td><td>1.897</td></tr><tr><td>6.535</td><td>1.89</td></tr><tr><td>6.422</td><td>1.434</td></tr><tr><td>6.379</td><td>1.397</td></tr><tr><td>6.298</td><td>1.291</td></tr><tr><td>5.556</td><td>0.475</td></tr><tr><td>5.467</td><td>0.493</td></tr><tr><td>5.466</td><td>0.508</td></tr><tr><td>5.33</td><td>0.972</td></tr><tr><td>5.377</td><td>0.966</td></tr><tr><td>5.199</td><td>0.474</td></tr><tr><td>5.041</td><td>0.525</td></tr><tr><td>4.996</td><td>0.488</td></tr><tr><td>4.786</td><td>0.39</td></tr><tr><td>3.694</td><td>0.836</td></tr><tr><td>3.702</td><td>0.848</td></tr><tr><td>3.623</td><td>0.433</td></tr><tr><td>3.781</td><td>0.285</td></tr><tr><td>3.476</td><td>0.457</td></tr><tr><td>3.666</td><td>0.472</td></tr><tr><td>3.349</td><td>0.511</td></tr><tr><td>3.303</td><td>0.455</td></tr><tr><td>3.231</td><td>0.476</td></tr><tr><td>6.424</td><td>1.128</td></tr><tr><td>6.474</td><td>1.089</td></tr><tr><td>6.455</td><td>0.967</td></tr><tr><td>6.072</td><td>1.016</td></tr><tr><td>6.008</td><td>1.05</td></tr><tr><td>5.999</td><td>1.007</td></tr><tr><td>5.985</td><td>1.107</td></tr><tr><td>5.843</td><td>1.515</td></tr><tr><td>5.891</td><td>1.535</td></tr><tr><td>4.137</td><td>0.77</td></tr><tr><td>4.187</td><td>0.268</td></tr><tr><td>4.112</td><td>0.771</td></tr><tr><td>4.107</td><td>0.254</td></tr><tr><td>3.999</td><td>0.259</td></tr><tr><td>4.085</td><td>0.275</td></tr><tr><td>3.495</td><td>0.305</td></tr><tr><td>3.303</td><td>0.281</td></tr><tr><td>2.839</td><td>0.209</td></tr><tr><td>6.168</td><td>1.361</td></tr><tr><td>6.192</td><td>1.223</td></tr><tr><td>6.192</td><td>1.231</td></tr><tr><td>6.168</td><td>1.212</td></tr><tr><td>6.192</td><td>1.168</td></tr><tr><td>6.168</td><td>1.326</td></tr><tr><td>5.045</td><td>0.977</td></tr><tr><td>4.805</td><td>1.007</td></tr><tr><td>4.739</td><td>0.881</td></tr><tr><td>4.497</td><td>1.333</td></tr><tr><td>4.592</td><td>0.9</td></tr><tr><td>4.516</td><td>1.35</td></tr><tr><td>4.596</td><td>0.919</td></tr><tr><td>4.461</td><td>0.921</td></tr><tr><td>4.392</td><td>0.875</td></tr><tr><td>5.5</td><td>1.198</td></tr><tr><td>5.483</td><td>1.148</td></tr><tr><td>5.332</td><td>1.061</td></tr><tr><td>5.389</td><td>1.165</td></tr><tr><td>5.373</td><td>1.183</td></tr><tr><td>5.132</td><td>1.127</td></tr><tr><td>4.948</td><td>1.26</td></tr><tr><td>4.614</td><td>1.714</td></tr><tr><td>4.744</td><td>1.707</td></tr><tr><td>5.822</td><td>1.131</td></tr><tr><td>5.658</td><td>1.08</td></tr><tr><td>5.636</td><td>1.016</td></tr><tr><td>5.548</td><td>0.958</td></tr><tr><td>5.474</td><td>1.484</td></tr><tr><td>5.247</td><td>1.052</td></tr><tr><td>5.119</td><td>1.009</td></tr><tr><td>5.066</td><td>1.046</td></tr><tr><td>4.432</td><td>0.785</td></tr><tr><td>4.603</td><td>0.777</td></tr><tr><td>4.636</td><td>0.364</td></tr><tr><td>4.432</td><td>0.312</td></tr><tr><td>4.081</td><td>0.381</td></tr><tr><td>4.161</td><td>0.322</td></tr><tr><td>4.189</td><td>0.332</td></tr><tr><td>3.931</td><td>0.211</td></tr><tr><td>3.739</td><td>0.347</td></tr><tr><td>5.071</td><td>1.358</td></tr><tr><td>5.084</td><td>1.411</td></tr><tr><td>4.875</td><td>0.979</td></tr><tr><td>4.681</td><td>0.799</td></tr><tr><td>4.324</td><td>0.873</td></tr><tr><td>4.561</td><td>0.78</td></tr><tr><td>4.096</td><td>0.895</td></tr><tr><td>4.332</td><td>0.82</td></tr><tr><td>4.103</td><td>0.793</td></tr><tr><td>6.901</td><td>1.427</td></tr><tr><td>6.648</td><td>1.626</td></tr><tr><td>6.825</td><td>1.503</td></tr><tr><td>6.791</td><td>1.431</td></tr><tr><td>6.576</td><td>1.998</td></tr><tr><td>6.561</td><td>1.555</td></tr><tr><td>6.571</td><td>2.015</td></tr><tr><td>6.573</td><td>1.574</td></tr><tr><td>7.19</td><td>1.244</td></tr><tr><td>7.165</td><td>1.273</td></tr><tr><td>7.054</td><td>1.333</td></tr><tr><td>7.064</td><td>1.423</td></tr><tr><td>6.943</td><td>1.867</td></tr><tr><td>6.714</td><td>1.442</td></tr><tr><td>6.796</td><td>1.857</td></tr><tr><td>6.867</td><td>1.266</td></tr><tr><td>6.725</td><td>1.403</td></tr><tr><td>7.104</td><td>1.508</td></tr><tr><td>6.993</td><td>1.546</td></tr><tr><td>7.119</td><td>1.395</td></tr><tr><td>6.894</td><td>1.98</td></tr><tr><td>6.977</td><td>1.982</td></tr><tr><td>6.886</td><td>1.398</td></tr><tr><td>6.94</td><td>1.374</td></tr><tr><td>6.892</td><td>1.433</td></tr><tr><td>6.951</td><td>1.533</td></tr><tr><td>6.44</td><td>1.071</td></tr><tr><td>6.454</td><td>1.218</td></tr><tr><td>6.494</td><td>1.617</td></tr><tr><td>6.545</td><td>1.182</td></tr><tr><td>6.474</td><td>1.615</td></tr><tr><td>6.379</td><td>1.093</td></tr><tr><td>6.431</td><td>1.164</td></tr><tr><td>6.485</td><td>1.062</td></tr><tr><td>6.293</td><td>1.124</td></tr><tr><td>6.258</td><td>0.697</td></tr><tr><td>6.174</td><td>0.745</td></tr><tr><td>6.179</td><td>0.769</td></tr><tr><td>6.003</td><td>0.632</td></tr><tr><td>6.096</td><td>0.719</td></tr><tr><td>5.971</td><td>0.786</td></tr><tr><td>5.987</td><td>0.736</td></tr><tr><td>6.063</td><td>1.219</td></tr><tr><td>6.014</td><td>1.227</td></tr><tr><td>6.81</td><td>1.044</td></tr><tr><td>6.084</td><td>1.134</td></tr><tr><td>5.25</td><td>1.128</td></tr><tr><td>5.211</td><td>0.0</td></tr><tr><td>5.053</td><td>0.77</td></tr><tr><td>4.806</td><td>0.996</td></tr><tr><td>4.892</td><td>0.852</td></tr><tr><td>4.707</td><td>0.96</td></tr><tr><td>4.925</td><td>0.0</td></tr><tr><td>5.763</td><td>1.349</td></tr><tr><td>5.36</td><td>0.632</td></tr><tr><td>5.485</td><td>1.252</td></tr><tr><td>5.411</td><td>0.817</td></tr><tr><td>5.353</td><td>0.718</td></tr><tr><td>5.074</td><td>0.789</td></tr><tr><td>5.175</td><td>0.741</td></tr><tr><td>5.103</td><td>0.715</td></tr><tr><td>5.061</td><td>0.74</td></tr><tr><td>4.197</td><td>0.691</td></tr><tr><td>4.077</td><td>0.546</td></tr><tr><td>3.658</td><td>0.329</td></tr><tr><td>3.593</td><td>0.592</td></tr><tr><td>3.527</td><td>0.393</td></tr><tr><td>3.724</td><td>0.579</td></tr><tr><td>3.38</td><td>0.287</td></tr><tr><td>3.355</td><td>0.442</td></tr><tr><td>5.129</td><td>0.47</td></tr><tr><td>4.795</td><td>0.612</td></tr><tr><td>4.514</td><td>0.636</td></tr><tr><td>4.377</td><td>0.562</td></tr><tr><td>3.982</td><td>0.914</td></tr><tr><td>4.073</td><td>0.528</td></tr><tr><td>3.76</td><td>0.93</td></tr><tr><td>4.107</td><td>0.578</td></tr><tr><td>3.759</td><td>0.537</td></tr><tr><td>4.61</td><td>0.271</td></tr><tr><td>4.193</td><td>0.35</td></tr><tr><td>3.204</td><td>0.758</td></tr><tr><td>3.875</td><td>0.376</td></tr><tr><td>3.692</td><td>0.357</td></tr><tr><td>2.995</td><td>0.947</td></tr><tr><td>3.663</td><td>0.366</td></tr><tr><td>3.145</td><td>0.457</td></tr><tr><td>3.299</td><td>0.426</td></tr></tbody></table></div>"
      ]
     },
     "metadata": {
      "application/vnd.databricks.v1+output": {
       "addedWidgets": {},
       "aggData": [],
       "aggError": "",
       "aggOverflow": false,
       "aggSchema": [],
       "aggSeriesLimitReached": false,
       "aggType": "",
       "arguments": {},
       "columnCustomDisplayInfos": {},
       "data": [
        [
         1.859,
         0.645
        ],
        [
         3.794,
         0.401
        ],
        [
         3.632,
         0.332
        ],
        [
         2.404,
         0.758
        ],
        [
         2.523,
         0.37
        ],
        [
         2.567,
         0.301
        ],
        [
         3.575,
         0.32
        ],
        [
         3.36,
         0.382
        ],
        [
         3.203,
         0.35
        ],
        [
         5.277,
         1.449
        ],
        [
         5.199,
         1.439
        ],
        [
         5.117,
         1.008
        ],
        [
         4.959,
         0.879
        ],
        [
         4.883,
         0.907
        ],
        [
         4.719,
         0.947
        ],
        [
         4.655,
         0.955
        ],
        [
         4.644,
         0.996
        ],
        [
         4.586,
         0.916
        ],
        [
         6.355,
         1.053
        ],
        [
         5.872,
         1.092
        ],
        [
         5.605,
         0.939
        ],
        [
         5.329,
         1.353
        ],
        [
         5.295,
         0.979
        ],
        [
         5.211,
         1.002
        ],
        [
         5.122,
         1.363
        ],
        [
         5.005,
         0.944
        ],
        [
         4.887,
         0.946
        ],
        [
         4.033,
         0.758
        ],
        [
         3.795,
         0.858
        ],
        [
         3.866,
         0.847
        ],
        [
         3.795,
         0.73
        ],
        [
         6.599,
         1.185
        ],
        [
         6.65,
         1.151
        ],
        [
         6.388,
         1.073
        ],
        [
         6.574,
         1.054
        ],
        [
         6.086,
         1.092
        ],
        [
         6.024,
         1.59
        ],
        [
         5.975,
         1.028
        ],
        [
         5.929,
         1.162
        ],
        [
         5.967,
         1.592
        ],
        [
         5.342,
         1.466
        ],
        [
         5.399,
         1.434
        ],
        [
         5.283,
         0.996
        ],
        [
         4.559,
         0.85
        ],
        [
         4.677,
         0.808
        ],
        [
         4.36,
         0.861
        ],
        [
         4.376,
         0.901
        ],
        [
         4.35,
         0.768
        ],
        [
         4.321,
         0.816
        ],
        [
         7.313,
         1.444
        ],
        [
         7.284,
         1.484
        ],
        [
         7.272,
         1.34
        ],
        [
         7.284,
         1.334
        ],
        [
         7.228,
         1.372
        ],
        [
         7.183,
         1.453
        ],
        [
         7.223,
         1.31
        ],
        [
         7.162,
         1.9
        ],
        [
         7.095,
         1.899
        ],
        [
         7.294,
         1.317
        ],
        [
         7.246,
         1.376
        ],
        [
         7.268,
         1.492
        ],
        [
         7.163,
         1.931
        ],
        [
         7.097,
         1.927
        ],
        [
         7.119,
         1.45
        ],
        [
         7.139,
         1.341
        ],
        [
         7.006,
         1.487
        ],
        [
         7.2,
         1.337
        ],
        [
         5.212,
         1.024
        ],
        [
         5.291,
         1.124
        ],
        [
         5.234,
         1.154
        ],
        [
         5.201,
         1.024
        ],
        [
         5.165,
         0.99
        ],
        [
         5.208,
         1.043
        ],
        [
         5.171,
         1.025
        ],
        [
         5.173,
         1.458
        ],
        [
         6.647,
         1.854
        ],
        [
         6.647,
         1.409
        ],
        [
         6.199,
         1.362
        ],
        [
         6.227,
         1.297
        ],
        [
         6.087,
         1.488
        ],
        [
         6.218,
         1.44
        ],
        [
         6.173,
         1.883
        ],
        [
         6.105,
         1.338
        ],
        [
         5.96,
         1.324
        ],
        [
         5.155,
         1.06
        ],
        [
         5.025,
         0.635
        ],
        [
         4.833,
         0.556
        ],
        [
         4.694,
         0.398
        ],
        [
         4.643,
         0.542
        ],
        [
         4.608,
         0.587
        ],
        [
         4.5,
         0.532
        ],
        [
         4.282,
         1.133
        ],
        [
         4.456,
         0.562
        ],
        [
         5.813,
         1.032
        ],
        [
         5.802,
         1.131
        ],
        [
         5.821,
         1.562
        ],
        [
         5.569,
         1.157
        ],
        [
         5.483,
         1.039
        ],
        [
         5.54,
         1.019
        ],
        [
         5.534,
         1.124
        ],
        [
         5.323,
         1.067
        ],
        [
         6.927,
         1.324
        ],
        [
         6.891,
         1.464
        ],
        [
         6.859,
         1.907
        ],
        [
         6.929,
         1.425
        ],
        [
         6.923,
         1.356
        ],
        [
         6.805,
         1.907
        ],
        [
         6.937,
         1.308
        ],
        [
         6.864,
         1.296
        ],
        [
         6.834,
         1.463
        ],
        [
         5.956,
         0.807
        ],
        [
         5.956,
         0.908
        ],
        [
         5.956,
         0.876
        ],
        [
         5.216,
         0.366
        ],
        [
         5.045,
         0.507
        ],
        [
         4.883,
         0.393
        ],
        [
         4.623,
         0.932
        ],
        [
         4.374,
         0.924
        ],
        [
         4.141,
         0.378
        ],
        [
         3.657,
         0.431
        ],
        [
         3.484,
         0.395
        ],
        [
         3.34,
         0.287
        ],
        [
         5.253,
         0.77
        ],
        [
         5.196,
         0.853
        ],
        [
         5.082,
         0.813
        ],
        [
         5.011,
         0.885
        ],
        [
         5.082,
         0.796
        ],
        [
         5.89,
         0.681
        ],
        [
         5.823,
         0.834
        ],
        [
         5.822,
         0.794
        ],
        [
         5.779,
         0.776
        ],
        [
         5.752,
         0.751
        ],
        [
         5.747,
         0.731
        ],
        [
         5.716,
         0.842
        ],
        [
         5.684,
         1.24
        ],
        [
         5.6,
         1.256
        ],
        [
         5.813,
         1.032
        ],
        [
         5.768,
         1.468
        ],
        [
         5.674,
         0.918
        ],
        [
         5.633,
         1.467
        ],
        [
         5.386,
         0.945
        ],
        [
         5.163,
         0.934
        ],
        [
         5.182,
         0.982
        ],
        [
         5.129,
         0.915
        ],
        [
         4.949,
         0.832
        ],
        [
         4.332,
         0.994
        ],
        [
         3.435,
         1.471
        ],
        [
         3.974,
         1.094
        ],
        [
         3.766,
         1.122
        ],
        [
         3.471,
         1.503
        ],
        [
         3.59,
         1.017
        ],
        [
         3.467,
         1.099
        ],
        [
         3.479,
         0.998
        ],
        [
         3.488,
         1.041
        ],
        [
         6.983,
         0.981
        ],
        [
         6.952,
         1.088
        ],
        [
         6.635,
         1.107
        ],
        [
         6.419,
         0.986
        ],
        [
         6.3,
         1.004
        ],
        [
         6.376,
         0.953
        ],
        [
         6.33,
         1.028
        ],
        [
         6.293,
         1.462
        ],
        [
         6.125,
         1.454
        ],
        [
         5.466,
         1.635
        ],
        [
         5.371,
         1.625
        ],
        [
         5.266,
         1.181
        ],
        [
         5.102,
         1.047
        ],
        [
         5.011,
         1.092
        ],
        [
         4.933,
         1.054
        ],
        [
         4.714,
         1.161
        ],
        [
         4.217,
         1.113
        ],
        [
         4.218,
         1.012
        ],
        [
         4.638,
         0.768
        ],
        [
         4.769,
         0.302
        ],
        [
         4.834,
         0.364
        ],
        [
         4.67,
         0.779
        ],
        [
         4.587,
         0.331
        ],
        [
         4.424,
         0.314
        ],
        [
         4.032,
         0.35
        ],
        [
         3.739,
         0.32
        ],
        [
         3.587,
         0.258
        ],
        [
         3.775,
         0.0
        ],
        [
         3.775,
         0.0
        ],
        [
         3.775,
         0.046
        ],
        [
         2.905,
         0.092
        ],
        [
         2.905,
         0.091
        ],
        [
         2.905,
         0.068
        ],
        [
         2.905,
         0.015
        ],
        [
         4.848,
         0.545
        ],
        [
         4.7,
         0.574
        ],
        [
         4.83,
         0.603
        ],
        [
         4.64,
         1.019
        ],
        [
         4.393,
         1.025
        ],
        [
         4.433,
         0.549
        ],
        [
         4.168,
         0.602
        ],
        [
         3.907,
         0.556
        ],
        [
         3.819,
         0.46
        ],
        [
         5.142,
         0.543
        ],
        [
         5.044,
         0.549
        ],
        [
         4.973,
         0.965
        ],
        [
         5.085,
         0.504
        ],
        [
         4.975,
         0.535
        ],
        [
         5.048,
         0.968
        ],
        [
         4.695,
         0.564
        ],
        [
         4.513,
         0.525
        ],
        [
         4.252,
         0.423
        ],
        [
         7.427,
         1.326
        ],
        [
         7.404,
         1.44
        ],
        [
         7.316,
         1.479
        ],
        [
         7.328,
         1.33
        ],
        [
         7.278,
         1.365
        ],
        [
         7.232,
         1.302
        ],
        [
         6.961,
         1.881
        ],
        [
         7.103,
         1.447
        ],
        [
         7.025,
         1.886
        ],
        [
         3.678,
         0.079
        ],
        [
         3.476,
         0.041
        ],
        [
         2.693,
         0.0
        ],
        [
         3.083,
         0.024
        ],
        [
         3.083,
         0.026
        ],
        [
         4.397,
         0.622
        ],
        [
         4.423,
         0.302
        ],
        [
         4.355,
         0.255
        ],
        [
         4.251,
         0.662
        ],
        [
         4.301,
         0.358
        ],
        [
         4.35,
         0.35
        ],
        [
         3.936,
         0.438
        ],
        [
         3.763,
         0.422
        ],
        [
         3.667,
         0.342
        ],
        [
         6.652,
         1.253
        ],
        [
         6.705,
         1.217
        ],
        [
         6.476,
         1.131
        ],
        [
         6.444,
         1.159
        ],
        [
         6.67,
         1.107
        ],
        [
         6.334,
         1.645
        ],
        [
         6.228,
         1.097
        ],
        [
         6.172,
         1.2
        ],
        [
         6.172,
         1.651
        ],
        [
         5.818,
         1.51
        ],
        [
         5.585,
         1.508
        ],
        [
         5.273,
         1.081
        ],
        [
         5.245,
         1.028
        ],
        [
         5.339,
         1.061
        ],
        [
         5.14,
         0.89
        ],
        [
         5.246,
         0.989
        ],
        [
         5.191,
         1.029
        ],
        [
         5.124,
         0.991
        ],
        [
         6.481,
         1.03
        ],
        [
         6.477,
         0.919
        ],
        [
         6.357,
         1.071
        ],
        [
         6.26,
         0.96
        ],
        [
         6.125,
         0.985
        ],
        [
         6.163,
         0.932
        ],
        [
         6.012,
         1.021
        ],
        [
         5.781,
         1.452
        ],
        [
         5.63,
         1.455
        ],
        [
         4.609,
         0.899
        ],
        [
         3.545,
         0.914
        ],
        [
         4.289,
         0.488
        ],
        [
         4.289,
         0.416
        ],
        [
         3.956,
         0.275
        ],
        [
         3.956,
         0.239
        ],
        [
         3.973,
         0.274
        ],
        [
         5.342,
         0.518
        ],
        [
         5.267,
         0.921
        ],
        [
         5.194,
         0.634
        ],
        [
         5.075,
         0.95
        ],
        [
         4.812,
         0.673
        ],
        [
         4.559,
         0.682
        ],
        [
         4.291,
         0.809
        ],
        [
         4.236,
         0.771
        ],
        [
         3.989,
         0.679
        ],
        [
         4.517,
         0.0
        ],
        [
         4.272,
         0.057
        ],
        [
         4.28,
         0.092
        ],
        [
         4.418,
         0.094
        ],
        [
         4.311,
         0.062
        ],
        [
         4.245,
         0.069
        ],
        [
         3.207,
         0.531
        ],
        [
         7.226,
         0.956
        ],
        [
         7.079,
         1.11
        ],
        [
         7.167,
         1.034
        ],
        [
         7.072,
         1.01
        ],
        [
         7.087,
         1.069
        ],
        [
         7.121,
         0.981
        ],
        [
         7.069,
         1.134
        ],
        [
         6.582,
         1.584
        ],
        [
         6.609,
         1.587
        ],
        [
         6.125,
         1.705
        ],
        [
         6.125,
         1.727
        ],
        [
         5.882,
         1.251
        ],
        [
         5.759,
         1.083
        ],
        [
         5.488,
         1.186
        ],
        [
         5.432,
         1.155
        ],
        [
         5.293,
         1.223
        ],
        [
         5.505,
         1.109
        ],
        [
         5.321,
         1.115
        ],
        [
         6.223,
         1.377
        ],
        [
         6.221,
         1.815
        ],
        [
         6.159,
         1.213
        ],
        [
         6.13,
         1.824
        ],
        [
         6.046,
         1.263
        ],
        [
         5.762,
         1.229
        ],
        [
         5.621,
         1.356
        ],
        [
         5.689,
         1.208
        ],
        [
         5.546,
         1.319
        ],
        [
         6.965,
         1.37
        ],
        [
         6.92,
         1.815
        ],
        [
         6.845,
         1.823
        ],
        [
         6.911,
         1.212
        ],
        [
         6.852,
         1.269
        ],
        [
         6.711,
         1.233
        ],
        [
         6.609,
         1.353
        ],
        [
         6.596,
         1.309
        ],
        [
         6.505,
         1.179
        ],
        [
         7.526,
         1.442
        ],
        [
         7.522,
         1.482
        ],
        [
         7.6,
         1.383
        ],
        [
         7.646,
         1.327
        ],
        [
         7.62,
         1.502
        ],
        [
         7.636,
         1.953
        ],
        [
         7.586,
         1.949
        ],
        [
         7.527,
         1.325
        ],
        [
         7.555,
         1.351
        ],
        [
         4.369,
         0.44
        ],
        [
         5.689,
         0.983
        ],
        [
         5.737,
         1.538
        ],
        [
         5.545,
         1.106
        ],
        [
         5.569,
         1.536
        ],
        [
         5.425,
         1.015
        ],
        [
         5.302,
         0.982
        ],
        [
         5.23,
         1.079
        ],
        [
         5.155,
         1.028
        ],
        [
         4.885,
         0.895
        ],
        [
         6.008,
         1.001
        ],
        [
         5.973,
         0.889
        ],
        [
         5.975,
         0.864
        ],
        [
         6.028,
         0.912
        ],
        [
         5.976,
         0.973
        ],
        [
         5.925,
         0.853
        ],
        [
         5.764,
         0.935
        ],
        [
         5.559,
         1.343
        ],
        [
         5.533,
         1.352
        ],
        [
         4.735,
         0.99
        ],
        [
         4.362,
         0.954
        ],
        [
         4.17,
         1.377
        ],
        [
         4.419,
         0.885
        ],
        [
         4.288,
         1.388
        ],
        [
         4.283,
         0.954
        ],
        [
         4.194,
         0.882
        ],
        [
         4.166,
         0.913
        ],
        [
         4.151,
         0.875
        ],
        [
         6.348,
         0.749
        ],
        [
         6.253,
         0.794
        ],
        [
         6.167,
         0.806
        ],
        [
         6.13,
         0.765
        ],
        [
         6.003,
         0.91
        ],
        [
         6.068,
         0.874
        ],
        [
         6.061,
         0.845
        ],
        [
         6.12,
         1.265
        ],
        [
         6.122,
         1.278
        ],
        [
         6.455,
         1.798
        ],
        [
         6.341,
         1.793
        ],
        [
         6.189,
         1.344
        ],
        [
         6.022,
         1.192
        ],
        [
         5.893,
         1.237
        ],
        [
         5.739,
         1.2
        ],
        [
         5.611,
         1.321
        ],
        [
         5.517,
         1.28
        ],
        [
         5.429,
         1.152
        ],
        [
         4.396,
         1.274
        ],
        [
         4.508,
         0.293
        ],
        [
         4.46,
         0.339
        ],
        [
         4.512,
         0.191
        ],
        [
         4.091,
         0.793
        ],
        [
         4.35,
         0.308
        ],
        [
         4.241,
         0.788
        ],
        [
         4.275,
         0.37
        ],
        [
         4.286,
         0.336
        ],
        [
         4.186,
         0.315
        ],
        [
         7.632,
         1.305
        ],
        [
         7.769,
         1.34
        ],
        [
         7.809,
         1.285
        ],
        [
         7.842,
         1.446
        ],
        [
         7.821,
         1.892
        ],
        [
         7.804,
         1.888
        ],
        [
         7.413,
         1.406
        ],
        [
         7.469,
         1.444
        ],
        [
         7.406,
         1.29
        ],
        [
         6.687,
         1.863
        ],
        [
         6.69,
         1.421
        ],
        [
         6.661,
         1.856
        ],
        [
         6.489,
         1.293
        ],
        [
         6.664,
         1.268
        ],
        [
         6.592,
         1.324
        ],
        [
         6.575,
         1.278
        ],
        [
         6.442,
         1.431
        ],
        [
         6.478,
         1.395
        ],
        [
         5.035,
         1.438
        ],
        [
         4.758,
         1.036
        ],
        [
         4.799,
         1.057
        ],
        [
         4.958,
         1.459
        ],
        [
         4.829,
         0.988
        ],
        [
         4.852,
         1.037
        ],
        [
         4.465,
         1.198
        ],
        [
         4.121,
         1.159
        ],
        [
         3.896,
         1.06
        ],
        [
         5.164,
         0.785
        ],
        [
         5.051,
         0.367
        ],
        [
         4.751,
         0.257
        ],
        [
         4.279,
         0.761
        ],
        [
         4.516,
         0.308
        ],
        [
         5.109,
         1.477
        ],
        [
         4.973,
         1.467
        ],
        [
         4.891,
         1.03
        ],
        [
         4.673,
         0.847
        ],
        [
         4.519,
         0.886
        ],
        [
         4.286,
         0.951
        ],
        [
         4.252,
         0.838
        ],
        [
         4.34,
         0.853
        ],
        [
         4.297,
         0.742
        ],
        [
         7.155,
         1.48
        ],
        [
         7.034,
         1.924
        ],
        [
         6.965,
         1.34
        ],
        [
         6.994,
         1.448
        ],
        [
         6.951,
         1.488
        ],
        [
         6.892,
         1.919
        ],
        [
         6.985,
         1.373
        ],
        [
         7.076,
         1.314
        ],
        [
         6.75,
         1.328
        ],
        [
         5.148,
         0.576
        ],
        [
         5.088,
         0.68
        ],
        [
         4.996,
         0.611
        ],
        [
         4.605,
         1.101
        ],
        [
         4.657,
         0.592
        ],
        [
         4.872,
         1.112
        ],
        [
         4.633,
         0.546
        ],
        [
         4.276,
         0.631
        ],
        [
         4.12,
         0.667
        ],
        [
         5.948,
         1.703
        ],
        [
         5.931,
         1.708
        ],
        [
         5.723,
         1.273
        ],
        [
         5.515,
         1.128
        ],
        [
         5.358,
         1.154
        ],
        [
         5.287,
         1.181
        ],
        [
         5.227,
         1.289
        ],
        [
         5.033,
         1.249
        ],
        [
         4.857,
         1.154
        ],
        [
         6.436,
         0.8
        ],
        [
         6.454,
         0.872
        ],
        [
         6.399,
         0.754
        ],
        [
         6.382,
         0.781
        ],
        [
         6.435,
         0.845
        ],
        [
         6.324,
         0.835
        ],
        [
         6.262,
         1.274
        ],
        [
         6.123,
         0.746
        ],
        [
         6.15,
         1.287
        ],
        [
         5.072,
         0.844
        ],
        [
         4.949,
         0.39
        ],
        [
         4.984,
         0.42
        ],
        [
         4.891,
         0.848
        ],
        [
         4.534,
         0.38
        ],
        [
         3.964,
         0.344
        ],
        [
         3.507,
         0.245
        ],
        [
         3.656,
         0.174
        ],
        [
         3.607,
         0.224
        ],
        [
         4.518,
         0.267
        ],
        [
         4.028,
         0.341
        ],
        [
         3.721,
         0.285
        ],
        [
         3.615,
         0.294
        ],
        [
         3.603,
         0.369
        ],
        [
         3.597,
         0.323
        ],
        [
         3.582,
         0.315
        ],
        [
         6.023,
         1.115
        ],
        [
         6.022,
         1.111
        ],
        [
         5.953,
         0.599
        ],
        [
         5.86,
         0.642
        ],
        [
         5.919,
         0.703
        ],
        [
         5.504,
         0.62
        ],
        [
         5.181,
         0.731
        ],
        [
         4.871,
         0.694
        ],
        [
         4.788,
         0.595
        ],
        [
         5.472,
         1.552
        ],
        [
         5.474,
         1.386
        ],
        [
         5.458,
         1.511
        ],
        [
         5.43,
         1.405
        ],
        [
         5.43,
         1.438
        ],
        [
         5.477,
         1.525
        ],
        [
         5.51,
         1.377
        ],
        [
         5.425,
         1.957
        ],
        [
         5.308,
         1.951
        ],
        [
         6.086,
         1.748
        ],
        [
         6.041,
         1.754
        ],
        [
         6.0,
         1.164
        ],
        [
         5.992,
         1.301
        ],
        [
         5.758,
         1.201
        ],
        [
         5.62,
         1.171
        ],
        [
         5.324,
         1.286
        ],
        [
         5.145,
         1.241
        ],
        [
         4.8,
         1.121
        ],
        [
         7.561,
         1.302
        ],
        [
         7.501,
         1.427
        ],
        [
         7.504,
         1.481
        ],
        [
         7.557,
         1.936
        ],
        [
         7.53,
         1.926
        ],
        [
         7.495,
         1.343
        ],
        [
         7.494,
         1.38
        ],
        [
         7.504,
         1.327
        ],
        [
         7.554,
         1.482
        ],
        [
         4.565,
         0.645
        ],
        [
         4.404,
         0.74
        ],
        [
         4.315,
         0.792
        ],
        [
         4.036,
         1.159
        ],
        [
         4.19,
         0.721
        ],
        [
         3.777,
         1.167
        ],
        [
         3.819,
         0.741
        ],
        [
         4.015,
         0.755
        ],
        [
         3.573,
         0.731
        ],
        [
         5.399,
         0.828
        ],
        [
         5.314,
         0.951
        ],
        [
         5.262,
         0.996
        ],
        [
         5.345,
         0.954
        ],
        [
         5.286,
         0.892
        ],
        [
         5.277,
         1.384
        ],
        [
         5.24,
         1.382
        ],
        [
         5.192,
         0.931
        ],
        [
         5.093,
         0.899
        ],
        [
         4.876,
         1.465
        ],
        [
         4.813,
         1.118
        ],
        [
         4.707,
         1.059
        ],
        [
         4.692,
         1.157
        ],
        [
         4.888,
         1.41
        ],
        [
         4.686,
         1.009
        ],
        [
         4.548,
         1.1
        ],
        [
         4.672,
         1.029
        ],
        [
         4.721,
         1.03
        ],
        [
         4.941,
         1.281
        ],
        [
         4.941,
         1.289
        ],
        [
         4.785,
         0.982
        ],
        [
         4.854,
         0.91
        ],
        [
         4.575,
         1.075
        ],
        [
         4.677,
         0.985
        ],
        [
         4.497,
         1.103
        ],
        [
         4.456,
         1.01
        ],
        [
         4.437,
         1.043
        ],
        [
         7.041,
         2.129
        ],
        [
         6.977,
         1.448
        ],
        [
         6.911,
         2.152
        ],
        [
         6.977,
         1.536
        ],
        [
         7.085,
         1.644
        ],
        [
         7.021,
         1.499
        ],
        [
         7.094,
         1.447
        ],
        [
         6.94,
         1.336
        ],
        [
         6.907,
         1.483
        ],
        [
         7.473,
         1.833
        ],
        [
         7.364,
         1.826
        ],
        [
         7.278,
         1.229
        ],
        [
         7.267,
         1.338
        ],
        [
         7.213,
         1.375
        ],
        [
         7.157,
         1.376
        ],
        [
         7.139,
         1.276
        ],
        [
         7.129,
         1.216
        ],
        [
         6.814,
         1.301
        ],
        [
         6.483,
         1.393
        ],
        [
         6.387,
         1.236
        ],
        [
         6.467,
         1.834
        ],
        [
         6.405,
         1.832
        ],
        [
         6.223,
         1.294
        ],
        [
         6.0,
         1.264
        ],
        [
         5.964,
         1.395
        ],
        [
         5.948,
         1.251
        ],
        [
         5.977,
         1.355
        ],
        [
         5.233,
         0.537
        ],
        [
         5.306,
         0.669
        ],
        [
         5.235,
         1.094
        ],
        [
         5.053,
         1.094
        ],
        [
         4.944,
         0.569
        ],
        [
         4.671,
         0.541
        ],
        [
         4.18,
         0.603
        ],
        [
         3.916,
         0.555
        ],
        [
         3.655,
         0.465
        ],
        [
         6.309,
         0.891
        ],
        [
         5.89,
         0.819
        ],
        [
         5.89,
         0.831
        ],
        [
         5.89,
         0.779
        ],
        [
         5.85,
         1.296
        ],
        [
         5.709,
         0.81
        ],
        [
         5.703,
         1.305
        ],
        [
         5.51,
         0.893
        ],
        [
         5.311,
         0.926
        ],
        [
         5.987,
         1.271
        ],
        [
         6.129,
         1.825
        ],
        [
         5.92,
         1.417
        ],
        [
         5.921,
         1.38
        ],
        [
         5.915,
         1.294
        ],
        [
         6.039,
         1.835
        ],
        [
         5.94,
         1.389
        ],
        [
         5.886,
         1.327
        ],
        [
         5.871,
         1.267
        ],
        [
         5.336,
         0.991
        ],
        [
         5.303,
         0.997
        ],
        [
         5.192,
         0.902
        ],
        [
         5.161,
         0.822
        ],
        [
         4.906,
         0.837
        ],
        [
         4.633,
         0.785
        ],
        [
         4.12,
         1.292
        ],
        [
         4.395,
         0.89
        ],
        [
         4.152,
         1.324
        ],
        [
         6.234,
         1.668
        ],
        [
         6.144,
         1.664
        ],
        [
         6.152,
         1.23
        ],
        [
         6.058,
         1.123
        ],
        [
         5.855,
         1.123
        ],
        [
         5.919,
         1.229
        ],
        [
         5.819,
         1.285
        ],
        [
         5.79,
         1.143
        ],
        [
         5.809,
         1.173
        ],
        [
         4.487,
         1.051
        ],
        [
         4.553,
         0.56
        ],
        [
         4.543,
         1.032
        ],
        [
         4.509,
         0.512
        ],
        [
         4.583,
         0.476
        ],
        [
         4.607,
         0.603
        ],
        [
         4.356,
         0.523
        ],
        [
         4.41,
         0.493
        ],
        [
         4.419,
         0.365
        ],
        [
         6.455,
         1.362
        ],
        [
         6.372,
         0.937
        ],
        [
         6.368,
         1.374
        ],
        [
         6.325,
         0.84
        ],
        [
         6.1,
         0.882
        ],
        [
         5.662,
         0.855
        ],
        [
         5.589,
         0.801
        ],
        [
         5.401,
         0.901
        ],
        [
         5.279,
         0.951
        ],
        [
         6.295,
         1.554
        ],
        [
         6.105,
         1.633
        ],
        [
         6.239,
         1.617
        ],
        [
         6.083,
         1.474
        ],
        [
         6.106,
         1.461
        ],
        [
         6.102,
         1.425
        ],
        [
         6.106,
         1.904
        ],
        [
         6.021,
         1.5
        ],
        [
         5.825,
         1.061
        ],
        [
         5.828,
         1.069
        ],
        [
         5.744,
         0.665
        ],
        [
         5.542,
         0.513
        ],
        [
         5.286,
         0.474
        ],
        [
         5.185,
         0.56
        ],
        [
         5.261,
         0.551
        ],
        [
         5.131,
         0.53
        ],
        [
         5.004,
         0.596
        ],
        [
         5.111,
         1.232
        ],
        [
         5.14,
         1.239
        ],
        [
         4.876,
         0.591
        ],
        [
         5.03,
         0.808
        ],
        [
         4.876,
         0.68
        ],
        [
         4.889,
         0.715
        ],
        [
         4.796,
         0.764
        ],
        [
         4.623,
         0.72
        ],
        [
         6.213,
         1.737
        ],
        [
         6.18,
         1.732
        ],
        [
         6.032,
         1.285
        ],
        [
         5.933,
         1.148
        ],
        [
         5.94,
         1.187
        ],
        [
         5.85,
         1.261
        ],
        [
         5.95,
         1.141
        ],
        [
         5.56,
         1.218
        ],
        [
         5.098,
         1.113
        ],
        [
         5.358,
         0.965
        ],
        [
         5.225,
         1.075
        ],
        [
         5.197,
         0.987
        ],
        [
         5.129,
         1.123
        ],
        [
         4.839,
         1.026
        ],
        [
         4.772,
         0.889
        ],
        [
         4.584,
         1.045
        ],
        [
         2.392,
         1.417
        ],
        [
         2.955,
         1.392
        ],
        [
         4.898,
         0.375
        ],
        [
         3.808,
         0.521
        ],
        [
         3.808,
         0.472
        ],
        [
         3.512,
         0.839
        ],
        [
         3.653,
         0.455
        ],
        [
         3.802,
         0.489
        ],
        [
         3.512,
         0.451
        ],
        [
         5.122,
         0.636
        ],
        [
         4.571,
         0.071
        ],
        [
         4.625,
         0.228
        ],
        [
         4.558,
         0.174
        ],
        [
         4.042,
         0.628
        ],
        [
         3.975,
         0.073
        ],
        [
         3.533,
         0.119
        ],
        [
         3.495,
         0.076
        ],
        [
         3.622,
         0.107
        ],
        [
         5.754,
         1.131
        ],
        [
         5.615,
         1.067
        ],
        [
         5.525,
         1.102
        ],
        [
         5.566,
         0.985
        ],
        [
         5.525,
         1.044
        ],
        [
         5.489,
         1.022
        ],
        [
         5.41,
         1.044
        ],
        [
         5.33,
         1.476
        ],
        [
         6.763,
         1.808
        ],
        [
         6.446,
         1.804
        ],
        [
         6.255,
         1.35
        ],
        [
         6.215,
         1.194
        ],
        [
         6.149,
         1.238
        ],
        [
         5.952,
         1.197
        ],
        [
         5.902,
         1.315
        ],
        [
         5.833,
         1.147
        ],
        [
         5.813,
         1.269
        ],
        [
         7.404,
         2.209
        ],
        [
         7.324,
         1.751
        ],
        [
         7.228,
         2.2
        ],
        [
         7.238,
         1.537
        ],
        [
         7.09,
         1.609
        ],
        [
         6.946,
         1.564
        ],
        [
         6.91,
         1.576
        ],
        [
         6.863,
         1.742
        ],
        [
         6.871,
         1.698
        ],
        [
         5.274,
         0.983
        ],
        [
         5.254,
         1.498
        ],
        [
         5.185,
         0.959
        ],
        [
         5.199,
         1.505
        ],
        [
         5.16,
         0.935
        ],
        [
         5.175,
         1.065
        ],
        [
         5.007,
         0.919
        ],
        [
         5.101,
         1.068
        ],
        [
         5.121,
         1.019
        ],
        [
         4.019,
         0.632
        ],
        [
         4.339,
         0.67
        ],
        [
         4.208,
         0.266
        ],
        [
         4.166,
         0.245
        ],
        [
         3.774,
         0.262
        ],
        [
         3.933,
         0.274
        ],
        [
         3.644,
         0.306
        ],
        [
         3.681,
         0.208
        ],
        [
         3.695,
         0.28
        ],
        [
         3.495,
         0.637
        ],
        [
         4.292,
         0.016
        ],
        [
         4.156,
         0.087
        ],
        [
         3.97,
         0.233
        ],
        [
         3.75,
         0.648
        ],
        [
         3.6,
         0.113
        ],
        [
         3.538,
         0.177
        ],
        [
         3.587,
         0.186
        ],
        [
         3.41,
         0.191
        ],
        [
         6.322,
         1.161
        ],
        [
         6.084,
         1.291
        ],
        [
         6.005,
         1.251
        ],
        [
         6.012,
         1.665
        ],
        [
         5.77,
         1.125
        ],
        [
         5.711,
         1.689
        ],
        [
         5.339,
         1.221
        ],
        [
         5.384,
         1.259
        ],
        [
         5.384,
         1.168
        ],
        [
         5.198,
         0.938
        ],
        [
         5.198,
         1.115
        ],
        [
         4.729,
         0.352
        ],
        [
         4.723,
         0.387
        ],
        [
         4.447,
         0.37
        ],
        [
         4.198,
         0.763
        ],
        [
         4.479,
         0.792
        ],
        [
         4.19,
         0.476
        ],
        [
         4.39,
         0.385
        ],
        [
         4.073,
         0.313
        ],
        [
         3.995,
         0.261
        ],
        [
         6.627,
         1.27
        ],
        [
         6.726,
         1.3
        ],
        [
         6.773,
         1.253
        ],
        [
         6.602,
         1.411
        ],
        [
         6.527,
         1.343
        ],
        [
         6.488,
         1.308
        ],
        [
         6.447,
         1.838
        ],
        [
         6.302,
         1.207
        ],
        [
         6.3,
         1.841
        ],
        [
         4.724,
         1.099
        ],
        [
         4.49,
         0.57
        ],
        [
         4.292,
         0.648
        ],
        [
         4.436,
         0.454
        ],
        [
         4.356,
         0.557
        ],
        [
         4.375,
         0.54
        ],
        [
         4.201,
         0.614
        ],
        [
         4.153,
         1.1
        ],
        [
         4.227,
         0.666
        ],
        [
         6.101,
         1.074
        ],
        [
         6.049,
         1.178
        ],
        [
         6.071,
         1.591
        ],
        [
         5.891,
         1.09
        ],
        [
         5.888,
         1.12
        ],
        [
         5.902,
         1.589
        ],
        [
         5.629,
         1.189
        ],
        [
         5.648,
         1.144
        ],
        [
         5.477,
         1.008
        ],
        [
         7.187,
         1.021
        ],
        [
         6.778,
         1.115
        ],
        [
         6.595,
         1.07
        ],
        [
         6.488,
         1.038
        ],
        [
         6.465,
         1.024
        ],
        [
         6.578,
         1.153
        ],
        [
         6.317,
         1.126
        ],
        [
         6.33,
         1.55
        ],
        [
         6.128,
         1.552
        ],
        [
         5.889,
         0.594
        ],
        [
         5.897,
         0.692
        ],
        [
         5.838,
         0.729
        ],
        [
         5.857,
         1.417
        ],
        [
         5.819,
         1.425
        ],
        [
         5.766,
         0.985
        ],
        [
         5.64,
         0.657
        ],
        [
         5.608,
         0.708
        ],
        [
         5.529,
         0.685
        ],
        [
         5.84,
         1.379
        ],
        [
         5.761,
         1.393
        ],
        [
         5.677,
         0.966
        ],
        [
         5.456,
         0.905
        ],
        [
         5.285,
         0.948
        ],
        [
         5.125,
         0.914
        ],
        [
         4.955,
         1.027
        ],
        [
         4.874,
         0.828
        ],
        [
         4.907,
         0.989
        ],
        [
         5.722,
         1.537
        ],
        [
         5.546,
         1.01
        ],
        [
         5.581,
         1.155
        ],
        [
         5.523,
         1.051
        ],
        [
         5.547,
         1.573
        ],
        [
         5.347,
         1.017
        ],
        [
         5.192,
         0.974
        ],
        [
         5.237,
         1.121
        ],
        [
         5.161,
         1.078
        ],
        [
         5.235,
         0.878
        ],
        [
         5.254,
         0.779
        ],
        [
         5.208,
         0.801
        ],
        [
         5.151,
         0.841
        ],
        [
         5.013,
         0.735
        ],
        [
         5.095,
         0.759
        ],
        [
         5.06,
         1.208
        ],
        [
         4.903,
         1.236
        ],
        [
         4.918,
         0.792
        ],
        [
         4.971,
         0.083
        ],
        [
         4.954,
         0.57
        ],
        [
         5.048,
         0.578
        ],
        [
         4.55,
         0.234
        ],
        [
         4.794,
         0.183
        ],
        [
         4.624,
         0.179
        ],
        [
         4.417,
         0.198
        ],
        [
         4.466,
         0.204
        ],
        [
         4.545,
         0.367
        ],
        [
         4.372,
         1.032
        ],
        [
         4.395,
         0.341
        ],
        [
         4.426,
         0.666
        ],
        [
         4.394,
         1.038
        ],
        [
         4.307,
         0.271
        ],
        [
         4.308,
         0.682
        ],
        [
         4.36,
         0.71
        ],
        [
         4.308,
         0.678
        ],
        [
         4.631,
         1.289
        ],
        [
         4.574,
         0.964
        ],
        [
         4.574,
         0.933
        ],
        [
         4.639,
         0.879
        ],
        [
         4.441,
         0.874
        ],
        [
         4.571,
         0.84
        ],
        [
         4.574,
         0.882
        ],
        [
         4.459,
         1.292
        ],
        [
         5.36,
         0.979
        ],
        [
         5.377,
         0.984
        ],
        [
         5.269,
         0.519
        ],
        [
         5.137,
         0.444
        ],
        [
         4.962,
         0.48
        ],
        [
         4.913,
         0.446
        ],
        [
         4.88,
         0.425
        ],
        [
         4.793,
         0.446
        ],
        [
         4.514,
         0.36
        ],
        [
         7.488,
         1.396
        ],
        [
         7.464,
         1.501
        ],
        [
         7.415,
         1.945
        ],
        [
         7.403,
         1.942
        ],
        [
         7.377,
         1.504
        ],
        [
         7.441,
         1.361
        ],
        [
         7.449,
         1.339
        ],
        [
         7.378,
         1.329
        ],
        [
         7.339,
         1.465
        ],
        [
         7.334,
         1.361
        ],
        [
         7.314,
         1.406
        ],
        [
         7.324,
         1.268
        ],
        [
         7.307,
         1.303
        ],
        [
         7.3,
         1.242
        ],
        [
         7.286,
         1.25
        ],
        [
         7.277,
         1.4
        ],
        [
         7.2,
         1.852
        ],
        [
         7.123,
         1.842
        ],
        [
         6.259,
         1.109
        ],
        [
         6.141,
         0.668
        ],
        [
         6.071,
         0.737
        ],
        [
         6.105,
         0.694
        ],
        [
         6.165,
         1.105
        ],
        [
         6.137,
         0.62
        ],
        [
         5.992,
         0.694
        ],
        [
         5.972,
         0.693
        ],
        [
         5.828,
         0.593
        ],
        [
         5.074,
         0.162
        ],
        [
         4.91,
         0.108
        ],
        [
         5.003,
         0.57
        ],
        [
         4.501,
         0.561
        ],
        [
         4.628,
         0.138
        ],
        [
         4.166,
         0.131
        ],
        [
         4.028,
         0.162
        ],
        [
         3.856,
         0.133
        ],
        [
         3.845,
         0.069
        ],
        [
         5.268,
         0.654
        ],
        [
         5.265,
         0.696
        ],
        [
         5.155,
         0.689
        ],
        [
         5.074,
         0.784
        ],
        [
         4.981,
         1.065
        ],
        [
         4.875,
         0.752
        ],
        [
         4.724,
         0.646
        ],
        [
         4.759,
         0.663
        ],
        [
         4.552,
         1.079
        ],
        [
         5.81,
         1.347
        ],
        [
         5.771,
         1.311
        ],
        [
         5.695,
         1.208
        ],
        [
         5.536,
         1.377
        ],
        [
         5.536,
         1.213
        ],
        [
         7.537,
         1.616
        ],
        [
         7.594,
         1.456
        ],
        [
         7.554,
         1.488
        ],
        [
         7.522,
         1.459
        ],
        [
         7.498,
         1.577
        ],
        [
         7.488,
         1.424
        ],
        [
         7.392,
         1.543
        ],
        [
         7.315,
         1.994
        ],
        [
         7.365,
         1.997
        ],
        [
         6.853,
         1.36
        ],
        [
         5.693,
         0.617
        ],
        [
         5.653,
         0.677
        ],
        [
         5.472,
         0.652
        ],
        [
         5.269,
         0.727
        ],
        [
         5.194,
         0.595
        ],
        [
         5.132,
         0.688
        ],
        [
         4.934,
         0.637
        ],
        [
         4.555,
         1.081
        ],
        [
         4.516,
         1.049
        ],
        [
         4.908,
         1.144
        ],
        [
         4.775,
         0.716
        ],
        [
         4.743,
         0.642
        ],
        [
         4.715,
         0.599
        ],
        [
         4.754,
         0.67
        ],
        [
         4.696,
         0.657
        ],
        [
         4.483,
         1.148
        ],
        [
         4.553,
         0.588
        ],
        [
         4.517,
         0.646
        ],
        [
         6.786,
         1.064
        ],
        [
         6.701,
         1.183
        ],
        [
         6.43,
         1.112
        ],
        [
         6.452,
         1.234
        ],
        [
         6.321,
         1.149
        ],
        [
         6.305,
         1.098
        ],
        [
         6.309,
         1.715
        ],
        [
         6.265,
         1.714
        ],
        [
         6.18,
         1.298
        ],
        [
         5.878,
         0.76
        ],
        [
         5.743,
         0.855
        ],
        [
         5.681,
         0.835
        ],
        [
         5.738,
         1.428
        ],
        [
         5.692,
         0.898
        ],
        [
         5.538,
         0.894
        ],
        [
         5.493,
         0.933
        ],
        [
         5.653,
         0.983
        ],
        [
         5.578,
         1.409
        ],
        [
         5.824,
         0.9
        ],
        [
         5.715,
         1.035
        ],
        [
         5.797,
         0.919
        ],
        [
         5.84,
         0.986
        ],
        [
         5.743,
         0.996
        ],
        [
         5.663,
         0.934
        ],
        [
         5.697,
         0.96
        ],
        [
         5.559,
         1.397
        ],
        [
         5.526,
         1.39
        ],
        [
         6.006,
         0.775
        ],
        [
         5.904,
         1.268
        ],
        [
         5.88,
         0.853
        ],
        [
         5.631,
         0.807
        ],
        [
         5.524,
         0.775
        ],
        [
         5.43,
         0.858
        ],
        [
         5.523,
         1.238
        ],
        [
         5.279,
         0.812
        ],
        [
         5.073,
         0.705
        ],
        [
         6.26,
         1.767
        ],
        [
         6.182,
         1.206
        ],
        [
         6.123,
         1.176
        ],
        [
         6.186,
         1.169
        ],
        [
         6.166,
         1.309
        ],
        [
         5.973,
         1.292
        ],
        [
         6.123,
         1.758
        ],
        [
         5.835,
         1.246
        ],
        [
         5.791,
         1.126
        ],
        [
         6.016,
         1.76
        ],
        [
         5.968,
         1.758
        ],
        [
         5.929,
         1.323
        ],
        [
         5.911,
         1.169
        ],
        [
         5.693,
         1.221
        ],
        [
         5.41,
         1.188
        ],
        [
         5.102,
         1.16
        ],
        [
         5.195,
         1.315
        ],
        [
         5.123,
         1.276
        ],
        [
         7.039,
         1.359
        ],
        [
         6.611,
         1.69
        ],
        [
         6.374,
         1.684
        ],
        [
         6.374,
         1.649
        ],
        [
         6.375,
         1.871
        ],
        [
         6.375,
         1.824
        ],
        [
         6.589,
         1.726
        ],
        [
         6.477,
         1.719
        ],
        [
         6.14,
         1.275
        ],
        [
         6.124,
         1.12
        ],
        [
         6.07,
         1.162
        ],
        [
         5.945,
         1.116
        ],
        [
         5.825,
         1.218
        ],
        [
         5.528,
         1.17
        ],
        [
         5.124,
         1.043
        ],
        [
         5.963,
         1.282
        ],
        [
         5.856,
         1.232
        ],
        [
         5.81,
         1.151
        ],
        [
         5.716,
         1.138
        ],
        [
         5.648,
         1.183
        ],
        [
         5.661,
         1.68
        ],
        [
         5.546,
         1.127
        ],
        [
         5.477,
         1.241
        ],
        [
         5.459,
         1.685
        ],
        [
         3.268,
         0.785
        ],
        [
         3.415,
         0.364
        ],
        [
         3.312,
         0.343
        ],
        [
         3.471,
         0.369
        ],
        [
         3.408,
         0.332
        ],
        [
         3.515,
         0.328
        ],
        [
         3.334,
         0.359
        ],
        [
         3.465,
         0.222
        ],
        [
         6.523,
         1.87
        ],
        [
         6.494,
         1.435
        ],
        [
         6.406,
         1.334
        ],
        [
         6.375,
         1.403
        ],
        [
         6.463,
         1.861
        ],
        [
         6.371,
         1.379
        ],
        [
         6.379,
         1.49
        ],
        [
         6.411,
         1.395
        ],
        [
         6.344,
         1.531
        ],
        [
         5.132,
         0.518
        ],
        [
         4.981,
         0.504
        ],
        [
         4.855,
         0.943
        ],
        [
         5.046,
         0.933
        ],
        [
         4.631,
         0.429
        ],
        [
         4.681,
         0.45
        ],
        [
         4.535,
         0.479
        ],
        [
         4.219,
         0.443
        ],
        [
         3.904,
         0.365
        ],
        [
         6.178,
         1.55
        ],
        [
         6.144,
         1.552
        ],
        [
         6.078,
         1.101
        ],
        [
         5.778,
         0.988
        ],
        [
         5.603,
         1.004
        ],
        [
         5.395,
         1.069
        ],
        [
         5.398,
         0.975
        ],
        [
         5.177,
         1.034
        ],
        [
         5.123,
         0.921
        ],
        [
         4.709,
         0.368
        ],
        [
         4.635,
         0.365
        ],
        [
         4.571,
         0.256
        ],
        [
         4.507,
         0.33
        ],
        [
         4.374,
         0.268
        ],
        [
         3.138,
         0.67
        ],
        [
         3.849,
         0.279
        ],
        [
         3.926,
         0.241
        ],
        [
         3.574,
         0.686
        ],
        [
         6.739,
         1.646
        ],
        [
         6.798,
         1.522
        ],
        [
         6.587,
         2.168
        ],
        [
         6.572,
         1.692
        ],
        [
         6.48,
         2.149
        ],
        [
         6.377,
         1.52
        ],
        [
         6.377,
         1.695
        ],
        [
         6.343,
         1.529
        ],
        [
         6.262,
         1.572
        ],
        [
         6.469,
         1.731
        ],
        [
         6.331,
         1.304
        ],
        [
         6.391,
         1.736
        ],
        [
         6.281,
         1.195
        ],
        [
         6.198,
         1.246
        ],
        [
         6.173,
         1.21
        ],
        [
         6.098,
         1.325
        ],
        [
         5.995,
         1.169
        ],
        [
         6.078,
         1.28
        ],
        [
         6.63,
         1.81
        ],
        [
         6.65,
         1.815
        ],
        [
         6.461,
         1.36
        ],
        [
         6.363,
         1.209
        ],
        [
         6.118,
         1.258
        ],
        [
         5.948,
         1.219
        ],
        [
         5.848,
         1.185
        ],
        [
         5.758,
         1.341
        ],
        [
         5.768,
         1.299
        ],
        [
         5.44,
         0.0
        ],
        [
         5.057,
         0.188
        ],
        [
         5.151,
         0.023
        ],
        [
         5.057,
         0.256
        ],
        [
         4.982,
         0.0
        ],
        [
         4.668,
         0.0
        ],
        [
         5.275,
         1.417
        ],
        [
         5.194,
         1.425
        ],
        [
         4.829,
         1.055
        ],
        [
         4.956,
         0.967
        ],
        [
         4.724,
         0.94
        ],
        [
         4.722,
         0.96
        ],
        [
         4.814,
         0.902
        ],
        [
         4.642,
         0.92
        ],
        [
         4.459,
         1.024
        ],
        [
         5.984,
         1.245
        ],
        [
         5.895,
         1.301
        ],
        [
         5.838,
         1.402
        ],
        [
         5.835,
         1.359
        ],
        [
         5.875,
         1.266
        ],
        [
         5.951,
         1.853
        ],
        [
         5.935,
         1.851
        ],
        [
         5.872,
         1.245
        ],
        [
         5.845,
         1.403
        ],
        [
         3.832,
         0.394
        ],
        [
         3.591,
         0.397
        ],
        [
         6.491,
         1.375
        ],
        [
         6.401,
         1.231
        ],
        [
         6.476,
         1.808
        ],
        [
         6.354,
         1.286
        ],
        [
         6.436,
         1.798
        ],
        [
         6.403,
         1.384
        ],
        [
         6.329,
         1.23
        ],
        [
         6.31,
         1.251
        ],
        [
         6.361,
         1.343
        ],
        [
         4.442,
         1.422
        ],
        [
         4.471,
         0.918
        ],
        [
         4.415,
         0.973
        ],
        [
         4.44,
         1.01
        ],
        [
         4.362,
         1.415
        ],
        [
         4.325,
         0.99
        ],
        [
         4.366,
         0.949
        ],
        [
         4.327,
         0.898
        ],
        [
         4.271,
         0.835
        ],
        [
         4.55,
         0.521
        ],
        [
         4.139,
         0.66
        ],
        [
         4.139,
         0.631
        ],
        [
         2.817,
         0.289
        ],
        [
         3.254,
         0.337
        ],
        [
         2.853,
         0.306
        ],
        [
         6.269,
         0.995
        ],
        [
         6.269,
         1.097
        ],
        [
         4.867,
         0.712
        ],
        [
         4.308,
         0.849
        ],
        [
         4.308,
         0.828
        ],
        [
         4.212,
         0.811
        ],
        [
         7.395,
         1.921
        ],
        [
         7.343,
         1.387
        ],
        [
         7.353,
         1.322
        ],
        [
         7.363,
         1.478
        ],
        [
         7.384,
         1.92
        ],
        [
         7.364,
         1.332
        ],
        [
         7.284,
         1.494
        ],
        [
         7.314,
         1.355
        ],
        [
         7.291,
         1.452
        ],
        [
         7.587,
         1.397
        ],
        [
         7.509,
         1.527
        ],
        [
         7.56,
         1.391
        ],
        [
         7.571,
         1.566
        ],
        [
         7.494,
         1.565
        ],
        [
         7.512,
         2.026
        ],
        [
         7.487,
         1.42
        ],
        [
         7.48,
         1.452
        ],
        [
         7.24,
         2.022
        ],
        [
         3.462,
         0.619
        ],
        [
         3.462,
         0.689
        ],
        [
         3.462,
         0.777
        ],
        [
         3.069,
         0.747
        ],
        [
         3.006,
         0.663
        ],
        [
         6.584,
         1.48
        ],
        [
         6.446,
         1.368
        ],
        [
         6.455,
         1.327
        ],
        [
         6.441,
         1.365
        ],
        [
         6.512,
         1.897
        ],
        [
         6.535,
         1.89
        ],
        [
         6.422,
         1.434
        ],
        [
         6.379,
         1.397
        ],
        [
         6.298,
         1.291
        ],
        [
         5.556,
         0.475
        ],
        [
         5.467,
         0.493
        ],
        [
         5.466,
         0.508
        ],
        [
         5.33,
         0.972
        ],
        [
         5.377,
         0.966
        ],
        [
         5.199,
         0.474
        ],
        [
         5.041,
         0.525
        ],
        [
         4.996,
         0.488
        ],
        [
         4.786,
         0.39
        ],
        [
         3.694,
         0.836
        ],
        [
         3.702,
         0.848
        ],
        [
         3.623,
         0.433
        ],
        [
         3.781,
         0.285
        ],
        [
         3.476,
         0.457
        ],
        [
         3.666,
         0.472
        ],
        [
         3.349,
         0.511
        ],
        [
         3.303,
         0.455
        ],
        [
         3.231,
         0.476
        ],
        [
         6.424,
         1.128
        ],
        [
         6.474,
         1.089
        ],
        [
         6.455,
         0.967
        ],
        [
         6.072,
         1.016
        ],
        [
         6.008,
         1.05
        ],
        [
         5.999,
         1.007
        ],
        [
         5.985,
         1.107
        ],
        [
         5.843,
         1.515
        ],
        [
         5.891,
         1.535
        ],
        [
         4.137,
         0.77
        ],
        [
         4.187,
         0.268
        ],
        [
         4.112,
         0.771
        ],
        [
         4.107,
         0.254
        ],
        [
         3.999,
         0.259
        ],
        [
         4.085,
         0.275
        ],
        [
         3.495,
         0.305
        ],
        [
         3.303,
         0.281
        ],
        [
         2.839,
         0.209
        ],
        [
         6.168,
         1.361
        ],
        [
         6.192,
         1.223
        ],
        [
         6.192,
         1.231
        ],
        [
         6.168,
         1.212
        ],
        [
         6.192,
         1.168
        ],
        [
         6.168,
         1.326
        ],
        [
         5.045,
         0.977
        ],
        [
         4.805,
         1.007
        ],
        [
         4.739,
         0.881
        ],
        [
         4.497,
         1.333
        ],
        [
         4.592,
         0.9
        ],
        [
         4.516,
         1.35
        ],
        [
         4.596,
         0.919
        ],
        [
         4.461,
         0.921
        ],
        [
         4.392,
         0.875
        ],
        [
         5.5,
         1.198
        ],
        [
         5.483,
         1.148
        ],
        [
         5.332,
         1.061
        ],
        [
         5.389,
         1.165
        ],
        [
         5.373,
         1.183
        ],
        [
         5.132,
         1.127
        ],
        [
         4.948,
         1.26
        ],
        [
         4.614,
         1.714
        ],
        [
         4.744,
         1.707
        ],
        [
         5.822,
         1.131
        ],
        [
         5.658,
         1.08
        ],
        [
         5.636,
         1.016
        ],
        [
         5.548,
         0.958
        ],
        [
         5.474,
         1.484
        ],
        [
         5.247,
         1.052
        ],
        [
         5.119,
         1.009
        ],
        [
         5.066,
         1.046
        ],
        [
         4.432,
         0.785
        ],
        [
         4.603,
         0.777
        ],
        [
         4.636,
         0.364
        ],
        [
         4.432,
         0.312
        ],
        [
         4.081,
         0.381
        ],
        [
         4.161,
         0.322
        ],
        [
         4.189,
         0.332
        ],
        [
         3.931,
         0.211
        ],
        [
         3.739,
         0.347
        ],
        [
         5.071,
         1.358
        ],
        [
         5.084,
         1.411
        ],
        [
         4.875,
         0.979
        ],
        [
         4.681,
         0.799
        ],
        [
         4.324,
         0.873
        ],
        [
         4.561,
         0.78
        ],
        [
         4.096,
         0.895
        ],
        [
         4.332,
         0.82
        ],
        [
         4.103,
         0.793
        ],
        [
         6.901,
         1.427
        ],
        [
         6.648,
         1.626
        ],
        [
         6.825,
         1.503
        ],
        [
         6.791,
         1.431
        ],
        [
         6.576,
         1.998
        ],
        [
         6.561,
         1.555
        ],
        [
         6.571,
         2.015
        ],
        [
         6.573,
         1.574
        ],
        [
         7.19,
         1.244
        ],
        [
         7.165,
         1.273
        ],
        [
         7.054,
         1.333
        ],
        [
         7.064,
         1.423
        ],
        [
         6.943,
         1.867
        ],
        [
         6.714,
         1.442
        ],
        [
         6.796,
         1.857
        ],
        [
         6.867,
         1.266
        ],
        [
         6.725,
         1.403
        ],
        [
         7.104,
         1.508
        ],
        [
         6.993,
         1.546
        ],
        [
         7.119,
         1.395
        ],
        [
         6.894,
         1.98
        ],
        [
         6.977,
         1.982
        ],
        [
         6.886,
         1.398
        ],
        [
         6.94,
         1.374
        ],
        [
         6.892,
         1.433
        ],
        [
         6.951,
         1.533
        ],
        [
         6.44,
         1.071
        ],
        [
         6.454,
         1.218
        ],
        [
         6.494,
         1.617
        ],
        [
         6.545,
         1.182
        ],
        [
         6.474,
         1.615
        ],
        [
         6.379,
         1.093
        ],
        [
         6.431,
         1.164
        ],
        [
         6.485,
         1.062
        ],
        [
         6.293,
         1.124
        ],
        [
         6.258,
         0.697
        ],
        [
         6.174,
         0.745
        ],
        [
         6.179,
         0.769
        ],
        [
         6.003,
         0.632
        ],
        [
         6.096,
         0.719
        ],
        [
         5.971,
         0.786
        ],
        [
         5.987,
         0.736
        ],
        [
         6.063,
         1.219
        ],
        [
         6.014,
         1.227
        ],
        [
         6.81,
         1.044
        ],
        [
         6.084,
         1.134
        ],
        [
         5.25,
         1.128
        ],
        [
         5.211,
         0.0
        ],
        [
         5.053,
         0.77
        ],
        [
         4.806,
         0.996
        ],
        [
         4.892,
         0.852
        ],
        [
         4.707,
         0.96
        ],
        [
         4.925,
         0.0
        ],
        [
         5.763,
         1.349
        ],
        [
         5.36,
         0.632
        ],
        [
         5.485,
         1.252
        ],
        [
         5.411,
         0.817
        ],
        [
         5.353,
         0.718
        ],
        [
         5.074,
         0.789
        ],
        [
         5.175,
         0.741
        ],
        [
         5.103,
         0.715
        ],
        [
         5.061,
         0.74
        ],
        [
         4.197,
         0.691
        ],
        [
         4.077,
         0.546
        ],
        [
         3.658,
         0.329
        ],
        [
         3.593,
         0.592
        ],
        [
         3.527,
         0.393
        ],
        [
         3.724,
         0.579
        ],
        [
         3.38,
         0.287
        ],
        [
         3.355,
         0.442
        ],
        [
         5.129,
         0.47
        ],
        [
         4.795,
         0.612
        ],
        [
         4.514,
         0.636
        ],
        [
         4.377,
         0.562
        ],
        [
         3.982,
         0.914
        ],
        [
         4.073,
         0.528
        ],
        [
         3.76,
         0.93
        ],
        [
         4.107,
         0.578
        ],
        [
         3.759,
         0.537
        ],
        [
         4.61,
         0.271
        ],
        [
         4.193,
         0.35
        ],
        [
         3.204,
         0.758
        ],
        [
         3.875,
         0.376
        ],
        [
         3.692,
         0.357
        ],
        [
         2.995,
         0.947
        ],
        [
         3.663,
         0.366
        ],
        [
         3.145,
         0.457
        ],
        [
         3.299,
         0.426
        ]
       ],
       "datasetInfos": [],
       "dbfsResultPath": null,
       "isJsonSchema": true,
       "metadata": {},
       "overflow": false,
       "plotOptions": {
        "customPlotOptions": {},
        "displayType": "table",
        "pivotAggregation": null,
        "pivotColumns": null,
        "xColumns": null,
        "yColumns": null
       },
       "removedWidgets": [],
       "schema": [
        {
         "metadata": "{}",
         "name": "happiness_score",
         "type": "\"float\""
        },
        {
         "metadata": "{}",
         "name": "gdp",
         "type": "\"float\""
        }
       ],
       "type": "table"
      }
     },
     "output_type": "display_data"
    },
    {
     "output_type": "display_data",
     "data": {
      "text/plain": [
       "Databricks visualization. Run in Databricks to view."
      ]
     },
     "metadata": {
      "application/vnd.databricks.v1.subcommand+json": {
       "baseErrorDetails": null,
       "bindings": {},
       "collapsed": false,
       "command": "%sql WITH q AS (SELECT f.happiness_score, f.gdp\nFROM vw_fato_felicidade f\nJOIN vw_dim_tempo t ON f.id_tempo = t.id_tempo\nWHERE f.gdp IS NOT NULL AND f.happiness_score IS NOT NULL) SELECT `happiness_score`,`gdp` FROM q",
       "commandTitle": "Visualização 1",
       "commandType": "auto",
       "commandVersion": 0,
       "commentThread": [],
       "commentsVisible": false,
       "contentSha256Hex": null,
       "customPlotOptions": {
        "redashChart": [
         {
          "key": "type",
          "value": "CHART"
         },
         {
          "key": "options",
          "value": {
           "alignYAxesAtZero": true,
           "coefficient": 1,
           "columnConfigurationMap": {
            "x": {
             "column": "happiness_score",
             "id": "column_bb1113c992"
            },
            "y": [
             {
              "column": "gdp",
              "id": "column_bb1113c993"
             }
            ]
           },
           "dateTimeFormat": "DD/MM/YYYY HH:mm",
           "direction": {
            "type": "counterclockwise"
           },
           "error_y": {
            "type": "data",
            "visible": true
           },
           "globalSeriesType": "scatter",
           "legend": {
            "traceorder": "normal"
           },
           "missingValuesAsZero": true,
           "numberFormat": "0,0.[00000]",
           "percentFormat": "0[.]00%",
           "series": {
            "error_y": {
             "type": "data",
             "visible": true
            },
            "stacking": null
           },
           "seriesOptions": {
            "column_bb1113c993": {
             "name": "gdp",
             "yAxis": 0
            }
           },
           "showDataLabels": false,
           "sizemode": "diameter",
           "sortX": true,
           "sortY": true,
           "swappedAxes": false,
           "textFormat": "",
           "useAggregationsUi": true,
           "valuesOptions": {},
           "version": 2,
           "xAxis": {
            "labels": {
             "enabled": true
            },
            "type": "-"
           },
           "yAxis": [
            {
             "type": "-"
            },
            {
             "opposite": true,
             "type": "-"
            }
           ]
          }
         }
        ]
       },
       "datasetPreviewNameToCmdIdMap": {},
       "diffDeletes": [],
       "diffInserts": [],
       "displayType": "redashChart",
       "error": null,
       "errorDetails": null,
       "errorSummary": null,
       "errorTraceType": null,
       "finishTime": 0,
       "globalVars": {},
       "guid": "",
       "height": "auto",
       "hideCommandCode": false,
       "hideCommandResult": false,
       "iPythonMetadata": null,
       "inputWidgets": {},
       "isLockedInExamMode": false,
       "latestUser": "a user",
       "latestUserId": null,
       "listResultMetadata": null,
       "metadata": {},
       "nuid": "6237fcdc-c087-40c6-a41c-cef72cfdb023",
       "origId": 0,
       "parentHierarchy": [],
       "pivotAggregation": null,
       "pivotColumns": null,
       "position": 134.5,
       "resultDbfsErrorMessage": null,
       "resultDbfsStatus": "INLINED_IN_TREE",
       "results": null,
       "showCommandTitle": false,
       "startTime": 0,
       "state": "input",
       "streamStates": {},
       "subcommandOptions": {
        "queryPlan": {
         "selects": [
          {
           "column": "happiness_score",
           "type": "column"
          },
          {
           "column": "gdp",
           "type": "column"
          }
         ]
        }
       },
       "submitTime": 0,
       "subtype": "tableResultSubCmd.visualization",
       "tableResultIndex": 0,
       "tableResultSettingsMap": {},
       "useConsistentColors": false,
       "version": "CommandV1",
       "width": "auto",
       "workflows": [],
       "xColumns": null,
       "yColumns": null
      }
     },
     "output_type": "display_data"
    }
   ],
   "source": [
    "%sql\n",
    "--Quanto maior o PIB per capita, maior tende a ser a felicidade?\n",
    "SELECT f.happiness_score, f.gdp\n",
    "FROM vw_fato_felicidade f\n",
    "JOIN vw_dim_tempo t ON f.id_tempo = t.id_tempo\n",
    "WHERE f.gdp IS NOT NULL AND f.happiness_score IS NOT NULL\n"
   ]
  },
  {
   "cell_type": "code",
   "execution_count": 0,
   "metadata": {
    "application/vnd.databricks.v1+cell": {
     "cellMetadata": {
      "byteLimit": 2048000,
      "implicitDf": true,
      "rowLimit": 10000
     },
     "inputWidgets": {},
     "nuid": "0a144c1f-9607-46d0-acda-6012a2d8e764",
     "showTitle": true,
     "tableResultSettingsMap": {},
     "title": "9. Como a expectativa de vida afeta a felicidade?"
    }
   },
   "outputs": [
    {
     "output_type": "display_data",
     "data": {
      "text/html": [
       "<style scoped>\n",
       "  .table-result-container {\n",
       "    max-height: 300px;\n",
       "    overflow: auto;\n",
       "  }\n",
       "  table, th, td {\n",
       "    border: 1px solid black;\n",
       "    border-collapse: collapse;\n",
       "  }\n",
       "  th, td {\n",
       "    padding: 5px;\n",
       "  }\n",
       "  th {\n",
       "    text-align: left;\n",
       "  }\n",
       "</style><div class='table-result-container'><table class='table-result'><thead style='background-color: white'><tr><th>happiness_score</th><th>life_expectancy</th></tr></thead><tbody><tr><td>1.859</td><td>0.087</td></tr><tr><td>3.794</td><td>0.181</td></tr><tr><td>3.632</td><td>0.255</td></tr><tr><td>2.404</td><td>0.289</td></tr><tr><td>2.523</td><td>0.126</td></tr><tr><td>2.567</td><td>0.266</td></tr><tr><td>3.575</td><td>0.303</td></tr><tr><td>3.36</td><td>0.173</td></tr><tr><td>3.203</td><td>0.361</td></tr><tr><td>5.277</td><td>0.48</td></tr><tr><td>5.199</td><td>0.719</td></tr><tr><td>5.117</td><td>0.646</td></tr><tr><td>4.959</td><td>0.813</td></tr><tr><td>4.883</td><td>0.846</td></tr><tr><td>4.719</td><td>0.874</td></tr><tr><td>4.655</td><td>0.73</td></tr><tr><td>4.644</td><td>0.731</td></tr><tr><td>4.586</td><td>0.79</td></tr><tr><td>6.355</td><td>0.618</td></tr><tr><td>5.872</td><td>0.618</td></tr><tr><td>5.605</td><td>0.618</td></tr><tr><td>5.329</td><td>0.409</td></tr><tr><td>5.295</td><td>0.687</td></tr><tr><td>5.211</td><td>0.785</td></tr><tr><td>5.122</td><td>0.643</td></tr><tr><td>5.005</td><td>0.745</td></tr><tr><td>4.887</td><td>0.552</td></tr><tr><td>4.033</td><td>0.167</td></tr><tr><td>3.795</td><td>0.05</td></tr><tr><td>3.866</td><td>0.05</td></tr><tr><td>3.795</td><td>0.269</td></tr><tr><td>6.599</td><td>0.695</td></tr><tr><td>6.65</td><td>0.697</td></tr><tr><td>6.388</td><td>0.744</td></tr><tr><td>6.574</td><td>0.787</td></tr><tr><td>6.086</td><td>0.881</td></tr><tr><td>6.024</td><td>0.427</td></tr><tr><td>5.975</td><td>0.85</td></tr><tr><td>5.929</td><td>0.646</td></tr><tr><td>5.967</td><td>0.662</td></tr><tr><td>5.342</td><td>0.443</td></tr><tr><td>5.399</td><td>0.668</td></tr><tr><td>5.283</td><td>0.585</td></tr><tr><td>4.559</td><td>0.815</td></tr><tr><td>4.677</td><td>0.776</td></tr><tr><td>4.36</td><td>0.641</td></tr><tr><td>4.376</td><td>0.638</td></tr><tr><td>4.35</td><td>0.73</td></tr><tr><td>4.321</td><td>0.666</td></tr><tr><td>7.313</td><td>0.851</td></tr><tr><td>7.284</td><td>0.844</td></tr><tr><td>7.272</td><td>0.91</td></tr><tr><td>7.284</td><td>0.932</td></tr><tr><td>7.228</td><td>1.036</td></tr><tr><td>7.183</td><td>0.801</td></tr><tr><td>7.223</td><td>1.023</td></tr><tr><td>7.162</td><td>0.772</td></tr><tr><td>7.095</td><td>0.532</td></tr><tr><td>7.294</td><td>1.001</td></tr><tr><td>7.246</td><td>1.016</td></tr><tr><td>7.268</td><td>0.782</td></tr><tr><td>7.163</td><td>0.774</td></tr><tr><td>7.097</td><td>0.535</td></tr><tr><td>7.119</td><td>0.806</td></tr><tr><td>7.139</td><td>0.891</td></tr><tr><td>7.006</td><td>0.815</td></tr><tr><td>7.2</td><td>0.89</td></tr><tr><td>5.212</td><td>0.64</td></tr><tr><td>5.291</td><td>0.545</td></tr><tr><td>5.234</td><td>0.541</td></tr><tr><td>5.201</td><td>0.603</td></tr><tr><td>5.165</td><td>0.731</td></tr><tr><td>5.208</td><td>0.769</td></tr><tr><td>5.171</td><td>0.541</td></tr><tr><td>5.173</td><td>0.56</td></tr><tr><td>6.647</td><td>0.625</td></tr><tr><td>6.647</td><td>0.662</td></tr><tr><td>6.199</td><td>0.871</td></tr><tr><td>6.227</td><td>0.839</td></tr><tr><td>6.087</td><td>0.653</td></tr><tr><td>6.218</td><td>0.657</td></tr><tr><td>6.173</td><td>0.389</td></tr><tr><td>6.105</td><td>0.698</td></tr><tr><td>5.96</td><td>0.747</td></tr><tr><td>5.155</td><td>0.581</td></tr><tr><td>5.025</td><td>0.514</td></tr><tr><td>4.833</td><td>0.695</td></tr><tr><td>4.694</td><td>0.602</td></tr><tr><td>4.643</td><td>0.53</td></tr><tr><td>4.608</td><td>0.533</td></tr><tr><td>4.5</td><td>0.579</td></tr><tr><td>4.282</td><td>0.355</td></tr><tr><td>4.456</td><td>0.723</td></tr><tr><td>5.813</td><td>0.736</td></tr><tr><td>5.802</td><td>0.631</td></tr><tr><td>5.821</td><td>0.629</td></tr><tr><td>5.569</td><td>0.638</td></tr><tr><td>5.483</td><td>0.7</td></tr><tr><td>5.54</td><td>0.753</td></tr><tr><td>5.534</td><td>0.56</td></tr><tr><td>5.323</td><td>0.789</td></tr><tr><td>6.927</td><td>0.894</td></tr><tr><td>6.891</td><td>0.818</td></tr><tr><td>6.859</td><td>0.528</td></tr><tr><td>6.929</td><td>0.82</td></tr><tr><td>6.923</td><td>0.986</td></tr><tr><td>6.805</td><td>0.764</td></tr><tr><td>6.937</td><td>0.897</td></tr><tr><td>6.864</td><td>0.965</td></tr><tr><td>6.834</td><td>0.747</td></tr><tr><td>5.956</td><td>0.474</td></tr><tr><td>5.956</td><td>0.45</td></tr><tr><td>5.956</td><td>0.456</td></tr><tr><td>5.216</td><td>0.328</td></tr><tr><td>5.045</td><td>0.196</td></tr><tr><td>4.883</td><td>0.397</td></tr><tr><td>4.623</td><td>0.335</td></tr><tr><td>4.374</td><td>0.124</td></tr><tr><td>4.141</td><td>0.24</td></tr><tr><td>3.657</td><td>0.21</td></tr><tr><td>3.484</td><td>0.21</td></tr><tr><td>3.34</td><td>0.319</td></tr><tr><td>5.253</td><td>0.574</td></tr><tr><td>5.196</td><td>0.498</td></tr><tr><td>5.082</td><td>0.604</td></tr><tr><td>5.011</td><td>0.496</td></tr><tr><td>5.082</td><td>0.527</td></tr><tr><td>5.89</td><td>0.539</td></tr><tr><td>5.823</td><td>0.474</td></tr><tr><td>5.822</td><td>0.47</td></tr><tr><td>5.779</td><td>0.706</td></tr><tr><td>5.752</td><td>0.508</td></tr><tr><td>5.747</td><td>0.662</td></tr><tr><td>5.716</td><td>0.486</td></tr><tr><td>5.684</td><td>0.329</td></tr><tr><td>5.6</td><td>0.555</td></tr><tr><td>5.813</td><td>0.618</td></tr><tr><td>5.768</td><td>0.665</td></tr><tr><td>5.674</td><td>0.814</td></tr><tr><td>5.633</td><td>0.429</td></tr><tr><td>5.386</td><td>0.845</td></tr><tr><td>5.163</td><td>0.708</td></tr><tr><td>5.182</td><td>0.705</td></tr><tr><td>5.129</td><td>0.758</td></tr><tr><td>4.949</td><td>0.791</td></tr><tr><td>4.332</td><td>0.048</td></tr><tr><td>3.435</td><td>0.087</td></tr><tr><td>3.974</td><td>0.348</td></tr><tr><td>3.766</td><td>0.342</td></tr><tr><td>3.471</td><td>0.28</td></tr><tr><td>3.59</td><td>0.417</td></tr><tr><td>3.467</td><td>0.34</td></tr><tr><td>3.479</td><td>0.494</td></tr><tr><td>3.488</td><td>0.538</td></tr><tr><td>6.983</td><td>0.697</td></tr><tr><td>6.952</td><td>0.614</td></tr><tr><td>6.635</td><td>0.617</td></tr><tr><td>6.419</td><td>0.675</td></tr><tr><td>6.3</td><td>0.802</td></tr><tr><td>6.376</td><td>0.766</td></tr><tr><td>6.33</td><td>0.571</td></tr><tr><td>6.293</td><td>0.615</td></tr><tr><td>6.125</td><td>0.387</td></tr><tr><td>5.466</td><td>0.408</td></tr><tr><td>5.371</td><td>0.64</td></tr><tr><td>5.266</td><td>0.583</td></tr><tr><td>5.102</td><td>0.778</td></tr><tr><td>5.011</td><td>0.815</td></tr><tr><td>4.933</td><td>0.712</td></tr><tr><td>4.714</td><td>0.708</td></tr><tr><td>4.217</td><td>0.678</td></tr><tr><td>4.218</td><td>0.766</td></tr><tr><td>4.638</td><td>0.107</td></tr><tr><td>4.769</td><td>0.313</td></tr><tr><td>4.834</td><td>0.179</td></tr><tr><td>4.67</td><td>0.32</td></tr><tr><td>4.587</td><td>0.38</td></tr><tr><td>4.424</td><td>0.254</td></tr><tr><td>4.032</td><td>0.216</td></tr><tr><td>3.739</td><td>0.213</td></tr><tr><td>3.587</td><td>0.271</td></tr><tr><td>3.775</td><td>0.295</td></tr><tr><td>3.775</td><td>0.155</td></tr><tr><td>3.775</td><td>0.38</td></tr><tr><td>2.905</td><td>0.152</td></tr><tr><td>2.905</td><td>0.145</td></tr><tr><td>2.905</td><td>0.157</td></tr><tr><td>2.905</td><td>0.224</td></tr><tr><td>4.848</td><td>0.588</td></tr><tr><td>4.7</td><td>0.637</td></tr><tr><td>4.83</td><td>0.426</td></tr><tr><td>4.64</td><td>0.505</td></tr><tr><td>4.393</td><td>0.283</td></tr><tr><td>4.433</td><td>0.457</td></tr><tr><td>4.168</td><td>0.43</td></tr><tr><td>3.907</td><td>0.425</td></tr><tr><td>3.819</td><td>0.611</td></tr><tr><td>5.142</td><td>0.159</td></tr><tr><td>5.044</td><td>0.331</td></tr><tr><td>4.973</td><td>0.118</td></tr><tr><td>5.085</td><td>0.27</td></tr><tr><td>4.975</td><td>0.182</td></tr><tr><td>5.048</td><td>0.317</td></tr><tr><td>4.695</td><td>0.133</td></tr><tr><td>4.513</td><td>0.127</td></tr><tr><td>4.252</td><td>0.234</td></tr><tr><td>7.427</td><td>0.906</td></tr><tr><td>7.404</td><td>0.828</td></tr><tr><td>7.316</td><td>0.835</td></tr><tr><td>7.328</td><td>0.896</td></tr><tr><td>7.278</td><td>1.039</td></tr><tr><td>7.232</td><td>1.023</td></tr><tr><td>6.961</td><td>0.541</td></tr><tr><td>7.103</td><td>0.798</td></tr><tr><td>7.025</td><td>0.783</td></tr><tr><td>3.678</td><td>0.067</td></tr><tr><td>3.476</td><td>0.0</td></tr><tr><td>2.693</td><td>0.019</td></tr><tr><td>3.083</td><td>0.01</td></tr><tr><td>3.083</td><td>0.105</td></tr><tr><td>4.397</td><td>0.043</td></tr><tr><td>4.423</td><td>0.109</td></tr><tr><td>4.355</td><td>0.0</td></tr><tr><td>4.251</td><td>0.225</td></tr><tr><td>4.301</td><td>0.053</td></tr><tr><td>4.35</td><td>0.192</td></tr><tr><td>3.936</td><td>0.041</td></tr><tr><td>3.763</td><td>0.038</td></tr><tr><td>3.667</td><td>0.15</td></tr><tr><td>6.652</td><td>0.819</td></tr><tr><td>6.705</td><td>0.819</td></tr><tr><td>6.476</td><td>0.808</td></tr><tr><td>6.444</td><td>0.92</td></tr><tr><td>6.67</td><td>0.859</td></tr><tr><td>6.334</td><td>0.511</td></tr><tr><td>6.228</td><td>0.889</td></tr><tr><td>6.172</td><td>0.678</td></tr><tr><td>6.172</td><td>0.748</td></tr><tr><td>5.818</td><td>0.468</td></tr><tr><td>5.585</td><td>0.705</td></tr><tr><td>5.273</td><td>0.741</td></tr><tr><td>5.245</td><td>0.736</td></tr><tr><td>5.339</td><td>0.665</td></tr><tr><td>5.14</td><td>0.817</td></tr><tr><td>5.246</td><td>0.799</td></tr><tr><td>5.191</td><td>0.893</td></tr><tr><td>5.124</td><td>0.867</td></tr><tr><td>6.481</td><td>0.597</td></tr><tr><td>6.477</td><td>0.691</td></tr><tr><td>6.357</td><td>0.595</td></tr><tr><td>6.26</td><td>0.635</td></tr><tr><td>6.125</td><td>0.841</td></tr><tr><td>6.163</td><td>0.81</td></tr><tr><td>6.012</td><td>0.615</td></tr><tr><td>5.781</td><td>0.72</td></tr><tr><td>5.63</td><td>0.486</td></tr><tr><td>4.609</td><td>0.424</td></tr><tr><td>3.545</td><td>0.215</td></tr><tr><td>4.289</td><td>0.279</td></tr><tr><td>4.289</td><td>0.437</td></tr><tr><td>3.956</td><td>0.3</td></tr><tr><td>3.956</td><td>0.363</td></tr><tr><td>3.973</td><td>0.505</td></tr><tr><td>5.342</td><td>0.307</td></tr><tr><td>5.267</td><td>0.145</td></tr><tr><td>5.194</td><td>0.458</td></tr><tr><td>5.075</td><td>0.355</td></tr><tr><td>4.812</td><td>0.508</td></tr><tr><td>4.559</td><td>0.343</td></tr><tr><td>4.291</td><td>0.29</td></tr><tr><td>4.236</td><td>0.282</td></tr><tr><td>3.989</td><td>0.311</td></tr><tr><td>4.517</td><td>0.098</td></tr><tr><td>4.272</td><td>0.188</td></tr><tr><td>4.28</td><td>0.191</td></tr><tr><td>4.418</td><td>0.357</td></tr><tr><td>4.311</td><td>0.277</td></tr><tr><td>4.245</td><td>0.204</td></tr><tr><td>3.207</td><td>0.105</td></tr><tr><td>7.226</td><td>0.86</td></tr><tr><td>7.079</td><td>0.76</td></tr><tr><td>7.167</td><td>0.963</td></tr><tr><td>7.072</td><td>0.817</td></tr><tr><td>7.087</td><td>0.761</td></tr><tr><td>7.121</td><td>0.94</td></tr><tr><td>7.069</td><td>0.722</td></tr><tr><td>6.582</td><td>0.744</td></tr><tr><td>6.609</td><td>0.503</td></tr><tr><td>6.125</td><td>0.709</td></tr><tr><td>6.125</td><td>0.475</td></tr><tr><td>5.882</td><td>0.703</td></tr><tr><td>5.759</td><td>0.788</td></tr><tr><td>5.488</td><td>0.705</td></tr><tr><td>5.432</td><td>0.914</td></tr><tr><td>5.293</td><td>0.701</td></tr><tr><td>5.505</td><td>0.901</td></tr><tr><td>5.321</td><td>0.737</td></tr><tr><td>6.223</td><td>0.801</td></tr><tr><td>6.221</td><td>0.819</td></tr><tr><td>6.159</td><td>1.026</td></tr><tr><td>6.13</td><td>0.58</td></tr><tr><td>6.046</td><td>1.042</td></tr><tr><td>5.762</td><td>0.909</td></tr><tr><td>5.621</td><td>0.845</td></tr><tr><td>5.689</td><td>0.924</td></tr><tr><td>5.546</td><td>0.849</td></tr><tr><td>6.965</td><td>0.703</td></tr><tr><td>6.92</td><td>0.715</td></tr><tr><td>6.845</td><td>0.477</td></tr><tr><td>6.911</td><td>0.895</td></tr><tr><td>6.852</td><td>0.92</td></tr><tr><td>6.711</td><td>0.854</td></tr><tr><td>6.609</td><td>0.754</td></tr><tr><td>6.596</td><td>0.764</td></tr><tr><td>6.505</td><td>0.845</td></tr><tr><td>7.526</td><td>0.795</td></tr><tr><td>7.522</td><td>0.793</td></tr><tr><td>7.6</td><td>0.996</td></tr><tr><td>7.646</td><td>0.979</td></tr><tr><td>7.62</td><td>0.763</td></tr><tr><td>7.636</td><td>0.777</td></tr><tr><td>7.586</td><td>0.537</td></tr><tr><td>7.527</td><td>0.875</td></tr><tr><td>7.555</td><td>0.868</td></tr><tr><td>4.369</td><td>0.363</td></tr><tr><td>5.689</td><td>0.742</td></tr><tr><td>5.737</td><td>0.577</td></tr><tr><td>5.545</td><td>0.555</td></tr><tr><td>5.569</td><td>0.351</td></tr><tr><td>5.425</td><td>0.779</td></tr><tr><td>5.302</td><td>0.614</td></tr><tr><td>5.23</td><td>0.575</td></tr><tr><td>5.155</td><td>0.577</td></tr><tr><td>4.885</td><td>0.668</td></tr><tr><td>6.008</td><td>0.686</td></tr><tr><td>5.973</td><td>0.736</td></tr><tr><td>5.975</td><td>0.791</td></tr><tr><td>6.028</td><td>0.868</td></tr><tr><td>5.976</td><td>0.686</td></tr><tr><td>5.925</td><td>0.839</td></tr><tr><td>5.764</td><td>0.64</td></tr><tr><td>5.559</td><td>0.476</td></tr><tr><td>5.533</td><td>0.708</td></tr><tr><td>4.735</td><td>0.52</td></tr><tr><td>4.362</td><td>0.521</td></tr><tr><td>4.17</td><td>0.326</td></tr><tr><td>4.419</td><td>0.553</td></tr><tr><td>4.288</td><td>0.548</td></tr><tr><td>4.283</td><td>0.426</td></tr><tr><td>4.194</td><td>0.617</td></tr><tr><td>4.166</td><td>0.644</td></tr><tr><td>4.151</td><td>0.597</td></tr><tr><td>6.348</td><td>0.753</td></tr><tr><td>6.253</td><td>0.789</td></tr><tr><td>6.167</td><td>0.639</td></tr><tr><td>6.13</td><td>0.677</td></tr><tr><td>6.003</td><td>0.596</td></tr><tr><td>6.068</td><td>0.596</td></tr><tr><td>6.061</td><td>0.565</td></tr><tr><td>6.12</td><td>0.607</td></tr><tr><td>6.122</td><td>0.383</td></tr><tr><td>6.455</td><td>0.494</td></tr><tr><td>6.341</td><td>0.728</td></tr><tr><td>6.189</td><td>0.64</td></tr><tr><td>6.022</td><td>0.843</td></tr><tr><td>5.893</td><td>0.874</td></tr><tr><td>5.739</td><td>0.737</td></tr><tr><td>5.611</td><td>0.695</td></tr><tr><td>5.517</td><td>0.681</td></tr><tr><td>5.429</td><td>0.774</td></tr><tr><td>4.396</td><td>0.197</td></tr><tr><td>4.508</td><td>0.346</td></tr><tr><td>4.46</td><td>0.353</td></tr><tr><td>4.512</td><td>0.441</td></tr><tr><td>4.091</td><td>0.25</td></tr><tr><td>4.35</td><td>0.391</td></tr><tr><td>4.241</td><td>0.457</td></tr><tr><td>4.275</td><td>0.331</td></tr><tr><td>4.286</td><td>0.532</td></tr><tr><td>4.186</td><td>0.484</td></tr><tr><td>7.632</td><td>0.874</td></tr><tr><td>7.769</td><td>0.986</td></tr><tr><td>7.809</td><td>0.961</td></tr><tr><td>7.842</td><td>0.741</td></tr><tr><td>7.821</td><td>0.775</td></tr><tr><td>7.804</td><td>0.535</td></tr><tr><td>7.413</td><td>0.811</td></tr><tr><td>7.469</td><td>0.809</td></tr><tr><td>7.406</td><td>0.889</td></tr><tr><td>6.687</td><td>0.808</td></tr><tr><td>6.69</td><td>0.804</td></tr><tr><td>6.661</td><td>0.566</td></tr><tr><td>6.489</td><td>0.908</td></tr><tr><td>6.664</td><td>1.03</td></tr><tr><td>6.592</td><td>1.045</td></tr><tr><td>6.575</td><td>0.946</td></tr><tr><td>6.442</td><td>0.844</td></tr><tr><td>6.478</td><td>0.838</td></tr><tr><td>5.035</td><td>0.183</td></tr><tr><td>4.758</td><td>0.404</td></tr><tr><td>4.799</td><td>0.571</td></tr><tr><td>4.958</td><td>0.396</td></tr><tr><td>4.829</td><td>0.523</td></tr><tr><td>4.852</td><td>0.362</td></tr><tr><td>4.465</td><td>0.357</td></tr><tr><td>4.121</td><td>0.349</td></tr><tr><td>3.896</td><td>0.434</td></tr><tr><td>5.164</td><td>0.369</td></tr><tr><td>5.051</td><td>0.21</td></tr><tr><td>4.751</td><td>0.353</td></tr><tr><td>4.279</td><td>0.174</td></tr><tr><td>4.516</td><td>0.428</td></tr><tr><td>5.109</td><td>0.366</td></tr><tr><td>4.973</td><td>0.595</td></tr><tr><td>4.891</td><td>0.498</td></tr><tr><td>4.673</td><td>0.695</td></tr><tr><td>4.519</td><td>0.752</td></tr><tr><td>4.286</td><td>0.65</td></tr><tr><td>4.252</td><td>0.64</td></tr><tr><td>4.34</td><td>0.643</td></tr><tr><td>4.297</td><td>0.729</td></tr><tr><td>7.155</td><td>0.757</td></tr><tr><td>7.034</td><td>0.776</td></tr><tr><td>6.965</td><td>0.861</td></tr><tr><td>6.994</td><td>0.815</td></tr><tr><td>6.951</td><td>0.799</td></tr><tr><td>6.892</td><td>0.539</td></tr><tr><td>6.985</td><td>0.987</td></tr><tr><td>7.076</td><td>0.972</td></tr><tr><td>6.75</td><td>0.892</td></tr><tr><td>5.148</td><td>0.432</td></tr><tr><td>5.088</td><td>0.287</td></tr><tr><td>4.996</td><td>0.486</td></tr><tr><td>4.605</td><td>0.197</td></tr><tr><td>4.657</td><td>0.337</td></tr><tr><td>4.872</td><td>0.409</td></tr><tr><td>4.633</td><td>0.401</td></tr><tr><td>4.276</td><td>0.297</td></tr><tr><td>4.12</td><td>0.296</td></tr><tr><td>5.948</td><td>0.774</td></tr><tr><td>5.931</td><td>0.535</td></tr><tr><td>5.723</td><td>0.76</td></tr><tr><td>5.515</td><td>0.979</td></tr><tr><td>5.358</td><td>0.879</td></tr><tr><td>5.287</td><td>0.999</td></tr><tr><td>5.227</td><td>0.81</td></tr><tr><td>5.033</td><td>0.8</td></tr><tr><td>4.857</td><td>0.882</td></tr><tr><td>6.436</td><td>0.746</td></tr><tr><td>6.454</td><td>0.54</td></tr><tr><td>6.399</td><td>0.706</td></tr><tr><td>6.382</td><td>0.608</td></tr><tr><td>6.435</td><td>0.519</td></tr><tr><td>6.324</td><td>0.54</td></tr><tr><td>6.262</td><td>0.522</td></tr><tr><td>6.123</td><td>0.644</td></tr><tr><td>6.15</td><td>0.31</td></tr><tr><td>5.072</td><td>0.072</td></tr><tr><td>4.949</td><td>0.334</td></tr><tr><td>4.984</td><td>0.206</td></tr><tr><td>4.891</td><td>0.275</td></tr><tr><td>4.534</td><td>0.375</td></tr><tr><td>3.964</td><td>0.211</td></tr><tr><td>3.507</td><td>0.194</td></tr><tr><td>3.656</td><td>0.24</td></tr><tr><td>3.607</td><td>0.188</td></tr><tr><td>4.518</td><td>0.388</td></tr><tr><td>4.028</td><td>0.275</td></tr><tr><td>3.721</td><td>0.374</td></tr><tr><td>3.615</td><td>0.227</td></tr><tr><td>3.603</td><td>0.277</td></tr><tr><td>3.597</td><td>0.449</td></tr><tr><td>3.582</td><td>0.289</td></tr><tr><td>6.023</td><td>0.341</td></tr><tr><td>6.022</td><td>0.555</td></tr><tr><td>5.953</td><td>0.792</td></tr><tr><td>5.86</td><td>0.828</td></tr><tr><td>5.919</td><td>0.593</td></tr><tr><td>5.504</td><td>0.622</td></tr><tr><td>5.181</td><td>0.583</td></tr><tr><td>4.871</td><td>0.584</td></tr><tr><td>4.788</td><td>0.695</td></tr><tr><td>5.472</td><td>0.943</td></tr><tr><td>5.474</td><td>1.013</td></tr><tr><td>5.458</td><td>0.953</td></tr><tr><td>5.43</td><td>1.03</td></tr><tr><td>5.43</td><td>1.122</td></tr><tr><td>5.477</td><td>0.893</td></tr><tr><td>5.51</td><td>1.137</td></tr><tr><td>5.425</td><td>0.942</td></tr><tr><td>5.308</td><td>0.702</td></tr><tr><td>6.086</td><td>0.668</td></tr><tr><td>6.041</td><td>0.435</td></tr><tr><td>6.0</td><td>0.807</td></tr><tr><td>5.992</td><td>0.615</td></tr><tr><td>5.758</td><td>0.828</td></tr><tr><td>5.62</td><td>0.732</td></tr><tr><td>5.324</td><td>0.688</td></tr><tr><td>5.145</td><td>0.676</td></tr><tr><td>4.8</td><td>0.759</td></tr><tr><td>7.561</td><td>0.948</td></tr><tr><td>7.501</td><td>0.867</td></tr><tr><td>7.504</td><td>0.834</td></tr><tr><td>7.557</td><td>0.803</td></tr><tr><td>7.53</td><td>0.559</td></tr><tr><td>7.495</td><td>0.914</td></tr><tr><td>7.494</td><td>1.026</td></tr><tr><td>7.504</td><td>1.001</td></tr><tr><td>7.554</td><td>0.772</td></tr><tr><td>4.565</td><td>0.515</td></tr><tr><td>4.404</td><td>0.451</td></tr><tr><td>4.315</td><td>0.455</td></tr><tr><td>4.036</td><td>0.252</td></tr><tr><td>4.19</td><td>0.485</td></tr><tr><td>3.777</td><td>0.471</td></tr><tr><td>3.819</td><td>0.383</td></tr><tr><td>4.015</td><td>0.588</td></tr><tr><td>3.573</td><td>0.541</td></tr><tr><td>5.399</td><td>0.638</td></tr><tr><td>5.314</td><td>0.494</td></tr><tr><td>5.262</td><td>0.492</td></tr><tr><td>5.345</td><td>0.433</td></tr><tr><td>5.286</td><td>0.61</td></tr><tr><td>5.277</td><td>0.314</td></tr><tr><td>5.24</td><td>0.539</td></tr><tr><td>5.192</td><td>0.66</td></tr><tr><td>5.093</td><td>0.522</td></tr><tr><td>4.876</td><td>0.411</td></tr><tr><td>4.813</td><td>0.642</td></tr><tr><td>4.707</td><td>0.691</td></tr><tr><td>4.692</td><td>0.639</td></tr><tr><td>4.888</td><td>0.642</td></tr><tr><td>4.686</td><td>0.698</td></tr><tr><td>4.548</td><td>0.785</td></tr><tr><td>4.672</td><td>0.749</td></tr><tr><td>4.721</td><td>0.561</td></tr><tr><td>4.941</td><td>0.324</td></tr><tr><td>4.941</td><td>0.554</td></tr><tr><td>4.785</td><td>0.529</td></tr><tr><td>4.854</td><td>0.381</td></tr><tr><td>4.575</td><td>0.511</td></tr><tr><td>4.677</td><td>0.602</td></tr><tr><td>4.497</td><td>0.501</td></tr><tr><td>4.456</td><td>0.536</td></tr><tr><td>4.437</td><td>0.574</td></tr><tr><td>7.041</td><td>0.779</td></tr><tr><td>6.977</td><td>0.876</td></tr><tr><td>6.911</td><td>0.539</td></tr><tr><td>6.977</td><td>0.81</td></tr><tr><td>7.085</td><td>0.753</td></tr><tr><td>7.021</td><td>0.999</td></tr><tr><td>7.094</td><td>0.976</td></tr><tr><td>6.94</td><td>0.895</td></tr><tr><td>6.907</td><td>0.815</td></tr><tr><td>7.473</td><td>0.577</td></tr><tr><td>7.364</td><td>0.818</td></tr><tr><td>7.278</td><td>0.914</td></tr><tr><td>7.267</td><td>0.849</td></tr><tr><td>7.213</td><td>0.838</td></tr><tr><td>7.157</td><td>0.788</td></tr><tr><td>7.139</td><td>1.029</td></tr><tr><td>7.129</td><td>1.008</td></tr><tr><td>6.814</td><td>0.883</td></tr><tr><td>6.483</td><td>0.798</td></tr><tr><td>6.387</td><td>1.023</td></tr><tr><td>6.467</td><td>0.801</td></tr><tr><td>6.405</td><td>0.559</td></tr><tr><td>6.223</td><td>1.039</td></tr><tr><td>6.0</td><td>0.946</td></tr><tr><td>5.964</td><td>0.853</td></tr><tr><td>5.948</td><td>0.954</td></tr><tr><td>5.977</td><td>0.851</td></tr><tr><td>5.233</td><td>0.155</td></tr><tr><td>5.306</td><td>0.052</td></tr><tr><td>5.235</td><td>0.322</td></tr><tr><td>5.053</td><td>0.12</td></tr><tr><td>4.944</td><td>0.232</td></tr><tr><td>4.671</td><td>0.08</td></tr><tr><td>4.18</td><td>0.049</td></tr><tr><td>3.916</td><td>0.045</td></tr><tr><td>3.655</td><td>0.152</td></tr><tr><td>6.309</td><td>0.599</td></tr><tr><td>5.89</td><td>0.693</td></tr><tr><td>5.89</td><td>0.831</td></tr><tr><td>5.89</td><td>0.788</td></tr><tr><td>5.85</td><td>0.646</td></tr><tr><td>5.709</td><td>0.687</td></tr><tr><td>5.703</td><td>0.411</td></tr><tr><td>5.51</td><td>0.595</td></tr><tr><td>5.311</td><td>0.641</td></tr><tr><td>5.987</td><td>0.991</td></tr><tr><td>6.129</td><td>0.622</td></tr><tr><td>5.92</td><td>0.913</td></tr><tr><td>5.921</td><td>0.915</td></tr><tr><td>5.915</td><td>0.988</td></tr><tr><td>6.039</td><td>0.866</td></tr><tr><td>5.94</td><td>0.838</td></tr><tr><td>5.886</td><td>1.088</td></tr><tr><td>5.871</td><td>1.073</td></tr><tr><td>5.336</td><td>0.605</td></tr><tr><td>5.303</td><td>0.607</td></tr><tr><td>5.192</td><td>0.696</td></tr><tr><td>5.161</td><td>0.645</td></tr><tr><td>4.906</td><td>0.815</td></tr><tr><td>4.633</td><td>0.778</td></tr><tr><td>4.12</td><td>0.438</td></tr><tr><td>4.395</td><td>0.583</td></tr><tr><td>4.152</td><td>0.675</td></tr><tr><td>6.234</td><td>0.611</td></tr><tr><td>6.144</td><td>0.389</td></tr><tr><td>6.152</td><td>0.527</td></tr><tr><td>6.058</td><td>0.699</td></tr><tr><td>5.855</td><td>0.644</td></tr><tr><td>5.919</td><td>0.574</td></tr><tr><td>5.819</td><td>0.606</td></tr><tr><td>5.79</td><td>0.631</td></tr><tr><td>5.809</td><td>0.729</td></tr><tr><td>4.487</td><td>0.19</td></tr><tr><td>4.553</td><td>0.31</td></tr><tr><td>4.543</td><td>0.401</td></tr><tr><td>4.509</td><td>0.581</td></tr><tr><td>4.583</td><td>0.536</td></tr><tr><td>4.607</td><td>0.385</td></tr><tr><td>4.356</td><td>0.301</td></tr><tr><td>4.41</td><td>0.454</td></tr><tr><td>4.419</td><td>0.414</td></tr><tr><td>6.455</td><td>0.569</td></tr><tr><td>6.372</td><td>0.483</td></tr><tr><td>6.368</td><td>0.372</td></tr><tr><td>6.325</td><td>0.673</td></tr><tr><td>6.1</td><td>0.758</td></tr><tr><td>5.662</td><td>0.578</td></tr><tr><td>5.589</td><td>0.631</td></tr><tr><td>5.401</td><td>0.54</td></tr><tr><td>5.279</td><td>0.541</td></tr><tr><td>6.295</td><td>0.725</td></tr><tr><td>6.105</td><td>0.632</td></tr><tr><td>6.239</td><td>0.636</td></tr><tr><td>6.083</td><td>0.675</td></tr><tr><td>6.106</td><td>0.58</td></tr><tr><td>6.102</td><td>0.776</td></tr><tr><td>6.106</td><td>0.747</td></tr><tr><td>6.021</td><td>0.808</td></tr><tr><td>5.825</td><td>0.417</td></tr><tr><td>5.828</td><td>0.638</td></tr><tr><td>5.744</td><td>0.501</td></tr><tr><td>5.542</td><td>0.681</td></tr><tr><td>5.286</td><td>0.651</td></tr><tr><td>5.185</td><td>0.554</td></tr><tr><td>5.261</td><td>0.723</td></tr><tr><td>5.131</td><td>0.594</td></tr><tr><td>5.004</td><td>0.553</td></tr><tr><td>5.111</td><td>0.257</td></tr><tr><td>5.14</td><td>0.479</td></tr><tr><td>4.876</td><td>0.549</td></tr><tr><td>5.03</td><td>0.33</td></tr><tr><td>4.876</td><td>0.383</td></tr><tr><td>4.889</td><td>0.486</td></tr><tr><td>4.796</td><td>0.551</td></tr><tr><td>4.623</td><td>0.441</td></tr><tr><td>6.213</td><td>0.405</td></tr><tr><td>6.18</td><td>0.637</td></tr><tr><td>6.032</td><td>0.587</td></tr><tr><td>5.933</td><td>0.671</td></tr><tr><td>5.94</td><td>0.812</td></tr><tr><td>5.85</td><td>0.639</td></tr><tr><td>5.95</td><td>0.778</td></tr><tr><td>5.56</td><td>0.64</td></tr><tr><td>5.098</td><td>0.724</td></tr><tr><td>5.358</td><td>0.785</td></tr><tr><td>5.225</td><td>0.735</td></tr><tr><td>5.197</td><td>0.815</td></tr><tr><td>5.129</td><td>0.762</td></tr><tr><td>4.839</td><td>0.839</td></tr><tr><td>4.772</td><td>0.789</td></tr><tr><td>4.584</td><td>0.595</td></tr><tr><td>2.392</td><td>0.398</td></tr><tr><td>2.955</td><td>0.631</td></tr><tr><td>4.898</td><td>0.076</td></tr><tr><td>3.808</td><td>0.0</td></tr><tr><td>3.808</td><td>0.079</td></tr><tr><td>3.512</td><td>0.0</td></tr><tr><td>3.653</td><td>0.101</td></tr><tr><td>3.802</td><td>0.168</td></tr><tr><td>3.512</td><td>0.007</td></tr><tr><td>5.122</td><td>0.309</td></tr><tr><td>4.571</td><td>0.342</td></tr><tr><td>4.625</td><td>0.253</td></tr><tr><td>4.558</td><td>0.392</td></tr><tr><td>4.042</td><td>0.141</td></tr><tr><td>3.975</td><td>0.443</td></tr><tr><td>3.533</td><td>0.23</td></tr><tr><td>3.495</td><td>0.267</td></tr><tr><td>3.622</td><td>0.232</td></tr><tr><td>5.754</td><td>0.704</td></tr><tr><td>5.615</td><td>0.523</td></tr><tr><td>5.525</td><td>0.52</td></tr><tr><td>5.566</td><td>0.553</td></tr><tr><td>5.525</td><td>0.673</td></tr><tr><td>5.489</td><td>0.616</td></tr><tr><td>5.41</td><td>0.435</td></tr><tr><td>5.33</td><td>0.606</td></tr><tr><td>6.763</td><td>0.432</td></tr><tr><td>6.446</td><td>0.659</td></tr><tr><td>6.255</td><td>0.612</td></tr><tr><td>6.215</td><td>0.795</td></tr><tr><td>6.149</td><td>0.818</td></tr><tr><td>5.952</td><td>0.716</td></tr><tr><td>5.902</td><td>0.629</td></tr><tr><td>5.833</td><td>0.731</td></tr><tr><td>5.813</td><td>0.647</td></tr><tr><td>7.404</td><td>0.79</td></tr><tr><td>7.324</td><td>0.76</td></tr><tr><td>7.228</td><td>0.549</td></tr><tr><td>7.238</td><td>0.986</td></tr><tr><td>7.09</td><td>1.012</td></tr><tr><td>6.946</td><td>0.919</td></tr><tr><td>6.91</td><td>0.896</td></tr><tr><td>6.863</td><td>0.845</td></tr><tr><td>6.871</td><td>0.845</td></tr><tr><td>5.274</td><td>0.838</td></tr><tr><td>5.254</td><td>0.408</td></tr><tr><td>5.185</td><td>0.691</td></tr><tr><td>5.199</td><td>0.637</td></tr><tr><td>5.16</td><td>0.803</td></tr><tr><td>5.175</td><td>0.645</td></tr><tr><td>5.007</td><td>0.735</td></tr><tr><td>5.101</td><td>0.535</td></tr><tr><td>5.121</td><td>0.647</td></tr><tr><td>4.019</td><td>0.178</td></tr><tr><td>4.339</td><td>0.378</td></tr><tr><td>4.208</td><td>0.341</td></tr><tr><td>4.166</td><td>0.501</td></tr><tr><td>3.774</td><td>0.402</td></tr><tr><td>3.933</td><td>0.555</td></tr><tr><td>3.644</td><td>0.375</td></tr><tr><td>3.681</td><td>0.467</td></tr><tr><td>3.695</td><td>0.371</td></tr><tr><td>3.495</td><td>0.189</td></tr><tr><td>4.292</td><td>0.226</td></tr><tr><td>4.156</td><td>0.294</td></tr><tr><td>3.97</td><td>0.315</td></tr><tr><td>3.75</td><td>0.388</td></tr><tr><td>3.6</td><td>0.298</td></tr><tr><td>3.538</td><td>0.446</td></tr><tr><td>3.587</td><td>0.306</td></tr><tr><td>3.41</td><td>0.495</td></tr><tr><td>6.322</td><td>0.669</td></tr><tr><td>6.084</td><td>0.619</td></tr><tr><td>6.005</td><td>0.624</td></tr><tr><td>6.012</td><td>0.385</td></tr><tr><td>5.77</td><td>0.724</td></tr><tr><td>5.711</td><td>0.62</td></tr><tr><td>5.339</td><td>0.828</td></tr><tr><td>5.384</td><td>0.587</td></tr><tr><td>5.384</td><td>0.789</td></tr><tr><td>5.198</td><td>0.914</td></tr><tr><td>5.198</td><td>0.697</td></tr><tr><td>4.729</td><td>0.235</td></tr><tr><td>4.723</td><td>0.11</td></tr><tr><td>4.447</td><td>0.152</td></tr><tr><td>4.198</td><td>0.106</td></tr><tr><td>4.479</td><td>0.311</td></tr><tr><td>4.19</td><td>0.169</td></tr><tr><td>4.39</td><td>0.308</td></tr><tr><td>4.073</td><td>0.163</td></tr><tr><td>3.995</td><td>0.206</td></tr><tr><td>6.627</td><td>0.884</td></tr><tr><td>6.726</td><td>0.999</td></tr><tr><td>6.773</td><td>0.972</td></tr><tr><td>6.602</td><td>0.747</td></tr><tr><td>6.527</td><td>0.822</td></tr><tr><td>6.488</td><td>0.803</td></tr><tr><td>6.447</td><td>0.789</td></tr><tr><td>6.302</td><td>0.887</td></tr><tr><td>6.3</td><td>0.547</td></tr><tr><td>4.724</td><td>0.244</td></tr><tr><td>4.49</td><td>0.489</td></tr><tr><td>4.292</td><td>0.285</td></tr><tr><td>4.436</td><td>0.359</td></tr><tr><td>4.356</td><td>0.292</td></tr><tr><td>4.375</td><td>0.425</td></tr><tr><td>4.201</td><td>0.286</td></tr><tr><td>4.153</td><td>0.45</td></tr><tr><td>4.227</td><td>0.273</td></tr><tr><td>6.101</td><td>0.763</td></tr><tr><td>6.049</td><td>0.574</td></tr><tr><td>6.071</td><td>0.568</td></tr><tr><td>5.891</td><td>0.684</td></tr><tr><td>5.888</td><td>0.798</td></tr><tr><td>5.902</td><td>0.336</td></tr><tr><td>5.629</td><td>0.638</td></tr><tr><td>5.648</td><td>0.662</td></tr><tr><td>5.477</td><td>0.71</td></tr><tr><td>7.187</td><td>0.814</td></tr><tr><td>6.778</td><td>0.711</td></tr><tr><td>6.595</td><td>0.861</td></tr><tr><td>6.488</td><td>0.761</td></tr><tr><td>6.465</td><td>0.832</td></tr><tr><td>6.578</td><td>0.71</td></tr><tr><td>6.317</td><td>0.634</td></tr><tr><td>6.33</td><td>0.389</td></tr><tr><td>6.128</td><td>0.623</td></tr><tr><td>5.889</td><td>0.618</td></tr><tr><td>5.897</td><td>0.523</td></tr><tr><td>5.838</td><td>0.589</td></tr><tr><td>5.857</td><td>0.597</td></tr><tr><td>5.819</td><td>0.375</td></tr><tr><td>5.766</td><td>0.542</td></tr><tr><td>5.64</td><td>0.62</td></tr><tr><td>5.608</td><td>0.713</td></tr><tr><td>5.529</td><td>0.739</td></tr><tr><td>5.84</td><td>0.244</td></tr><tr><td>5.761</td><td>0.467</td></tr><tr><td>5.677</td><td>0.442</td></tr><tr><td>5.456</td><td>0.616</td></tr><tr><td>5.285</td><td>0.667</td></tr><tr><td>5.125</td><td>0.575</td></tr><tr><td>4.955</td><td>0.558</td></tr><tr><td>4.874</td><td>0.603</td></tr><tr><td>4.907</td><td>0.555</td></tr><tr><td>5.722</td><td>0.424</td></tr><tr><td>5.546</td><td>0.839</td></tr><tr><td>5.581</td><td>0.637</td></tr><tr><td>5.523</td><td>0.871</td></tr><tr><td>5.547</td><td>0.659</td></tr><tr><td>5.347</td><td>0.729</td></tr><tr><td>5.192</td><td>0.725</td></tr><tr><td>5.237</td><td>0.667</td></tr><tr><td>5.161</td><td>0.635</td></tr><tr><td>5.235</td><td>0.598</td></tr><tr><td>5.254</td><td>0.669</td></tr><tr><td>5.208</td><td>0.782</td></tr><tr><td>5.151</td><td>0.595</td></tr><tr><td>5.013</td><td>0.61</td></tr><tr><td>5.095</td><td>0.745</td></tr><tr><td>5.06</td><td>0.565</td></tr><tr><td>4.903</td><td>0.337</td></tr><tr><td>4.918</td><td>0.558</td></tr><tr><td>4.971</td><td>0.091</td></tr><tr><td>4.954</td><td>0.0</td></tr><tr><td>5.048</td><td>0.191</td></tr><tr><td>4.55</td><td>0.107</td></tr><tr><td>4.794</td><td>0.196</td></tr><tr><td>4.624</td><td>0.324</td></tr><tr><td>4.417</td><td>0.173</td></tr><tr><td>4.466</td><td>0.39</td></tr><tr><td>4.545</td><td>0.398</td></tr><tr><td>4.372</td><td>0.269</td></tr><tr><td>4.395</td><td>0.399</td></tr><tr><td>4.426</td><td>0.341</td></tr><tr><td>4.394</td><td>0.491</td></tr><tr><td>4.307</td><td>0.482</td></tr><tr><td>4.308</td><td>0.429</td></tr><tr><td>4.36</td><td>0.555</td></tr><tr><td>4.308</td><td>0.495</td></tr><tr><td>4.631</td><td>0.145</td></tr><tr><td>4.574</td><td>0.339</td></tr><tr><td>4.574</td><td>0.347</td></tr><tr><td>4.639</td><td>0.477</td></tr><tr><td>4.441</td><td>0.365</td></tr><tr><td>4.571</td><td>0.407</td></tr><tr><td>4.574</td><td>0.262</td></tr><tr><td>4.459</td><td>0.354</td></tr><tr><td>5.36</td><td>0.281</td></tr><tr><td>5.377</td><td>0.499</td></tr><tr><td>5.269</td><td>0.496</td></tr><tr><td>5.137</td><td>0.669</td></tr><tr><td>4.962</td><td>0.504</td></tr><tr><td>4.913</td><td>0.677</td></tr><tr><td>4.88</td><td>0.539</td></tr><tr><td>4.793</td><td>0.501</td></tr><tr><td>4.514</td><td>0.569</td></tr><tr><td>7.488</td><td>0.999</td></tr><tr><td>7.464</td><td>0.753</td></tr><tr><td>7.415</td><td>0.787</td></tr><tr><td>7.403</td><td>0.545</td></tr><tr><td>7.377</td><td>0.811</td></tr><tr><td>7.441</td><td>0.878</td></tr><tr><td>7.449</td><td>0.976</td></tr><tr><td>7.378</td><td>0.893</td></tr><tr><td>7.339</td><td>0.812</td></tr><tr><td>7.334</td><td>0.831</td></tr><tr><td>7.314</td><td>0.817</td></tr><tr><td>7.324</td><td>0.876</td></tr><tr><td>7.307</td><td>1.026</td></tr><tr><td>7.3</td><td>1.008</td></tr><tr><td>7.286</td><td>0.908</td></tr><tr><td>7.277</td><td>0.785</td></tr><tr><td>7.2</td><td>0.752</td></tr><tr><td>7.123</td><td>0.513</td></tr><tr><td>6.259</td><td>0.385</td></tr><tr><td>6.141</td><td>0.7</td></tr><tr><td>6.071</td><td>0.653</td></tr><tr><td>6.105</td><td>0.835</td></tr><tr><td>6.165</td><td>0.617</td></tr><tr><td>6.137</td><td>0.803</td></tr><tr><td>5.992</td><td>0.652</td></tr><tr><td>5.972</td><td>0.604</td></tr><tr><td>5.828</td><td>0.743</td></tr><tr><td>5.074</td><td>0.167</td></tr><tr><td>4.91</td><td>0.299</td></tr><tr><td>5.003</td><td>0.326</td></tr><tr><td>4.501</td><td>0.137</td></tr><tr><td>4.628</td><td>0.366</td></tr><tr><td>4.166</td><td>0.221</td></tr><tr><td>4.028</td><td>0.269</td></tr><tr><td>3.856</td><td>0.262</td></tr><tr><td>3.845</td><td>0.297</td></tr><tr><td>5.268</td><td>0.16</td></tr><tr><td>5.265</td><td>0.245</td></tr><tr><td>5.155</td><td>0.048</td></tr><tr><td>5.074</td><td>0.057</td></tr><tr><td>4.981</td><td>0.092</td></tr><tr><td>4.875</td><td>0.051</td></tr><tr><td>4.724</td><td>0.168</td></tr><tr><td>4.759</td><td>0.051</td></tr><tr><td>4.552</td><td>0.3</td></tr><tr><td>5.81</td><td>0.835</td></tr><tr><td>5.771</td><td>0.841</td></tr><tr><td>5.695</td><td>0.924</td></tr><tr><td>5.536</td><td>0.801</td></tr><tr><td>5.536</td><td>1.026</td></tr><tr><td>7.537</td><td>0.797</td></tr><tr><td>7.594</td><td>0.861</td></tr><tr><td>7.554</td><td>1.028</td></tr><tr><td>7.522</td><td>0.885</td></tr><tr><td>7.498</td><td>0.796</td></tr><tr><td>7.488</td><td>1.008</td></tr><tr><td>7.392</td><td>0.782</td></tr><tr><td>7.315</td><td>0.544</td></tr><tr><td>7.365</td><td>0.786</td></tr><tr><td>6.853</td><td>0.763</td></tr><tr><td>5.693</td><td>0.47</td></tr><tr><td>5.653</td><td>0.535</td></tr><tr><td>5.472</td><td>0.424</td></tr><tr><td>5.269</td><td>0.402</td></tr><tr><td>5.194</td><td>0.515</td></tr><tr><td>5.132</td><td>0.403</td></tr><tr><td>4.934</td><td>0.322</td></tr><tr><td>4.555</td><td>0.158</td></tr><tr><td>4.516</td><td>0.374</td></tr><tr><td>4.775</td><td>0.566</td></tr><tr><td>4.743</td><td>0.602</td></tr><tr><td>4.715</td><td>0.66</td></tr><tr><td>4.754</td><td>0.568</td></tr><tr><td>4.696</td><td>0.672</td></tr><tr><td>4.483</td><td>0.521</td></tr><tr><td>4.553</td><td>0.614</td></tr><tr><td>4.517</td><td>0.434</td></tr><tr><td>6.786</td><td>0.797</td></tr><tr><td>6.701</td><td>0.708</td></tr><tr><td>6.43</td><td>0.759</td></tr><tr><td>6.452</td><td>0.706</td></tr><tr><td>6.321</td><td>0.91</td></tr><tr><td>6.305</td><td>0.879</td></tr><tr><td>6.309</td><td>0.709</td></tr><tr><td>6.265</td><td>0.475</td></tr><tr><td>6.18</td><td>0.667</td></tr><tr><td>5.878</td><td>0.661</td></tr><tr><td>5.743</td><td>0.777</td></tr><tr><td>5.681</td><td>0.615</td></tr><tr><td>5.738</td><td>0.392</td></tr><tr><td>5.692</td><td>0.736</td></tr><tr><td>5.538</td><td>0.583</td></tr><tr><td>5.493</td><td>0.579</td></tr><tr><td>5.653</td><td>0.549</td></tr><tr><td>5.578</td><td>0.624</td></tr><tr><td>5.824</td><td>0.73</td></tr><tr><td>5.715</td><td>0.63</td></tr><tr><td>5.797</td><td>0.824</td></tr><tr><td>5.84</td><td>0.623</td></tr><tr><td>5.743</td><td>0.63</td></tr><tr><td>5.663</td><td>0.674</td></tr><tr><td>5.697</td><td>0.854</td></tr><tr><td>5.559</td><td>0.735</td></tr><tr><td>5.526</td><td>0.499</td></tr><tr><td>6.006</td><td>0.602</td></tr><tr><td>5.904</td><td>0.514</td></tr><tr><td>5.88</td><td>0.426</td></tr><tr><td>5.631</td><td>0.657</td></tr><tr><td>5.524</td><td>0.513</td></tr><tr><td>5.43</td><td>0.468</td></tr><tr><td>5.523</td><td>0.286</td></tr><tr><td>5.279</td><td>0.47</td></tr><tr><td>5.073</td><td>0.581</td></tr><tr><td>6.26</td><td>0.477</td></tr><tr><td>6.182</td><td>0.884</td></tr><tr><td>6.123</td><td>0.781</td></tr><tr><td>6.186</td><td>0.868</td></tr><tr><td>6.166</td><td>0.668</td></tr><tr><td>5.973</td><td>0.699</td></tr><tr><td>6.123</td><td>0.712</td></tr><tr><td>5.835</td><td>0.691</td></tr><tr><td>5.791</td><td>0.779</td></tr><tr><td>6.016</td><td>0.777</td></tr><tr><td>5.968</td><td>0.537</td></tr><tr><td>5.929</td><td>0.76</td></tr><tr><td>5.911</td><td>0.979</td></tr><tr><td>5.693</td><td>0.999</td></tr><tr><td>5.41</td><td>0.884</td></tr><tr><td>5.102</td><td>0.875</td></tr><tr><td>5.195</td><td>0.796</td></tr><tr><td>5.123</td><td>0.794</td></tr><tr><td>7.039</td><td>0.778</td></tr><tr><td>6.611</td><td>0.797</td></tr><tr><td>6.374</td><td>0.871</td></tr><tr><td>6.374</td><td>0.748</td></tr><tr><td>6.375</td><td>0.71</td></tr><tr><td>6.375</td><td>0.717</td></tr><tr><td>6.589</td><td>0.423</td></tr><tr><td>6.477</td><td>0.655</td></tr><tr><td>6.14</td><td>0.595</td></tr><tr><td>6.124</td><td>0.792</td></tr><tr><td>6.07</td><td>0.825</td></tr><tr><td>5.945</td><td>0.726</td></tr><tr><td>5.825</td><td>0.685</td></tr><tr><td>5.528</td><td>0.676</td></tr><tr><td>5.124</td><td>0.769</td></tr><tr><td>5.963</td><td>0.547</td></tr><tr><td>5.856</td><td>0.59</td></tr><tr><td>5.81</td><td>0.599</td></tr><tr><td>5.716</td><td>0.669</td></tr><tr><td>5.648</td><td>0.726</td></tr><tr><td>5.661</td><td>0.366</td></tr><tr><td>5.546</td><td>0.68</td></tr><tr><td>5.477</td><td>0.511</td></tr><tr><td>5.459</td><td>0.586</td></tr><tr><td>3.268</td><td>0.462</td></tr><tr><td>3.415</td><td>0.407</td></tr><tr><td>3.312</td><td>0.572</td></tr><tr><td>3.471</td><td>0.326</td></tr><tr><td>3.408</td><td>0.4</td></tr><tr><td>3.515</td><td>0.319</td></tr><tr><td>3.334</td><td>0.614</td></tr><tr><td>3.465</td><td>0.429</td></tr><tr><td>6.523</td><td>0.577</td></tr><tr><td>6.494</td><td>0.571</td></tr><tr><td>6.406</td><td>0.76</td></tr><tr><td>6.375</td><td>0.795</td></tr><tr><td>6.463</td><td>0.351</td></tr><tr><td>6.371</td><td>0.633</td></tr><tr><td>6.379</td><td>0.593</td></tr><tr><td>6.411</td><td>0.72</td></tr><tr><td>6.344</td><td>0.59</td></tr><tr><td>5.132</td><td>0.357</td></tr><tr><td>4.981</td><td>0.518</td></tr><tr><td>4.855</td><td>0.231</td></tr><tr><td>5.046</td><td>0.447</td></tr><tr><td>4.631</td><td>0.433</td></tr><tr><td>4.681</td><td>0.571</td></tr><tr><td>4.535</td><td>0.409</td></tr><tr><td>4.219</td><td>0.405</td></tr><tr><td>3.904</td><td>0.435</td></tr><tr><td>6.178</td><td>0.658</td></tr><tr><td>6.144</td><td>0.424</td></tr><tr><td>6.078</td><td>0.634</td></tr><tr><td>5.778</td><td>0.828</td></tr><tr><td>5.603</td><td>0.854</td></tr><tr><td>5.395</td><td>0.651</td></tr><tr><td>5.398</td><td>0.685</td></tr><tr><td>5.177</td><td>0.646</td></tr><tr><td>5.123</td><td>0.748</td></tr><tr><td>4.709</td><td>0.006</td></tr><tr><td>4.635</td><td>0.0</td></tr><tr><td>4.571</td><td>0.0</td></tr><tr><td>4.507</td><td>0.0</td></tr><tr><td>4.374</td><td>0.242</td></tr><tr><td>3.138</td><td>0.092</td></tr><tr><td>3.849</td><td>0.1</td></tr><tr><td>3.926</td><td>0.204</td></tr><tr><td>3.574</td><td>0.273</td></tr><tr><td>6.739</td><td>0.947</td></tr><tr><td>6.798</td><td>1.025</td></tr><tr><td>6.587</td><td>0.607</td></tr><tr><td>6.572</td><td>0.949</td></tr><tr><td>6.48</td><td>0.851</td></tr><tr><td>6.377</td><td>1.138</td></tr><tr><td>6.377</td><td>0.897</td></tr><tr><td>6.343</td><td>1.008</td></tr><tr><td>6.262</td><td>1.141</td></tr><tr><td>6.469</td><td>0.472</td></tr><tr><td>6.331</td><td>0.653</td></tr><tr><td>6.391</td><td>0.707</td></tr><tr><td>6.281</td><td>0.853</td></tr><tr><td>6.198</td><td>0.881</td></tr><tr><td>6.173</td><td>0.776</td></tr><tr><td>6.098</td><td>0.713</td></tr><tr><td>5.995</td><td>0.789</td></tr><tr><td>6.078</td><td>0.704</td></tr><tr><td>6.63</td><td>0.769</td></tr><tr><td>6.65</td><td>0.532</td></tr><tr><td>6.461</td><td>0.722</td></tr><tr><td>6.363</td><td>0.933</td></tr><tr><td>6.118</td><td>0.953</td></tr><tr><td>5.948</td><td>0.856</td></tr><tr><td>5.848</td><td>0.873</td></tr><tr><td>5.758</td><td>0.791</td></tr><tr><td>5.768</td><td>0.792</td></tr><tr><td>5.44</td><td>0.115</td></tr><tr><td>5.057</td><td>0.439</td></tr><tr><td>5.151</td><td>0.114</td></tr><tr><td>5.057</td><td>0.331</td></tr><tr><td>4.982</td><td>0.115</td></tr><tr><td>4.668</td><td>0.268</td></tr><tr><td>5.275</td><td>0.149</td></tr><tr><td>5.194</td><td>0.361</td></tr><tr><td>4.829</td><td>0.187</td></tr><tr><td>4.956</td><td>0.265</td></tr><tr><td>4.724</td><td>0.33</td></tr><tr><td>4.722</td><td>0.469</td></tr><tr><td>4.814</td><td>0.407</td></tr><tr><td>4.642</td><td>0.277</td></tr><tr><td>4.459</td><td>0.186</td></tr><tr><td>5.984</td><td>0.965</td></tr><tr><td>5.895</td><td>1.036</td></tr><tr><td>5.838</td><td>0.9</td></tr><tr><td>5.835</td><td>0.886</td></tr><tr><td>5.875</td><td>0.955</td></tr><tr><td>5.951</td><td>0.603</td></tr><tr><td>5.935</td><td>0.841</td></tr><tr><td>5.872</td><td>1.023</td></tr><tr><td>5.845</td><td>0.801</td></tr><tr><td>3.832</td><td>0.158</td></tr><tr><td>3.591</td><td>0.163</td></tr><tr><td>6.491</td><td>0.826</td></tr><tr><td>6.401</td><td>1.051</td></tr><tr><td>6.476</td><td>0.808</td></tr><tr><td>6.354</td><td>1.062</td></tr><tr><td>6.436</td><td>0.567</td></tr><tr><td>6.403</td><td>0.889</td></tr><tr><td>6.329</td><td>0.956</td></tr><tr><td>6.31</td><td>0.965</td></tr><tr><td>6.361</td><td>0.879</td></tr><tr><td>4.442</td><td>0.426</td></tr><tr><td>4.471</td><td>0.672</td></tr><tr><td>4.415</td><td>0.62</td></tr><tr><td>4.44</td><td>0.625</td></tr><tr><td>4.362</td><td>0.66</td></tr><tr><td>4.325</td><td>0.593</td></tr><tr><td>4.366</td><td>0.831</td></tr><tr><td>4.327</td><td>0.792</td></tr><tr><td>4.271</td><td>0.708</td></tr><tr><td>4.55</td><td>0.369</td></tr><tr><td>4.139</td><td>0.291</td></tr><tr><td>4.139</td><td>0.298</td></tr><tr><td>2.817</td><td>0.209</td></tr><tr><td>3.254</td><td>0.177</td></tr><tr><td>2.853</td><td>0.295</td></tr><tr><td>6.269</td><td>0.608</td></tr><tr><td>6.269</td><td>0.509</td></tr><tr><td>4.867</td><td>0.076</td></tr><tr><td>4.308</td><td>0.074</td></tr><tr><td>4.308</td><td>0.216</td></tr><tr><td>4.212</td><td>0.0</td></tr><tr><td>7.395</td><td>0.562</td></tr><tr><td>7.343</td><td>1.009</td></tr><tr><td>7.353</td><td>0.986</td></tr><tr><td>7.363</td><td>0.763</td></tr><tr><td>7.384</td><td>0.803</td></tr><tr><td>7.364</td><td>0.911</td></tr><tr><td>7.284</td><td>0.831</td></tr><tr><td>7.314</td><td>0.913</td></tr><tr><td>7.291</td><td>0.831</td></tr><tr><td>7.587</td><td>0.941</td></tr><tr><td>7.509</td><td>0.863</td></tr><tr><td>7.56</td><td>1.041</td></tr><tr><td>7.571</td><td>0.816</td></tr><tr><td>7.494</td><td>0.858</td></tr><tr><td>7.512</td><td>0.822</td></tr><tr><td>7.487</td><td>0.927</td></tr><tr><td>7.48</td><td>1.052</td></tr><tr><td>7.24</td><td>0.582</td></tr><tr><td>3.462</td><td>0.44</td></tr><tr><td>3.462</td><td>0.539</td></tr><tr><td>3.462</td><td>0.501</td></tr><tr><td>3.069</td><td>0.63</td></tr><tr><td>3.006</td><td>0.722</td></tr><tr><td>6.584</td><td>0.665</td></tr><tr><td>6.446</td><td>0.914</td></tr><tr><td>6.455</td><td>0.878</td></tr><tr><td>6.441</td><td>0.857</td></tr><tr><td>6.512</td><td>0.733</td></tr><tr><td>6.535</td><td>0.492</td></tr><tr><td>6.422</td><td>0.794</td></tr><tr><td>6.379</td><td>0.796</td></tr><tr><td>6.298</td><td>0.875</td></tr><tr><td>5.556</td><td>0.681</td></tr><tr><td>5.467</td><td>0.718</td></tr><tr><td>5.466</td><td>0.498</td></tr><tr><td>5.33</td><td>0.291</td></tr><tr><td>5.377</td><td>0.518</td></tr><tr><td>5.199</td><td>0.598</td></tr><tr><td>5.041</td><td>0.529</td></tr><tr><td>4.996</td><td>0.531</td></tr><tr><td>4.786</td><td>0.574</td></tr><tr><td>3.694</td><td>0.214</td></tr><tr><td>3.702</td><td>0.425</td></tr><tr><td>3.623</td><td>0.3</td></tr><tr><td>3.781</td><td>0.382</td></tr><tr><td>3.476</td><td>0.443</td></tr><tr><td>3.666</td><td>0.357</td></tr><tr><td>3.349</td><td>0.365</td></tr><tr><td>3.303</td><td>0.381</td></tr><tr><td>3.231</td><td>0.499</td></tr><tr><td>6.424</td><td>0.647</td></tr><tr><td>6.474</td><td>0.649</td></tr><tr><td>6.455</td><td>0.739</td></tr><tr><td>6.072</td><td>0.707</td></tr><tr><td>6.008</td><td>0.828</td></tr><tr><td>5.999</td><td>0.794</td></tr><tr><td>5.985</td><td>0.596</td></tr><tr><td>5.843</td><td>0.461</td></tr><tr><td>5.891</td><td>0.697</td></tr><tr><td>4.137</td><td>0.161</td></tr><tr><td>4.187</td><td>0.343</td></tr><tr><td>4.112</td><td>0.36</td></tr><tr><td>4.107</td><td>0.203</td></tr><tr><td>3.999</td><td>0.253</td></tr><tr><td>4.085</td><td>0.41</td></tr><tr><td>3.495</td><td>0.247</td></tr><tr><td>3.303</td><td>0.248</td></tr><tr><td>2.839</td><td>0.284</td></tr><tr><td>6.168</td><td>0.52</td></tr><tr><td>6.192</td><td>0.564</td></tr><tr><td>6.192</td><td>0.713</td></tr><tr><td>6.168</td><td>0.615</td></tr><tr><td>6.192</td><td>0.659</td></tr><tr><td>6.168</td><td>0.526</td></tr><tr><td>5.045</td><td>0.596</td></tr><tr><td>4.805</td><td>0.613</td></tr><tr><td>4.739</td><td>0.738</td></tr><tr><td>4.497</td><td>0.422</td></tr><tr><td>4.592</td><td>0.69</td></tr><tr><td>4.516</td><td>0.656</td></tr><tr><td>4.596</td><td>0.59</td></tr><tr><td>4.461</td><td>0.815</td></tr><tr><td>4.392</td><td>0.781</td></tr><tr><td>5.5</td><td>0.638</td></tr><tr><td>5.483</td><td>0.686</td></tr><tr><td>5.332</td><td>0.732</td></tr><tr><td>5.389</td><td>0.647</td></tr><tr><td>5.373</td><td>0.808</td></tr><tr><td>5.132</td><td>0.781</td></tr><tr><td>4.948</td><td>0.59</td></tr><tr><td>4.614</td><td>0.467</td></tr><tr><td>4.744</td><td>0.702</td></tr><tr><td>5.822</td><td>0.438</td></tr><tr><td>5.658</td><td>0.44</td></tr><tr><td>5.636</td><td>0.517</td></tr><tr><td>5.548</td><td>0.539</td></tr><tr><td>5.474</td><td>0.516</td></tr><tr><td>5.247</td><td>0.657</td></tr><tr><td>5.119</td><td>0.612</td></tr><tr><td>5.066</td><td>0.439</td></tr><tr><td>4.432</td><td>0.201</td></tr><tr><td>4.603</td><td>0.418</td></tr><tr><td>4.636</td><td>0.24</td></tr><tr><td>4.432</td><td>0.378</td></tr><tr><td>4.081</td><td>0.218</td></tr><tr><td>4.161</td><td>0.237</td></tr><tr><td>4.189</td><td>0.443</td></tr><tr><td>3.931</td><td>0.339</td></tr><tr><td>3.739</td><td>0.196</td></tr><tr><td>5.071</td><td>0.355</td></tr><tr><td>5.084</td><td>0.583</td></tr><tr><td>4.875</td><td>0.517</td></tr><tr><td>4.681</td><td>0.674</td></tr><tr><td>4.324</td><td>0.586</td></tr><tr><td>4.561</td><td>0.699</td></tr><tr><td>4.096</td><td>0.576</td></tr><tr><td>4.332</td><td>0.739</td></tr><tr><td>4.103</td><td>0.609</td></tr><tr><td>6.901</td><td>0.809</td></tr><tr><td>6.648</td><td>0.727</td></tr><tr><td>6.825</td><td>0.825</td></tr><tr><td>6.791</td><td>0.788</td></tr><tr><td>6.576</td><td>0.633</td></tr><tr><td>6.561</td><td>0.594</td></tr><tr><td>6.571</td><td>0.401</td></tr><tr><td>6.573</td><td>0.73</td></tr><tr><td>7.19</td><td>0.888</td></tr><tr><td>7.165</td><td>0.976</td></tr><tr><td>7.054</td><td>0.996</td></tr><tr><td>7.064</td><td>0.757</td></tr><tr><td>6.943</td><td>0.75</td></tr><tr><td>6.714</td><td>0.805</td></tr><tr><td>6.796</td><td>0.511</td></tr><tr><td>6.867</td><td>0.909</td></tr><tr><td>6.725</td><td>0.81</td></tr><tr><td>7.104</td><td>0.779</td></tr><tr><td>6.993</td><td>0.774</td></tr><tr><td>7.119</td><td>0.862</td></tr><tr><td>6.894</td><td>0.39</td></tr><tr><td>6.977</td><td>0.628</td></tr><tr><td>6.886</td><td>0.819</td></tr><tr><td>6.94</td><td>0.832</td></tr><tr><td>6.892</td><td>0.874</td></tr><tr><td>6.951</td><td>0.621</td></tr><tr><td>6.44</td><td>0.857</td></tr><tr><td>6.454</td><td>0.719</td></tr><tr><td>6.494</td><td>0.435</td></tr><tr><td>6.545</td><td>0.722</td></tr><tr><td>6.474</td><td>0.672</td></tr><tr><td>6.379</td><td>0.771</td></tr><tr><td>6.431</td><td>0.649</td></tr><tr><td>6.485</td><td>0.812</td></tr><tr><td>6.293</td><td>0.891</td></tr><tr><td>6.258</td><td>0.717</td></tr><tr><td>6.174</td><td>0.756</td></tr><tr><td>6.179</td><td>0.528</td></tr><tr><td>6.003</td><td>0.598</td></tr><tr><td>6.096</td><td>0.605</td></tr><tr><td>5.971</td><td>0.498</td></tr><tr><td>5.987</td><td>0.502</td></tr><tr><td>6.063</td><td>0.6</td></tr><tr><td>6.014</td><td>0.375</td></tr><tr><td>6.81</td><td>0.721</td></tr><tr><td>6.084</td><td>0.619</td></tr><tr><td>5.25</td><td>0.617</td></tr><tr><td>5.211</td><td>0.341</td></tr><tr><td>5.053</td><td>0.767</td></tr><tr><td>4.806</td><td>0.657</td></tr><tr><td>4.892</td><td>0.574</td></tr><tr><td>4.707</td><td>0.805</td></tr><tr><td>4.925</td><td>0.578</td></tr><tr><td>5.763</td><td>0.381</td></tr><tr><td>5.36</td><td>0.747</td></tr><tr><td>5.485</td><td>0.611</td></tr><tr><td>5.411</td><td>0.616</td></tr><tr><td>5.353</td><td>0.819</td></tr><tr><td>5.074</td><td>0.652</td></tr><tr><td>5.175</td><td>0.851</td></tr><tr><td>5.103</td><td>0.702</td></tr><tr><td>5.061</td><td>0.662</td></tr><tr><td>4.197</td><td>0.384</td></tr><tr><td>4.077</td><td>0.401</td></tr><tr><td>3.658</td><td>0.272</td></tr><tr><td>3.593</td><td>0.31</td></tr><tr><td>3.527</td><td>0.415</td></tr><tr><td>3.724</td><td>0.31</td></tr><tr><td>3.38</td><td>0.463</td></tr><tr><td>3.355</td><td>0.343</td></tr><tr><td>5.129</td><td>0.299</td></tr><tr><td>4.795</td><td>0.236</td></tr><tr><td>4.514</td><td>0.258</td></tr><tr><td>4.377</td><td>0.295</td></tr><tr><td>3.982</td><td>0.095</td></tr><tr><td>4.073</td><td>0.231</td></tr><tr><td>3.76</td><td>0.306</td></tr><tr><td>4.107</td><td>0.426</td></tr><tr><td>3.759</td><td>0.364</td></tr><tr><td>4.61</td><td>0.335</td></tr><tr><td>4.193</td><td>0.16</td></tr><tr><td>3.204</td><td>0.069</td></tr><tr><td>3.875</td><td>0.197</td></tr><tr><td>3.692</td><td>0.248</td></tr><tr><td>2.995</td><td>0.27</td></tr><tr><td>3.663</td><td>0.433</td></tr><tr><td>3.145</td><td>0.243</td></tr><tr><td>3.299</td><td>0.375</td></tr></tbody></table></div>"
      ]
     },
     "metadata": {
      "application/vnd.databricks.v1+output": {
       "addedWidgets": {},
       "aggData": [],
       "aggError": "",
       "aggOverflow": false,
       "aggSchema": [],
       "aggSeriesLimitReached": false,
       "aggType": "",
       "arguments": {},
       "columnCustomDisplayInfos": {},
       "data": [
        [
         1.859,
         0.087
        ],
        [
         3.794,
         0.181
        ],
        [
         3.632,
         0.255
        ],
        [
         2.404,
         0.289
        ],
        [
         2.523,
         0.126
        ],
        [
         2.567,
         0.266
        ],
        [
         3.575,
         0.303
        ],
        [
         3.36,
         0.173
        ],
        [
         3.203,
         0.361
        ],
        [
         5.277,
         0.48
        ],
        [
         5.199,
         0.719
        ],
        [
         5.117,
         0.646
        ],
        [
         4.959,
         0.813
        ],
        [
         4.883,
         0.846
        ],
        [
         4.719,
         0.874
        ],
        [
         4.655,
         0.73
        ],
        [
         4.644,
         0.731
        ],
        [
         4.586,
         0.79
        ],
        [
         6.355,
         0.618
        ],
        [
         5.872,
         0.618
        ],
        [
         5.605,
         0.618
        ],
        [
         5.329,
         0.409
        ],
        [
         5.295,
         0.687
        ],
        [
         5.211,
         0.785
        ],
        [
         5.122,
         0.643
        ],
        [
         5.005,
         0.745
        ],
        [
         4.887,
         0.552
        ],
        [
         4.033,
         0.167
        ],
        [
         3.795,
         0.05
        ],
        [
         3.866,
         0.05
        ],
        [
         3.795,
         0.269
        ],
        [
         6.599,
         0.695
        ],
        [
         6.65,
         0.697
        ],
        [
         6.388,
         0.744
        ],
        [
         6.574,
         0.787
        ],
        [
         6.086,
         0.881
        ],
        [
         6.024,
         0.427
        ],
        [
         5.975,
         0.85
        ],
        [
         5.929,
         0.646
        ],
        [
         5.967,
         0.662
        ],
        [
         5.342,
         0.443
        ],
        [
         5.399,
         0.668
        ],
        [
         5.283,
         0.585
        ],
        [
         4.559,
         0.815
        ],
        [
         4.677,
         0.776
        ],
        [
         4.36,
         0.641
        ],
        [
         4.376,
         0.638
        ],
        [
         4.35,
         0.73
        ],
        [
         4.321,
         0.666
        ],
        [
         7.313,
         0.851
        ],
        [
         7.284,
         0.844
        ],
        [
         7.272,
         0.91
        ],
        [
         7.284,
         0.932
        ],
        [
         7.228,
         1.036
        ],
        [
         7.183,
         0.801
        ],
        [
         7.223,
         1.023
        ],
        [
         7.162,
         0.772
        ],
        [
         7.095,
         0.532
        ],
        [
         7.294,
         1.001
        ],
        [
         7.246,
         1.016
        ],
        [
         7.268,
         0.782
        ],
        [
         7.163,
         0.774
        ],
        [
         7.097,
         0.535
        ],
        [
         7.119,
         0.806
        ],
        [
         7.139,
         0.891
        ],
        [
         7.006,
         0.815
        ],
        [
         7.2,
         0.89
        ],
        [
         5.212,
         0.64
        ],
        [
         5.291,
         0.545
        ],
        [
         5.234,
         0.541
        ],
        [
         5.201,
         0.603
        ],
        [
         5.165,
         0.731
        ],
        [
         5.208,
         0.769
        ],
        [
         5.171,
         0.541
        ],
        [
         5.173,
         0.56
        ],
        [
         6.647,
         0.625
        ],
        [
         6.647,
         0.662
        ],
        [
         6.199,
         0.871
        ],
        [
         6.227,
         0.839
        ],
        [
         6.087,
         0.653
        ],
        [
         6.218,
         0.657
        ],
        [
         6.173,
         0.389
        ],
        [
         6.105,
         0.698
        ],
        [
         5.96,
         0.747
        ],
        [
         5.155,
         0.581
        ],
        [
         5.025,
         0.514
        ],
        [
         4.833,
         0.695
        ],
        [
         4.694,
         0.602
        ],
        [
         4.643,
         0.53
        ],
        [
         4.608,
         0.533
        ],
        [
         4.5,
         0.579
        ],
        [
         4.282,
         0.355
        ],
        [
         4.456,
         0.723
        ],
        [
         5.813,
         0.736
        ],
        [
         5.802,
         0.631
        ],
        [
         5.821,
         0.629
        ],
        [
         5.569,
         0.638
        ],
        [
         5.483,
         0.7
        ],
        [
         5.54,
         0.753
        ],
        [
         5.534,
         0.56
        ],
        [
         5.323,
         0.789
        ],
        [
         6.927,
         0.894
        ],
        [
         6.891,
         0.818
        ],
        [
         6.859,
         0.528
        ],
        [
         6.929,
         0.82
        ],
        [
         6.923,
         0.986
        ],
        [
         6.805,
         0.764
        ],
        [
         6.937,
         0.897
        ],
        [
         6.864,
         0.965
        ],
        [
         6.834,
         0.747
        ],
        [
         5.956,
         0.474
        ],
        [
         5.956,
         0.45
        ],
        [
         5.956,
         0.456
        ],
        [
         5.216,
         0.328
        ],
        [
         5.045,
         0.196
        ],
        [
         4.883,
         0.397
        ],
        [
         4.623,
         0.335
        ],
        [
         4.374,
         0.124
        ],
        [
         4.141,
         0.24
        ],
        [
         3.657,
         0.21
        ],
        [
         3.484,
         0.21
        ],
        [
         3.34,
         0.319
        ],
        [
         5.253,
         0.574
        ],
        [
         5.196,
         0.498
        ],
        [
         5.082,
         0.604
        ],
        [
         5.011,
         0.496
        ],
        [
         5.082,
         0.527
        ],
        [
         5.89,
         0.539
        ],
        [
         5.823,
         0.474
        ],
        [
         5.822,
         0.47
        ],
        [
         5.779,
         0.706
        ],
        [
         5.752,
         0.508
        ],
        [
         5.747,
         0.662
        ],
        [
         5.716,
         0.486
        ],
        [
         5.684,
         0.329
        ],
        [
         5.6,
         0.555
        ],
        [
         5.813,
         0.618
        ],
        [
         5.768,
         0.665
        ],
        [
         5.674,
         0.814
        ],
        [
         5.633,
         0.429
        ],
        [
         5.386,
         0.845
        ],
        [
         5.163,
         0.708
        ],
        [
         5.182,
         0.705
        ],
        [
         5.129,
         0.758
        ],
        [
         4.949,
         0.791
        ],
        [
         4.332,
         0.048
        ],
        [
         3.435,
         0.087
        ],
        [
         3.974,
         0.348
        ],
        [
         3.766,
         0.342
        ],
        [
         3.471,
         0.28
        ],
        [
         3.59,
         0.417
        ],
        [
         3.467,
         0.34
        ],
        [
         3.479,
         0.494
        ],
        [
         3.488,
         0.538
        ],
        [
         6.983,
         0.697
        ],
        [
         6.952,
         0.614
        ],
        [
         6.635,
         0.617
        ],
        [
         6.419,
         0.675
        ],
        [
         6.3,
         0.802
        ],
        [
         6.376,
         0.766
        ],
        [
         6.33,
         0.571
        ],
        [
         6.293,
         0.615
        ],
        [
         6.125,
         0.387
        ],
        [
         5.466,
         0.408
        ],
        [
         5.371,
         0.64
        ],
        [
         5.266,
         0.583
        ],
        [
         5.102,
         0.778
        ],
        [
         5.011,
         0.815
        ],
        [
         4.933,
         0.712
        ],
        [
         4.714,
         0.708
        ],
        [
         4.217,
         0.678
        ],
        [
         4.218,
         0.766
        ],
        [
         4.638,
         0.107
        ],
        [
         4.769,
         0.313
        ],
        [
         4.834,
         0.179
        ],
        [
         4.67,
         0.32
        ],
        [
         4.587,
         0.38
        ],
        [
         4.424,
         0.254
        ],
        [
         4.032,
         0.216
        ],
        [
         3.739,
         0.213
        ],
        [
         3.587,
         0.271
        ],
        [
         3.775,
         0.295
        ],
        [
         3.775,
         0.155
        ],
        [
         3.775,
         0.38
        ],
        [
         2.905,
         0.152
        ],
        [
         2.905,
         0.145
        ],
        [
         2.905,
         0.157
        ],
        [
         2.905,
         0.224
        ],
        [
         4.848,
         0.588
        ],
        [
         4.7,
         0.637
        ],
        [
         4.83,
         0.426
        ],
        [
         4.64,
         0.505
        ],
        [
         4.393,
         0.283
        ],
        [
         4.433,
         0.457
        ],
        [
         4.168,
         0.43
        ],
        [
         3.907,
         0.425
        ],
        [
         3.819,
         0.611
        ],
        [
         5.142,
         0.159
        ],
        [
         5.044,
         0.331
        ],
        [
         4.973,
         0.118
        ],
        [
         5.085,
         0.27
        ],
        [
         4.975,
         0.182
        ],
        [
         5.048,
         0.317
        ],
        [
         4.695,
         0.133
        ],
        [
         4.513,
         0.127
        ],
        [
         4.252,
         0.234
        ],
        [
         7.427,
         0.906
        ],
        [
         7.404,
         0.828
        ],
        [
         7.316,
         0.835
        ],
        [
         7.328,
         0.896
        ],
        [
         7.278,
         1.039
        ],
        [
         7.232,
         1.023
        ],
        [
         6.961,
         0.541
        ],
        [
         7.103,
         0.798
        ],
        [
         7.025,
         0.783
        ],
        [
         3.678,
         0.067
        ],
        [
         3.476,
         0.0
        ],
        [
         2.693,
         0.019
        ],
        [
         3.083,
         0.01
        ],
        [
         3.083,
         0.105
        ],
        [
         4.397,
         0.043
        ],
        [
         4.423,
         0.109
        ],
        [
         4.355,
         0.0
        ],
        [
         4.251,
         0.225
        ],
        [
         4.301,
         0.053
        ],
        [
         4.35,
         0.192
        ],
        [
         3.936,
         0.041
        ],
        [
         3.763,
         0.038
        ],
        [
         3.667,
         0.15
        ],
        [
         6.652,
         0.819
        ],
        [
         6.705,
         0.819
        ],
        [
         6.476,
         0.808
        ],
        [
         6.444,
         0.92
        ],
        [
         6.67,
         0.859
        ],
        [
         6.334,
         0.511
        ],
        [
         6.228,
         0.889
        ],
        [
         6.172,
         0.678
        ],
        [
         6.172,
         0.748
        ],
        [
         5.818,
         0.468
        ],
        [
         5.585,
         0.705
        ],
        [
         5.273,
         0.741
        ],
        [
         5.245,
         0.736
        ],
        [
         5.339,
         0.665
        ],
        [
         5.14,
         0.817
        ],
        [
         5.246,
         0.799
        ],
        [
         5.191,
         0.893
        ],
        [
         5.124,
         0.867
        ],
        [
         6.481,
         0.597
        ],
        [
         6.477,
         0.691
        ],
        [
         6.357,
         0.595
        ],
        [
         6.26,
         0.635
        ],
        [
         6.125,
         0.841
        ],
        [
         6.163,
         0.81
        ],
        [
         6.012,
         0.615
        ],
        [
         5.781,
         0.72
        ],
        [
         5.63,
         0.486
        ],
        [
         4.609,
         0.424
        ],
        [
         3.545,
         0.215
        ],
        [
         4.289,
         0.279
        ],
        [
         4.289,
         0.437
        ],
        [
         3.956,
         0.3
        ],
        [
         3.956,
         0.363
        ],
        [
         3.973,
         0.505
        ],
        [
         5.342,
         0.307
        ],
        [
         5.267,
         0.145
        ],
        [
         5.194,
         0.458
        ],
        [
         5.075,
         0.355
        ],
        [
         4.812,
         0.508
        ],
        [
         4.559,
         0.343
        ],
        [
         4.291,
         0.29
        ],
        [
         4.236,
         0.282
        ],
        [
         3.989,
         0.311
        ],
        [
         4.517,
         0.098
        ],
        [
         4.272,
         0.188
        ],
        [
         4.28,
         0.191
        ],
        [
         4.418,
         0.357
        ],
        [
         4.311,
         0.277
        ],
        [
         4.245,
         0.204
        ],
        [
         3.207,
         0.105
        ],
        [
         7.226,
         0.86
        ],
        [
         7.079,
         0.76
        ],
        [
         7.167,
         0.963
        ],
        [
         7.072,
         0.817
        ],
        [
         7.087,
         0.761
        ],
        [
         7.121,
         0.94
        ],
        [
         7.069,
         0.722
        ],
        [
         6.582,
         0.744
        ],
        [
         6.609,
         0.503
        ],
        [
         6.125,
         0.709
        ],
        [
         6.125,
         0.475
        ],
        [
         5.882,
         0.703
        ],
        [
         5.759,
         0.788
        ],
        [
         5.488,
         0.705
        ],
        [
         5.432,
         0.914
        ],
        [
         5.293,
         0.701
        ],
        [
         5.505,
         0.901
        ],
        [
         5.321,
         0.737
        ],
        [
         6.223,
         0.801
        ],
        [
         6.221,
         0.819
        ],
        [
         6.159,
         1.026
        ],
        [
         6.13,
         0.58
        ],
        [
         6.046,
         1.042
        ],
        [
         5.762,
         0.909
        ],
        [
         5.621,
         0.845
        ],
        [
         5.689,
         0.924
        ],
        [
         5.546,
         0.849
        ],
        [
         6.965,
         0.703
        ],
        [
         6.92,
         0.715
        ],
        [
         6.845,
         0.477
        ],
        [
         6.911,
         0.895
        ],
        [
         6.852,
         0.92
        ],
        [
         6.711,
         0.854
        ],
        [
         6.609,
         0.754
        ],
        [
         6.596,
         0.764
        ],
        [
         6.505,
         0.845
        ],
        [
         7.526,
         0.795
        ],
        [
         7.522,
         0.793
        ],
        [
         7.6,
         0.996
        ],
        [
         7.646,
         0.979
        ],
        [
         7.62,
         0.763
        ],
        [
         7.636,
         0.777
        ],
        [
         7.586,
         0.537
        ],
        [
         7.527,
         0.875
        ],
        [
         7.555,
         0.868
        ],
        [
         4.369,
         0.363
        ],
        [
         5.689,
         0.742
        ],
        [
         5.737,
         0.577
        ],
        [
         5.545,
         0.555
        ],
        [
         5.569,
         0.351
        ],
        [
         5.425,
         0.779
        ],
        [
         5.302,
         0.614
        ],
        [
         5.23,
         0.575
        ],
        [
         5.155,
         0.577
        ],
        [
         4.885,
         0.668
        ],
        [
         6.008,
         0.686
        ],
        [
         5.973,
         0.736
        ],
        [
         5.975,
         0.791
        ],
        [
         6.028,
         0.868
        ],
        [
         5.976,
         0.686
        ],
        [
         5.925,
         0.839
        ],
        [
         5.764,
         0.64
        ],
        [
         5.559,
         0.476
        ],
        [
         5.533,
         0.708
        ],
        [
         4.735,
         0.52
        ],
        [
         4.362,
         0.521
        ],
        [
         4.17,
         0.326
        ],
        [
         4.419,
         0.553
        ],
        [
         4.288,
         0.548
        ],
        [
         4.283,
         0.426
        ],
        [
         4.194,
         0.617
        ],
        [
         4.166,
         0.644
        ],
        [
         4.151,
         0.597
        ],
        [
         6.348,
         0.753
        ],
        [
         6.253,
         0.789
        ],
        [
         6.167,
         0.639
        ],
        [
         6.13,
         0.677
        ],
        [
         6.003,
         0.596
        ],
        [
         6.068,
         0.596
        ],
        [
         6.061,
         0.565
        ],
        [
         6.12,
         0.607
        ],
        [
         6.122,
         0.383
        ],
        [
         6.455,
         0.494
        ],
        [
         6.341,
         0.728
        ],
        [
         6.189,
         0.64
        ],
        [
         6.022,
         0.843
        ],
        [
         5.893,
         0.874
        ],
        [
         5.739,
         0.737
        ],
        [
         5.611,
         0.695
        ],
        [
         5.517,
         0.681
        ],
        [
         5.429,
         0.774
        ],
        [
         4.396,
         0.197
        ],
        [
         4.508,
         0.346
        ],
        [
         4.46,
         0.353
        ],
        [
         4.512,
         0.441
        ],
        [
         4.091,
         0.25
        ],
        [
         4.35,
         0.391
        ],
        [
         4.241,
         0.457
        ],
        [
         4.275,
         0.331
        ],
        [
         4.286,
         0.532
        ],
        [
         4.186,
         0.484
        ],
        [
         7.632,
         0.874
        ],
        [
         7.769,
         0.986
        ],
        [
         7.809,
         0.961
        ],
        [
         7.842,
         0.741
        ],
        [
         7.821,
         0.775
        ],
        [
         7.804,
         0.535
        ],
        [
         7.413,
         0.811
        ],
        [
         7.469,
         0.809
        ],
        [
         7.406,
         0.889
        ],
        [
         6.687,
         0.808
        ],
        [
         6.69,
         0.804
        ],
        [
         6.661,
         0.566
        ],
        [
         6.489,
         0.908
        ],
        [
         6.664,
         1.03
        ],
        [
         6.592,
         1.045
        ],
        [
         6.575,
         0.946
        ],
        [
         6.442,
         0.844
        ],
        [
         6.478,
         0.838
        ],
        [
         5.035,
         0.183
        ],
        [
         4.758,
         0.404
        ],
        [
         4.799,
         0.571
        ],
        [
         4.958,
         0.396
        ],
        [
         4.829,
         0.523
        ],
        [
         4.852,
         0.362
        ],
        [
         4.465,
         0.357
        ],
        [
         4.121,
         0.349
        ],
        [
         3.896,
         0.434
        ],
        [
         5.164,
         0.369
        ],
        [
         5.051,
         0.21
        ],
        [
         4.751,
         0.353
        ],
        [
         4.279,
         0.174
        ],
        [
         4.516,
         0.428
        ],
        [
         5.109,
         0.366
        ],
        [
         4.973,
         0.595
        ],
        [
         4.891,
         0.498
        ],
        [
         4.673,
         0.695
        ],
        [
         4.519,
         0.752
        ],
        [
         4.286,
         0.65
        ],
        [
         4.252,
         0.64
        ],
        [
         4.34,
         0.643
        ],
        [
         4.297,
         0.729
        ],
        [
         7.155,
         0.757
        ],
        [
         7.034,
         0.776
        ],
        [
         6.965,
         0.861
        ],
        [
         6.994,
         0.815
        ],
        [
         6.951,
         0.799
        ],
        [
         6.892,
         0.539
        ],
        [
         6.985,
         0.987
        ],
        [
         7.076,
         0.972
        ],
        [
         6.75,
         0.892
        ],
        [
         5.148,
         0.432
        ],
        [
         5.088,
         0.287
        ],
        [
         4.996,
         0.486
        ],
        [
         4.605,
         0.197
        ],
        [
         4.657,
         0.337
        ],
        [
         4.872,
         0.409
        ],
        [
         4.633,
         0.401
        ],
        [
         4.276,
         0.297
        ],
        [
         4.12,
         0.296
        ],
        [
         5.948,
         0.774
        ],
        [
         5.931,
         0.535
        ],
        [
         5.723,
         0.76
        ],
        [
         5.515,
         0.979
        ],
        [
         5.358,
         0.879
        ],
        [
         5.287,
         0.999
        ],
        [
         5.227,
         0.81
        ],
        [
         5.033,
         0.8
        ],
        [
         4.857,
         0.882
        ],
        [
         6.436,
         0.746
        ],
        [
         6.454,
         0.54
        ],
        [
         6.399,
         0.706
        ],
        [
         6.382,
         0.608
        ],
        [
         6.435,
         0.519
        ],
        [
         6.324,
         0.54
        ],
        [
         6.262,
         0.522
        ],
        [
         6.123,
         0.644
        ],
        [
         6.15,
         0.31
        ],
        [
         5.072,
         0.072
        ],
        [
         4.949,
         0.334
        ],
        [
         4.984,
         0.206
        ],
        [
         4.891,
         0.275
        ],
        [
         4.534,
         0.375
        ],
        [
         3.964,
         0.211
        ],
        [
         3.507,
         0.194
        ],
        [
         3.656,
         0.24
        ],
        [
         3.607,
         0.188
        ],
        [
         4.518,
         0.388
        ],
        [
         4.028,
         0.275
        ],
        [
         3.721,
         0.374
        ],
        [
         3.615,
         0.227
        ],
        [
         3.603,
         0.277
        ],
        [
         3.597,
         0.449
        ],
        [
         3.582,
         0.289
        ],
        [
         6.023,
         0.341
        ],
        [
         6.022,
         0.555
        ],
        [
         5.953,
         0.792
        ],
        [
         5.86,
         0.828
        ],
        [
         5.919,
         0.593
        ],
        [
         5.504,
         0.622
        ],
        [
         5.181,
         0.583
        ],
        [
         4.871,
         0.584
        ],
        [
         4.788,
         0.695
        ],
        [
         5.472,
         0.943
        ],
        [
         5.474,
         1.013
        ],
        [
         5.458,
         0.953
        ],
        [
         5.43,
         1.03
        ],
        [
         5.43,
         1.122
        ],
        [
         5.477,
         0.893
        ],
        [
         5.51,
         1.137
        ],
        [
         5.425,
         0.942
        ],
        [
         5.308,
         0.702
        ],
        [
         6.086,
         0.668
        ],
        [
         6.041,
         0.435
        ],
        [
         6.0,
         0.807
        ],
        [
         5.992,
         0.615
        ],
        [
         5.758,
         0.828
        ],
        [
         5.62,
         0.732
        ],
        [
         5.324,
         0.688
        ],
        [
         5.145,
         0.676
        ],
        [
         4.8,
         0.759
        ],
        [
         7.561,
         0.948
        ],
        [
         7.501,
         0.867
        ],
        [
         7.504,
         0.834
        ],
        [
         7.557,
         0.803
        ],
        [
         7.53,
         0.559
        ],
        [
         7.495,
         0.914
        ],
        [
         7.494,
         1.026
        ],
        [
         7.504,
         1.001
        ],
        [
         7.554,
         0.772
        ],
        [
         4.565,
         0.515
        ],
        [
         4.404,
         0.451
        ],
        [
         4.315,
         0.455
        ],
        [
         4.036,
         0.252
        ],
        [
         4.19,
         0.485
        ],
        [
         3.777,
         0.471
        ],
        [
         3.819,
         0.383
        ],
        [
         4.015,
         0.588
        ],
        [
         3.573,
         0.541
        ],
        [
         5.399,
         0.638
        ],
        [
         5.314,
         0.494
        ],
        [
         5.262,
         0.492
        ],
        [
         5.345,
         0.433
        ],
        [
         5.286,
         0.61
        ],
        [
         5.277,
         0.314
        ],
        [
         5.24,
         0.539
        ],
        [
         5.192,
         0.66
        ],
        [
         5.093,
         0.522
        ],
        [
         4.876,
         0.411
        ],
        [
         4.813,
         0.642
        ],
        [
         4.707,
         0.691
        ],
        [
         4.692,
         0.639
        ],
        [
         4.888,
         0.642
        ],
        [
         4.686,
         0.698
        ],
        [
         4.548,
         0.785
        ],
        [
         4.672,
         0.749
        ],
        [
         4.721,
         0.561
        ],
        [
         4.941,
         0.324
        ],
        [
         4.941,
         0.554
        ],
        [
         4.785,
         0.529
        ],
        [
         4.854,
         0.381
        ],
        [
         4.575,
         0.511
        ],
        [
         4.677,
         0.602
        ],
        [
         4.497,
         0.501
        ],
        [
         4.456,
         0.536
        ],
        [
         4.437,
         0.574
        ],
        [
         7.041,
         0.779
        ],
        [
         6.977,
         0.876
        ],
        [
         6.911,
         0.539
        ],
        [
         6.977,
         0.81
        ],
        [
         7.085,
         0.753
        ],
        [
         7.021,
         0.999
        ],
        [
         7.094,
         0.976
        ],
        [
         6.94,
         0.895
        ],
        [
         6.907,
         0.815
        ],
        [
         7.473,
         0.577
        ],
        [
         7.364,
         0.818
        ],
        [
         7.278,
         0.914
        ],
        [
         7.267,
         0.849
        ],
        [
         7.213,
         0.838
        ],
        [
         7.157,
         0.788
        ],
        [
         7.139,
         1.029
        ],
        [
         7.129,
         1.008
        ],
        [
         6.814,
         0.883
        ],
        [
         6.483,
         0.798
        ],
        [
         6.387,
         1.023
        ],
        [
         6.467,
         0.801
        ],
        [
         6.405,
         0.559
        ],
        [
         6.223,
         1.039
        ],
        [
         6.0,
         0.946
        ],
        [
         5.964,
         0.853
        ],
        [
         5.948,
         0.954
        ],
        [
         5.977,
         0.851
        ],
        [
         5.233,
         0.155
        ],
        [
         5.306,
         0.052
        ],
        [
         5.235,
         0.322
        ],
        [
         5.053,
         0.12
        ],
        [
         4.944,
         0.232
        ],
        [
         4.671,
         0.08
        ],
        [
         4.18,
         0.049
        ],
        [
         3.916,
         0.045
        ],
        [
         3.655,
         0.152
        ],
        [
         6.309,
         0.599
        ],
        [
         5.89,
         0.693
        ],
        [
         5.89,
         0.831
        ],
        [
         5.89,
         0.788
        ],
        [
         5.85,
         0.646
        ],
        [
         5.709,
         0.687
        ],
        [
         5.703,
         0.411
        ],
        [
         5.51,
         0.595
        ],
        [
         5.311,
         0.641
        ],
        [
         5.987,
         0.991
        ],
        [
         6.129,
         0.622
        ],
        [
         5.92,
         0.913
        ],
        [
         5.921,
         0.915
        ],
        [
         5.915,
         0.988
        ],
        [
         6.039,
         0.866
        ],
        [
         5.94,
         0.838
        ],
        [
         5.886,
         1.088
        ],
        [
         5.871,
         1.073
        ],
        [
         5.336,
         0.605
        ],
        [
         5.303,
         0.607
        ],
        [
         5.192,
         0.696
        ],
        [
         5.161,
         0.645
        ],
        [
         4.906,
         0.815
        ],
        [
         4.633,
         0.778
        ],
        [
         4.12,
         0.438
        ],
        [
         4.395,
         0.583
        ],
        [
         4.152,
         0.675
        ],
        [
         6.234,
         0.611
        ],
        [
         6.144,
         0.389
        ],
        [
         6.152,
         0.527
        ],
        [
         6.058,
         0.699
        ],
        [
         5.855,
         0.644
        ],
        [
         5.919,
         0.574
        ],
        [
         5.819,
         0.606
        ],
        [
         5.79,
         0.631
        ],
        [
         5.809,
         0.729
        ],
        [
         4.487,
         0.19
        ],
        [
         4.553,
         0.31
        ],
        [
         4.543,
         0.401
        ],
        [
         4.509,
         0.581
        ],
        [
         4.583,
         0.536
        ],
        [
         4.607,
         0.385
        ],
        [
         4.356,
         0.301
        ],
        [
         4.41,
         0.454
        ],
        [
         4.419,
         0.414
        ],
        [
         6.455,
         0.569
        ],
        [
         6.372,
         0.483
        ],
        [
         6.368,
         0.372
        ],
        [
         6.325,
         0.673
        ],
        [
         6.1,
         0.758
        ],
        [
         5.662,
         0.578
        ],
        [
         5.589,
         0.631
        ],
        [
         5.401,
         0.54
        ],
        [
         5.279,
         0.541
        ],
        [
         6.295,
         0.725
        ],
        [
         6.105,
         0.632
        ],
        [
         6.239,
         0.636
        ],
        [
         6.083,
         0.675
        ],
        [
         6.106,
         0.58
        ],
        [
         6.102,
         0.776
        ],
        [
         6.106,
         0.747
        ],
        [
         6.021,
         0.808
        ],
        [
         5.825,
         0.417
        ],
        [
         5.828,
         0.638
        ],
        [
         5.744,
         0.501
        ],
        [
         5.542,
         0.681
        ],
        [
         5.286,
         0.651
        ],
        [
         5.185,
         0.554
        ],
        [
         5.261,
         0.723
        ],
        [
         5.131,
         0.594
        ],
        [
         5.004,
         0.553
        ],
        [
         5.111,
         0.257
        ],
        [
         5.14,
         0.479
        ],
        [
         4.876,
         0.549
        ],
        [
         5.03,
         0.33
        ],
        [
         4.876,
         0.383
        ],
        [
         4.889,
         0.486
        ],
        [
         4.796,
         0.551
        ],
        [
         4.623,
         0.441
        ],
        [
         6.213,
         0.405
        ],
        [
         6.18,
         0.637
        ],
        [
         6.032,
         0.587
        ],
        [
         5.933,
         0.671
        ],
        [
         5.94,
         0.812
        ],
        [
         5.85,
         0.639
        ],
        [
         5.95,
         0.778
        ],
        [
         5.56,
         0.64
        ],
        [
         5.098,
         0.724
        ],
        [
         5.358,
         0.785
        ],
        [
         5.225,
         0.735
        ],
        [
         5.197,
         0.815
        ],
        [
         5.129,
         0.762
        ],
        [
         4.839,
         0.839
        ],
        [
         4.772,
         0.789
        ],
        [
         4.584,
         0.595
        ],
        [
         2.392,
         0.398
        ],
        [
         2.955,
         0.631
        ],
        [
         4.898,
         0.076
        ],
        [
         3.808,
         0.0
        ],
        [
         3.808,
         0.079
        ],
        [
         3.512,
         0.0
        ],
        [
         3.653,
         0.101
        ],
        [
         3.802,
         0.168
        ],
        [
         3.512,
         0.007
        ],
        [
         5.122,
         0.309
        ],
        [
         4.571,
         0.342
        ],
        [
         4.625,
         0.253
        ],
        [
         4.558,
         0.392
        ],
        [
         4.042,
         0.141
        ],
        [
         3.975,
         0.443
        ],
        [
         3.533,
         0.23
        ],
        [
         3.495,
         0.267
        ],
        [
         3.622,
         0.232
        ],
        [
         5.754,
         0.704
        ],
        [
         5.615,
         0.523
        ],
        [
         5.525,
         0.52
        ],
        [
         5.566,
         0.553
        ],
        [
         5.525,
         0.673
        ],
        [
         5.489,
         0.616
        ],
        [
         5.41,
         0.435
        ],
        [
         5.33,
         0.606
        ],
        [
         6.763,
         0.432
        ],
        [
         6.446,
         0.659
        ],
        [
         6.255,
         0.612
        ],
        [
         6.215,
         0.795
        ],
        [
         6.149,
         0.818
        ],
        [
         5.952,
         0.716
        ],
        [
         5.902,
         0.629
        ],
        [
         5.833,
         0.731
        ],
        [
         5.813,
         0.647
        ],
        [
         7.404,
         0.79
        ],
        [
         7.324,
         0.76
        ],
        [
         7.228,
         0.549
        ],
        [
         7.238,
         0.986
        ],
        [
         7.09,
         1.012
        ],
        [
         6.946,
         0.919
        ],
        [
         6.91,
         0.896
        ],
        [
         6.863,
         0.845
        ],
        [
         6.871,
         0.845
        ],
        [
         5.274,
         0.838
        ],
        [
         5.254,
         0.408
        ],
        [
         5.185,
         0.691
        ],
        [
         5.199,
         0.637
        ],
        [
         5.16,
         0.803
        ],
        [
         5.175,
         0.645
        ],
        [
         5.007,
         0.735
        ],
        [
         5.101,
         0.535
        ],
        [
         5.121,
         0.647
        ],
        [
         4.019,
         0.178
        ],
        [
         4.339,
         0.378
        ],
        [
         4.208,
         0.341
        ],
        [
         4.166,
         0.501
        ],
        [
         3.774,
         0.402
        ],
        [
         3.933,
         0.555
        ],
        [
         3.644,
         0.375
        ],
        [
         3.681,
         0.467
        ],
        [
         3.695,
         0.371
        ],
        [
         3.495,
         0.189
        ],
        [
         4.292,
         0.226
        ],
        [
         4.156,
         0.294
        ],
        [
         3.97,
         0.315
        ],
        [
         3.75,
         0.388
        ],
        [
         3.6,
         0.298
        ],
        [
         3.538,
         0.446
        ],
        [
         3.587,
         0.306
        ],
        [
         3.41,
         0.495
        ],
        [
         6.322,
         0.669
        ],
        [
         6.084,
         0.619
        ],
        [
         6.005,
         0.624
        ],
        [
         6.012,
         0.385
        ],
        [
         5.77,
         0.724
        ],
        [
         5.711,
         0.62
        ],
        [
         5.339,
         0.828
        ],
        [
         5.384,
         0.587
        ],
        [
         5.384,
         0.789
        ],
        [
         5.198,
         0.914
        ],
        [
         5.198,
         0.697
        ],
        [
         4.729,
         0.235
        ],
        [
         4.723,
         0.11
        ],
        [
         4.447,
         0.152
        ],
        [
         4.198,
         0.106
        ],
        [
         4.479,
         0.311
        ],
        [
         4.19,
         0.169
        ],
        [
         4.39,
         0.308
        ],
        [
         4.073,
         0.163
        ],
        [
         3.995,
         0.206
        ],
        [
         6.627,
         0.884
        ],
        [
         6.726,
         0.999
        ],
        [
         6.773,
         0.972
        ],
        [
         6.602,
         0.747
        ],
        [
         6.527,
         0.822
        ],
        [
         6.488,
         0.803
        ],
        [
         6.447,
         0.789
        ],
        [
         6.302,
         0.887
        ],
        [
         6.3,
         0.547
        ],
        [
         4.724,
         0.244
        ],
        [
         4.49,
         0.489
        ],
        [
         4.292,
         0.285
        ],
        [
         4.436,
         0.359
        ],
        [
         4.356,
         0.292
        ],
        [
         4.375,
         0.425
        ],
        [
         4.201,
         0.286
        ],
        [
         4.153,
         0.45
        ],
        [
         4.227,
         0.273
        ],
        [
         6.101,
         0.763
        ],
        [
         6.049,
         0.574
        ],
        [
         6.071,
         0.568
        ],
        [
         5.891,
         0.684
        ],
        [
         5.888,
         0.798
        ],
        [
         5.902,
         0.336
        ],
        [
         5.629,
         0.638
        ],
        [
         5.648,
         0.662
        ],
        [
         5.477,
         0.71
        ],
        [
         7.187,
         0.814
        ],
        [
         6.778,
         0.711
        ],
        [
         6.595,
         0.861
        ],
        [
         6.488,
         0.761
        ],
        [
         6.465,
         0.832
        ],
        [
         6.578,
         0.71
        ],
        [
         6.317,
         0.634
        ],
        [
         6.33,
         0.389
        ],
        [
         6.128,
         0.623
        ],
        [
         5.889,
         0.618
        ],
        [
         5.897,
         0.523
        ],
        [
         5.838,
         0.589
        ],
        [
         5.857,
         0.597
        ],
        [
         5.819,
         0.375
        ],
        [
         5.766,
         0.542
        ],
        [
         5.64,
         0.62
        ],
        [
         5.608,
         0.713
        ],
        [
         5.529,
         0.739
        ],
        [
         5.84,
         0.244
        ],
        [
         5.761,
         0.467
        ],
        [
         5.677,
         0.442
        ],
        [
         5.456,
         0.616
        ],
        [
         5.285,
         0.667
        ],
        [
         5.125,
         0.575
        ],
        [
         4.955,
         0.558
        ],
        [
         4.874,
         0.603
        ],
        [
         4.907,
         0.555
        ],
        [
         5.722,
         0.424
        ],
        [
         5.546,
         0.839
        ],
        [
         5.581,
         0.637
        ],
        [
         5.523,
         0.871
        ],
        [
         5.547,
         0.659
        ],
        [
         5.347,
         0.729
        ],
        [
         5.192,
         0.725
        ],
        [
         5.237,
         0.667
        ],
        [
         5.161,
         0.635
        ],
        [
         5.235,
         0.598
        ],
        [
         5.254,
         0.669
        ],
        [
         5.208,
         0.782
        ],
        [
         5.151,
         0.595
        ],
        [
         5.013,
         0.61
        ],
        [
         5.095,
         0.745
        ],
        [
         5.06,
         0.565
        ],
        [
         4.903,
         0.337
        ],
        [
         4.918,
         0.558
        ],
        [
         4.971,
         0.091
        ],
        [
         4.954,
         0.0
        ],
        [
         5.048,
         0.191
        ],
        [
         4.55,
         0.107
        ],
        [
         4.794,
         0.196
        ],
        [
         4.624,
         0.324
        ],
        [
         4.417,
         0.173
        ],
        [
         4.466,
         0.39
        ],
        [
         4.545,
         0.398
        ],
        [
         4.372,
         0.269
        ],
        [
         4.395,
         0.399
        ],
        [
         4.426,
         0.341
        ],
        [
         4.394,
         0.491
        ],
        [
         4.307,
         0.482
        ],
        [
         4.308,
         0.429
        ],
        [
         4.36,
         0.555
        ],
        [
         4.308,
         0.495
        ],
        [
         4.631,
         0.145
        ],
        [
         4.574,
         0.339
        ],
        [
         4.574,
         0.347
        ],
        [
         4.639,
         0.477
        ],
        [
         4.441,
         0.365
        ],
        [
         4.571,
         0.407
        ],
        [
         4.574,
         0.262
        ],
        [
         4.459,
         0.354
        ],
        [
         5.36,
         0.281
        ],
        [
         5.377,
         0.499
        ],
        [
         5.269,
         0.496
        ],
        [
         5.137,
         0.669
        ],
        [
         4.962,
         0.504
        ],
        [
         4.913,
         0.677
        ],
        [
         4.88,
         0.539
        ],
        [
         4.793,
         0.501
        ],
        [
         4.514,
         0.569
        ],
        [
         7.488,
         0.999
        ],
        [
         7.464,
         0.753
        ],
        [
         7.415,
         0.787
        ],
        [
         7.403,
         0.545
        ],
        [
         7.377,
         0.811
        ],
        [
         7.441,
         0.878
        ],
        [
         7.449,
         0.976
        ],
        [
         7.378,
         0.893
        ],
        [
         7.339,
         0.812
        ],
        [
         7.334,
         0.831
        ],
        [
         7.314,
         0.817
        ],
        [
         7.324,
         0.876
        ],
        [
         7.307,
         1.026
        ],
        [
         7.3,
         1.008
        ],
        [
         7.286,
         0.908
        ],
        [
         7.277,
         0.785
        ],
        [
         7.2,
         0.752
        ],
        [
         7.123,
         0.513
        ],
        [
         6.259,
         0.385
        ],
        [
         6.141,
         0.7
        ],
        [
         6.071,
         0.653
        ],
        [
         6.105,
         0.835
        ],
        [
         6.165,
         0.617
        ],
        [
         6.137,
         0.803
        ],
        [
         5.992,
         0.652
        ],
        [
         5.972,
         0.604
        ],
        [
         5.828,
         0.743
        ],
        [
         5.074,
         0.167
        ],
        [
         4.91,
         0.299
        ],
        [
         5.003,
         0.326
        ],
        [
         4.501,
         0.137
        ],
        [
         4.628,
         0.366
        ],
        [
         4.166,
         0.221
        ],
        [
         4.028,
         0.269
        ],
        [
         3.856,
         0.262
        ],
        [
         3.845,
         0.297
        ],
        [
         5.268,
         0.16
        ],
        [
         5.265,
         0.245
        ],
        [
         5.155,
         0.048
        ],
        [
         5.074,
         0.057
        ],
        [
         4.981,
         0.092
        ],
        [
         4.875,
         0.051
        ],
        [
         4.724,
         0.168
        ],
        [
         4.759,
         0.051
        ],
        [
         4.552,
         0.3
        ],
        [
         5.81,
         0.835
        ],
        [
         5.771,
         0.841
        ],
        [
         5.695,
         0.924
        ],
        [
         5.536,
         0.801
        ],
        [
         5.536,
         1.026
        ],
        [
         7.537,
         0.797
        ],
        [
         7.594,
         0.861
        ],
        [
         7.554,
         1.028
        ],
        [
         7.522,
         0.885
        ],
        [
         7.498,
         0.796
        ],
        [
         7.488,
         1.008
        ],
        [
         7.392,
         0.782
        ],
        [
         7.315,
         0.544
        ],
        [
         7.365,
         0.786
        ],
        [
         6.853,
         0.763
        ],
        [
         5.693,
         0.47
        ],
        [
         5.653,
         0.535
        ],
        [
         5.472,
         0.424
        ],
        [
         5.269,
         0.402
        ],
        [
         5.194,
         0.515
        ],
        [
         5.132,
         0.403
        ],
        [
         4.934,
         0.322
        ],
        [
         4.555,
         0.158
        ],
        [
         4.516,
         0.374
        ],
        [
         4.775,
         0.566
        ],
        [
         4.743,
         0.602
        ],
        [
         4.715,
         0.66
        ],
        [
         4.754,
         0.568
        ],
        [
         4.696,
         0.672
        ],
        [
         4.483,
         0.521
        ],
        [
         4.553,
         0.614
        ],
        [
         4.517,
         0.434
        ],
        [
         6.786,
         0.797
        ],
        [
         6.701,
         0.708
        ],
        [
         6.43,
         0.759
        ],
        [
         6.452,
         0.706
        ],
        [
         6.321,
         0.91
        ],
        [
         6.305,
         0.879
        ],
        [
         6.309,
         0.709
        ],
        [
         6.265,
         0.475
        ],
        [
         6.18,
         0.667
        ],
        [
         5.878,
         0.661
        ],
        [
         5.743,
         0.777
        ],
        [
         5.681,
         0.615
        ],
        [
         5.738,
         0.392
        ],
        [
         5.692,
         0.736
        ],
        [
         5.538,
         0.583
        ],
        [
         5.493,
         0.579
        ],
        [
         5.653,
         0.549
        ],
        [
         5.578,
         0.624
        ],
        [
         5.824,
         0.73
        ],
        [
         5.715,
         0.63
        ],
        [
         5.797,
         0.824
        ],
        [
         5.84,
         0.623
        ],
        [
         5.743,
         0.63
        ],
        [
         5.663,
         0.674
        ],
        [
         5.697,
         0.854
        ],
        [
         5.559,
         0.735
        ],
        [
         5.526,
         0.499
        ],
        [
         6.006,
         0.602
        ],
        [
         5.904,
         0.514
        ],
        [
         5.88,
         0.426
        ],
        [
         5.631,
         0.657
        ],
        [
         5.524,
         0.513
        ],
        [
         5.43,
         0.468
        ],
        [
         5.523,
         0.286
        ],
        [
         5.279,
         0.47
        ],
        [
         5.073,
         0.581
        ],
        [
         6.26,
         0.477
        ],
        [
         6.182,
         0.884
        ],
        [
         6.123,
         0.781
        ],
        [
         6.186,
         0.868
        ],
        [
         6.166,
         0.668
        ],
        [
         5.973,
         0.699
        ],
        [
         6.123,
         0.712
        ],
        [
         5.835,
         0.691
        ],
        [
         5.791,
         0.779
        ],
        [
         6.016,
         0.777
        ],
        [
         5.968,
         0.537
        ],
        [
         5.929,
         0.76
        ],
        [
         5.911,
         0.979
        ],
        [
         5.693,
         0.999
        ],
        [
         5.41,
         0.884
        ],
        [
         5.102,
         0.875
        ],
        [
         5.195,
         0.796
        ],
        [
         5.123,
         0.794
        ],
        [
         7.039,
         0.778
        ],
        [
         6.611,
         0.797
        ],
        [
         6.374,
         0.871
        ],
        [
         6.374,
         0.748
        ],
        [
         6.375,
         0.71
        ],
        [
         6.375,
         0.717
        ],
        [
         6.589,
         0.423
        ],
        [
         6.477,
         0.655
        ],
        [
         6.14,
         0.595
        ],
        [
         6.124,
         0.792
        ],
        [
         6.07,
         0.825
        ],
        [
         5.945,
         0.726
        ],
        [
         5.825,
         0.685
        ],
        [
         5.528,
         0.676
        ],
        [
         5.124,
         0.769
        ],
        [
         5.963,
         0.547
        ],
        [
         5.856,
         0.59
        ],
        [
         5.81,
         0.599
        ],
        [
         5.716,
         0.669
        ],
        [
         5.648,
         0.726
        ],
        [
         5.661,
         0.366
        ],
        [
         5.546,
         0.68
        ],
        [
         5.477,
         0.511
        ],
        [
         5.459,
         0.586
        ],
        [
         3.268,
         0.462
        ],
        [
         3.415,
         0.407
        ],
        [
         3.312,
         0.572
        ],
        [
         3.471,
         0.326
        ],
        [
         3.408,
         0.4
        ],
        [
         3.515,
         0.319
        ],
        [
         3.334,
         0.614
        ],
        [
         3.465,
         0.429
        ],
        [
         6.523,
         0.577
        ],
        [
         6.494,
         0.571
        ],
        [
         6.406,
         0.76
        ],
        [
         6.375,
         0.795
        ],
        [
         6.463,
         0.351
        ],
        [
         6.371,
         0.633
        ],
        [
         6.379,
         0.593
        ],
        [
         6.411,
         0.72
        ],
        [
         6.344,
         0.59
        ],
        [
         5.132,
         0.357
        ],
        [
         4.981,
         0.518
        ],
        [
         4.855,
         0.231
        ],
        [
         5.046,
         0.447
        ],
        [
         4.631,
         0.433
        ],
        [
         4.681,
         0.571
        ],
        [
         4.535,
         0.409
        ],
        [
         4.219,
         0.405
        ],
        [
         3.904,
         0.435
        ],
        [
         6.178,
         0.658
        ],
        [
         6.144,
         0.424
        ],
        [
         6.078,
         0.634
        ],
        [
         5.778,
         0.828
        ],
        [
         5.603,
         0.854
        ],
        [
         5.395,
         0.651
        ],
        [
         5.398,
         0.685
        ],
        [
         5.177,
         0.646
        ],
        [
         5.123,
         0.748
        ],
        [
         4.709,
         0.006
        ],
        [
         4.635,
         0.0
        ],
        [
         4.571,
         0.0
        ],
        [
         4.507,
         0.0
        ],
        [
         4.374,
         0.242
        ],
        [
         3.138,
         0.092
        ],
        [
         3.849,
         0.1
        ],
        [
         3.926,
         0.204
        ],
        [
         3.574,
         0.273
        ],
        [
         6.739,
         0.947
        ],
        [
         6.798,
         1.025
        ],
        [
         6.587,
         0.607
        ],
        [
         6.572,
         0.949
        ],
        [
         6.48,
         0.851
        ],
        [
         6.377,
         1.138
        ],
        [
         6.377,
         0.897
        ],
        [
         6.343,
         1.008
        ],
        [
         6.262,
         1.141
        ],
        [
         6.469,
         0.472
        ],
        [
         6.331,
         0.653
        ],
        [
         6.391,
         0.707
        ],
        [
         6.281,
         0.853
        ],
        [
         6.198,
         0.881
        ],
        [
         6.173,
         0.776
        ],
        [
         6.098,
         0.713
        ],
        [
         5.995,
         0.789
        ],
        [
         6.078,
         0.704
        ],
        [
         6.63,
         0.769
        ],
        [
         6.65,
         0.532
        ],
        [
         6.461,
         0.722
        ],
        [
         6.363,
         0.933
        ],
        [
         6.118,
         0.953
        ],
        [
         5.948,
         0.856
        ],
        [
         5.848,
         0.873
        ],
        [
         5.758,
         0.791
        ],
        [
         5.768,
         0.792
        ],
        [
         5.44,
         0.115
        ],
        [
         5.057,
         0.439
        ],
        [
         5.151,
         0.114
        ],
        [
         5.057,
         0.331
        ],
        [
         4.982,
         0.115
        ],
        [
         4.668,
         0.268
        ],
        [
         5.275,
         0.149
        ],
        [
         5.194,
         0.361
        ],
        [
         4.829,
         0.187
        ],
        [
         4.956,
         0.265
        ],
        [
         4.724,
         0.33
        ],
        [
         4.722,
         0.469
        ],
        [
         4.814,
         0.407
        ],
        [
         4.642,
         0.277
        ],
        [
         4.459,
         0.186
        ],
        [
         5.984,
         0.965
        ],
        [
         5.895,
         1.036
        ],
        [
         5.838,
         0.9
        ],
        [
         5.835,
         0.886
        ],
        [
         5.875,
         0.955
        ],
        [
         5.951,
         0.603
        ],
        [
         5.935,
         0.841
        ],
        [
         5.872,
         1.023
        ],
        [
         5.845,
         0.801
        ],
        [
         3.832,
         0.158
        ],
        [
         3.591,
         0.163
        ],
        [
         6.491,
         0.826
        ],
        [
         6.401,
         1.051
        ],
        [
         6.476,
         0.808
        ],
        [
         6.354,
         1.062
        ],
        [
         6.436,
         0.567
        ],
        [
         6.403,
         0.889
        ],
        [
         6.329,
         0.956
        ],
        [
         6.31,
         0.965
        ],
        [
         6.361,
         0.879
        ],
        [
         4.442,
         0.426
        ],
        [
         4.471,
         0.672
        ],
        [
         4.415,
         0.62
        ],
        [
         4.44,
         0.625
        ],
        [
         4.362,
         0.66
        ],
        [
         4.325,
         0.593
        ],
        [
         4.366,
         0.831
        ],
        [
         4.327,
         0.792
        ],
        [
         4.271,
         0.708
        ],
        [
         4.55,
         0.369
        ],
        [
         4.139,
         0.291
        ],
        [
         4.139,
         0.298
        ],
        [
         2.817,
         0.209
        ],
        [
         3.254,
         0.177
        ],
        [
         2.853,
         0.295
        ],
        [
         6.269,
         0.608
        ],
        [
         6.269,
         0.509
        ],
        [
         4.867,
         0.076
        ],
        [
         4.308,
         0.074
        ],
        [
         4.308,
         0.216
        ],
        [
         4.212,
         0.0
        ],
        [
         7.395,
         0.562
        ],
        [
         7.343,
         1.009
        ],
        [
         7.353,
         0.986
        ],
        [
         7.363,
         0.763
        ],
        [
         7.384,
         0.803
        ],
        [
         7.364,
         0.911
        ],
        [
         7.284,
         0.831
        ],
        [
         7.314,
         0.913
        ],
        [
         7.291,
         0.831
        ],
        [
         7.587,
         0.941
        ],
        [
         7.509,
         0.863
        ],
        [
         7.56,
         1.041
        ],
        [
         7.571,
         0.816
        ],
        [
         7.494,
         0.858
        ],
        [
         7.512,
         0.822
        ],
        [
         7.487,
         0.927
        ],
        [
         7.48,
         1.052
        ],
        [
         7.24,
         0.582
        ],
        [
         3.462,
         0.44
        ],
        [
         3.462,
         0.539
        ],
        [
         3.462,
         0.501
        ],
        [
         3.069,
         0.63
        ],
        [
         3.006,
         0.722
        ],
        [
         6.584,
         0.665
        ],
        [
         6.446,
         0.914
        ],
        [
         6.455,
         0.878
        ],
        [
         6.441,
         0.857
        ],
        [
         6.512,
         0.733
        ],
        [
         6.535,
         0.492
        ],
        [
         6.422,
         0.794
        ],
        [
         6.379,
         0.796
        ],
        [
         6.298,
         0.875
        ],
        [
         5.556,
         0.681
        ],
        [
         5.467,
         0.718
        ],
        [
         5.466,
         0.498
        ],
        [
         5.33,
         0.291
        ],
        [
         5.377,
         0.518
        ],
        [
         5.199,
         0.598
        ],
        [
         5.041,
         0.529
        ],
        [
         4.996,
         0.531
        ],
        [
         4.786,
         0.574
        ],
        [
         3.694,
         0.214
        ],
        [
         3.702,
         0.425
        ],
        [
         3.623,
         0.3
        ],
        [
         3.781,
         0.382
        ],
        [
         3.476,
         0.443
        ],
        [
         3.666,
         0.357
        ],
        [
         3.349,
         0.365
        ],
        [
         3.303,
         0.381
        ],
        [
         3.231,
         0.499
        ],
        [
         6.424,
         0.647
        ],
        [
         6.474,
         0.649
        ],
        [
         6.455,
         0.739
        ],
        [
         6.072,
         0.707
        ],
        [
         6.008,
         0.828
        ],
        [
         5.999,
         0.794
        ],
        [
         5.985,
         0.596
        ],
        [
         5.843,
         0.461
        ],
        [
         5.891,
         0.697
        ],
        [
         4.137,
         0.161
        ],
        [
         4.187,
         0.343
        ],
        [
         4.112,
         0.36
        ],
        [
         4.107,
         0.203
        ],
        [
         3.999,
         0.253
        ],
        [
         4.085,
         0.41
        ],
        [
         3.495,
         0.247
        ],
        [
         3.303,
         0.248
        ],
        [
         2.839,
         0.284
        ],
        [
         6.168,
         0.52
        ],
        [
         6.192,
         0.564
        ],
        [
         6.192,
         0.713
        ],
        [
         6.168,
         0.615
        ],
        [
         6.192,
         0.659
        ],
        [
         6.168,
         0.526
        ],
        [
         5.045,
         0.596
        ],
        [
         4.805,
         0.613
        ],
        [
         4.739,
         0.738
        ],
        [
         4.497,
         0.422
        ],
        [
         4.592,
         0.69
        ],
        [
         4.516,
         0.656
        ],
        [
         4.596,
         0.59
        ],
        [
         4.461,
         0.815
        ],
        [
         4.392,
         0.781
        ],
        [
         5.5,
         0.638
        ],
        [
         5.483,
         0.686
        ],
        [
         5.332,
         0.732
        ],
        [
         5.389,
         0.647
        ],
        [
         5.373,
         0.808
        ],
        [
         5.132,
         0.781
        ],
        [
         4.948,
         0.59
        ],
        [
         4.614,
         0.467
        ],
        [
         4.744,
         0.702
        ],
        [
         5.822,
         0.438
        ],
        [
         5.658,
         0.44
        ],
        [
         5.636,
         0.517
        ],
        [
         5.548,
         0.539
        ],
        [
         5.474,
         0.516
        ],
        [
         5.247,
         0.657
        ],
        [
         5.119,
         0.612
        ],
        [
         5.066,
         0.439
        ],
        [
         4.432,
         0.201
        ],
        [
         4.603,
         0.418
        ],
        [
         4.636,
         0.24
        ],
        [
         4.432,
         0.378
        ],
        [
         4.081,
         0.218
        ],
        [
         4.161,
         0.237
        ],
        [
         4.189,
         0.443
        ],
        [
         3.931,
         0.339
        ],
        [
         3.739,
         0.196
        ],
        [
         5.071,
         0.355
        ],
        [
         5.084,
         0.583
        ],
        [
         4.875,
         0.517
        ],
        [
         4.681,
         0.674
        ],
        [
         4.324,
         0.586
        ],
        [
         4.561,
         0.699
        ],
        [
         4.096,
         0.576
        ],
        [
         4.332,
         0.739
        ],
        [
         4.103,
         0.609
        ],
        [
         6.901,
         0.809
        ],
        [
         6.648,
         0.727
        ],
        [
         6.825,
         0.825
        ],
        [
         6.791,
         0.788
        ],
        [
         6.576,
         0.633
        ],
        [
         6.561,
         0.594
        ],
        [
         6.571,
         0.401
        ],
        [
         6.573,
         0.73
        ],
        [
         7.19,
         0.888
        ],
        [
         7.165,
         0.976
        ],
        [
         7.054,
         0.996
        ],
        [
         7.064,
         0.757
        ],
        [
         6.943,
         0.75
        ],
        [
         6.714,
         0.805
        ],
        [
         6.796,
         0.511
        ],
        [
         6.867,
         0.909
        ],
        [
         6.725,
         0.81
        ],
        [
         7.104,
         0.779
        ],
        [
         6.993,
         0.774
        ],
        [
         7.119,
         0.862
        ],
        [
         6.894,
         0.39
        ],
        [
         6.977,
         0.628
        ],
        [
         6.886,
         0.819
        ],
        [
         6.94,
         0.832
        ],
        [
         6.892,
         0.874
        ],
        [
         6.951,
         0.621
        ],
        [
         6.44,
         0.857
        ],
        [
         6.454,
         0.719
        ],
        [
         6.494,
         0.435
        ],
        [
         6.545,
         0.722
        ],
        [
         6.474,
         0.672
        ],
        [
         6.379,
         0.771
        ],
        [
         6.431,
         0.649
        ],
        [
         6.485,
         0.812
        ],
        [
         6.293,
         0.891
        ],
        [
         6.258,
         0.717
        ],
        [
         6.174,
         0.756
        ],
        [
         6.179,
         0.528
        ],
        [
         6.003,
         0.598
        ],
        [
         6.096,
         0.605
        ],
        [
         5.971,
         0.498
        ],
        [
         5.987,
         0.502
        ],
        [
         6.063,
         0.6
        ],
        [
         6.014,
         0.375
        ],
        [
         6.81,
         0.721
        ],
        [
         6.084,
         0.619
        ],
        [
         5.25,
         0.617
        ],
        [
         5.211,
         0.341
        ],
        [
         5.053,
         0.767
        ],
        [
         4.806,
         0.657
        ],
        [
         4.892,
         0.574
        ],
        [
         4.707,
         0.805
        ],
        [
         4.925,
         0.578
        ],
        [
         5.763,
         0.381
        ],
        [
         5.36,
         0.747
        ],
        [
         5.485,
         0.611
        ],
        [
         5.411,
         0.616
        ],
        [
         5.353,
         0.819
        ],
        [
         5.074,
         0.652
        ],
        [
         5.175,
         0.851
        ],
        [
         5.103,
         0.702
        ],
        [
         5.061,
         0.662
        ],
        [
         4.197,
         0.384
        ],
        [
         4.077,
         0.401
        ],
        [
         3.658,
         0.272
        ],
        [
         3.593,
         0.31
        ],
        [
         3.527,
         0.415
        ],
        [
         3.724,
         0.31
        ],
        [
         3.38,
         0.463
        ],
        [
         3.355,
         0.343
        ],
        [
         5.129,
         0.299
        ],
        [
         4.795,
         0.236
        ],
        [
         4.514,
         0.258
        ],
        [
         4.377,
         0.295
        ],
        [
         3.982,
         0.095
        ],
        [
         4.073,
         0.231
        ],
        [
         3.76,
         0.306
        ],
        [
         4.107,
         0.426
        ],
        [
         3.759,
         0.364
        ],
        [
         4.61,
         0.335
        ],
        [
         4.193,
         0.16
        ],
        [
         3.204,
         0.069
        ],
        [
         3.875,
         0.197
        ],
        [
         3.692,
         0.248
        ],
        [
         2.995,
         0.27
        ],
        [
         3.663,
         0.433
        ],
        [
         3.145,
         0.243
        ],
        [
         3.299,
         0.375
        ]
       ],
       "datasetInfos": [],
       "dbfsResultPath": null,
       "isJsonSchema": true,
       "metadata": {},
       "overflow": false,
       "plotOptions": {
        "customPlotOptions": {},
        "displayType": "table",
        "pivotAggregation": null,
        "pivotColumns": null,
        "xColumns": null,
        "yColumns": null
       },
       "removedWidgets": [],
       "schema": [
        {
         "metadata": "{}",
         "name": "happiness_score",
         "type": "\"float\""
        },
        {
         "metadata": "{}",
         "name": "life_expectancy",
         "type": "\"float\""
        }
       ],
       "type": "table"
      }
     },
     "output_type": "display_data"
    },
    {
     "output_type": "display_data",
     "data": {
      "text/plain": [
       "Databricks visualization. Run in Databricks to view."
      ]
     },
     "metadata": {
      "application/vnd.databricks.v1.subcommand+json": {
       "baseErrorDetails": null,
       "bindings": {},
       "collapsed": false,
       "command": "%sql WITH q AS (SELECT f.happiness_score, f.life_expectancy\nFROM vw_fato_felicidade f\nJOIN vw_dim_tempo t ON f.id_tempo = t.id_tempo\nWHERE f.life_expectancy IS NOT NULL AND f.happiness_score IS NOT NULL) SELECT `happiness_score`,`life_expectancy` FROM q",
       "commandTitle": "Visualização 1",
       "commandType": "auto",
       "commandVersion": 0,
       "commentThread": [],
       "commentsVisible": false,
       "contentSha256Hex": null,
       "customPlotOptions": {
        "redashChart": [
         {
          "key": "type",
          "value": "CHART"
         },
         {
          "key": "options",
          "value": {
           "alignYAxesAtZero": true,
           "coefficient": 1,
           "columnConfigurationMap": {
            "x": {
             "column": "happiness_score",
             "id": "column_bb1113c995"
            },
            "y": [
             {
              "column": "life_expectancy",
              "id": "column_bb1113c996"
             }
            ]
           },
           "dateTimeFormat": "DD/MM/YYYY HH:mm",
           "direction": {
            "type": "counterclockwise"
           },
           "error_y": {
            "type": "data",
            "visible": true
           },
           "globalSeriesType": "scatter",
           "legend": {
            "traceorder": "normal"
           },
           "missingValuesAsZero": true,
           "numberFormat": "0,0.[00000]",
           "percentFormat": "0[.]00%",
           "series": {
            "error_y": {
             "type": "data",
             "visible": true
            },
            "stacking": null
           },
           "seriesOptions": {
            "column_bb1113c996": {
             "name": "life_expectancy",
             "yAxis": 0
            },
            "life_expectancy": {
             "color": "#C63FA9"
            }
           },
           "showDataLabels": false,
           "sizemode": "diameter",
           "sortX": true,
           "sortY": true,
           "swappedAxes": false,
           "textFormat": "",
           "useAggregationsUi": true,
           "valuesOptions": {},
           "version": 2,
           "xAxis": {
            "labels": {
             "enabled": true
            },
            "type": "-"
           },
           "yAxis": [
            {
             "type": "-"
            },
            {
             "opposite": true,
             "type": "-"
            }
           ]
          }
         }
        ]
       },
       "datasetPreviewNameToCmdIdMap": {},
       "diffDeletes": [],
       "diffInserts": [],
       "displayType": "redashChart",
       "error": null,
       "errorDetails": null,
       "errorSummary": null,
       "errorTraceType": null,
       "finishTime": 0,
       "globalVars": {},
       "guid": "",
       "height": "auto",
       "hideCommandCode": false,
       "hideCommandResult": false,
       "iPythonMetadata": null,
       "inputWidgets": {},
       "isLockedInExamMode": false,
       "latestUser": "a user",
       "latestUserId": null,
       "listResultMetadata": null,
       "metadata": {},
       "nuid": "43a34538-3a1e-4fae-ab34-a29eb60a989b",
       "origId": 0,
       "parentHierarchy": [],
       "pivotAggregation": null,
       "pivotColumns": null,
       "position": 134.75,
       "resultDbfsErrorMessage": null,
       "resultDbfsStatus": "INLINED_IN_TREE",
       "results": null,
       "showCommandTitle": false,
       "startTime": 0,
       "state": "input",
       "streamStates": {},
       "subcommandOptions": {
        "queryPlan": {
         "selects": [
          {
           "column": "happiness_score",
           "type": "column"
          },
          {
           "column": "life_expectancy",
           "type": "column"
          }
         ]
        }
       },
       "submitTime": 0,
       "subtype": "tableResultSubCmd.visualization",
       "tableResultIndex": 0,
       "tableResultSettingsMap": {},
       "useConsistentColors": false,
       "version": "CommandV1",
       "width": "auto",
       "workflows": [],
       "xColumns": null,
       "yColumns": null
      }
     },
     "output_type": "display_data"
    }
   ],
   "source": [
    "%sql\n",
    "SELECT f.happiness_score, f.life_expectancy\n",
    "FROM vw_fato_felicidade f\n",
    "JOIN vw_dim_tempo t ON f.id_tempo = t.id_tempo\n",
    "WHERE f.life_expectancy IS NOT NULL AND f.happiness_score IS NOT NULL\n"
   ]
  },
  {
   "cell_type": "code",
   "execution_count": 0,
   "metadata": {
    "application/vnd.databricks.v1+cell": {
     "cellMetadata": {
      "byteLimit": 2048000,
      "implicitDf": true,
      "rowLimit": 10000
     },
     "inputWidgets": {},
     "nuid": "8fa0c5de-400c-4968-b4d9-1037865986c2",
     "showTitle": true,
     "tableResultSettingsMap": {},
     "title": "10. Quais países se destacam por generosidade ou suporte social?"
    }
   },
   "outputs": [
    {
     "output_type": "display_data",
     "data": {
      "text/html": [
       "<style scoped>\n",
       "  .table-result-container {\n",
       "    max-height: 300px;\n",
       "    overflow: auto;\n",
       "  }\n",
       "  table, th, td {\n",
       "    border: 1px solid black;\n",
       "    border-collapse: collapse;\n",
       "  }\n",
       "  th, td {\n",
       "    padding: 5px;\n",
       "  }\n",
       "  th {\n",
       "    text-align: left;\n",
       "  }\n",
       "</style><div class='table-result-container'><table class='table-result'><thead style='background-color: white'><tr><th>country</th><th>media_generosity</th><th>media_suporte</th></tr></thead><tbody><tr><td>Myanmar</td><td>0.618</td><td>0.961</td></tr><tr><td>Indonesia</td><td>0.516</td><td>1.072</td></tr><tr><td>Somaliland Region</td><td>0.515</td><td>0.759</td></tr><tr><td>Haiti</td><td>0.453</td><td>0.557</td></tr><tr><td>Bhutan</td><td>0.435</td><td>1.202</td></tr><tr><td>Syria</td><td>0.431</td><td>0.356</td></tr><tr><td>Thailand</td><td>0.425</td><td>1.256</td></tr><tr><td>United Kingdom</td><td>0.378</td><td>1.319</td></tr><tr><td>Malta</td><td>0.377</td><td>1.341</td></tr><tr><td>Gambia</td><td>0.376</td><td>0.714</td></tr></tbody></table></div>"
      ]
     },
     "metadata": {
      "application/vnd.databricks.v1+output": {
       "addedWidgets": {},
       "aggData": [],
       "aggError": "",
       "aggOverflow": false,
       "aggSchema": [],
       "aggSeriesLimitReached": false,
       "aggType": "",
       "arguments": {},
       "columnCustomDisplayInfos": {},
       "data": [
        [
         "Myanmar",
         0.618,
         0.961
        ],
        [
         "Indonesia",
         0.516,
         1.072
        ],
        [
         "Somaliland Region",
         0.515,
         0.759
        ],
        [
         "Haiti",
         0.453,
         0.557
        ],
        [
         "Bhutan",
         0.435,
         1.202
        ],
        [
         "Syria",
         0.431,
         0.356
        ],
        [
         "Thailand",
         0.425,
         1.256
        ],
        [
         "United Kingdom",
         0.378,
         1.319
        ],
        [
         "Malta",
         0.377,
         1.341
        ],
        [
         "Gambia",
         0.376,
         0.714
        ]
       ],
       "datasetInfos": [],
       "dbfsResultPath": null,
       "isJsonSchema": true,
       "metadata": {},
       "overflow": false,
       "plotOptions": {
        "customPlotOptions": {},
        "displayType": "table",
        "pivotAggregation": null,
        "pivotColumns": null,
        "xColumns": null,
        "yColumns": null
       },
       "removedWidgets": [],
       "schema": [
        {
         "metadata": "{}",
         "name": "country",
         "type": "\"string\""
        },
        {
         "metadata": "{}",
         "name": "media_generosity",
         "type": "\"double\""
        },
        {
         "metadata": "{}",
         "name": "media_suporte",
         "type": "\"double\""
        }
       ],
       "type": "table"
      }
     },
     "output_type": "display_data"
    },
    {
     "output_type": "display_data",
     "data": {
      "text/plain": [
       "Databricks visualization. Run in Databricks to view."
      ]
     },
     "metadata": {
      "application/vnd.databricks.v1.subcommand+json": {
       "baseErrorDetails": null,
       "bindings": {},
       "collapsed": false,
       "command": "%sql WITH q AS (SELECT p.country, ROUND(AVG(f.generosity), 3) AS media_generosity,\n       ROUND(AVG(f.social_support), 3) AS media_suporte\nFROM vw_fato_felicidade f\nJOIN vw_dim_pais p ON f.id_pais = p.id_pais\nGROUP BY p.country\nORDER BY media_generosity DESC\nLIMIT 10) SELECT `media_generosity`,SUM(`media_suporte`) `column_bb1113c999`,`country` FROM q GROUP BY `country`,`media_generosity`",
       "commandTitle": "Visualização 1",
       "commandType": "auto",
       "commandVersion": 0,
       "commentThread": [],
       "commentsVisible": false,
       "contentSha256Hex": null,
       "customPlotOptions": {
        "redashChart": [
         {
          "key": "type",
          "value": "CHART"
         },
         {
          "key": "options",
          "value": {
           "alignYAxesAtZero": true,
           "coefficient": 1,
           "columnConfigurationMap": {
            "series": {
             "column": "country",
             "id": "column_bb1113c9100"
            },
            "x": {
             "column": "media_generosity",
             "id": "column_bb1113c998"
            },
            "y": [
             {
              "column": "media_suporte",
              "id": "column_bb1113c999",
              "transform": "SUM"
             }
            ]
           },
           "dateTimeFormat": "DD/MM/YYYY HH:mm",
           "direction": {
            "type": "counterclockwise"
           },
           "error_y": {
            "type": "data",
            "visible": true
           },
           "globalSeriesType": "column",
           "isAggregationOn": true,
           "legend": {
            "traceorder": "normal"
           },
           "missingValuesAsZero": true,
           "numberFormat": "0,0.[00000]",
           "percentFormat": "0[.]00%",
           "series": {
            "error_y": {
             "type": "data",
             "visible": true
            },
            "stacking": null
           },
           "seriesOptions": {
            "column_bb1113c999": {
             "name": "media_suporte",
             "type": "column",
             "yAxis": 0
            }
           },
           "showDataLabels": false,
           "sizemode": "diameter",
           "sortX": true,
           "sortY": true,
           "swappedAxes": false,
           "textFormat": "",
           "useAggregationsUi": true,
           "valuesOptions": {},
           "version": 2,
           "xAxis": {
            "labels": {
             "enabled": true
            },
            "type": "-"
           },
           "yAxis": [
            {
             "type": "-"
            },
            {
             "opposite": true,
             "type": "-"
            }
           ]
          }
         }
        ]
       },
       "datasetPreviewNameToCmdIdMap": {},
       "diffDeletes": [],
       "diffInserts": [],
       "displayType": "redashChart",
       "error": null,
       "errorDetails": null,
       "errorSummary": null,
       "errorTraceType": null,
       "finishTime": 0,
       "globalVars": {},
       "guid": "",
       "height": "auto",
       "hideCommandCode": false,
       "hideCommandResult": false,
       "iPythonMetadata": null,
       "inputWidgets": {},
       "isLockedInExamMode": false,
       "latestUser": "a user",
       "latestUserId": null,
       "listResultMetadata": null,
       "metadata": {},
       "nuid": "8b55c7ba-8ddb-41c0-932a-96d1a4baab04",
       "origId": 0,
       "parentHierarchy": [],
       "pivotAggregation": null,
       "pivotColumns": null,
       "position": 134.875,
       "resultDbfsErrorMessage": null,
       "resultDbfsStatus": "INLINED_IN_TREE",
       "results": null,
       "showCommandTitle": false,
       "startTime": 0,
       "state": "input",
       "streamStates": {},
       "subcommandOptions": {
        "queryPlan": {
         "groups": [
          {
           "column": "media_generosity",
           "type": "column"
          },
          {
           "column": "country",
           "type": "column"
          }
         ],
         "selects": [
          {
           "column": "media_generosity",
           "type": "column"
          },
          {
           "alias": "column_bb1113c999",
           "args": [
            {
             "column": "media_suporte",
             "type": "column"
            }
           ],
           "function": "SUM",
           "type": "function"
          },
          {
           "column": "country",
           "type": "column"
          }
         ]
        }
       },
       "submitTime": 0,
       "subtype": "tableResultSubCmd.visualization",
       "tableResultIndex": 0,
       "tableResultSettingsMap": {},
       "useConsistentColors": false,
       "version": "CommandV1",
       "width": "auto",
       "workflows": [],
       "xColumns": null,
       "yColumns": null
      }
     },
     "output_type": "display_data"
    }
   ],
   "source": [
    "%sql\n",
    "SELECT p.country, ROUND(AVG(f.generosity), 3) AS media_generosity,\n",
    "       ROUND(AVG(f.social_support), 3) AS media_suporte\n",
    "FROM vw_fato_felicidade f\n",
    "JOIN vw_dim_pais p ON f.id_pais = p.id_pais\n",
    "GROUP BY p.country\n",
    "ORDER BY media_generosity DESC\n",
    "LIMIT 10;\n"
   ]
  },
  {
   "cell_type": "code",
   "execution_count": 0,
   "metadata": {
    "application/vnd.databricks.v1+cell": {
     "cellMetadata": {
      "byteLimit": 2048000,
      "implicitDf": true,
      "rowLimit": 10000
     },
     "inputWidgets": {},
     "nuid": "f8916f97-94cf-4852-8735-9805008b9bcc",
     "showTitle": true,
     "tableResultSettingsMap": {},
     "title": "11. Correlação entre felicidade e GDP em 2023"
    }
   },
   "outputs": [
    {
     "output_type": "display_data",
     "data": {
      "text/html": [
       "<style scoped>\n",
       "  .table-result-container {\n",
       "    max-height: 300px;\n",
       "    overflow: auto;\n",
       "  }\n",
       "  table, th, td {\n",
       "    border: 1px solid black;\n",
       "    border-collapse: collapse;\n",
       "  }\n",
       "  th, td {\n",
       "    padding: 5px;\n",
       "  }\n",
       "  th {\n",
       "    text-align: left;\n",
       "  }\n",
       "</style><div class='table-result-container'><table class='table-result'><thead style='background-color: white'><tr><th>happiness_score</th><th>gdp</th></tr></thead><tbody><tr><td>1.859</td><td>0.645</td></tr><tr><td>5.277</td><td>1.449</td></tr><tr><td>5.329</td><td>1.353</td></tr><tr><td>6.024</td><td>1.59</td></tr><tr><td>5.342</td><td>1.466</td></tr><tr><td>7.095</td><td>1.899</td></tr><tr><td>7.097</td><td>1.927</td></tr><tr><td>6.173</td><td>1.883</td></tr><tr><td>4.282</td><td>1.133</td></tr><tr><td>6.859</td><td>1.907</td></tr><tr><td>4.374</td><td>0.924</td></tr><tr><td>5.684</td><td>1.24</td></tr><tr><td>5.633</td><td>1.467</td></tr><tr><td>3.435</td><td>1.471</td></tr><tr><td>6.125</td><td>1.454</td></tr><tr><td>5.466</td><td>1.635</td></tr><tr><td>4.638</td><td>0.768</td></tr><tr><td>4.393</td><td>1.025</td></tr><tr><td>4.973</td><td>0.965</td></tr><tr><td>6.961</td><td>1.881</td></tr><tr><td>4.397</td><td>0.622</td></tr><tr><td>6.334</td><td>1.645</td></tr><tr><td>5.818</td><td>1.51</td></tr><tr><td>5.63</td><td>1.455</td></tr><tr><td>3.545</td><td>0.914</td></tr><tr><td>5.267</td><td>0.921</td></tr><tr><td>3.207</td><td>0.531</td></tr><tr><td>6.609</td><td>1.587</td></tr><tr><td>6.125</td><td>1.727</td></tr><tr><td>6.13</td><td>1.824</td></tr><tr><td>6.845</td><td>1.823</td></tr><tr><td>7.586</td><td>1.949</td></tr><tr><td>5.569</td><td>1.536</td></tr><tr><td>5.559</td><td>1.343</td></tr><tr><td>4.17</td><td>1.377</td></tr><tr><td>6.122</td><td>1.278</td></tr><tr><td>6.455</td><td>1.798</td></tr><tr><td>4.091</td><td>0.793</td></tr><tr><td>7.804</td><td>1.888</td></tr><tr><td>6.661</td><td>1.856</td></tr><tr><td>5.035</td><td>1.438</td></tr><tr><td>4.279</td><td>0.761</td></tr><tr><td>5.109</td><td>1.477</td></tr><tr><td>6.892</td><td>1.919</td></tr><tr><td>4.605</td><td>1.101</td></tr><tr><td>5.931</td><td>1.708</td></tr><tr><td>6.15</td><td>1.287</td></tr><tr><td>5.072</td><td>0.844</td></tr><tr><td>6.023</td><td>1.115</td></tr><tr><td>5.308</td><td>1.951</td></tr><tr><td>6.041</td><td>1.754</td></tr><tr><td>7.53</td><td>1.926</td></tr><tr><td>4.036</td><td>1.159</td></tr><tr><td>5.277</td><td>1.384</td></tr><tr><td>4.876</td><td>1.465</td></tr><tr><td>4.941</td><td>1.281</td></tr><tr><td>6.911</td><td>2.152</td></tr><tr><td>7.473</td><td>1.833</td></tr><tr><td>6.405</td><td>1.832</td></tr><tr><td>5.053</td><td>1.094</td></tr><tr><td>5.703</td><td>1.305</td></tr><tr><td>6.129</td><td>1.825</td></tr><tr><td>4.12</td><td>1.292</td></tr><tr><td>6.144</td><td>1.664</td></tr><tr><td>4.487</td><td>1.051</td></tr><tr><td>6.368</td><td>1.374</td></tr><tr><td>5.825</td><td>1.061</td></tr><tr><td>5.111</td><td>1.232</td></tr><tr><td>6.213</td><td>1.737</td></tr><tr><td>2.392</td><td>1.417</td></tr><tr><td>4.042</td><td>0.628</td></tr><tr><td>6.763</td><td>1.808</td></tr><tr><td>7.228</td><td>2.2</td></tr><tr><td>5.254</td><td>1.498</td></tr><tr><td>4.019</td><td>0.632</td></tr><tr><td>3.495</td><td>0.637</td></tr><tr><td>6.012</td><td>1.665</td></tr><tr><td>4.198</td><td>0.763</td></tr><tr><td>6.3</td><td>1.841</td></tr><tr><td>4.724</td><td>1.099</td></tr><tr><td>5.902</td><td>1.589</td></tr><tr><td>6.33</td><td>1.55</td></tr><tr><td>5.819</td><td>1.425</td></tr><tr><td>5.84</td><td>1.379</td></tr><tr><td>5.722</td><td>1.537</td></tr><tr><td>4.903</td><td>1.236</td></tr><tr><td>4.954</td><td>0.57</td></tr><tr><td>4.372</td><td>1.032</td></tr><tr><td>4.631</td><td>1.289</td></tr><tr><td>5.36</td><td>0.979</td></tr><tr><td>7.403</td><td>1.942</td></tr><tr><td>7.123</td><td>1.842</td></tr><tr><td>6.259</td><td>1.109</td></tr><tr><td>4.501</td><td>0.561</td></tr><tr><td>4.981</td><td>1.065</td></tr><tr><td>7.315</td><td>1.994</td></tr><tr><td>4.555</td><td>1.081</td></tr><tr><td>4.908</td><td>1.144</td></tr><tr><td>6.265</td><td>1.714</td></tr><tr><td>5.738</td><td>1.428</td></tr><tr><td>5.526</td><td>1.39</td></tr><tr><td>5.523</td><td>1.238</td></tr><tr><td>6.26</td><td>1.767</td></tr><tr><td>5.968</td><td>1.758</td></tr><tr><td>6.589</td><td>1.726</td></tr><tr><td>5.661</td><td>1.68</td></tr><tr><td>6.463</td><td>1.861</td></tr><tr><td>4.855</td><td>0.943</td></tr><tr><td>6.144</td><td>1.552</td></tr><tr><td>3.138</td><td>0.67</td></tr><tr><td>6.587</td><td>2.168</td></tr><tr><td>6.469</td><td>1.731</td></tr><tr><td>6.65</td><td>1.815</td></tr><tr><td>5.275</td><td>1.417</td></tr><tr><td>5.951</td><td>1.853</td></tr><tr><td>6.436</td><td>1.798</td></tr><tr><td>4.442</td><td>1.422</td></tr><tr><td>7.395</td><td>1.921</td></tr><tr><td>7.24</td><td>2.022</td></tr><tr><td>6.535</td><td>1.89</td></tr><tr><td>5.33</td><td>0.972</td></tr><tr><td>3.694</td><td>0.836</td></tr><tr><td>5.843</td><td>1.515</td></tr><tr><td>4.137</td><td>0.77</td></tr><tr><td>4.497</td><td>1.333</td></tr><tr><td>4.614</td><td>1.714</td></tr><tr><td>4.432</td><td>0.785</td></tr><tr><td>5.071</td><td>1.358</td></tr><tr><td>6.571</td><td>2.015</td></tr><tr><td>6.796</td><td>1.857</td></tr><tr><td>6.894</td><td>1.98</td></tr><tr><td>6.494</td><td>1.617</td></tr><tr><td>6.014</td><td>1.227</td></tr><tr><td>5.211</td><td>0.0</td></tr><tr><td>5.763</td><td>1.349</td></tr><tr><td>3.982</td><td>0.914</td></tr><tr><td>3.204</td><td>0.758</td></tr></tbody></table></div>"
      ]
     },
     "metadata": {
      "application/vnd.databricks.v1+output": {
       "addedWidgets": {},
       "aggData": [],
       "aggError": "",
       "aggOverflow": false,
       "aggSchema": [],
       "aggSeriesLimitReached": false,
       "aggType": "",
       "arguments": {},
       "columnCustomDisplayInfos": {},
       "data": [
        [
         1.859,
         0.645
        ],
        [
         5.277,
         1.449
        ],
        [
         5.329,
         1.353
        ],
        [
         6.024,
         1.59
        ],
        [
         5.342,
         1.466
        ],
        [
         7.095,
         1.899
        ],
        [
         7.097,
         1.927
        ],
        [
         6.173,
         1.883
        ],
        [
         4.282,
         1.133
        ],
        [
         6.859,
         1.907
        ],
        [
         4.374,
         0.924
        ],
        [
         5.684,
         1.24
        ],
        [
         5.633,
         1.467
        ],
        [
         3.435,
         1.471
        ],
        [
         6.125,
         1.454
        ],
        [
         5.466,
         1.635
        ],
        [
         4.638,
         0.768
        ],
        [
         4.393,
         1.025
        ],
        [
         4.973,
         0.965
        ],
        [
         6.961,
         1.881
        ],
        [
         4.397,
         0.622
        ],
        [
         6.334,
         1.645
        ],
        [
         5.818,
         1.51
        ],
        [
         5.63,
         1.455
        ],
        [
         3.545,
         0.914
        ],
        [
         5.267,
         0.921
        ],
        [
         3.207,
         0.531
        ],
        [
         6.609,
         1.587
        ],
        [
         6.125,
         1.727
        ],
        [
         6.13,
         1.824
        ],
        [
         6.845,
         1.823
        ],
        [
         7.586,
         1.949
        ],
        [
         5.569,
         1.536
        ],
        [
         5.559,
         1.343
        ],
        [
         4.17,
         1.377
        ],
        [
         6.122,
         1.278
        ],
        [
         6.455,
         1.798
        ],
        [
         4.091,
         0.793
        ],
        [
         7.804,
         1.888
        ],
        [
         6.661,
         1.856
        ],
        [
         5.035,
         1.438
        ],
        [
         4.279,
         0.761
        ],
        [
         5.109,
         1.477
        ],
        [
         6.892,
         1.919
        ],
        [
         4.605,
         1.101
        ],
        [
         5.931,
         1.708
        ],
        [
         6.15,
         1.287
        ],
        [
         5.072,
         0.844
        ],
        [
         6.023,
         1.115
        ],
        [
         5.308,
         1.951
        ],
        [
         6.041,
         1.754
        ],
        [
         7.53,
         1.926
        ],
        [
         4.036,
         1.159
        ],
        [
         5.277,
         1.384
        ],
        [
         4.876,
         1.465
        ],
        [
         4.941,
         1.281
        ],
        [
         6.911,
         2.152
        ],
        [
         7.473,
         1.833
        ],
        [
         6.405,
         1.832
        ],
        [
         5.053,
         1.094
        ],
        [
         5.703,
         1.305
        ],
        [
         6.129,
         1.825
        ],
        [
         4.12,
         1.292
        ],
        [
         6.144,
         1.664
        ],
        [
         4.487,
         1.051
        ],
        [
         6.368,
         1.374
        ],
        [
         5.825,
         1.061
        ],
        [
         5.111,
         1.232
        ],
        [
         6.213,
         1.737
        ],
        [
         2.392,
         1.417
        ],
        [
         4.042,
         0.628
        ],
        [
         6.763,
         1.808
        ],
        [
         7.228,
         2.2
        ],
        [
         5.254,
         1.498
        ],
        [
         4.019,
         0.632
        ],
        [
         3.495,
         0.637
        ],
        [
         6.012,
         1.665
        ],
        [
         4.198,
         0.763
        ],
        [
         6.3,
         1.841
        ],
        [
         4.724,
         1.099
        ],
        [
         5.902,
         1.589
        ],
        [
         6.33,
         1.55
        ],
        [
         5.819,
         1.425
        ],
        [
         5.84,
         1.379
        ],
        [
         5.722,
         1.537
        ],
        [
         4.903,
         1.236
        ],
        [
         4.954,
         0.57
        ],
        [
         4.372,
         1.032
        ],
        [
         4.631,
         1.289
        ],
        [
         5.36,
         0.979
        ],
        [
         7.403,
         1.942
        ],
        [
         7.123,
         1.842
        ],
        [
         6.259,
         1.109
        ],
        [
         4.501,
         0.561
        ],
        [
         4.981,
         1.065
        ],
        [
         7.315,
         1.994
        ],
        [
         4.555,
         1.081
        ],
        [
         4.908,
         1.144
        ],
        [
         6.265,
         1.714
        ],
        [
         5.738,
         1.428
        ],
        [
         5.526,
         1.39
        ],
        [
         5.523,
         1.238
        ],
        [
         6.26,
         1.767
        ],
        [
         5.968,
         1.758
        ],
        [
         6.589,
         1.726
        ],
        [
         5.661,
         1.68
        ],
        [
         6.463,
         1.861
        ],
        [
         4.855,
         0.943
        ],
        [
         6.144,
         1.552
        ],
        [
         3.138,
         0.67
        ],
        [
         6.587,
         2.168
        ],
        [
         6.469,
         1.731
        ],
        [
         6.65,
         1.815
        ],
        [
         5.275,
         1.417
        ],
        [
         5.951,
         1.853
        ],
        [
         6.436,
         1.798
        ],
        [
         4.442,
         1.422
        ],
        [
         7.395,
         1.921
        ],
        [
         7.24,
         2.022
        ],
        [
         6.535,
         1.89
        ],
        [
         5.33,
         0.972
        ],
        [
         3.694,
         0.836
        ],
        [
         5.843,
         1.515
        ],
        [
         4.137,
         0.77
        ],
        [
         4.497,
         1.333
        ],
        [
         4.614,
         1.714
        ],
        [
         4.432,
         0.785
        ],
        [
         5.071,
         1.358
        ],
        [
         6.571,
         2.015
        ],
        [
         6.796,
         1.857
        ],
        [
         6.894,
         1.98
        ],
        [
         6.494,
         1.617
        ],
        [
         6.014,
         1.227
        ],
        [
         5.211,
         0.0
        ],
        [
         5.763,
         1.349
        ],
        [
         3.982,
         0.914
        ],
        [
         3.204,
         0.758
        ]
       ],
       "datasetInfos": [],
       "dbfsResultPath": null,
       "isJsonSchema": true,
       "metadata": {},
       "overflow": false,
       "plotOptions": {
        "customPlotOptions": {},
        "displayType": "table",
        "pivotAggregation": null,
        "pivotColumns": null,
        "xColumns": null,
        "yColumns": null
       },
       "removedWidgets": [],
       "schema": [
        {
         "metadata": "{}",
         "name": "happiness_score",
         "type": "\"float\""
        },
        {
         "metadata": "{}",
         "name": "gdp",
         "type": "\"float\""
        }
       ],
       "type": "table"
      }
     },
     "output_type": "display_data"
    },
    {
     "output_type": "display_data",
     "data": {
      "text/plain": [
       "Databricks visualization. Run in Databricks to view."
      ]
     },
     "metadata": {
      "application/vnd.databricks.v1.subcommand+json": {
       "baseErrorDetails": null,
       "bindings": {},
       "collapsed": false,
       "command": "%sql WITH q AS (SELECT f.happiness_score, f.gdp\nFROM vw_fato_felicidade f\nJOIN vw_dim_tempo t ON f.id_tempo = t.id_tempo\nWHERE t.year = 2023) SELECT `happiness_score`,`gdp` FROM q",
       "commandTitle": "Visualização 1",
       "commandType": "auto",
       "commandVersion": 0,
       "commentThread": [],
       "commentsVisible": false,
       "contentSha256Hex": null,
       "customPlotOptions": {
        "redashChart": [
         {
          "key": "type",
          "value": "CHART"
         },
         {
          "key": "options",
          "value": {
           "alignYAxesAtZero": true,
           "coefficient": 1,
           "columnConfigurationMap": {
            "x": {
             "column": "happiness_score",
             "id": "column_bb1113c982"
            },
            "y": [
             {
              "column": "gdp",
              "id": "column_bb1113c983"
             }
            ]
           },
           "dateTimeFormat": "DD/MM/YYYY HH:mm",
           "direction": {
            "type": "counterclockwise"
           },
           "error_y": {
            "type": "data",
            "visible": true
           },
           "globalSeriesType": "scatter",
           "legend": {
            "traceorder": "normal"
           },
           "missingValuesAsZero": true,
           "numberFormat": "0,0.[00000]",
           "percentFormat": "0[.]00%",
           "series": {
            "error_y": {
             "type": "data",
             "visible": true
            },
            "stacking": null
           },
           "seriesOptions": {
            "column_bb1113c983": {
             "name": "gdp",
             "yAxis": 0
            },
            "gdp": {
             "color": "#E92828"
            }
           },
           "showDataLabels": false,
           "sizemode": "diameter",
           "sortX": true,
           "sortY": true,
           "swappedAxes": false,
           "textFormat": "",
           "useAggregationsUi": true,
           "valuesOptions": {},
           "version": 2,
           "xAxis": {
            "labels": {
             "enabled": true
            },
            "type": "-"
           },
           "yAxis": [
            {
             "type": "-"
            },
            {
             "opposite": true,
             "type": "-"
            }
           ]
          }
         }
        ]
       },
       "datasetPreviewNameToCmdIdMap": {},
       "diffDeletes": [],
       "diffInserts": [],
       "displayType": "redashChart",
       "error": null,
       "errorDetails": null,
       "errorSummary": null,
       "errorTraceType": null,
       "finishTime": 0,
       "globalVars": {},
       "guid": "",
       "height": "auto",
       "hideCommandCode": false,
       "hideCommandResult": false,
       "iPythonMetadata": null,
       "inputWidgets": {},
       "isLockedInExamMode": false,
       "latestUser": "a user",
       "latestUserId": null,
       "listResultMetadata": null,
       "metadata": {},
       "nuid": "41c1adb5-eb78-40ea-97f1-66571a7a5ccf",
       "origId": 0,
       "parentHierarchy": [],
       "pivotAggregation": null,
       "pivotColumns": null,
       "position": 135.0,
       "resultDbfsErrorMessage": null,
       "resultDbfsStatus": "INLINED_IN_TREE",
       "results": null,
       "showCommandTitle": false,
       "startTime": 0,
       "state": "input",
       "streamStates": {},
       "subcommandOptions": {
        "queryPlan": {
         "selects": [
          {
           "column": "happiness_score",
           "type": "column"
          },
          {
           "column": "gdp",
           "type": "column"
          }
         ]
        }
       },
       "submitTime": 0,
       "subtype": "tableResultSubCmd.visualization",
       "tableResultIndex": 0,
       "tableResultSettingsMap": {},
       "useConsistentColors": false,
       "version": "CommandV1",
       "width": "auto",
       "workflows": [],
       "xColumns": null,
       "yColumns": null
      }
     },
     "output_type": "display_data"
    }
   ],
   "source": [
    "%sql\n",
    "SELECT f.happiness_score, f.gdp\n",
    "FROM vw_fato_felicidade f\n",
    "JOIN vw_dim_tempo t ON f.id_tempo = t.id_tempo\n",
    "WHERE t.year = 2023\n"
   ]
  },
  {
   "cell_type": "code",
   "execution_count": 0,
   "metadata": {
    "application/vnd.databricks.v1+cell": {
     "cellMetadata": {
      "byteLimit": 2048000,
      "implicitDf": true,
      "rowLimit": 10000
     },
     "inputWidgets": {},
     "nuid": "1ad63541-1fbe-4062-9102-c842837510bb",
     "showTitle": true,
     "tableResultSettingsMap": {},
     "title": "12. Variação da felicidade no Brasil por ano?"
    }
   },
   "outputs": [
    {
     "output_type": "display_data",
     "data": {
      "text/html": [
       "<style scoped>\n",
       "  .table-result-container {\n",
       "    max-height: 300px;\n",
       "    overflow: auto;\n",
       "  }\n",
       "  table, th, td {\n",
       "    border: 1px solid black;\n",
       "    border-collapse: collapse;\n",
       "  }\n",
       "  th, td {\n",
       "    padding: 5px;\n",
       "  }\n",
       "  th {\n",
       "    text-align: left;\n",
       "  }\n",
       "</style><div class='table-result-container'><table class='table-result'><thead style='background-color: white'><tr><th>year</th><th>happiness_score</th></tr></thead><tbody><tr><td>2015</td><td>6.983</td></tr><tr><td>2016</td><td>6.952</td></tr><tr><td>2017</td><td>6.635</td></tr><tr><td>2018</td><td>6.419</td></tr><tr><td>2019</td><td>6.3</td></tr><tr><td>2020</td><td>6.376</td></tr><tr><td>2021</td><td>6.33</td></tr><tr><td>2022</td><td>6.293</td></tr><tr><td>2023</td><td>6.125</td></tr></tbody></table></div>"
      ]
     },
     "metadata": {
      "application/vnd.databricks.v1+output": {
       "addedWidgets": {},
       "aggData": [],
       "aggError": "",
       "aggOverflow": false,
       "aggSchema": [],
       "aggSeriesLimitReached": false,
       "aggType": "",
       "arguments": {},
       "columnCustomDisplayInfos": {},
       "data": [
        [
         2015,
         6.983
        ],
        [
         2016,
         6.952
        ],
        [
         2017,
         6.635
        ],
        [
         2018,
         6.419
        ],
        [
         2019,
         6.3
        ],
        [
         2020,
         6.376
        ],
        [
         2021,
         6.33
        ],
        [
         2022,
         6.293
        ],
        [
         2023,
         6.125
        ]
       ],
       "datasetInfos": [],
       "dbfsResultPath": null,
       "isJsonSchema": true,
       "metadata": {},
       "overflow": false,
       "plotOptions": {
        "customPlotOptions": {},
        "displayType": "table",
        "pivotAggregation": null,
        "pivotColumns": null,
        "xColumns": null,
        "yColumns": null
       },
       "removedWidgets": [],
       "schema": [
        {
         "metadata": "{}",
         "name": "year",
         "type": "\"integer\""
        },
        {
         "metadata": "{}",
         "name": "happiness_score",
         "type": "\"float\""
        }
       ],
       "type": "table"
      }
     },
     "output_type": "display_data"
    },
    {
     "output_type": "display_data",
     "data": {
      "text/plain": [
       "Databricks visualization. Run in Databricks to view."
      ]
     },
     "metadata": {
      "application/vnd.databricks.v1.subcommand+json": {
       "baseErrorDetails": null,
       "bindings": {},
       "collapsed": false,
       "command": "%sql WITH q AS (SELECT t.year, f.happiness_score\nFROM vw_fato_felicidade f\nJOIN vw_dim_pais p ON f.id_pais = p.id_pais\nJOIN vw_dim_tempo t ON f.id_tempo = t.id_tempo\nWHERE p.country = 'Brazil'\nORDER BY t.year) SELECT `year`,SUM(`happiness_score`) `column_bb1113c986` FROM q GROUP BY `year`",
       "commandTitle": "Visualização 1",
       "commandType": "auto",
       "commandVersion": 0,
       "commentThread": [],
       "commentsVisible": false,
       "contentSha256Hex": null,
       "customPlotOptions": {
        "redashChart": [
         {
          "key": "type",
          "value": "CHART"
         },
         {
          "key": "options",
          "value": {
           "alignYAxesAtZero": true,
           "coefficient": 1,
           "columnConfigurationMap": {
            "x": {
             "column": "year",
             "id": "column_bb1113c985"
            },
            "y": [
             {
              "column": "happiness_score",
              "id": "column_bb1113c986",
              "transform": "SUM"
             }
            ]
           },
           "dateTimeFormat": "DD/MM/YYYY HH:mm",
           "direction": {
            "type": "counterclockwise"
           },
           "error_y": {
            "type": "data",
            "visible": true
           },
           "globalSeriesType": "line",
           "isAggregationOn": true,
           "legend": {
            "traceorder": "normal"
           },
           "missingValuesAsZero": true,
           "numberFormat": "0,0.[00000]",
           "percentFormat": "0[.]00%",
           "series": {
            "error_y": {
             "type": "data",
             "visible": true
            },
            "stacking": null
           },
           "seriesOptions": {
            "column_bb1113c986": {
             "color": "#17BF51",
             "name": "happiness_score",
             "type": "line",
             "yAxis": 0
            }
           },
           "showDataLabels": false,
           "sizemode": "diameter",
           "sortX": true,
           "sortY": true,
           "swappedAxes": false,
           "textFormat": "",
           "useAggregationsUi": true,
           "valuesOptions": {},
           "version": 2,
           "xAxis": {
            "labels": {
             "enabled": true
            },
            "type": "-"
           },
           "yAxis": [
            {
             "type": "-"
            },
            {
             "opposite": true,
             "type": "-"
            }
           ]
          }
         }
        ]
       },
       "datasetPreviewNameToCmdIdMap": {},
       "diffDeletes": [],
       "diffInserts": [],
       "displayType": "redashChart",
       "error": null,
       "errorDetails": null,
       "errorSummary": null,
       "errorTraceType": null,
       "finishTime": 0,
       "globalVars": {},
       "guid": "",
       "height": "auto",
       "hideCommandCode": false,
       "hideCommandResult": false,
       "iPythonMetadata": null,
       "inputWidgets": {},
       "isLockedInExamMode": false,
       "latestUser": "a user",
       "latestUserId": null,
       "listResultMetadata": null,
       "metadata": {},
       "nuid": "947e70a2-f250-42e6-8011-3ca70d96326e",
       "origId": 0,
       "parentHierarchy": [],
       "pivotAggregation": null,
       "pivotColumns": null,
       "position": 136.0,
       "resultDbfsErrorMessage": null,
       "resultDbfsStatus": "INLINED_IN_TREE",
       "results": null,
       "showCommandTitle": false,
       "startTime": 0,
       "state": "input",
       "streamStates": {},
       "subcommandOptions": {
        "queryPlan": {
         "groups": [
          {
           "column": "year",
           "type": "column"
          }
         ],
         "selects": [
          {
           "column": "year",
           "type": "column"
          },
          {
           "alias": "column_bb1113c986",
           "args": [
            {
             "column": "happiness_score",
             "type": "column"
            }
           ],
           "function": "SUM",
           "type": "function"
          }
         ]
        }
       },
       "submitTime": 0,
       "subtype": "tableResultSubCmd.visualization",
       "tableResultIndex": 0,
       "tableResultSettingsMap": {},
       "useConsistentColors": false,
       "version": "CommandV1",
       "width": "auto",
       "workflows": [],
       "xColumns": null,
       "yColumns": null
      }
     },
     "output_type": "display_data"
    }
   ],
   "source": [
    "%sql\n",
    "SELECT t.year, f.happiness_score\n",
    "FROM vw_fato_felicidade f\n",
    "JOIN vw_dim_pais p ON f.id_pais = p.id_pais\n",
    "JOIN vw_dim_tempo t ON f.id_tempo = t.id_tempo\n",
    "WHERE p.country = 'Brazil'\n",
    "ORDER BY t.year;\n"
   ]
  },
  {
   "cell_type": "code",
   "execution_count": 0,
   "metadata": {
    "application/vnd.databricks.v1+cell": {
     "cellMetadata": {
      "byteLimit": 2048000,
      "implicitDf": true,
      "rowLimit": 10000
     },
     "inputWidgets": {},
     "nuid": "a6dc837f-757f-4ce0-9e20-3637192ef856",
     "showTitle": true,
     "tableResultSettingsMap": {},
     "title": "13. Quais fatores estão mais presentes na felicidade do Brasil?"
    }
   },
   "outputs": [
    {
     "output_type": "display_data",
     "data": {
      "text/html": [
       "<style scoped>\n",
       "  .table-result-container {\n",
       "    max-height: 300px;\n",
       "    overflow: auto;\n",
       "  }\n",
       "  table, th, td {\n",
       "    border: 1px solid black;\n",
       "    border-collapse: collapse;\n",
       "  }\n",
       "  th, td {\n",
       "    padding: 5px;\n",
       "  }\n",
       "  th {\n",
       "    text-align: left;\n",
       "  }\n",
       "</style><div class='table-result-container'><table class='table-result'><thead style='background-color: white'><tr><th>fator</th><th>media_valor</th></tr></thead><tbody><tr><td>GDP</td><td>1.118</td></tr><tr><td>Social Support</td><td>1.246</td></tr><tr><td>Life Expectancy</td><td>0.638</td></tr><tr><td>Freedom</td><td>0.479</td></tr><tr><td>Generosity</td><td>0.135</td></tr><tr><td>Corruption</td><td>0.122</td></tr></tbody></table></div>"
      ]
     },
     "metadata": {
      "application/vnd.databricks.v1+output": {
       "addedWidgets": {},
       "aggData": [],
       "aggError": "",
       "aggOverflow": false,
       "aggSchema": [],
       "aggSeriesLimitReached": false,
       "aggType": "",
       "arguments": {},
       "columnCustomDisplayInfos": {},
       "data": [
        [
         "GDP",
         1.118
        ],
        [
         "Social Support",
         1.246
        ],
        [
         "Life Expectancy",
         0.638
        ],
        [
         "Freedom",
         0.479
        ],
        [
         "Generosity",
         0.135
        ],
        [
         "Corruption",
         0.122
        ]
       ],
       "datasetInfos": [],
       "dbfsResultPath": null,
       "isJsonSchema": true,
       "metadata": {},
       "overflow": false,
       "plotOptions": {
        "customPlotOptions": {},
        "displayType": "table",
        "pivotAggregation": null,
        "pivotColumns": null,
        "xColumns": null,
        "yColumns": null
       },
       "removedWidgets": [],
       "schema": [
        {
         "metadata": "{}",
         "name": "fator",
         "type": "\"string\""
        },
        {
         "metadata": "{}",
         "name": "media_valor",
         "type": "\"double\""
        }
       ],
       "type": "table"
      }
     },
     "output_type": "display_data"
    },
    {
     "output_type": "display_data",
     "data": {
      "text/plain": [
       "Databricks visualization. Run in Databricks to view."
      ]
     },
     "metadata": {
      "application/vnd.databricks.v1.subcommand+json": {
       "baseErrorDetails": null,
       "bindings": {},
       "collapsed": false,
       "command": "%sql WITH q AS (SELECT\n  'GDP' AS fator, ROUND(AVG(gdp), 3) AS media_valor\nFROM vw_fato_felicidade f\nJOIN vw_dim_pais p ON f.id_pais = p.id_pais\nWHERE p.country = 'Brazil'\n\nUNION ALL\nSELECT 'Social Support', ROUND(AVG(social_support), 3)\nFROM vw_fato_felicidade f JOIN vw_dim_pais p ON f.id_pais = p.id_pais\nWHERE p.country = 'Brazil'\n\nUNION ALL\nSELECT 'Life Expectancy', ROUND(AVG(life_expectancy), 3)\nFROM vw_fato_felicidade f JOIN vw_dim_pais p ON f.id_pais = p.id_pais\nWHERE p.country = 'Brazil'\n\nUNION ALL\nSELECT 'Freedom', ROUND(AVG(freedom), 3)\nFROM vw_fato_felicidade f JOIN vw_dim_pais p ON f.id_pais = p.id_pais\nWHERE p.country = 'Brazil'\n\nUNION ALL\nSELECT 'Generosity', ROUND(AVG(generosity), 3)\nFROM vw_fato_felicidade f JOIN vw_dim_pais p ON f.id_pais = p.id_pais\nWHERE p.country = 'Brazil'\n\nUNION ALL\nSELECT 'Corruption', ROUND(AVG(corruption), 3)\nFROM vw_fato_felicidade f JOIN vw_dim_pais p ON f.id_pais = p.id_pais\nWHERE p.country = 'Brazil') SELECT `fator`,SUM(`media_valor`) `column_bb1113c9132` FROM q GROUP BY `fator`",
       "commandTitle": "Visualização 1",
       "commandType": "auto",
       "commandVersion": 0,
       "commentThread": [],
       "commentsVisible": false,
       "contentSha256Hex": null,
       "customPlotOptions": {
        "redashChart": [
         {
          "key": "type",
          "value": "CHART"
         },
         {
          "key": "options",
          "value": {
           "alignYAxesAtZero": true,
           "coefficient": 1,
           "columnConfigurationMap": {
            "x": {
             "column": "fator",
             "id": "column_bb1113c9131"
            },
            "y": [
             {
              "column": "media_valor",
              "id": "column_bb1113c9132",
              "transform": "SUM"
             }
            ]
           },
           "dateTimeFormat": "DD/MM/YYYY HH:mm",
           "direction": {
            "type": "counterclockwise"
           },
           "error_y": {
            "type": "data",
            "visible": true
           },
           "globalSeriesType": "column",
           "isAggregationOn": true,
           "legend": {
            "traceorder": "normal"
           },
           "missingValuesAsZero": true,
           "numberFormat": "0,0.[00000]",
           "percentFormat": "0[.]00%",
           "series": {
            "error_y": {
             "type": "data",
             "visible": true
            },
            "stacking": null
           },
           "seriesOptions": {
            "column_bb1113c9132": {
             "color": "#049235",
             "name": "media_valor",
             "yAxis": 0
            }
           },
           "showDataLabels": false,
           "sizemode": "diameter",
           "sortX": true,
           "sortY": true,
           "swappedAxes": true,
           "textFormat": "",
           "useAggregationsUi": true,
           "valuesOptions": {},
           "version": 2,
           "xAxis": {
            "labels": {
             "enabled": true
            },
            "type": "-"
           },
           "yAxis": [
            {
             "type": "-"
            },
            {
             "opposite": true,
             "type": "-"
            }
           ]
          }
         }
        ]
       },
       "datasetPreviewNameToCmdIdMap": {},
       "diffDeletes": [],
       "diffInserts": [],
       "displayType": "redashChart",
       "error": null,
       "errorDetails": null,
       "errorSummary": null,
       "errorTraceType": null,
       "finishTime": 0,
       "globalVars": {},
       "guid": "",
       "height": "auto",
       "hideCommandCode": false,
       "hideCommandResult": false,
       "iPythonMetadata": null,
       "inputWidgets": {},
       "isLockedInExamMode": false,
       "latestUser": "a user",
       "latestUserId": null,
       "listResultMetadata": null,
       "metadata": {},
       "nuid": "24654c2f-3e90-4f85-bff9-b9f534ece5e6",
       "origId": 0,
       "parentHierarchy": [],
       "pivotAggregation": null,
       "pivotColumns": null,
       "position": 136.5,
       "resultDbfsErrorMessage": null,
       "resultDbfsStatus": "INLINED_IN_TREE",
       "results": null,
       "showCommandTitle": false,
       "startTime": 0,
       "state": "input",
       "streamStates": {},
       "subcommandOptions": {
        "queryPlan": {
         "groups": [
          {
           "column": "fator",
           "type": "column"
          }
         ],
         "selects": [
          {
           "column": "fator",
           "type": "column"
          },
          {
           "alias": "column_bb1113c9132",
           "args": [
            {
             "column": "media_valor",
             "type": "column"
            }
           ],
           "function": "SUM",
           "type": "function"
          }
         ]
        }
       },
       "submitTime": 0,
       "subtype": "tableResultSubCmd.visualization",
       "tableResultIndex": 0,
       "tableResultSettingsMap": {},
       "useConsistentColors": false,
       "version": "CommandV1",
       "width": "auto",
       "workflows": [],
       "xColumns": null,
       "yColumns": null
      }
     },
     "output_type": "display_data"
    }
   ],
   "source": [
    "%sql\n",
    "SELECT\n",
    "  'GDP' AS fator, ROUND(AVG(gdp), 3) AS media_valor\n",
    "FROM vw_fato_felicidade f\n",
    "JOIN vw_dim_pais p ON f.id_pais = p.id_pais\n",
    "WHERE p.country = 'Brazil'\n",
    "\n",
    "UNION ALL\n",
    "SELECT 'Social Support', ROUND(AVG(social_support), 3)\n",
    "FROM vw_fato_felicidade f JOIN vw_dim_pais p ON f.id_pais = p.id_pais\n",
    "WHERE p.country = 'Brazil'\n",
    "\n",
    "UNION ALL\n",
    "SELECT 'Life Expectancy', ROUND(AVG(life_expectancy), 3)\n",
    "FROM vw_fato_felicidade f JOIN vw_dim_pais p ON f.id_pais = p.id_pais\n",
    "WHERE p.country = 'Brazil'\n",
    "\n",
    "UNION ALL\n",
    "SELECT 'Freedom', ROUND(AVG(freedom), 3)\n",
    "FROM vw_fato_felicidade f JOIN vw_dim_pais p ON f.id_pais = p.id_pais\n",
    "WHERE p.country = 'Brazil'\n",
    "\n",
    "UNION ALL\n",
    "SELECT 'Generosity', ROUND(AVG(generosity), 3)\n",
    "FROM vw_fato_felicidade f JOIN vw_dim_pais p ON f.id_pais = p.id_pais\n",
    "WHERE p.country = 'Brazil'\n",
    "\n",
    "UNION ALL\n",
    "SELECT 'Corruption', ROUND(AVG(corruption), 3)\n",
    "FROM vw_fato_felicidade f JOIN vw_dim_pais p ON f.id_pais = p.id_pais\n",
    "WHERE p.country = 'Brazil';\n"
   ]
  },
  {
   "cell_type": "code",
   "execution_count": 0,
   "metadata": {
    "application/vnd.databricks.v1+cell": {
     "cellMetadata": {
      "byteLimit": 2048000,
      "implicitDf": true,
      "rowLimit": 10000
     },
     "inputWidgets": {},
     "nuid": "ae24f6d9-88c5-4a78-80b3-3ff59feb4ccd",
     "showTitle": true,
     "tableResultSettingsMap": {},
     "title": "14. Comparativo Brasil vs América Latina e Caribe"
    }
   },
   "outputs": [
    {
     "output_type": "display_data",
     "data": {
      "text/html": [
       "<style scoped>\n",
       "  .table-result-container {\n",
       "    max-height: 300px;\n",
       "    overflow: auto;\n",
       "  }\n",
       "  table, th, td {\n",
       "    border: 1px solid black;\n",
       "    border-collapse: collapse;\n",
       "  }\n",
       "  th, td {\n",
       "    padding: 5px;\n",
       "  }\n",
       "  th {\n",
       "    text-align: left;\n",
       "  }\n",
       "</style><div class='table-result-container'><table class='table-result'><thead style='background-color: white'><tr><th>grupo</th><th>fator</th><th>media_valor</th></tr></thead><tbody><tr><td>Brazil</td><td>GDP</td><td>1.118</td></tr><tr><td>Brazil</td><td>Social Support</td><td>1.246</td></tr><tr><td>Brazil</td><td>Life Expectancy</td><td>0.638</td></tr><tr><td>Brazil</td><td>Freedom</td><td>0.479</td></tr><tr><td>Brazil</td><td>Generosity</td><td>0.135</td></tr><tr><td>Brazil</td><td>Corruption</td><td>0.122</td></tr><tr><td>América Latina</td><td>GDP</td><td>1.017</td></tr><tr><td>América Latina</td><td>Social Support</td><td>1.147</td></tr><tr><td>América Latina</td><td>Life Expectancy</td><td>0.648</td></tr><tr><td>América Latina</td><td>Freedom</td><td>0.505</td></tr><tr><td>América Latina</td><td>Generosity</td><td>0.162</td></tr><tr><td>América Latina</td><td>Corruption</td><td>0.095</td></tr></tbody></table></div>"
      ]
     },
     "metadata": {
      "application/vnd.databricks.v1+output": {
       "addedWidgets": {},
       "aggData": [],
       "aggError": "",
       "aggOverflow": false,
       "aggSchema": [],
       "aggSeriesLimitReached": false,
       "aggType": "",
       "arguments": {},
       "columnCustomDisplayInfos": {},
       "data": [
        [
         "Brazil",
         "GDP",
         1.118
        ],
        [
         "Brazil",
         "Social Support",
         1.246
        ],
        [
         "Brazil",
         "Life Expectancy",
         0.638
        ],
        [
         "Brazil",
         "Freedom",
         0.479
        ],
        [
         "Brazil",
         "Generosity",
         0.135
        ],
        [
         "Brazil",
         "Corruption",
         0.122
        ],
        [
         "América Latina",
         "GDP",
         1.017
        ],
        [
         "América Latina",
         "Social Support",
         1.147
        ],
        [
         "América Latina",
         "Life Expectancy",
         0.648
        ],
        [
         "América Latina",
         "Freedom",
         0.505
        ],
        [
         "América Latina",
         "Generosity",
         0.162
        ],
        [
         "América Latina",
         "Corruption",
         0.095
        ]
       ],
       "datasetInfos": [],
       "dbfsResultPath": null,
       "isJsonSchema": true,
       "metadata": {},
       "overflow": false,
       "plotOptions": {
        "customPlotOptions": {},
        "displayType": "table",
        "pivotAggregation": null,
        "pivotColumns": null,
        "xColumns": null,
        "yColumns": null
       },
       "removedWidgets": [],
       "schema": [
        {
         "metadata": "{}",
         "name": "grupo",
         "type": "\"string\""
        },
        {
         "metadata": "{}",
         "name": "fator",
         "type": "\"string\""
        },
        {
         "metadata": "{}",
         "name": "media_valor",
         "type": "\"double\""
        }
       ],
       "type": "table"
      }
     },
     "output_type": "display_data"
    },
    {
     "output_type": "display_data",
     "data": {
      "text/plain": [
       "Databricks visualization. Run in Databricks to view."
      ]
     },
     "metadata": {
      "application/vnd.databricks.v1.subcommand+json": {
       "baseErrorDetails": null,
       "bindings": {},
       "collapsed": false,
       "command": "%sql WITH q AS (SELECT 'Brazil' AS grupo, 'GDP' AS fator, ROUND(AVG(gdp), 3) AS media_valor\nFROM vw_fato_felicidade f\nJOIN vw_dim_pais p ON f.id_pais = p.id_pais\nWHERE p.country = 'Brazil'\nUNION ALL\nSELECT 'Brazil', 'Social Support', ROUND(AVG(social_support), 3)\nFROM vw_fato_felicidade f JOIN vw_dim_pais p ON f.id_pais = p.id_pais WHERE p.country = 'Brazil'\nUNION ALL\nSELECT 'Brazil', 'Life Expectancy', ROUND(AVG(life_expectancy), 3)\nFROM vw_fato_felicidade f JOIN vw_dim_pais p ON f.id_pais = p.id_pais WHERE p.country = 'Brazil'\nUNION ALL\nSELECT 'Brazil', 'Freedom', ROUND(AVG(freedom), 3)\nFROM vw_fato_felicidade f JOIN vw_dim_pais p ON f.id_pais = p.id_pais WHERE p.country = 'Brazil'\nUNION ALL\nSELECT 'Brazil', 'Generosity', ROUND(AVG(generosity), 3)\nFROM vw_fato_felicidade f JOIN vw_dim_pais p ON f.id_pais = p.id_pais WHERE p.country = 'Brazil'\nUNION ALL\nSELECT 'Brazil', 'Corruption', ROUND(AVG(corruption), 3)\nFROM vw_fato_felicidade f JOIN vw_dim_pais p ON f.id_pais = p.id_pais WHERE p.country = 'Brazil'\n\n\nUNION ALL\nSELECT 'América Latina', 'GDP', ROUND(AVG(gdp), 3)\nFROM vw_fato_felicidade f JOIN vw_dim_pais p ON f.id_pais = p.id_pais\nWHERE p.region = 'Latin America and Caribbean'\nUNION ALL\nSELECT 'América Latina', 'Social Support', ROUND(AVG(social_support), 3)\nFROM vw_fato_felicidade f JOIN vw_dim_pais p ON f.id_pais = p.id_pais\nWHERE p.region = 'Latin America and Caribbean'\nUNION ALL\nSELECT 'América Latina', 'Life Expectancy', ROUND(AVG(life_expectancy), 3)\nFROM vw_fato_felicidade f JOIN vw_dim_pais p ON f.id_pais = p.id_pais\nWHERE p.region = 'Latin America and Caribbean'\nUNION ALL\nSELECT 'América Latina', 'Freedom', ROUND(AVG(freedom), 3)\nFROM vw_fato_felicidade f JOIN vw_dim_pais p ON f.id_pais = p.id_pais\nWHERE p.region = 'Latin America and Caribbean'\nUNION ALL\nSELECT 'América Latina', 'Generosity', ROUND(AVG(generosity), 3)\nFROM vw_fato_felicidade f JOIN vw_dim_pais p ON f.id_pais = p.id_pais\nWHERE p.region = 'Latin America and Caribbean'\nUNION ALL\nSELECT 'América Latina', 'Corruption', ROUND(AVG(corruption), 3)\nFROM vw_fato_felicidade f JOIN vw_dim_pais p ON f.id_pais = p.id_pais\nWHERE p.region = 'Latin America and Caribbean') SELECT `grupo`,`fator`,SUM(`media_valor`) `column_bb1113c9137` FROM q GROUP BY `fator`,`grupo`",
       "commandTitle": "Visualização 1",
       "commandType": "auto",
       "commandVersion": 0,
       "commentThread": [],
       "commentsVisible": false,
       "contentSha256Hex": null,
       "customPlotOptions": {
        "redashChart": [
         {
          "key": "type",
          "value": "CHART"
         },
         {
          "key": "options",
          "value": {
           "alignYAxesAtZero": true,
           "coefficient": 1,
           "columnConfigurationMap": {
            "series": {
             "column": "fator",
             "id": "column_bb1113c9136"
            },
            "x": {
             "column": "grupo",
             "id": "column_bb1113c9135"
            },
            "y": [
             {
              "column": "media_valor",
              "id": "column_bb1113c9137",
              "transform": "SUM"
             }
            ]
           },
           "dateTimeFormat": "DD/MM/YYYY HH:mm",
           "direction": {
            "type": "counterclockwise"
           },
           "error_y": {
            "type": "data",
            "visible": true
           },
           "globalSeriesType": "column",
           "legend": {
            "traceorder": "normal"
           },
           "missingValuesAsZero": true,
           "numberFormat": "0,0.[00000]",
           "percentFormat": "0[.]00%",
           "series": {
            "error_y": {
             "type": "data",
             "visible": true
            },
            "stacking": "stack"
           },
           "seriesOptions": {
            "column_bb1113c9137": {
             "name": "media_valor",
             "yAxis": 0
            }
           },
           "showDataLabels": false,
           "sizemode": "diameter",
           "sortX": true,
           "sortY": true,
           "swappedAxes": true,
           "textFormat": "",
           "useAggregationsUi": true,
           "valuesOptions": {},
           "version": 2,
           "xAxis": {
            "labels": {
             "enabled": true
            },
            "type": "-"
           },
           "yAxis": [
            {
             "type": "-"
            },
            {
             "opposite": true,
             "type": "-"
            }
           ]
          }
         }
        ]
       },
       "datasetPreviewNameToCmdIdMap": {},
       "diffDeletes": [],
       "diffInserts": [],
       "displayType": "redashChart",
       "error": null,
       "errorDetails": null,
       "errorSummary": null,
       "errorTraceType": null,
       "finishTime": 0,
       "globalVars": {},
       "guid": "",
       "height": "auto",
       "hideCommandCode": false,
       "hideCommandResult": false,
       "iPythonMetadata": null,
       "inputWidgets": {},
       "isLockedInExamMode": false,
       "latestUser": "a user",
       "latestUserId": null,
       "listResultMetadata": null,
       "metadata": {},
       "nuid": "5e1904f3-a9ae-460d-9d1f-e5ff8c145072",
       "origId": 0,
       "parentHierarchy": [],
       "pivotAggregation": null,
       "pivotColumns": null,
       "position": 137.5,
       "resultDbfsErrorMessage": null,
       "resultDbfsStatus": "INLINED_IN_TREE",
       "results": null,
       "showCommandTitle": false,
       "startTime": 0,
       "state": "input",
       "streamStates": {},
       "subcommandOptions": {
        "queryPlan": {
         "groups": [
          {
           "column": "grupo",
           "type": "column"
          },
          {
           "column": "fator",
           "type": "column"
          }
         ],
         "selects": [
          {
           "column": "grupo",
           "type": "column"
          },
          {
           "column": "fator",
           "type": "column"
          },
          {
           "alias": "column_bb1113c9137",
           "args": [
            {
             "column": "media_valor",
             "type": "column"
            }
           ],
           "function": "SUM",
           "type": "function"
          }
         ]
        }
       },
       "submitTime": 0,
       "subtype": "tableResultSubCmd.visualization",
       "tableResultIndex": 0,
       "tableResultSettingsMap": {},
       "useConsistentColors": false,
       "version": "CommandV1",
       "width": "auto",
       "workflows": [],
       "xColumns": null,
       "yColumns": null
      }
     },
     "output_type": "display_data"
    }
   ],
   "source": [
    "%sql\n",
    "-- MÉDIAS DO BRASIL\n",
    "SELECT 'Brazil' AS grupo, 'GDP' AS fator, ROUND(AVG(gdp), 3) AS media_valor\n",
    "FROM vw_fato_felicidade f\n",
    "JOIN vw_dim_pais p ON f.id_pais = p.id_pais\n",
    "WHERE p.country = 'Brazil'\n",
    "UNION ALL\n",
    "SELECT 'Brazil', 'Social Support', ROUND(AVG(social_support), 3)\n",
    "FROM vw_fato_felicidade f JOIN vw_dim_pais p ON f.id_pais = p.id_pais WHERE p.country = 'Brazil'\n",
    "UNION ALL\n",
    "SELECT 'Brazil', 'Life Expectancy', ROUND(AVG(life_expectancy), 3)\n",
    "FROM vw_fato_felicidade f JOIN vw_dim_pais p ON f.id_pais = p.id_pais WHERE p.country = 'Brazil'\n",
    "UNION ALL\n",
    "SELECT 'Brazil', 'Freedom', ROUND(AVG(freedom), 3)\n",
    "FROM vw_fato_felicidade f JOIN vw_dim_pais p ON f.id_pais = p.id_pais WHERE p.country = 'Brazil'\n",
    "UNION ALL\n",
    "SELECT 'Brazil', 'Generosity', ROUND(AVG(generosity), 3)\n",
    "FROM vw_fato_felicidade f JOIN vw_dim_pais p ON f.id_pais = p.id_pais WHERE p.country = 'Brazil'\n",
    "UNION ALL\n",
    "SELECT 'Brazil', 'Corruption', ROUND(AVG(corruption), 3)\n",
    "FROM vw_fato_felicidade f JOIN vw_dim_pais p ON f.id_pais = p.id_pais WHERE p.country = 'Brazil'\n",
    "\n",
    "-- MÉDIAS DA AMÉRICA LATINA\n",
    "UNION ALL\n",
    "SELECT 'América Latina', 'GDP', ROUND(AVG(gdp), 3)\n",
    "FROM vw_fato_felicidade f JOIN vw_dim_pais p ON f.id_pais = p.id_pais\n",
    "WHERE p.region = 'Latin America and Caribbean'\n",
    "UNION ALL\n",
    "SELECT 'América Latina', 'Social Support', ROUND(AVG(social_support), 3)\n",
    "FROM vw_fato_felicidade f JOIN vw_dim_pais p ON f.id_pais = p.id_pais\n",
    "WHERE p.region = 'Latin America and Caribbean'\n",
    "UNION ALL\n",
    "SELECT 'América Latina', 'Life Expectancy', ROUND(AVG(life_expectancy), 3)\n",
    "FROM vw_fato_felicidade f JOIN vw_dim_pais p ON f.id_pais = p.id_pais\n",
    "WHERE p.region = 'Latin America and Caribbean'\n",
    "UNION ALL\n",
    "SELECT 'América Latina', 'Freedom', ROUND(AVG(freedom), 3)\n",
    "FROM vw_fato_felicidade f JOIN vw_dim_pais p ON f.id_pais = p.id_pais\n",
    "WHERE p.region = 'Latin America and Caribbean'\n",
    "UNION ALL\n",
    "SELECT 'América Latina', 'Generosity', ROUND(AVG(generosity), 3)\n",
    "FROM vw_fato_felicidade f JOIN vw_dim_pais p ON f.id_pais = p.id_pais\n",
    "WHERE p.region = 'Latin America and Caribbean'\n",
    "UNION ALL\n",
    "SELECT 'América Latina', 'Corruption', ROUND(AVG(corruption), 3)\n",
    "FROM vw_fato_felicidade f JOIN vw_dim_pais p ON f.id_pais = p.id_pais\n",
    "WHERE p.region = 'Latin America and Caribbean';\n"
   ]
  },
  {
   "cell_type": "markdown",
   "metadata": {
    "application/vnd.databricks.v1+cell": {
     "cellMetadata": {},
     "inputWidgets": {},
     "nuid": "17c78009-1107-48ba-b186-777b66ae4ee7",
     "showTitle": false,
     "tableResultSettingsMap": {},
     "title": ""
    }
   },
   "source": [
    "## Autoavaliação do Projeto\n",
    "\n",
    "Ao longo do desenvolvimento deste projeto, foi possível aplicar de forma prática os conceitos de pipeline de dados, organização por camadas (Bronze, Silver e Gold), modelagem dimensional e análises exploratórias com foco em resolução de problemas de negócio.\n",
    "\n",
    "---\n",
    "\n",
    "### ✅ Objetivos Alcançados\n",
    "\n",
    "- Construção do pipeline completo no ambiente Databricks Community Edition, com todas as camadas operacionais (Bronze → Silver → Gold).\n",
    "- Leitura, limpeza e padronização de dados reais, provenientes de um dataset público da plataforma Kaggle.\n",
    "- Modelagem estrela, com separação clara entre fatos e dimensões, permitindo consultas analíticas robustas.\n",
    "- Criação de 14 perguntas de negócio relevantes que exploram aspectos sociais, econômicos e geográficos da felicidade mundial.\n",
    "- Geração de visualizações no Databricks para facilitar a interpretação dos dados.\n",
    "\n",
    "----\n",
    "\n",
    "### ⚠️ Desafios\n",
    "\n",
    "- Dificuldades iniciais no uso do Databricks, especialmente para entender o funcionamento dos clusters, execução de notebooks e gestão dos arquivos no DBFS.\n",
    "- Desconexão frequente do cluster por inatividade, exigindo reativação e carga dos blocos de código.\n",
    "- Necessidade de lidar com problemas na leitura dos arquivos CSV, como separadores incorretos e conversão de tipos.\n",
    "- Aprendizado gradual sobre como aplicar a modelagem dimensional na prática, incluindo criação de tabelas fato e dimensão com joins.\n",
    "- A construção do processo de ETL exigiu buscar novos conhecimentos, especialmente sobre tratamento de dados com PySpark e a lógica por trás das camadas Bronze, Silver e Gold — o que trouxe muito aprendizado técnico e prático.\n",
    "\n",
    "---\n",
    "\n",
    "### 🎯 Atingimento dos Objetivos\n",
    "\n",
    "Todos os objetivos traçados no início do trabalho foram atingidos.\n",
    "\n",
    "- O pipeline foi construído com todas as suas camadas funcionais.\n",
    "- Os dados foram tratados, enriquecidos e organizados em uma modelagem estrela.\n",
    "- Todas as perguntas de negócio foram respondidas com base nos dados disponíveis.\n",
    "- As visualizações permitiram compreender padrões e gerar insights relevantes sobre a felicidade mundial.\n",
    "\n",
    "---\n",
    "\n",
    "### 🧭 Reflexão Final\n",
    "\n",
    "O projeto foi extremamente valioso e trouxe muito aprendizado — tanto no aspecto técnico quanto na organização de um raciocínio analítico orientado por dados.\n",
    "\n",
    "Mesmo com os desafios iniciais, especialmente ligados ao uso da plataforma em nuvem, foi possível implementar todas as etapas do pipeline com sucesso. A construção do ETL, em especial, exigiu pesquisa e prática, resultando em aprendizado.\n",
    "\n",
    "Através da modelagem e das análises, consegui obter respostas claras e fundamentadas para todas as perguntas de negócio propostas, extraindo insights significativos sobre os fatores que influenciam a felicidade ao redor do mundo.\n",
    "\n",
    "Além disso, este projeto representou um reencontro com a programação, uma área pela qual tenho grande afinidade e que me trouxe satisfação ao longo do desenvolvimento. Vislumbro, a partir desta experiência, a possibilidade de uma mudança de carreira, com foco maior em dados, tecnologia e soluções analíticas — algo que me motiva e inspira para os próximos passos profissionais.\n"
   ]
  }
 ],
 "metadata": {
  "application/vnd.databricks.v1+notebook": {
   "computePreferences": null,
   "dashboards": [],
   "environmentMetadata": {
    "base_environment": "",
    "environment_version": "1"
   },
   "inputWidgetPreferences": null,
   "language": "python",
   "notebookMetadata": {
    "mostRecentlyExecutedCommandWithImplicitDF": {
     "commandId": 3281497165144874,
     "dataframes": [
      "_sqldf"
     ]
    },
    "pythonIndentUnit": 4
   },
   "notebookName": "Pipeline_World Happiness",
   "widgets": {}
  }
 },
 "nbformat": 4,
 "nbformat_minor": 0
}